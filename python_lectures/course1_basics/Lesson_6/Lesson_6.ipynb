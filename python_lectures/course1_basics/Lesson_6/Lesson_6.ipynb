{
  "cells": [
    {
      "cell_type": "markdown",
      "metadata": {
        "id": "view-in-github",
        "colab_type": "text"
      },
      "source": [
        "<a href=\"https://colab.research.google.com/github/Alla-ud-din/Python/blob/main/python_lectures/course1_basics/Lesson_6/Lesson_6.ipynb\" target=\"_parent\"><img src=\"https://colab.research.google.com/assets/colab-badge.svg\" alt=\"Open In Colab\"/></a>"
      ]
    },
    {
      "cell_type": "markdown",
      "metadata": {
        "id": "Bfc-N7qwja3G"
      },
      "source": [
        "# Lesson 6: Data in Python"
      ]
    },
    {
      "cell_type": "markdown",
      "metadata": {
        "id": "ndWJriGwja3H"
      },
      "source": [
        "There are different types of data in Python. Here, you will see how text and numbers are used in Python."
      ]
    },
    {
      "cell_type": "markdown",
      "metadata": {
        "id": "9Sz6GGicja3I"
      },
      "source": [
        "## Strings"
      ]
    },
    {
      "cell_type": "markdown",
      "metadata": {
        "id": "Ai0PxtyKja3I"
      },
      "source": [
        "Strings are used to store and manipulate text. As you see here, strings are written inside of quotes and can contain letters, numbers, punctuation marks, and other special characters. Run the following cells to print these four different strings."
      ]
    },
    {
      "cell_type": "code",
      "execution_count": 1,
      "metadata": {
        "colab": {
          "base_uri": "https://localhost:8080/"
        },
        "id": "tkmLq-43ja3I",
        "outputId": "c811a41f-bd95-4606-c096-9a2a04cc8494"
      },
      "outputs": [
        {
          "output_type": "stream",
          "name": "stdout",
          "text": [
            "Hello, World\n"
          ]
        }
      ],
      "source": [
        "print(\"Hello, World\")"
      ]
    },
    {
      "cell_type": "code",
      "execution_count": 2,
      "metadata": {
        "colab": {
          "base_uri": "https://localhost:8080/"
        },
        "id": "WzhJbeYVja3I",
        "outputId": "1ce19ebb-eb7d-4c72-ba9a-05048f22dceb"
      },
      "outputs": [
        {
          "output_type": "stream",
          "name": "stdout",
          "text": [
            "My favorite drink is Earl Grey tea.\n"
          ]
        }
      ],
      "source": [
        "print(\"My favorite drink is Earl Grey tea.\")"
      ]
    },
    {
      "cell_type": "code",
      "execution_count": 3,
      "metadata": {
        "colab": {
          "base_uri": "https://localhost:8080/"
        },
        "id": "807khdnEja3J",
        "outputId": "ff979880-0196-45fe-9d2f-96e94aa74413"
      },
      "outputs": [
        {
          "output_type": "stream",
          "name": "stdout",
          "text": [
            "¯\\_(ツ)_/¯\n"
          ]
        }
      ],
      "source": [
        "print(\"¯\\_(ツ)_/¯\")"
      ]
    },
    {
      "cell_type": "code",
      "execution_count": 4,
      "metadata": {
        "colab": {
          "base_uri": "https://localhost:8080/"
        },
        "id": "5hlhDDPwja3J",
        "outputId": "e5bda788-755a-4c31-f4f2-b410ce3f53f7"
      },
      "outputs": [
        {
          "output_type": "stream",
          "name": "stdout",
          "text": [
            "2.99\n"
          ]
        }
      ],
      "source": [
        "print(\"2.99\")"
      ]
    },
    {
      "cell_type": "markdown",
      "metadata": {
        "id": "-fNA1X8xja3J"
      },
      "source": [
        "## Multiline strings"
      ]
    },
    {
      "cell_type": "markdown",
      "metadata": {
        "id": "qV2b_i2jja3J"
      },
      "source": [
        "If you use triple quotation marks, you can store a multiline string. These strings can span more than one line. When you run the following cell, you will see how the spaces in the second line are actually read as characters for the string."
      ]
    },
    {
      "cell_type": "code",
      "execution_count": 5,
      "metadata": {
        "colab": {
          "base_uri": "https://localhost:8080/"
        },
        "id": "1pY5oUe7ja3J",
        "outputId": "918ff1b0-8bab-43c3-b38f-983f3c554bbd"
      },
      "outputs": [
        {
          "output_type": "stream",
          "name": "stdout",
          "text": [
            "Hello, World!\n",
            "      It's great to be here!\n"
          ]
        }
      ],
      "source": [
        "print(\"\"\"Hello, World!\n",
        "      It's great to be here!\"\"\")"
      ]
    },
    {
      "cell_type": "markdown",
      "metadata": {
        "id": "NP3JVgDija3K"
      },
      "source": [
        "Trying to define a multiline string using single quotes will lead to errors."
      ]
    },
    {
      "cell_type": "code",
      "execution_count": 6,
      "metadata": {
        "colab": {
          "base_uri": "https://localhost:8080/",
          "height": 110
        },
        "id": "XHYG-SQaja3K",
        "outputId": "01c9a103-02e9-46e9-febb-98bd86038ca0"
      },
      "outputs": [
        {
          "output_type": "error",
          "ename": "SyntaxError",
          "evalue": "unterminated string literal (detected at line 1) (<ipython-input-6-8ea15586b006>, line 1)",
          "traceback": [
            "\u001b[0;36m  File \u001b[0;32m\"<ipython-input-6-8ea15586b006>\"\u001b[0;36m, line \u001b[0;32m1\u001b[0m\n\u001b[0;31m    print(\"Hello, World!\u001b[0m\n\u001b[0m          ^\u001b[0m\n\u001b[0;31mSyntaxError\u001b[0m\u001b[0;31m:\u001b[0m unterminated string literal (detected at line 1)\n"
          ]
        }
      ],
      "source": [
        "print(\"Hello, World!\n",
        "      It's great to be here!\")"
      ]
    },
    {
      "cell_type": "markdown",
      "source": [
        "Another Way to write multiline is using \" \\ \""
      ],
      "metadata": {
        "id": "mS71w0WSIIzc"
      }
    },
    {
      "cell_type": "code",
      "source": [
        "print(\"Hello, World! \\\n",
        "      It's great to be here!\")"
      ],
      "metadata": {
        "id": "EiVhZrI2IEC2",
        "outputId": "2078e3a7-b60a-49ac-c94b-44835b2820bc",
        "colab": {
          "base_uri": "https://localhost:8080/"
        }
      },
      "execution_count": 7,
      "outputs": [
        {
          "output_type": "stream",
          "name": "stdout",
          "text": [
            "Hello, World!       It's great to be here!\n"
          ]
        }
      ]
    },
    {
      "cell_type": "markdown",
      "source": [
        "\\n for Enter"
      ],
      "metadata": {
        "id": "6wmCBI5tI7gS"
      }
    },
    {
      "cell_type": "code",
      "source": [
        "print(\"Hello, World! \\nIt's great to be here!\")"
      ],
      "metadata": {
        "colab": {
          "base_uri": "https://localhost:8080/"
        },
        "id": "ESwxoGMMInqb",
        "outputId": "0ce773f0-4093-4cdf-ad1c-e3c184fb6b0e"
      },
      "execution_count": 8,
      "outputs": [
        {
          "output_type": "stream",
          "name": "stdout",
          "text": [
            "Hello, World! \n",
            "It's great to be here!\n"
          ]
        }
      ]
    },
    {
      "cell_type": "markdown",
      "source": [
        "\\t to for tab"
      ],
      "metadata": {
        "id": "fSTBLdUMI_m6"
      }
    },
    {
      "cell_type": "code",
      "source": [
        "print(\"Hello, World! \\tIt's great to be here!\")"
      ],
      "metadata": {
        "colab": {
          "base_uri": "https://localhost:8080/"
        },
        "id": "KGYJTVVjI4kp",
        "outputId": "00d5c55c-0f34-40d4-df24-c5ac4a5b3c9d"
      },
      "execution_count": 9,
      "outputs": [
        {
          "output_type": "stream",
          "name": "stdout",
          "text": [
            "Hello, World! \tIt's great to be here!\n"
          ]
        }
      ]
    },
    {
      "cell_type": "markdown",
      "metadata": {
        "id": "glhDK7OJja3K"
      },
      "source": [
        "## The type() function"
      ]
    },
    {
      "cell_type": "markdown",
      "metadata": {
        "id": "Ul-PuZ4rja3K"
      },
      "source": [
        "In Python, you can check the type of any data that you are using. To check the data type, you can use the `type()` function. When you run the next cell, you will retrieve the type for the string `\"Andrew\"`."
      ]
    },
    {
      "cell_type": "code",
      "execution_count": 10,
      "metadata": {
        "colab": {
          "base_uri": "https://localhost:8080/"
        },
        "id": "imCT2cvKja3K",
        "outputId": "ddb403dd-c450-4180-c1ee-586a173c5fe4"
      },
      "outputs": [
        {
          "output_type": "execute_result",
          "data": {
            "text/plain": [
              "str"
            ]
          },
          "metadata": {},
          "execution_count": 10
        }
      ],
      "source": [
        "type(\"Andrew\")"
      ]
    },
    {
      "cell_type": "markdown",
      "metadata": {
        "id": "6sdFLPu6ja3K"
      },
      "source": [
        "Python returned `str`, which is short for string. Let's check the type for a multiline string:"
      ]
    },
    {
      "cell_type": "code",
      "execution_count": 11,
      "metadata": {
        "colab": {
          "base_uri": "https://localhost:8080/"
        },
        "id": "lEsWOJ8eja3L",
        "outputId": "b9ef585b-7627-44ef-9c74-8a178e0aa0da"
      },
      "outputs": [
        {
          "output_type": "execute_result",
          "data": {
            "text/plain": [
              "str"
            ]
          },
          "metadata": {},
          "execution_count": 11
        }
      ],
      "source": [
        "type(\"\"\"\n",
        "Numbers, text, and truth,\n",
        "Strings, ints, and floats in our code,\n",
        "Data shapes our path\n",
        "\"\"\")"
      ]
    },
    {
      "cell_type": "markdown",
      "metadata": {
        "id": "NB9xSPaEja3L"
      },
      "source": [
        "This also returns `str`, since it is also a string. Let's try a number within quotation marks:"
      ]
    },
    {
      "cell_type": "code",
      "execution_count": 12,
      "metadata": {
        "colab": {
          "base_uri": "https://localhost:8080/"
        },
        "id": "iOS1hqJgja3L",
        "outputId": "296be91c-63ca-47d0-a316-06914f55d885"
      },
      "outputs": [
        {
          "output_type": "execute_result",
          "data": {
            "text/plain": [
              "str"
            ]
          },
          "metadata": {},
          "execution_count": 12
        }
      ],
      "source": [
        "type(\"2.99\")"
      ]
    },
    {
      "cell_type": "markdown",
      "metadata": {
        "id": "A3VariiNja3L"
      },
      "source": [
        "This is also a string, even though it looks like a number. By using quotation marks you're telling Python to treat it as text, rather than a number. What about a number without quotes?"
      ]
    },
    {
      "cell_type": "code",
      "execution_count": 13,
      "metadata": {
        "colab": {
          "base_uri": "https://localhost:8080/"
        },
        "id": "ftBYQ1L8ja3L",
        "outputId": "87e9093e-af3f-4478-b3d4-e997f85a0d6e"
      },
      "outputs": [
        {
          "output_type": "execute_result",
          "data": {
            "text/plain": [
              "int"
            ]
          },
          "metadata": {},
          "execution_count": 13
        }
      ],
      "source": [
        "type(100)"
      ]
    },
    {
      "cell_type": "markdown",
      "metadata": {
        "id": "dr8dwegFja3L"
      },
      "source": [
        "This time you get `int`, which is short for integer. Integers are the positive and negative whole numbers, like 42, 100, -9, and 0. Since there are no quotes around the number Python assumes this is numerical data, and since there is no decimal place on this number, it interprets it as an integer. Now, let's try a number that does have decimal places:"
      ]
    },
    {
      "cell_type": "code",
      "execution_count": 14,
      "metadata": {
        "colab": {
          "base_uri": "https://localhost:8080/"
        },
        "id": "06AQ-_wMja3L",
        "outputId": "5ff0479f-7521-42f9-ef4f-1074d947b79d"
      },
      "outputs": [
        {
          "output_type": "execute_result",
          "data": {
            "text/plain": [
              "float"
            ]
          },
          "metadata": {},
          "execution_count": 14
        }
      ],
      "source": [
        "type(2.99)"
      ]
    },
    {
      "cell_type": "markdown",
      "metadata": {
        "id": "MSdhd5RKja3L"
      },
      "source": [
        "The function type gives `float`, which is the data type used to store floating point numbers. Floating point numbers are positive and negative numbers that include a decimal place, like 3.14, 2.99, and -0.003."
      ]
    },
    {
      "cell_type": "markdown",
      "metadata": {
        "id": "YekrkDLYja3L"
      },
      "source": [
        "## Python as a calculator!"
      ]
    },
    {
      "cell_type": "markdown",
      "metadata": {
        "id": "Us4WTMydja3M"
      },
      "source": [
        "Python works great for quick arithmetic operations. For instance, if you had a lemonade stand, and wanted to compute the total number of sales you made through the last 12 months, you can use Python like this:"
      ]
    },
    {
      "cell_type": "code",
      "execution_count": 15,
      "metadata": {
        "colab": {
          "base_uri": "https://localhost:8080/"
        },
        "id": "k1WSfTnNja3M",
        "outputId": "229869ce-331c-468d-8a3a-2c99d80baf6e"
      },
      "outputs": [
        {
          "output_type": "stream",
          "name": "stdout",
          "text": [
            "675\n"
          ]
        }
      ],
      "source": [
        "print(28+35+43+50+65+70+68+66+75+80+95)"
      ]
    },
    {
      "cell_type": "code",
      "source": [
        "# prompt: print(28+35+43+50+65+70+68+66+75+80+95) show each step in comment\n",
        "\n",
        "# 28 + 35 = 63\n",
        "# 63 + 43 = 106\n",
        "# 106 + 50 = 156\n",
        "# 156 + 65 = 221\n",
        "# 221 + 70 = 291\n",
        "# 291 + 68 = 359\n",
        "# 359 + 66 = 425\n",
        "# 425 + 75 = 500\n",
        "# 500 + 80 = 580\n",
        "# 580 + 95 = 675\n",
        "print(28+35+43+50+65+70+68+66+75+80+95)"
      ],
      "metadata": {
        "id": "cLwq5qeXMw31",
        "outputId": "334404a9-a31a-4fb0-c6db-8beb32f5c313",
        "colab": {
          "base_uri": "https://localhost:8080/"
        }
      },
      "execution_count": 16,
      "outputs": [
        {
          "output_type": "stream",
          "name": "stdout",
          "text": [
            "675\n"
          ]
        }
      ]
    },
    {
      "cell_type": "code",
      "source": [
        "# prompt: print(28+35+43+50+65+70+68+66+75+80+95) show each step using loop\n",
        "\n",
        "numbers = [28, 35, 43, 50, 65, 70, 68, 66, 75, 80, 95]\n",
        "total = 0\n",
        "for number in numbers:\n",
        "  total += number\n",
        "  print(f\"Current total: {total}\")\n",
        "\n",
        "print(f\"The final total is: {total}\")"
      ],
      "metadata": {
        "colab": {
          "base_uri": "https://localhost:8080/"
        },
        "id": "esZ1-6clNBIk",
        "outputId": "f346b1c2-b666-45a6-d4be-d11c9f3e894f"
      },
      "execution_count": 17,
      "outputs": [
        {
          "output_type": "stream",
          "name": "stdout",
          "text": [
            "Current total: 28\n",
            "Current total: 63\n",
            "Current total: 106\n",
            "Current total: 156\n",
            "Current total: 221\n",
            "Current total: 291\n",
            "Current total: 359\n",
            "Current total: 425\n",
            "Current total: 500\n",
            "Current total: 580\n",
            "Current total: 675\n",
            "The final total is: 675\n"
          ]
        }
      ]
    },
    {
      "cell_type": "markdown",
      "metadata": {
        "id": "RC6ipv0-ja3M"
      },
      "source": [
        "As another example, you can perform more advanced math, like computing the compound interest after 10 years at a rate of 5%. To do that, you can compute 1.05 to the power of 10. Not sure how to do it in Python? You can use the Chatbot!"
      ]
    },
    {
      "cell_type": "markdown",
      "metadata": {
        "id": "7bfhvsrrja3M"
      },
      "source": [
        "<p style=\"background-color:#F5C780; padding:15px\"> 🤖 <b>Use the Chatbot</b>: How do I compute 1.05 to the power of 10?\n",
        "</p>"
      ]
    },
    {
      "cell_type": "code",
      "source": [
        "# prompt: How do I compute 1.05 to the power of 10?\n",
        "\n",
        "result = 1.05 ** 10\n",
        "result"
      ],
      "metadata": {
        "id": "LlWbvMjnnLu1",
        "colab": {
          "base_uri": "https://localhost:8080/"
        },
        "outputId": "1d5421d9-a079-442f-ed00-4e24664b1368"
      },
      "execution_count": 18,
      "outputs": [
        {
          "output_type": "execute_result",
          "data": {
            "text/plain": [
              "1.628894626777442"
            ]
          },
          "metadata": {},
          "execution_count": 18
        }
      ]
    },
    {
      "cell_type": "code",
      "source": [
        "# prompt: compute the compound interest after 10 years at a rate of 5%. Also explain it in detail and easy words\n",
        "\n",
        "principal = 1000  # Initial amount of money\n",
        "rate = 0.05  # Interest rate (5%)\n",
        "time = 10  # Number of years\n",
        "\n",
        "# Calculate the compound interest\n",
        "amount = principal * (1 + rate) ** time\n",
        "\n",
        "# Calculate the interest earned\n",
        "interest_earned = amount - principal\n",
        "\n",
        "print(\"Compound Interest after 10 years:\", interest_earned)\n",
        "print(\"Total amount after 10 years:\", amount)"
      ],
      "metadata": {
        "colab": {
          "base_uri": "https://localhost:8080/"
        },
        "id": "f45o1DlaOQ2h",
        "outputId": "c2b7f9ac-aa1f-413d-d541-e0814cf99dc2"
      },
      "execution_count": 19,
      "outputs": [
        {
          "output_type": "stream",
          "name": "stdout",
          "text": [
            "Compound Interest after 10 years: 628.894626777442\n",
            "Total amount after 10 years: 1628.894626777442\n"
          ]
        }
      ]
    },
    {
      "cell_type": "code",
      "source": [
        "# prompt: why \"How do I compute 1.05 to the power of 10?\" and \"compute the compound interest after 10 years at a rate of 5%.\" is not giving same answer?\n",
        "\n",
        "The difference in results arises because the two methods are calculating slightly different things, even though they both seem related to compound interest.\n",
        "\n",
        "**Method 1: 1.05 to the power of 10**\n",
        "\n",
        "   This calculation directly computes the growth factor of an investment with a 5% annual interest rate over 10 years.  It tells you how much your initial investment would be multiplied by after 10 years of compounding.\n",
        "\n",
        "**Method 2: Calculating Compound Interest**\n",
        "\n",
        "   This calculation calculates the total interest earned on a principal amount over a period of time at a given interest rate. It incorporates the initial investment and calculates the final amount, from which you can deduce the interest earned.\n",
        "\n",
        "\n",
        "**In Essence**\n",
        "\n",
        "- The first method (1.05**10) only calculates the multiplier for your principal.\n",
        "- The second method (calculating the total amount) takes the principal into account, determines how it grows with compound interest, and then determines the total interest earned.\n",
        "\n",
        "\n",
        "\n",
        "**Illustrative Example:**\n",
        "\n",
        "Let's say you have $1000 in your investment.\n",
        "\n",
        "\n",
        "- **Method 1 (1.05**10):**  It would tell you how much the $1000 would be worth after 10 years, without mentioning the total interest earned.\n",
        "- **Method 2:** It would calculate the actual total amount after 10 years, *considering the principal*, and then you can subtract the principal to calculate the actual interest earned.\n",
        "\n",
        "**The difference is subtle but key:** The first method is a factor for growth; the second one is the complete calculation of the interest earned on a specific principal amount."
      ],
      "metadata": {
        "id": "Es0o3x0uPbyf",
        "outputId": "68ee321b-cc11-4d2b-808d-a3427af2532d",
        "colab": {
          "base_uri": "https://localhost:8080/",
          "height": 110
        }
      },
      "execution_count": 20,
      "outputs": [
        {
          "output_type": "error",
          "ename": "SyntaxError",
          "evalue": "unterminated string literal (detected at line 23) (<ipython-input-20-83b71f89e80a>, line 23)",
          "traceback": [
            "\u001b[0;36m  File \u001b[0;32m\"<ipython-input-20-83b71f89e80a>\"\u001b[0;36m, line \u001b[0;32m23\u001b[0m\n\u001b[0;31m    Let's say you have $1000 in your investment.\u001b[0m\n\u001b[0m       ^\u001b[0m\n\u001b[0;31mSyntaxError\u001b[0m\u001b[0;31m:\u001b[0m unterminated string literal (detected at line 23)\n"
          ]
        }
      ]
    },
    {
      "cell_type": "code",
      "execution_count": 22,
      "metadata": {
        "colab": {
          "base_uri": "https://localhost:8080/"
        },
        "id": "Y21_zy55ja3M",
        "outputId": "96ad3aec-8eb9-4c68-bbdc-a1039620fb69"
      },
      "outputs": [
        {
          "output_type": "stream",
          "name": "stdout",
          "text": [
            "Complete with chatbot code\n"
          ]
        }
      ],
      "source": [
        "print(\"Complete with chatbot code\")"
      ]
    },
    {
      "cell_type": "markdown",
      "metadata": {
        "id": "jiurvpwIja3M"
      },
      "source": [
        "### Order of operations"
      ]
    },
    {
      "cell_type": "markdown",
      "metadata": {
        "id": "JdMBFQjHja3M"
      },
      "source": [
        "The order of operations in Python is the same as in arithmetic. First, you compute parentheses, then exponents, then you multiply and divide (from left to right), and finally, you add and subtract (from left to right).\n",
        "\n",
        "We follow PEMDAS in coding\n",
        "\n",
        "So, if you are trying to convert from Fahrenheit to Celsius, the following cell will give you an incorrect answer:"
      ]
    },
    {
      "cell_type": "markdown",
      "source": [
        "![operations](https://www.devopsschool.com/blog/wp-content/uploads/2020/08/arithmetic-operation-in-python.png)"
      ],
      "metadata": {
        "id": "yTHYEKrPR3Qq"
      }
    },
    {
      "cell_type": "code",
      "execution_count": 23,
      "metadata": {
        "colab": {
          "base_uri": "https://localhost:8080/"
        },
        "id": "OVrTA7tLja3M",
        "outputId": "3c75d6e1-fce2-4878-9a7c-cff3bbdaf02d"
      },
      "outputs": [
        {
          "output_type": "stream",
          "name": "stdout",
          "text": [
            "57.22222222222222\n"
          ]
        }
      ],
      "source": [
        "print(75 - 32 * 5 / 9)"
      ]
    },
    {
      "cell_type": "markdown",
      "metadata": {
        "id": "m2wetL91ja3M"
      },
      "source": [
        "Whereas the computation in this cell is correct."
      ]
    },
    {
      "cell_type": "code",
      "execution_count": 24,
      "metadata": {
        "id": "BeA1I_teja3M",
        "outputId": "9a13c2b1-1e89-4dbb-c212-ae7ac9af2f2a",
        "colab": {
          "base_uri": "https://localhost:8080/"
        }
      },
      "outputs": [
        {
          "output_type": "stream",
          "name": "stdout",
          "text": [
            "23.88888888888889\n"
          ]
        }
      ],
      "source": [
        "print((75 - 32) * 5 / 9)"
      ]
    },
    {
      "cell_type": "markdown",
      "metadata": {
        "id": "sRycoVM6ja3M"
      },
      "source": [
        "### Try for yourself!\n",
        "Try printing text with mixed numbers and letters, or just symbols, then check the type. Try multiline strings using the triple quotes. If you make any mistakes, as the chatbot for help."
      ]
    },
    {
      "cell_type": "code",
      "execution_count": 25,
      "metadata": {
        "colab": {
          "base_uri": "https://localhost:8080/"
        },
        "id": "Vs5rruOEja3N",
        "outputId": "09b9cae5-ecf0-4eb8-b171-5ebc1fb9b863"
      },
      "outputs": [
        {
          "output_type": "stream",
          "name": "stdout",
          "text": [
            "\n"
          ]
        }
      ],
      "source": [
        "print()"
      ]
    },
    {
      "cell_type": "code",
      "execution_count": 26,
      "metadata": {
        "colab": {
          "base_uri": "https://localhost:8080/",
          "height": 146
        },
        "id": "kX54VfQMja3N",
        "outputId": "38431a72-9601-4277-d693-26c0f285a0ac"
      },
      "outputs": [
        {
          "output_type": "error",
          "ename": "TypeError",
          "evalue": "type() takes 1 or 3 arguments",
          "traceback": [
            "\u001b[0;31m---------------------------------------------------------------------------\u001b[0m",
            "\u001b[0;31mTypeError\u001b[0m                                 Traceback (most recent call last)",
            "\u001b[0;32m<ipython-input-26-ff6dcb82abed>\u001b[0m in \u001b[0;36m<cell line: 0>\u001b[0;34m()\u001b[0m\n\u001b[0;32m----> 1\u001b[0;31m \u001b[0mtype\u001b[0m\u001b[0;34m(\u001b[0m\u001b[0;34m)\u001b[0m\u001b[0;34m\u001b[0m\u001b[0;34m\u001b[0m\u001b[0m\n\u001b[0m",
            "\u001b[0;31mTypeError\u001b[0m: type() takes 1 or 3 arguments"
          ]
        }
      ],
      "source": [
        "type()"
      ]
    },
    {
      "cell_type": "markdown",
      "metadata": {
        "id": "ivXvn9HLja3P"
      },
      "source": [
        "Fix the errors in the following code cells."
      ]
    },
    {
      "cell_type": "code",
      "execution_count": 27,
      "metadata": {
        "id": "J4BG4aWXja3P",
        "colab": {
          "base_uri": "https://localhost:8080/",
          "height": 110
        },
        "outputId": "4ccbf7ca-e484-4e22-ce01-73ba5dc4f572"
      },
      "outputs": [
        {
          "output_type": "error",
          "ename": "SyntaxError",
          "evalue": "unterminated string literal (detected at line 2) (<ipython-input-27-723ad8b306ac>, line 2)",
          "traceback": [
            "\u001b[0;36m  File \u001b[0;32m\"<ipython-input-27-723ad8b306ac>\"\u001b[0;36m, line \u001b[0;32m2\u001b[0m\n\u001b[0;31m    print(There are 366 days in a leap year\")\u001b[0m\n\u001b[0m                                           ^\u001b[0m\n\u001b[0;31mSyntaxError\u001b[0m\u001b[0;31m:\u001b[0m unterminated string literal (detected at line 2)\n"
          ]
        }
      ],
      "source": [
        "# Fix the error in the following code\n",
        "print(There are 366 days in a leap year\")"
      ]
    },
    {
      "cell_type": "code",
      "execution_count": 28,
      "metadata": {
        "id": "AA9nZTPcja3P",
        "colab": {
          "base_uri": "https://localhost:8080/",
          "height": 110
        },
        "outputId": "0e7ab3e4-a1c1-4018-ff4a-de7bc50f0b91"
      },
      "outputs": [
        {
          "output_type": "error",
          "ename": "SyntaxError",
          "evalue": "unterminated string literal (detected at line 2) (<ipython-input-28-181bc9793f5f>, line 2)",
          "traceback": [
            "\u001b[0;36m  File \u001b[0;32m\"<ipython-input-28-181bc9793f5f>\"\u001b[0;36m, line \u001b[0;32m2\u001b[0m\n\u001b[0;31m    print(\"There are 366\u001b[0m\n\u001b[0m          ^\u001b[0m\n\u001b[0;31mSyntaxError\u001b[0m\u001b[0;31m:\u001b[0m unterminated string literal (detected at line 2)\n"
          ]
        }
      ],
      "source": [
        "# Fix the error in the following code\n",
        "print(\"There are 366\n",
        "days in a leap year\")"
      ]
    },
    {
      "cell_type": "markdown",
      "metadata": {
        "id": "ORvnp67jja3R"
      },
      "source": [
        "A foot was defined as exactly 0.3048 meters in 1959. Convert 6 feet to meters."
      ]
    },
    {
      "cell_type": "code",
      "execution_count": 29,
      "metadata": {
        "id": "SyiwznJ1ja3R",
        "outputId": "876c06e2-13e5-4039-c83a-d989fa605c2f",
        "colab": {
          "base_uri": "https://localhost:8080/"
        }
      },
      "outputs": [
        {
          "output_type": "stream",
          "name": "stdout",
          "text": [
            "Convert 6 feet to meters\n"
          ]
        }
      ],
      "source": [
        "# Write code to convert 6 feet to meters\n",
        "print(\"Convert 6 feet to meters\")"
      ]
    }
  ],
  "metadata": {
    "kernelspec": {
      "display_name": "Python 3 (ipykernel)",
      "language": "python",
      "name": "python3"
    },
    "language_info": {
      "codemirror_mode": {
        "name": "ipython",
        "version": 3
      },
      "file_extension": ".py",
      "mimetype": "text/x-python",
      "name": "python",
      "nbconvert_exporter": "python",
      "pygments_lexer": "ipython3",
      "version": "3.9.19"
    },
    "colab": {
      "provenance": [],
      "include_colab_link": true
    }
  },
  "nbformat": 4,
  "nbformat_minor": 0
}