{
  "cells": [
    {
      "cell_type": "markdown",
      "metadata": {
        "id": "view-in-github",
        "colab_type": "text"
      },
      "source": [
        "<a href=\"https://colab.research.google.com/github/Alla-ud-din/Python/blob/main/python_lectures/course1_basics/Lesson_8/Lesson_8.ipynb\" target=\"_parent\"><img src=\"https://colab.research.google.com/assets/colab-badge.svg\" alt=\"Open In Colab\"/></a>"
      ]
    },
    {
      "cell_type": "markdown",
      "id": "817221c9",
      "metadata": {
        "id": "817221c9"
      },
      "source": [
        "# L8 : Variables"
      ]
    },
    {
      "cell_type": "markdown",
      "id": "1512b57b",
      "metadata": {
        "id": "1512b57b"
      },
      "source": [
        "In computer programming, <b>variables</b> are used to store, process, and manipulate data. So, let's say you wanted to store `28` in the variable `age`, this is what you would do:"
      ]
    },
    {
      "cell_type": "markdown",
      "source": [],
      "metadata": {
        "id": "Q2VN6sYxsZRI"
      },
      "id": "Q2VN6sYxsZRI"
    },
    {
      "cell_type": "code",
      "execution_count": 1,
      "id": "9ae82ae7",
      "metadata": {
        "id": "9ae82ae7"
      },
      "outputs": [],
      "source": [
        "# name: data-type = value\n",
        "# datatypes = int, str, float, list, bool, dict, set\n",
        "\n",
        "age: int = 28"
      ]
    },
    {
      "cell_type": "markdown",
      "id": "e0d89b8d",
      "metadata": {
        "id": "e0d89b8d"
      },
      "source": [
        "So if you used `print()` with `age` as an argument, you would get the value that you assigned to that variable."
      ]
    },
    {
      "cell_type": "code",
      "execution_count": 2,
      "id": "80b5943a",
      "metadata": {
        "colab": {
          "base_uri": "https://localhost:8080/"
        },
        "id": "80b5943a",
        "outputId": "b0a6802e-aa82-4232-b7c3-3a0427b816d2"
      },
      "outputs": [
        {
          "output_type": "stream",
          "name": "stdout",
          "text": [
            "28\n",
            "<class 'int'>\n",
            "['as_integer_ratio', 'bit_count', 'bit_length', 'conjugate', 'denominator', 'from_bytes', 'imag', 'numerator', 'real', 'to_bytes']\n"
          ]
        }
      ],
      "source": [
        "print(age)\n",
        "print(type(age))\n",
        "\n",
        "# age is an obj belonging to int class\n",
        "# Objects have methods & attributes\n",
        "# methods = actions (i.e: coding)\n",
        "# attributes = properties (i.e: name)\n",
        "\n",
        "# see all methods and attributes\n",
        "print([i for i in dir(age) if '__' not in i])"
      ]
    },
    {
      "cell_type": "markdown",
      "id": "8ddf96c1",
      "metadata": {
        "id": "8ddf96c1"
      },
      "source": [
        "With `age = 28` you are telling Python to create a variable named `age` and use it to store the value `28`. However, you can change the value assigned to any variable you previously created. For instance, you can assign a value of `5` to `age` using the following code:"
      ]
    },
    {
      "cell_type": "code",
      "execution_count": 3,
      "id": "0cc2c56f",
      "metadata": {
        "id": "0cc2c56f"
      },
      "outputs": [],
      "source": [
        "age: int = 5"
      ]
    },
    {
      "cell_type": "markdown",
      "id": "448a0658",
      "metadata": {
        "id": "448a0658"
      },
      "source": [
        "So if you display `age`, you will get `5` instead of `28`."
      ]
    },
    {
      "cell_type": "code",
      "execution_count": 4,
      "id": "b594137a",
      "metadata": {
        "colab": {
          "base_uri": "https://localhost:8080/"
        },
        "id": "b594137a",
        "outputId": "abf67def-f1a2-48f8-f9c8-d960c39f14b8"
      },
      "outputs": [
        {
          "output_type": "stream",
          "name": "stdout",
          "text": [
            "5\n"
          ]
        }
      ],
      "source": [
        "print(age)"
      ]
    },
    {
      "cell_type": "code",
      "source": [
        "age1: int = 2\n",
        "print(age1)\n",
        "\n",
        "age1 = 5\n",
        "print(age1)\n",
        "\n",
        "age1 = 10\n",
        "print(age1)"
      ],
      "metadata": {
        "colab": {
          "base_uri": "https://localhost:8080/"
        },
        "id": "9B3nCNkcw_lG",
        "outputId": "6741c6f6-9a7c-48a0-e986-3e3e650408cd"
      },
      "id": "9B3nCNkcw_lG",
      "execution_count": 5,
      "outputs": [
        {
          "output_type": "stream",
          "name": "stdout",
          "text": [
            "2\n",
            "5\n",
            "10\n"
          ]
        }
      ]
    },
    {
      "cell_type": "code",
      "source": [
        "print(age1)"
      ],
      "metadata": {
        "colab": {
          "base_uri": "https://localhost:8080/"
        },
        "id": "jOsUFc6fxikk",
        "outputId": "c80bc14a-3efb-41a0-e5ff-2d0d598116c8"
      },
      "id": "jOsUFc6fxikk",
      "execution_count": 6,
      "outputs": [
        {
          "output_type": "stream",
          "name": "stdout",
          "text": [
            "10\n"
          ]
        }
      ]
    },
    {
      "cell_type": "markdown",
      "id": "764df696",
      "metadata": {
        "id": "764df696"
      },
      "source": [
        "## Variables store numbers, strings and other type of data"
      ]
    },
    {
      "cell_type": "markdown",
      "id": "3b4f1b37",
      "metadata": {
        "id": "3b4f1b37"
      },
      "source": [
        "Variables can be used to store floating point numbers, integers, strings, and other types of data. For instance, you can create a variable `name` and assign it the string `\"Otto\"`, or a variable `gnome_height` and assign it the floating point number `12.7`."
      ]
    },
    {
      "cell_type": "code",
      "execution_count": 7,
      "id": "d2e765a1",
      "metadata": {
        "id": "d2e765a1"
      },
      "outputs": [],
      "source": [
        "name: str = \"Otto\"\n",
        "gnome_height: float = 12.7"
      ]
    },
    {
      "cell_type": "markdown",
      "id": "e6595034",
      "metadata": {
        "id": "e6595034"
      },
      "source": [
        "You can use variables within f-strings to make your output more readable. For example, you can print the value assigned to `age` along with the string `\"Age: \"` so that anyone reading the display will understand what the value represents.\n",
        "\n",
        "Here’s how you can do it:"
      ]
    },
    {
      "cell_type": "code",
      "execution_count": 8,
      "id": "37d2833c",
      "metadata": {
        "colab": {
          "base_uri": "https://localhost:8080/"
        },
        "id": "37d2833c",
        "outputId": "3c6abde5-bc26-41fe-af6e-7271700b9ddf"
      },
      "outputs": [
        {
          "output_type": "stream",
          "name": "stdout",
          "text": [
            "Age = 5\n"
          ]
        }
      ],
      "source": [
        "print(f\"Age = {age}\")"
      ]
    },
    {
      "cell_type": "markdown",
      "id": "d156652d",
      "metadata": {
        "id": "d156652d"
      },
      "source": [
        "As another example, let's use f-strings to display the values assigned to `name` and `gnome_height`."
      ]
    },
    {
      "cell_type": "code",
      "execution_count": 9,
      "id": "f4dd9caa",
      "metadata": {
        "colab": {
          "base_uri": "https://localhost:8080/"
        },
        "id": "f4dd9caa",
        "outputId": "67a60d02-c2a0-4850-8f72-c1e3aa25b490"
      },
      "outputs": [
        {
          "output_type": "stream",
          "name": "stdout",
          "text": [
            "Name: Otto\n",
            "Gnome height: 12.7\n"
          ]
        }
      ],
      "source": [
        "print(f\"Name: {name}\")\n",
        "print(f\"Gnome height: {gnome_height}\")"
      ]
    },
    {
      "cell_type": "markdown",
      "id": "f86ccabc",
      "metadata": {
        "id": "f86ccabc"
      },
      "source": [
        "<b>Important:</b> Variables are case-sensitive, so `Gnome_height` and `gnome_height` are not the same. To see this, you can run the next cell where you will get an error message."
      ]
    },
    {
      "cell_type": "code",
      "execution_count": 10,
      "id": "c43043e4",
      "metadata": {
        "colab": {
          "base_uri": "https://localhost:8080/",
          "height": 146
        },
        "id": "c43043e4",
        "outputId": "474ca08e-0b53-469e-bd78-9f54f9fbe451"
      },
      "outputs": [
        {
          "output_type": "error",
          "ename": "NameError",
          "evalue": "name 'Gnome_height' is not defined",
          "traceback": [
            "\u001b[0;31m---------------------------------------------------------------------------\u001b[0m",
            "\u001b[0;31mNameError\u001b[0m                                 Traceback (most recent call last)",
            "\u001b[0;32m<ipython-input-10-bd4eebcb8952>\u001b[0m in \u001b[0;36m<cell line: 0>\u001b[0;34m()\u001b[0m\n\u001b[0;32m----> 1\u001b[0;31m \u001b[0mprint\u001b[0m\u001b[0;34m(\u001b[0m\u001b[0;34mf\"Gnome height: {Gnome_height}\"\u001b[0m\u001b[0;34m)\u001b[0m\u001b[0;34m\u001b[0m\u001b[0;34m\u001b[0m\u001b[0m\n\u001b[0m",
            "\u001b[0;31mNameError\u001b[0m: name 'Gnome_height' is not defined"
          ]
        }
      ],
      "source": [
        "print(f\"Gnome height: {Gnome_height}\")"
      ]
    },
    {
      "cell_type": "markdown",
      "id": "99c43159-f5b4-4ab5-b9d4-b142979cb172",
      "metadata": {
        "id": "99c43159-f5b4-4ab5-b9d4-b142979cb172"
      },
      "source": [
        "## Variables help you store values that constantly change"
      ]
    },
    {
      "cell_type": "markdown",
      "id": "9154a6a6-ab67-4d96-85fc-5bbfbea65e11",
      "metadata": {
        "id": "9154a6a6-ab67-4d96-85fc-5bbfbea65e11"
      },
      "source": [
        "Take a game where the score starts at zero. In the next cell, you create a variable `score`, assign it the value of `0`, and display the current score."
      ]
    },
    {
      "cell_type": "code",
      "execution_count": 11,
      "id": "5a47354d",
      "metadata": {
        "colab": {
          "base_uri": "https://localhost:8080/"
        },
        "id": "5a47354d",
        "outputId": "e0b634a6-e790-42bc-a90c-c8af68065a42"
      },
      "outputs": [
        {
          "output_type": "stream",
          "name": "stdout",
          "text": [
            "0\n"
          ]
        }
      ],
      "source": [
        "score: int = 0 # now score is 0\n",
        "print(score)"
      ]
    },
    {
      "cell_type": "markdown",
      "id": "b59c99bb-d58a-4a8e-9f1b-fd2010cf7e12",
      "metadata": {
        "id": "b59c99bb-d58a-4a8e-9f1b-fd2010cf7e12"
      },
      "source": [
        "When the score increases by 50 points, you can update the variable by using its previous value and adding `50`."
      ]
    },
    {
      "cell_type": "code",
      "execution_count": 12,
      "id": "019ca96e",
      "metadata": {
        "colab": {
          "base_uri": "https://localhost:8080/"
        },
        "id": "019ca96e",
        "outputId": "6e4e9442-f67f-492d-adb1-437d5a05a236"
      },
      "outputs": [
        {
          "output_type": "stream",
          "name": "stdout",
          "text": [
            "6\n",
            "12\n",
            "16\n"
          ]
        }
      ],
      "source": [
        "# Override\n",
        "score = 6 # now score is 0 + 6 which is 6\n",
        "print(score)\n",
        "\n",
        "score = score + 6 # now score is 6\n",
        "print(score)\n",
        "\n",
        "score += 4 # now score is 10\n",
        "print(score)"
      ]
    },
    {
      "cell_type": "markdown",
      "id": "b6d6a85b-c210-4bd3-8cb3-7013775fcec4",
      "metadata": {
        "id": "b6d6a85b-c210-4bd3-8cb3-7013775fcec4"
      },
      "source": [
        "In a similar way, when the score increases by 100 points, the variable `score` can be updated by adding `100` to the previous value stored in `score`."
      ]
    },
    {
      "cell_type": "code",
      "execution_count": 13,
      "id": "a7b08d88",
      "metadata": {
        "colab": {
          "base_uri": "https://localhost:8080/"
        },
        "id": "a7b08d88",
        "outputId": "229fd9de-6787-46b6-c626-862d14025ee0"
      },
      "outputs": [
        {
          "output_type": "stream",
          "name": "stdout",
          "text": [
            "116\n"
          ]
        }
      ],
      "source": [
        "score += 100 # now score is 100 + 50 which is 150 - this is short form\n",
        "# score = score + 100 # now score is 100 + 50 which is 150\n",
        "print(score)"
      ]
    },
    {
      "cell_type": "markdown",
      "id": "cbd2c6e3-edd1-42fc-9f3b-b4b1eed37412",
      "metadata": {
        "id": "cbd2c6e3-edd1-42fc-9f3b-b4b1eed37412"
      },
      "source": [
        "And, after scoring an extra 300 points, the variable `score` is updated by adding `300` to the previous value stored in `score`."
      ]
    },
    {
      "cell_type": "code",
      "execution_count": 14,
      "id": "101602ad",
      "metadata": {
        "colab": {
          "base_uri": "https://localhost:8080/"
        },
        "id": "101602ad",
        "outputId": "07149d75-f920-4601-8de9-6ebd95211ab1"
      },
      "outputs": [
        {
          "output_type": "stream",
          "name": "stdout",
          "text": [
            "416\n"
          ]
        }
      ],
      "source": [
        "score = score + 300 # now score is 150 + 300 which is 450\n",
        "print(score)"
      ]
    },
    {
      "cell_type": "markdown",
      "id": "50b3f514-dd75-475c-819f-ad55e93f2728",
      "metadata": {
        "id": "50b3f514-dd75-475c-819f-ad55e93f2728"
      },
      "source": [
        "So at the end, the variable `score` stores the most updated score value.\n",
        "\n",
        "You can print the final score using an f-string as shown in the cell below:"
      ]
    },
    {
      "cell_type": "code",
      "execution_count": 15,
      "id": "4a0cc976",
      "metadata": {
        "colab": {
          "base_uri": "https://localhost:8080/"
        },
        "id": "4a0cc976",
        "outputId": "639f0cb5-0605-41c8-fe7f-f8c9319fbcc4"
      },
      "outputs": [
        {
          "output_type": "stream",
          "name": "stdout",
          "text": [
            "Your final score was: 416\n"
          ]
        }
      ],
      "source": [
        "print(f\"Your final score was: {score}\") # prints 450"
      ]
    },
    {
      "cell_type": "markdown",
      "id": "8c98ef76-dbc5-46e9-bfea-44e1eead9e19",
      "metadata": {
        "id": "8c98ef76-dbc5-46e9-bfea-44e1eead9e19"
      },
      "source": [
        "## Variable names restrictions"
      ]
    },
    {
      "cell_type": "markdown",
      "id": "a521e742-511b-4d4d-b07c-248ec3d5e43d",
      "metadata": {
        "id": "a521e742-511b-4d4d-b07c-248ec3d5e43d"
      },
      "source": [
        "To demonstrate an important fact about variable names in Python, try to run the code below."
      ]
    },
    {
      "cell_type": "code",
      "execution_count": 16,
      "id": "42e3bcd2",
      "metadata": {
        "colab": {
          "base_uri": "https://localhost:8080/",
          "height": 110
        },
        "id": "42e3bcd2",
        "outputId": "5c737686-add4-4780-aacd-19742c99eadf"
      },
      "outputs": [
        {
          "output_type": "error",
          "ename": "SyntaxError",
          "evalue": "invalid syntax (<ipython-input-16-92de546d85c6>, line 2)",
          "traceback": [
            "\u001b[0;36m  File \u001b[0;32m\"<ipython-input-16-92de546d85c6>\"\u001b[0;36m, line \u001b[0;32m2\u001b[0m\n\u001b[0;31m    my score: int = 450\u001b[0m\n\u001b[0m       ^\u001b[0m\n\u001b[0;31mSyntaxError\u001b[0m\u001b[0;31m:\u001b[0m invalid syntax\n"
          ]
        }
      ],
      "source": [
        "# No special character like space here i.e + - , *\n",
        "my score: int = 450"
      ]
    },
    {
      "cell_type": "markdown",
      "id": "a4b2761a-e06d-46a3-a68f-1b6017a81881",
      "metadata": {
        "id": "a4b2761a-e06d-46a3-a68f-1b6017a81881"
      },
      "source": [
        "Now, ask the chatbot why that code didn't work. You can use the prompt suggested here.\n",
        "\n",
        "<p style=\"background-color:#F5C780; padding:15px\"> 🤖 <b>Use the Chatbot</b>: Why doesn't this code work? my score = 450\n",
        "</p>"
      ]
    },
    {
      "cell_type": "code",
      "source": [
        "# prompt: Why doesn't this code work? my score = 450\n",
        "\n",
        "# The code \"my score = 450\" doesn't work because variable names in Python cannot contain spaces.\n",
        "# Python variable names must follow specific rules:\n",
        "#\n",
        "# 1. They can only contain letters (a-z, A-Z), numbers (0-9), and underscores (_).\n",
        "# 2. They cannot start with a number.\n",
        "# 3. They are case-sensitive (myScore and myscore are different variables).\n",
        "#\n",
        "# In the example \"my score = 450\", the space between \"my\" and \"score\" violates the first rule, making it an invalid variable name.\n",
        "#\n",
        "# To fix it, you could use an underscore to replace the space:\n",
        "#\n",
        "# my_score = 450\n",
        "#\n",
        "# Or you could combine the words without a space:\n",
        "#\n",
        "# myscore = 450"
      ],
      "metadata": {
        "id": "f10I8oOp1oZT"
      },
      "id": "f10I8oOp1oZT",
      "execution_count": null,
      "outputs": []
    },
    {
      "cell_type": "markdown",
      "id": "5aece0d4",
      "metadata": {
        "id": "5aece0d4"
      },
      "source": [
        "## Variables allow you to code efficiently!"
      ]
    },
    {
      "cell_type": "markdown",
      "id": "a5e87451",
      "metadata": {
        "id": "a5e87451"
      },
      "source": [
        "Recall the dog age example that you saw in previous lessons. Assuming that Otto is 49 years old, you can display his dog age by using `print(49 / 7)`."
      ]
    },
    {
      "cell_type": "code",
      "execution_count": 17,
      "id": "1643e928",
      "metadata": {
        "colab": {
          "base_uri": "https://localhost:8080/"
        },
        "id": "1643e928",
        "outputId": "1fb79ef2-f5b9-4dcf-ec87-8f0aff929d99"
      },
      "outputs": [
        {
          "output_type": "stream",
          "name": "stdout",
          "text": [
            "7.0\n"
          ]
        }
      ],
      "source": [
        "print(49 / 7)"
      ]
    },
    {
      "cell_type": "markdown",
      "id": "e3de9f60",
      "metadata": {
        "id": "e3de9f60"
      },
      "source": [
        "Using f-strings so that it is clear what you are displaying, you would use code similar to the one in the cell below."
      ]
    },
    {
      "cell_type": "code",
      "execution_count": 18,
      "id": "4db3559f",
      "metadata": {
        "colab": {
          "base_uri": "https://localhost:8080/"
        },
        "id": "4db3559f",
        "outputId": "891aea83-abdb-4373-9cae-165a54d786c5"
      },
      "outputs": [
        {
          "output_type": "stream",
          "name": "stdout",
          "text": [
            "Otto's age in dog years is 7.0\n"
          ]
        }
      ],
      "source": [
        "print(f\"Otto's age in dog years is {49 / 7}\")"
      ]
    },
    {
      "cell_type": "markdown",
      "id": "98904686",
      "metadata": {
        "id": "98904686"
      },
      "source": [
        "Alternatively, now that you have seen how variables work, you can compute Otto's dog age and assign it to the variable `dog_age`."
      ]
    },
    {
      "cell_type": "code",
      "execution_count": 19,
      "id": "a9918f72",
      "metadata": {
        "id": "a9918f72"
      },
      "outputs": [],
      "source": [
        "dog_age: float = 49 / 7"
      ]
    },
    {
      "cell_type": "markdown",
      "id": "8db0f9f6",
      "metadata": {
        "id": "8db0f9f6"
      },
      "source": [
        "You can see how this would be an advantage if you consider the following scenario. Let's say you want to display an f-string with Otto's dog age multiple times. Without using variables, you would need to compute his dog age as many times as you refer to it."
      ]
    },
    {
      "cell_type": "code",
      "execution_count": 20,
      "id": "2874dcd1",
      "metadata": {
        "colab": {
          "base_uri": "https://localhost:8080/"
        },
        "id": "2874dcd1",
        "outputId": "dbaeeeb3-78cd-44a1-d37f-fa5c0f09329a"
      },
      "outputs": [
        {
          "output_type": "stream",
          "name": "stdout",
          "text": [
            "Otto's dog age is 7.0. So a dog that's about\n",
            "7.0 would be the same age as Otto. Any dog born about 7.0\n",
            "years ago would be in the same stage of life as Otto.\n"
          ]
        }
      ],
      "source": [
        "print(f\"\"\"Otto's dog age is {49/7}. So a dog that's about\n",
        "{49/7} would be the same age as Otto. Any dog born about {49/7}\n",
        "years ago would be in the same stage of life as Otto.\"\"\")"
      ]
    },
    {
      "cell_type": "markdown",
      "id": "335511cc",
      "metadata": {
        "id": "335511cc"
      },
      "source": [
        "If Otto became a year older, you would need to change the values in each of the curly braces to `50/7`. Instead, if you used an f-string with the `dog_age` variable as the one below:"
      ]
    },
    {
      "cell_type": "code",
      "execution_count": 21,
      "id": "98bf95bf",
      "metadata": {
        "colab": {
          "base_uri": "https://localhost:8080/"
        },
        "id": "98bf95bf",
        "outputId": "e7df5120-1da6-40bc-f845-6021d8da7de0"
      },
      "outputs": [
        {
          "output_type": "stream",
          "name": "stdout",
          "text": [
            "Otto's dog age is 7.0. So a dog that's about\n",
            "7.0 would be the same age as Otto. Any dog born about 7.0\n",
            "years ago would be in the same stage of life as Otto.\n"
          ]
        }
      ],
      "source": [
        "print(f\"\"\"Otto's dog age is {dog_age}. So a dog that's about\n",
        "{dog_age} would be the same age as Otto. Any dog born about {dog_age}\n",
        "years ago would be in the same stage of life as Otto.\"\"\")"
      ]
    },
    {
      "cell_type": "markdown",
      "id": "bc58205f",
      "metadata": {
        "id": "bc58205f"
      },
      "source": [
        "You will only need to update `dog_age` with Otto's new equivalent dog age:"
      ]
    },
    {
      "cell_type": "code",
      "execution_count": 22,
      "id": "e7652ae2",
      "metadata": {
        "id": "e7652ae2"
      },
      "outputs": [],
      "source": [
        "# Override\n",
        "dog_age = 50/7"
      ]
    },
    {
      "cell_type": "markdown",
      "id": "87549ba8",
      "metadata": {
        "id": "87549ba8"
      },
      "source": [
        "And use the same f-string that you used before without editing. By defining a variable once, you can use it in multiple places, which makes computer programs much more efficient."
      ]
    },
    {
      "cell_type": "code",
      "execution_count": 23,
      "id": "9df1557b",
      "metadata": {
        "colab": {
          "base_uri": "https://localhost:8080/"
        },
        "id": "9df1557b",
        "outputId": "54535c5b-8b95-488b-a96d-8a338f8cff30"
      },
      "outputs": [
        {
          "output_type": "stream",
          "name": "stdout",
          "text": [
            "Otto's dog age is 7.142857142857143. So a dog that's about\n",
            "7.142857142857143 would be the same age as Otto. Any dog born about 7.142857142857143\n",
            "years ago would be in the same stage of life as Otto.\n"
          ]
        }
      ],
      "source": [
        "print(f\"\"\"Otto's dog age is {dog_age}. So a dog that's about\n",
        "{dog_age} would be the same age as Otto. Any dog born about {dog_age}\n",
        "years ago would be in the same stage of life as Otto.\"\"\")"
      ]
    },
    {
      "cell_type": "markdown",
      "id": "c2fd294e",
      "metadata": {
        "id": "c2fd294e"
      },
      "source": [
        "As another example, you can replace the name \"Otto\" with the variable `name` in curly braces."
      ]
    },
    {
      "cell_type": "code",
      "execution_count": 24,
      "id": "d75fdd48",
      "metadata": {
        "colab": {
          "base_uri": "https://localhost:8080/"
        },
        "id": "d75fdd48",
        "outputId": "4958185d-2f49-4cd0-e289-c7db31451f3c"
      },
      "outputs": [
        {
          "output_type": "stream",
          "name": "stdout",
          "text": [
            "Otto's dog age is 7.142857142857143. So a dog that's about\n",
            "7.142857142857143 would be the same age as Otto. Any dog born about 7.142857142857143\n",
            "years ago would be in the same stage of life as Otto.\n"
          ]
        }
      ],
      "source": [
        "print(f\"\"\"{name}'s dog age is {dog_age}. So a dog that's about\n",
        "{dog_age} would be the same age as {name}. Any dog born about {dog_age}\n",
        "years ago would be in the same stage of life as {name}.\"\"\")"
      ]
    },
    {
      "cell_type": "markdown",
      "id": "18ea082a",
      "metadata": {
        "id": "18ea082a"
      },
      "source": [
        "This way, you can change Otto's name to his first and last name:"
      ]
    },
    {
      "cell_type": "code",
      "execution_count": 25,
      "id": "1b6d403b",
      "metadata": {
        "id": "1b6d403b"
      },
      "outputs": [],
      "source": [
        "name = \"Otto Liam\""
      ]
    },
    {
      "cell_type": "markdown",
      "id": "8ace1ea1",
      "metadata": {
        "id": "8ace1ea1"
      },
      "source": [
        "And use the f-string where the change is reflected in all places where the variable `name` appears."
      ]
    },
    {
      "cell_type": "code",
      "execution_count": 26,
      "id": "21d5d631",
      "metadata": {
        "colab": {
          "base_uri": "https://localhost:8080/"
        },
        "id": "21d5d631",
        "outputId": "9aaa5d8b-5f92-44ff-a72d-f08fb96abd95"
      },
      "outputs": [
        {
          "output_type": "stream",
          "name": "stdout",
          "text": [
            "Otto Liam's dog age is 7.142857142857143. So a dog that's about\n",
            "7.142857142857143 would be the same age as Otto Liam. Any dog born about 7.142857142857143\n",
            "years ago would be in the same stage of life as Otto Liam.\n"
          ]
        }
      ],
      "source": [
        "print(f\"\"\"{name}'s dog age is {dog_age}. So a dog that's about\n",
        "{dog_age} would be the same age as {name}. Any dog born about {dog_age}\n",
        "years ago would be in the same stage of life as {name}.\"\"\")"
      ]
    },
    {
      "cell_type": "markdown",
      "id": "98ec7de7",
      "metadata": {
        "id": "98ec7de7"
      },
      "source": [
        "## Extra practice\n",
        "\n",
        "Try the exercises below to practice the concepts from this lesson. Read the comments in each cell with the instructions for each exercise.\n",
        "\n",
        "<b>Feel free to use the chatbot if you need help.</b>"
      ]
    },
    {
      "cell_type": "code",
      "execution_count": null,
      "id": "4e522416",
      "metadata": {
        "colab": {
          "base_uri": "https://localhost:8080/"
        },
        "id": "4e522416",
        "outputId": "7432e186-0026-43e5-f3a7-307b05780ee4"
      },
      "outputs": [
        {
          "output_type": "stream",
          "name": "stdout",
          "text": [
            "Hello, Babar!\n"
          ]
        }
      ],
      "source": [
        "# Create a variable called 'my_name' and assign it the value of your name as a string.\n",
        "# Then print out a greeting using the variable, like \"Hello, Andrew!\"\n",
        "my_name: str = \"Babar\"\n",
        "print(f\"Hello, {my_name}!\")"
      ]
    },
    {
      "cell_type": "code",
      "execution_count": null,
      "id": "8124eec4",
      "metadata": {
        "id": "8124eec4",
        "colab": {
          "base_uri": "https://localhost:8080/",
          "height": 110
        },
        "outputId": "ee450379-5f80-4f71-d809-a62912d85150"
      },
      "outputs": [
        {
          "output_type": "error",
          "ename": "SyntaxError",
          "evalue": "invalid syntax (<ipython-input-38-28e3340dee1f>, line 3)",
          "traceback": [
            "\u001b[0;36m  File \u001b[0;32m\"<ipython-input-38-28e3340dee1f>\"\u001b[0;36m, line \u001b[0;32m3\u001b[0m\n\u001b[0;31m    fav_num =\u001b[0m\n\u001b[0m             ^\u001b[0m\n\u001b[0;31mSyntaxError\u001b[0m\u001b[0;31m:\u001b[0m invalid syntax\n"
          ]
        }
      ],
      "source": [
        "# Enter your favorite number below and store it in a variable called 'fav_num'.\n",
        "# Print out a message telling you what your favorite number plus 10 is.\n",
        "fav_num =\n",
        "print(f\"Your favorite number plus 10 is {}\")"
      ]
    },
    {
      "cell_type": "code",
      "execution_count": null,
      "id": "1bc3acdd",
      "metadata": {
        "id": "1bc3acdd"
      },
      "outputs": [],
      "source": [
        "# Create two variables, 'countries_visited' and 'countries_to_visit' and assign them the number of\n",
        "# countries you've been to and the number of countries you hope to visit. Then complete the print statement.\n",
        "\n",
        "\n",
        "\n",
        "print(f\"\"\"I have visited {} countries. I plan to visit {} more countries,\n",
        "      and when I'm done I will have visited {} countries.\"\"\")"
      ]
    }
  ],
  "metadata": {
    "kernelspec": {
      "display_name": "Python 3 (ipykernel)",
      "language": "python",
      "name": "python3"
    },
    "language_info": {
      "codemirror_mode": {
        "name": "ipython",
        "version": 3
      },
      "file_extension": ".py",
      "mimetype": "text/x-python",
      "name": "python",
      "nbconvert_exporter": "python",
      "pygments_lexer": "ipython3",
      "version": "3.9.19"
    },
    "colab": {
      "provenance": [],
      "include_colab_link": true
    }
  },
  "nbformat": 4,
  "nbformat_minor": 5
}