{
  "cells": [
    {
      "cell_type": "markdown",
      "metadata": {
        "id": "view-in-github",
        "colab_type": "text"
      },
      "source": [
        "<a href=\"https://colab.research.google.com/github/Alla-ud-din/Python/blob/main/python_lectures/course1_basics/Lesson_4/Lesson_4.ipynb\" target=\"_parent\"><img src=\"https://colab.research.google.com/assets/colab-badge.svg\" alt=\"Open In Colab\"/></a>"
      ]
    },
    {
      "cell_type": "markdown",
      "metadata": {
        "id": "SpwmEDsjFImY"
      },
      "source": [
        "# Lesson 4: Running your first program\n"
      ]
    },
    {
      "cell_type": "markdown",
      "metadata": {
        "id": "LvNWXMxEFImb"
      },
      "source": [
        "### 1. Hello, World!\n",
        "\n",
        "To run the code, click anywhere into the cell (the box with the code inside), and then type `Shift` + `Enter` (`Shift` + `Return` on a Mac) to execute."
      ]
    },
    {
      "cell_type": "code",
      "execution_count": 1,
      "metadata": {
        "colab": {
          "base_uri": "https://localhost:8080/"
        },
        "id": "a1vJzEZcFImc",
        "outputId": "f0659390-5ba9-4523-efd0-e16717bbd59e"
      },
      "outputs": [
        {
          "output_type": "stream",
          "name": "stdout",
          "text": [
            "Hello, World!\n"
          ]
        }
      ],
      "source": [
        "print(\"Hello, World!\")"
      ]
    },
    {
      "cell_type": "markdown",
      "metadata": {
        "id": "S0fKnkjhFIme"
      },
      "source": [
        "### 2. Hello, you!\n",
        "\n",
        "Let's generate python code to say hello to you, instead of the world.\n"
      ]
    },
    {
      "cell_type": "code",
      "execution_count": 2,
      "metadata": {
        "colab": {
          "base_uri": "https://localhost:8080/"
        },
        "id": "FU8Q9snNFIme",
        "outputId": "2c0710b7-11b1-4727-b30b-7e25365924f0"
      },
      "outputs": [
        {
          "output_type": "stream",
          "name": "stdout",
          "text": [
            "Hello, Alla Ud Din!\n"
          ]
        }
      ],
      "source": [
        "# prompt:  Modify the code below to have it say hello to me.\n",
        "#      print(\"Hello, World!\")\n",
        "#      My name is Alla Ud Din\n",
        "\n",
        "print(\"Hello, Alla Ud Din!\")"
      ]
    },
    {
      "cell_type": "markdown",
      "metadata": {
        "id": "6NZDGvJAFImf"
      },
      "source": [
        "### 3. Say hello to someone you love!\n"
      ]
    },
    {
      "cell_type": "code",
      "execution_count": 3,
      "metadata": {
        "colab": {
          "base_uri": "https://localhost:8080/"
        },
        "id": "mpcxDwtOFImf",
        "outputId": "1a321243-7753-4bb0-e61f-f9982f9efc1b"
      },
      "outputs": [
        {
          "output_type": "stream",
          "name": "stdout",
          "text": [
            "Hello, Ali\n"
          ]
        }
      ],
      "source": [
        "# ADD YOUR CODE ON THE NEXT LINE\n",
        "print(\"Hello, Ali\")"
      ]
    },
    {
      "cell_type": "markdown",
      "metadata": {
        "id": "peY-wGDDFImf"
      },
      "source": [
        "### 4. Comments in code\n"
      ]
    },
    {
      "cell_type": "code",
      "execution_count": 4,
      "metadata": {
        "id": "y6vmtnedFImf"
      },
      "outputs": [],
      "source": [
        "# THIS IS A COMMENT - PYTHON WILL IGNORE THIS LINE"
      ]
    },
    {
      "cell_type": "markdown",
      "metadata": {
        "id": "dGhHpeoZFImg"
      },
      "source": [
        "You can have multiple comment lines in your code, including one after another, and dispersed throughout your code:"
      ]
    },
    {
      "cell_type": "code",
      "execution_count": 5,
      "metadata": {
        "id": "Gr7-fySyFImg",
        "colab": {
          "base_uri": "https://localhost:8080/"
        },
        "outputId": "9a45492d-5dad-4f02-ad33-318a7f33f1d7"
      },
      "outputs": [
        {
          "output_type": "stream",
          "name": "stdout",
          "text": [
            "Hello, Andrew!\n",
            "How is your day going?\n"
          ]
        }
      ],
      "source": [
        "# This is an example of code with multiple\n",
        "# comments, including this one which\n",
        "# spans multiple lines\n",
        "print(\"Hello, Andrew!\")\n",
        "# Follow up with an additional print command\n",
        "print(\"How is your day going?\")"
      ]
    },
    {
      "cell_type": "code",
      "source": [
        "print(\"My name is Alla Ud Din)"
      ],
      "metadata": {
        "colab": {
          "base_uri": "https://localhost:8080/",
          "height": 110
        },
        "id": "d8_OUirZnNRo",
        "outputId": "65604bad-afe5-4b72-a419-ef5282c50306"
      },
      "execution_count": 6,
      "outputs": [
        {
          "output_type": "error",
          "ename": "SyntaxError",
          "evalue": "unterminated string literal (detected at line 1) (<ipython-input-6-449fcca33ebf>, line 1)",
          "traceback": [
            "\u001b[0;36m  File \u001b[0;32m\"<ipython-input-6-449fcca33ebf>\"\u001b[0;36m, line \u001b[0;32m1\u001b[0m\n\u001b[0;31m    print(\"My name is Alla Ud Din)\u001b[0m\n\u001b[0m          ^\u001b[0m\n\u001b[0;31mSyntaxError\u001b[0m\u001b[0;31m:\u001b[0m unterminated string literal (detected at line 1)\n"
          ]
        }
      ]
    },
    {
      "cell_type": "code",
      "source": [
        "# prompt: fix error only in last code\n",
        "\n",
        "print(\"My name is Alla Ud Din\")"
      ],
      "metadata": {
        "id": "L9RfGt3jnVGw"
      },
      "execution_count": null,
      "outputs": []
    },
    {
      "cell_type": "markdown",
      "metadata": {
        "id": "TACJV7q3FImh"
      },
      "source": [
        "### Practice for yourself!\n",
        "\n",
        "You can practice what you've learned in this lesson by trying out the code exercises below. For each one, follow the instructions in the comment line, then write your code on the next line below the comment. Once you are done, run your code by typing `Shift` + `Enter`. You can do this as many times as you like."
      ]
    },
    {
      "cell_type": "code",
      "execution_count": null,
      "metadata": {
        "id": "WqPlYRRAFImi"
      },
      "outputs": [],
      "source": [
        "# Write code that displays your favorite color\n",
        "print(\"My favorite color is blue\")"
      ]
    },
    {
      "cell_type": "code",
      "execution_count": null,
      "metadata": {
        "id": "kmCjzPH9FImi"
      },
      "outputs": [],
      "source": [
        "# Write code that answers the question \"How are you feeling today?\""
      ]
    },
    {
      "cell_type": "code",
      "source": [
        "# prompt: Write code that answers the question \"How are you feeling today?\"\n",
        "\n",
        "print(\"I am feeling great today!\")"
      ],
      "metadata": {
        "id": "lCm89oNPo3ag"
      },
      "execution_count": null,
      "outputs": []
    },
    {
      "cell_type": "code",
      "execution_count": null,
      "metadata": {
        "id": "PQ6nL40ZFImi"
      },
      "outputs": [],
      "source": [
        "# Alter your code from the previous cell so that it will cause an error when you run it"
      ]
    },
    {
      "cell_type": "code",
      "execution_count": null,
      "metadata": {
        "id": "ndmzO9XuFImj"
      },
      "outputs": [],
      "source": [
        "# Ask an LLM to help you fix the error in the code in the previous cell (or fix yourself) and\n",
        "# then type the corrected code on the next line:"
      ]
    }
  ],
  "metadata": {
    "kernelspec": {
      "display_name": "Python 3 (ipykernel)",
      "language": "python",
      "name": "python3"
    },
    "language_info": {
      "codemirror_mode": {
        "name": "ipython",
        "version": 3
      },
      "file_extension": ".py",
      "mimetype": "text/x-python",
      "name": "python",
      "nbconvert_exporter": "python",
      "pygments_lexer": "ipython3",
      "version": "3.9.19"
    },
    "colab": {
      "provenance": [],
      "include_colab_link": true
    }
  },
  "nbformat": 4,
  "nbformat_minor": 0
}