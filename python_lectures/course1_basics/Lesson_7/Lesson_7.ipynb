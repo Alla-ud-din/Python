{
  "cells": [
    {
      "cell_type": "markdown",
      "metadata": {
        "id": "view-in-github",
        "colab_type": "text"
      },
      "source": [
        "<a href=\"https://colab.research.google.com/github/Alla-ud-din/Python/blob/main/python_lectures/course1_basics/Lesson_7/Lesson_7.ipynb\" target=\"_parent\"><img src=\"https://colab.research.google.com/assets/colab-badge.svg\" alt=\"Open In Colab\"/></a>"
      ]
    },
    {
      "cell_type": "markdown",
      "id": "214ecaa7",
      "metadata": {
        "id": "214ecaa7"
      },
      "source": [
        "# Lesson 7: Displaying text and calculations together"
      ]
    },
    {
      "cell_type": "markdown",
      "id": "7b673ff9",
      "metadata": {
        "id": "7b673ff9"
      },
      "source": [
        "You have seen that strings are used to store text and integers and floats are used to store numbers.\n",
        "\n",
        "<b>Strings</b>:\n",
        "\n",
        "- `\"Hello, world\"`\n",
        "\n",
        "- `\"My favorite drink is Earl Grey tea\"`\n",
        "\n",
        "<b>Integers and floats</b>:\n",
        "\n",
        "- `42`\n",
        "\n",
        "- `3.14`\n",
        "\n",
        "You have also seen that you can display data with `print()`:\n",
        "\n",
        "- `print(\"Hello, World!\")`\n",
        "\n",
        "And you can use Python as a calculator:\n",
        "\n",
        "- `print(3 * 4.5)`\n",
        "\n",
        "In this lesson, you will see how to mix computations and strings together to display results in a readable way using Python's f-strings."
      ]
    },
    {
      "cell_type": "markdown",
      "id": "9e17dcfc",
      "metadata": {
        "id": "9e17dcfc"
      },
      "source": [
        "## Mixing strings with computations or data: f-Strings"
      ]
    },
    {
      "cell_type": "markdown",
      "id": "fe7c44ec",
      "metadata": {
        "id": "fe7c44ec"
      },
      "source": [
        "If you wanted to display the equivalent degrees Celsius to a temperature in degrees Fahrenheit, you would do something like this:"
      ]
    },
    {
      "cell_type": "code",
      "execution_count": 1,
      "id": "b25dbb3d",
      "metadata": {
        "id": "b25dbb3d",
        "outputId": "1ff57901-36fd-4d05-bd6c-e9e29e308c8d",
        "colab": {
          "base_uri": "https://localhost:8080/"
        }
      },
      "outputs": [
        {
          "output_type": "stream",
          "name": "stdout",
          "text": [
            "23.88888888888889\n"
          ]
        }
      ],
      "source": [
        "print(((75 - 32) * 5 / 9))"
      ]
    },
    {
      "cell_type": "markdown",
      "id": "c46cd21a",
      "metadata": {
        "id": "c46cd21a"
      },
      "source": [
        "Now, if you wanted to display that degrees conversion using a string that included the computation, you could try:"
      ]
    },
    {
      "cell_type": "code",
      "execution_count": 2,
      "id": "e0c8dbb3",
      "metadata": {
        "id": "e0c8dbb3",
        "outputId": "785df115-0b57-4e59-fecc-c2efcb5eae11",
        "colab": {
          "base_uri": "https://localhost:8080/"
        }
      },
      "outputs": [
        {
          "output_type": "stream",
          "name": "stdout",
          "text": [
            "The temperature 75F in degrees Celsius is ((75 - 32) * 5 / 9)C\n"
          ]
        }
      ],
      "source": [
        "print(\"The temperature 75F in degrees Celsius is ((75 - 32) * 5 / 9)C\")"
      ]
    },
    {
      "cell_type": "markdown",
      "id": "96d232d1",
      "metadata": {
        "id": "96d232d1"
      },
      "source": [
        "But that doesn't work. It gives you back the formula, but it doesn't actually convert from degrees Fahrenheit to Celsius.\n",
        "\n",
        "To print the result of the computation within that string rather than just the formula, you can use what is called an <b>f-string</b> in Python which looks like this:"
      ]
    },
    {
      "cell_type": "code",
      "execution_count": 3,
      "id": "a434574b",
      "metadata": {
        "id": "a434574b",
        "outputId": "5f8624a8-0e4a-4191-8baf-b2318d2072dc",
        "colab": {
          "base_uri": "https://localhost:8080/"
        }
      },
      "outputs": [
        {
          "output_type": "stream",
          "name": "stdout",
          "text": [
            "The temperature 75F in degrees celsius is 23.88888888888889C\n"
          ]
        }
      ],
      "source": [
        "print(f\"The temperature 75F in degrees celsius is {(75 - 32) * 5 / 9}C\")"
      ]
    },
    {
      "cell_type": "markdown",
      "id": "b0ff33f8",
      "metadata": {
        "id": "b0ff33f8"
      },
      "source": [
        "There, I have written `f` (for formatted) before the quotation marks that denote a string, and I included the computation within curly braces `{(75 - 32) * 5 / 9}`. The `f` character tells Python that the subsequent string has data or computations within any pair of curly braces."
      ]
    },
    {
      "cell_type": "markdown",
      "id": "b8081f54",
      "metadata": {
        "id": "b8081f54"
      },
      "source": [
        "## Determining how data is displayed in f-strings"
      ]
    },
    {
      "cell_type": "markdown",
      "id": "1ad2fbac",
      "metadata": {
        "id": "1ad2fbac"
      },
      "source": [
        "Let's go through another example. You can print Isabel's age as follows:\n"
      ]
    },
    {
      "cell_type": "code",
      "execution_count": null,
      "id": "11225cfb",
      "metadata": {
        "id": "11225cfb",
        "outputId": "f9b5f6d7-9a1f-4616-b933-4ba48facf013",
        "colab": {
          "base_uri": "https://localhost:8080/"
        }
      },
      "outputs": [
        {
          "output_type": "stream",
          "name": "stdout",
          "text": [
            "Isabel is 28 years old.\n"
          ]
        }
      ],
      "source": [
        "print(\"Isabel is 28 years old.\")"
      ]
    },
    {
      "cell_type": "code",
      "execution_count": null,
      "id": "3fb5fdb4",
      "metadata": {
        "id": "3fb5fdb4",
        "outputId": "9d4666a7-1a38-4da5-eb69-3e388332d831",
        "colab": {
          "base_uri": "https://localhost:8080/"
        }
      },
      "outputs": [
        {
          "output_type": "stream",
          "name": "stdout",
          "text": [
            "Isabel is 28/7 dog years old.\n"
          ]
        }
      ],
      "source": [
        "print(\"Isabel is 28/7 dog years old.\")"
      ]
    },
    {
      "cell_type": "markdown",
      "id": "aec3622b",
      "metadata": {
        "id": "aec3622b"
      },
      "source": [
        "Instead, you would use an f-string that includes the dog age equivalency computation as in the temperature conversion example."
      ]
    },
    {
      "cell_type": "code",
      "execution_count": null,
      "id": "8b166959",
      "metadata": {
        "id": "8b166959",
        "outputId": "72d9d0a1-2167-4dcb-9608-4a882218d766",
        "colab": {
          "base_uri": "https://localhost:8080/"
        }
      },
      "outputs": [
        {
          "output_type": "stream",
          "name": "stdout",
          "text": [
            "Isabel is 4.0 dog years old.\n"
          ]
        }
      ],
      "source": [
        "print(f\"Isabel is {28/7} dog years old.\")"
      ]
    },
    {
      "cell_type": "markdown",
      "id": "8a177221",
      "metadata": {
        "id": "8a177221"
      },
      "source": [
        "Now, you see that the last print statement did work, but it displayed the number with one decimal place. What if you wanted to display a whole number, which is much more natural when speaking about ages? You can use the chatbot to answer that question. Feel free to copy and paste the prompt provided below or use your own, using it as a guideline:\n",
        "\n",
        "<p style=\"background-color:#F5C780; padding:15px\"> 🤖 <b>Use the Chatbot</b>: Modify this code to print the answer without any characters after the decimal place: print(f\"Isabel's dog age is {28/7}.\")  \n",
        "</p>\n"
      ]
    },
    {
      "cell_type": "code",
      "source": [
        "# prompt: Modify  code at [6] to print the answer without any characters after the decimal place: print(f\"Isabel's dog age is {28/7}.\")\n",
        "\n",
        "print(f\"Isabel's dog age is {int(28/7)}.\")"
      ],
      "metadata": {
        "id": "vfgzqfoy3WQ0",
        "outputId": "132ec28d-d770-4ee3-8e6c-534084b26372",
        "colab": {
          "base_uri": "https://localhost:8080/"
        }
      },
      "id": "vfgzqfoy3WQ0",
      "execution_count": 4,
      "outputs": [
        {
          "output_type": "stream",
          "name": "stdout",
          "text": [
            "Isabel's dog age is 4.\n"
          ]
        }
      ]
    },
    {
      "cell_type": "markdown",
      "id": "60469567",
      "metadata": {
        "id": "60469567"
      },
      "source": [
        "If you used that prompt, or another similar one, you would have gotten the code provided below."
      ]
    },
    {
      "cell_type": "code",
      "execution_count": 5,
      "id": "c8cb9777",
      "metadata": {
        "id": "c8cb9777",
        "outputId": "518bae33-14dd-473d-a911-e0859dd04092",
        "colab": {
          "base_uri": "https://localhost:8080/"
        }
      },
      "outputs": [
        {
          "output_type": "stream",
          "name": "stdout",
          "text": [
            "Isabel is 4 dog years old.\n"
          ]
        }
      ],
      "source": [
        "print(f\"Isabel is {28/7:.0f} dog years old.\")"
      ]
    },
    {
      "cell_type": "markdown",
      "id": "b8f96a44",
      "metadata": {
        "id": "b8f96a44"
      },
      "source": [
        "In `f\"{28/7:.0f}\"`, the `:.0f` part tells Python to display the result of `28/7` without any decimal places. You don’t need to worry too much about the details, but the `f` in `:.0f` indicates that the number is a floating-point number and should be formatted accordingly. This means it will be rounded to the nearest whole number and displayed without any decimal part."
      ]
    },
    {
      "cell_type": "markdown",
      "id": "8b16c40d",
      "metadata": {
        "id": "8b16c40d"
      },
      "source": [
        "## Multi-line f-strings"
      ]
    },
    {
      "cell_type": "markdown",
      "id": "177387db",
      "metadata": {
        "id": "177387db"
      },
      "source": [
        "So far, you have worked with strings that have a relatively small length. For lengthy strings, you will use multi-line strings, which are easier to read in a code editor.\n",
        "\n",
        "The following multi-line f-string includes a description of how Americans use measurements in units that are not in the metric system. It displays the equivalent milliliters (ml) for 8 fluid ounces of milk and the equivalent fluid ounces to 100 ml of water."
      ]
    },
    {
      "cell_type": "code",
      "execution_count": 6,
      "id": "01f5be22",
      "metadata": {
        "id": "01f5be22",
        "outputId": "027977fe-6a4a-4c39-918d-26e8ceec86dc",
        "colab": {
          "base_uri": "https://localhost:8080/"
        }
      },
      "outputs": [
        {
          "output_type": "stream",
          "name": "stdout",
          "text": [
            "\n",
            "    Most countries use the metric system for recipe measurement,\n",
            "    but American bakers use a different system. For example, they use\n",
            "    fluid ounces to measure liquids instead of milliliters (ml).\n",
            "\n",
            "    So you need to convert recipe units to your local measuring system!\n",
            "\n",
            "    For example, 8 fluid ounces of milk is 236.588 ml.\n",
            "    And 100ml of water is 3.381405650328842 fluid ounces.\n",
            "\n"
          ]
        }
      ],
      "source": [
        "print(f\"\"\"\n",
        "    Most countries use the metric system for recipe measurement,\n",
        "    but American bakers use a different system. For example, they use\n",
        "    fluid ounces to measure liquids instead of milliliters (ml).\n",
        "\n",
        "    So you need to convert recipe units to your local measuring system!\n",
        "\n",
        "    For example, 8 fluid ounces of milk is {8 * 29.5735} ml.\n",
        "    And 100ml of water is {100 / 29.5735} fluid ounces.\n",
        "\"\"\")"
      ]
    },
    {
      "cell_type": "markdown",
      "id": "acc8ec4c",
      "metadata": {
        "id": "acc8ec4c"
      },
      "source": [
        "As you see there, you have to use triple quotes `\"\"\"` instead of single quotes `\"` for multi-line strings, and you have multiple lines with text and computations; but besides that, everything works pretty much the same way."
      ]
    },
    {
      "cell_type": "markdown",
      "id": "65bf114b",
      "metadata": {
        "id": "65bf114b"
      },
      "source": [
        "You may have noticed that the way you are using f-strings right now is not that easy to read. All those numbers inside the curly braces don't let you see at a glance what the output is going to be, and if you have lots of calculations, it can be distracting.\n",
        "\n",
        "In the next lesson, you'll see how to make your code easier to read, more flexible and reusable at the same time."
      ]
    },
    {
      "cell_type": "markdown",
      "id": "630c7ed6",
      "metadata": {
        "id": "630c7ed6"
      },
      "source": [
        "## Extra practice\n",
        "\n",
        "Try the exercises below to practice the concepts from this lesson. Read the comments in each cell with the instructions for each exercise.\n",
        "\n",
        "<b>Feel free to use the chatbot if you need help.</b>"
      ]
    },
    {
      "cell_type": "code",
      "execution_count": 7,
      "id": "98b11e54",
      "metadata": {
        "id": "98b11e54",
        "outputId": "7a21fcff-e1f4-47f6-b214-00030f40dad6",
        "colab": {
          "base_uri": "https://localhost:8080/",
          "height": 110
        }
      },
      "outputs": [
        {
          "output_type": "error",
          "ename": "SyntaxError",
          "evalue": "f-string: empty expression not allowed (<ipython-input-7-1f4fb67ae205>, line 2)",
          "traceback": [
            "\u001b[0;36m  File \u001b[0;32m\"<ipython-input-7-1f4fb67ae205>\"\u001b[0;36m, line \u001b[0;32m2\u001b[0m\n\u001b[0;31m    print(f\"I am {} years old.\")\u001b[0m\n\u001b[0m                               ^\u001b[0m\n\u001b[0;31mSyntaxError\u001b[0m\u001b[0;31m:\u001b[0m f-string: empty expression not allowed\n"
          ]
        }
      ],
      "source": [
        "# Modify the code to print your age\n",
        "print(f\"I am {} years old.\")"
      ]
    },
    {
      "cell_type": "code",
      "execution_count": 8,
      "id": "e815ac9d",
      "metadata": {
        "id": "e815ac9d",
        "outputId": "a7fc1c02-15ce-449b-c920-b129109cbfa9",
        "colab": {
          "base_uri": "https://localhost:8080/",
          "height": 110
        }
      },
      "outputs": [
        {
          "output_type": "error",
          "ename": "SyntaxError",
          "evalue": "f-string: expecting '}' (<ipython-input-8-03fef3b3a50b>, line 2)",
          "traceback": [
            "\u001b[0;36m  File \u001b[0;32m\"<ipython-input-8-03fef3b3a50b>\"\u001b[0;36m, line \u001b[0;32m2\u001b[0m\n\u001b[0;31m    print(f\"There are {365/7 weeks in a year\")\u001b[0m\n\u001b[0m                                             ^\u001b[0m\n\u001b[0;31mSyntaxError\u001b[0m\u001b[0;31m:\u001b[0m f-string: expecting '}'\n"
          ]
        }
      ],
      "source": [
        "# Fix this code\n",
        "print(f\"There are {365/7 weeks in a year\")"
      ]
    },
    {
      "cell_type": "code",
      "execution_count": 9,
      "id": "1bddecfc",
      "metadata": {
        "id": "1bddecfc",
        "outputId": "e773e1e5-10b7-4668-98bb-4c3fd78487f7",
        "colab": {
          "base_uri": "https://localhost:8080/",
          "height": 110
        }
      },
      "outputs": [
        {
          "output_type": "error",
          "ename": "SyntaxError",
          "evalue": "f-string: empty expression not allowed (<ipython-input-9-cdf959e605b8>, line 2)",
          "traceback": [
            "\u001b[0;36m  File \u001b[0;32m\"<ipython-input-9-cdf959e605b8>\"\u001b[0;36m, line \u001b[0;32m2\u001b[0m\n\u001b[0;31m    print(f\"The area of a square with side 5 cm is {} cm squared.\")\u001b[0m\n\u001b[0m                                                                  ^\u001b[0m\n\u001b[0;31mSyntaxError\u001b[0m\u001b[0;31m:\u001b[0m f-string: empty expression not allowed\n"
          ]
        }
      ],
      "source": [
        "# Complete the code\n",
        "print(f\"The area of a square with side 5 cm is {} cm squared.\")"
      ]
    },
    {
      "cell_type": "code",
      "execution_count": 10,
      "id": "fcd07d9b",
      "metadata": {
        "id": "fcd07d9b",
        "outputId": "b1e084b2-7834-4299-ca56-8b683cb12909",
        "colab": {
          "base_uri": "https://localhost:8080/"
        }
      },
      "outputs": [
        {
          "output_type": "stream",
          "name": "stdout",
          "text": [
            "The house was a good size: 1200 square feet, or 111.4836 meters squared!\n"
          ]
        }
      ],
      "source": [
        "# Modify the code to display one decimal place\n",
        "print(f\"The house was a good size: 1200 square feet, or {1200 * 0.092903} meters squared!\")"
      ]
    }
  ],
  "metadata": {
    "kernelspec": {
      "display_name": "Python 3 (ipykernel)",
      "language": "python",
      "name": "python3"
    },
    "language_info": {
      "codemirror_mode": {
        "name": "ipython",
        "version": 3
      },
      "file_extension": ".py",
      "mimetype": "text/x-python",
      "name": "python",
      "nbconvert_exporter": "python",
      "pygments_lexer": "ipython3",
      "version": "3.9.19"
    },
    "colab": {
      "provenance": [],
      "include_colab_link": true
    }
  },
  "nbformat": 4,
  "nbformat_minor": 5
}