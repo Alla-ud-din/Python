{
  "cells": [
    {
      "cell_type": "markdown",
      "metadata": {
        "id": "view-in-github",
        "colab_type": "text"
      },
      "source": [
        "<a href=\"https://colab.research.google.com/github/Alla-ud-din/Python/blob/main/python_lectures/course1_basics/Lesson_10/Lesson_10.ipynb\" target=\"_parent\"><img src=\"https://colab.research.google.com/assets/colab-badge.svg\" alt=\"Open In Colab\"/></a>"
      ]
    },
    {
      "cell_type": "markdown",
      "id": "de660b8e",
      "metadata": {
        "id": "de660b8e"
      },
      "source": [
        "# Lesson 10: Functions - Actions on Data"
      ]
    },
    {
      "cell_type": "markdown",
      "id": "a3c720f4",
      "metadata": {
        "id": "a3c720f4"
      },
      "source": [
        "First, start by running the command below. This imports some functions, including the `print_llm_response` function you used before, from the `helper_functions` Python file."
      ]
    },
    {
      "cell_type": "markdown",
      "id": "d34927a8",
      "metadata": {
        "id": "d34927a8"
      },
      "source": [
        "### Download helper_function.py\n",
        "* pls set Secrets Variable for Gemini in Collab\n",
        "* `GEMINI_API_KEY`\n",
        "\n",
        "[Get API KEY From Google AI Studio](https://aistudio.google.com/app/apikey)"
      ]
    },
    {
      "cell_type": "code",
      "execution_count": 1,
      "id": "efc90708",
      "metadata": {
        "id": "efc90708",
        "outputId": "76d9ae98-7264-4c1c-b033-3fc5e81bd51a",
        "colab": {
          "base_uri": "https://localhost:8080/"
        }
      },
      "outputs": [
        {
          "output_type": "stream",
          "name": "stdout",
          "text": [
            "  % Total    % Received % Xferd  Average Speed   Time    Time     Time  Current\n",
            "                                 Dload  Upload   Total   Spent    Left  Speed\n",
            "\r  0     0    0     0    0     0      0      0 --:--:-- --:--:-- --:--:--     0\r100  3944  100  3944    0     0  15762      0 --:--:-- --:--:-- --:--:-- 15776\n"
          ]
        }
      ],
      "source": [
        "### Download helper_function.py\n",
        "# * Set Secrets Variable for Gemini\n",
        "# * `GEMINI_API_KEY`\n",
        "\n",
        "!curl -o helper_functions.py https://raw.githubusercontent.com/panaversity/learn-cloud-native-modern-ai-python/main/04_natural_language_programming/02_ai_python_for_beginners/course1_basics/Lesson_9/helper_functions.py"
      ]
    },
    {
      "cell_type": "code",
      "execution_count": 2,
      "id": "e7d9dd05",
      "metadata": {
        "id": "e7d9dd05"
      },
      "outputs": [],
      "source": [
        "from helper_functions import *"
      ]
    },
    {
      "cell_type": "markdown",
      "id": "a229ce91",
      "metadata": {
        "id": "a229ce91"
      },
      "source": [
        "In previous lessons, you have used the `print()` function to display values directly to the screen and the `print_llm_response()` function to use an LLM following the instruction you provide as a string. Below, you will print `\"¯\\_(ツ)_/¯\"` and ask the LLM about the capital of France."
      ]
    },
    {
      "cell_type": "code",
      "execution_count": 3,
      "id": "a753314f",
      "metadata": {
        "id": "a753314f",
        "outputId": "c9c678bd-ef23-49bb-9cf4-7947a2446ccf",
        "colab": {
          "base_uri": "https://localhost:8080/"
        }
      },
      "outputs": [
        {
          "output_type": "stream",
          "name": "stdout",
          "text": [
            "¯\\_(ツ)_/¯\n"
          ]
        }
      ],
      "source": [
        "print(\"¯\\_(ツ)_/¯\")"
      ]
    },
    {
      "cell_type": "code",
      "execution_count": 4,
      "id": "cf25d93a-1d9d-4ba8-bb54-6503acbb1930",
      "metadata": {
        "id": "cf25d93a-1d9d-4ba8-bb54-6503acbb1930",
        "outputId": "c2e0a233-ce80-424d-8698-5dce7c0e08fb",
        "colab": {
          "base_uri": "https://localhost:8080/",
          "height": 53
        }
      },
      "outputs": [
        {
          "output_type": "stream",
          "name": "stdout",
          "text": [
            "The capital of France is **Paris**. \n",
            "\n"
          ]
        }
      ],
      "source": [
        "print_llm_response(\"What is the capital of France?\")"
      ]
    },
    {
      "cell_type": "markdown",
      "id": "52ece8c0",
      "metadata": {
        "id": "52ece8c0"
      },
      "source": [
        "You have also used the `type` function, which gives you the type used in Python for a value or variable you provide. For instance, the type of 17 is `int` (for integer)."
      ]
    },
    {
      "cell_type": "code",
      "execution_count": 5,
      "id": "c81ad492",
      "metadata": {
        "id": "c81ad492",
        "outputId": "64e28711-9201-4a78-ce31-b27d2cbb5817",
        "colab": {
          "base_uri": "https://localhost:8080/"
        }
      },
      "outputs": [
        {
          "output_type": "execute_result",
          "data": {
            "text/plain": [
              "int"
            ]
          },
          "metadata": {},
          "execution_count": 5
        }
      ],
      "source": [
        "type(17)"
      ]
    },
    {
      "cell_type": "markdown",
      "id": "df1e3c22",
      "metadata": {
        "id": "df1e3c22"
      },
      "source": [
        "In this lesson, you will see more function examples and explore more deeply how functions work."
      ]
    },
    {
      "cell_type": "markdown",
      "id": "17034de4",
      "metadata": {
        "id": "17034de4"
      },
      "source": [
        "## Functions to count, to round, and to do much more"
      ]
    },
    {
      "cell_type": "markdown",
      "id": "76aa246f",
      "metadata": {
        "id": "76aa246f"
      },
      "source": [
        "There are many functions in Python that you can use straight out of the box. For instance, the `len()` function counts the characters in a string. So when you run the code below, you will display (using `print()`) the result of counting (with `len()`) the number of characters in the string `\"Hello World!\"`."
      ]
    },
    {
      "cell_type": "code",
      "execution_count": 6,
      "id": "05f09a2e",
      "metadata": {
        "id": "05f09a2e",
        "outputId": "2a269c54-394f-44d6-eca9-571cdcc5d463",
        "colab": {
          "base_uri": "https://localhost:8080/"
        }
      },
      "outputs": [
        {
          "output_type": "stream",
          "name": "stdout",
          "text": [
            "12\n"
          ]
        }
      ],
      "source": [
        "print( len(\"Hello World!\") )"
      ]
    },
    {
      "cell_type": "markdown",
      "id": "94a9d309",
      "metadata": {
        "id": "94a9d309"
      },
      "source": [
        "You can save the result from a function using variables in a very similar way to what you have already explored in previous lessons. Below, you save the result from `len(\"Hello World!\")` to the variable `string_length`."
      ]
    },
    {
      "cell_type": "code",
      "execution_count": 8,
      "id": "c4690998",
      "metadata": {
        "id": "c4690998",
        "outputId": "c6fe800b-5373-42dc-c3a2-8ba1b4342796",
        "colab": {
          "base_uri": "https://localhost:8080/"
        }
      },
      "outputs": [
        {
          "output_type": "stream",
          "name": "stdout",
          "text": [
            "12\n"
          ]
        }
      ],
      "source": [
        "string_length = len(\"Hello World!\")\n",
        "print(string_length)"
      ]
    },
    {
      "cell_type": "markdown",
      "id": "b0987e9f",
      "metadata": {
        "id": "b0987e9f"
      },
      "source": [
        "As another example, you can use `round()` to take a floating point number and round it to the nearest integer. Below, you use `print()` to display the result of rounding (with `round()`) the number `42.17`."
      ]
    },
    {
      "cell_type": "code",
      "execution_count": 16,
      "id": "ce418e1a",
      "metadata": {
        "id": "ce418e1a",
        "outputId": "144ff542-e006-4c17-cd69-26d1f826ad0f",
        "colab": {
          "base_uri": "https://localhost:8080/"
        }
      },
      "outputs": [
        {
          "output_type": "stream",
          "name": "stdout",
          "text": [
            "42\n"
          ]
        }
      ],
      "source": [
        "print(round(42.17))"
      ]
    },
    {
      "cell_type": "code",
      "source": [
        "24/7"
      ],
      "metadata": {
        "id": "02SfPcJqZFj_",
        "outputId": "c4955181-4d04-4b2d-ba27-726b3ac76a0b",
        "colab": {
          "base_uri": "https://localhost:8080/"
        }
      },
      "id": "02SfPcJqZFj_",
      "execution_count": 17,
      "outputs": [
        {
          "output_type": "execute_result",
          "data": {
            "text/plain": [
              "3.4285714285714284"
            ]
          },
          "metadata": {},
          "execution_count": 17
        }
      ]
    },
    {
      "cell_type": "code",
      "source": [
        "round(24/7)"
      ],
      "metadata": {
        "id": "fTxdpg45ZMaA",
        "outputId": "a264bd11-62e9-4f87-f981-9d68d4444893",
        "colab": {
          "base_uri": "https://localhost:8080/"
        }
      },
      "id": "fTxdpg45ZMaA",
      "execution_count": 18,
      "outputs": [
        {
          "output_type": "execute_result",
          "data": {
            "text/plain": [
              "3"
            ]
          },
          "metadata": {},
          "execution_count": 18
        }
      ]
    },
    {
      "cell_type": "code",
      "source": [
        "# Round answer to 5 decimal places\n",
        "round(24/7, 5)"
      ],
      "metadata": {
        "id": "AS4XFXigZP_b",
        "outputId": "88a121dc-9577-4977-9a81-33665930f807",
        "colab": {
          "base_uri": "https://localhost:8080/"
        }
      },
      "id": "AS4XFXigZP_b",
      "execution_count": 20,
      "outputs": [
        {
          "output_type": "execute_result",
          "data": {
            "text/plain": [
              "3.42857"
            ]
          },
          "metadata": {},
          "execution_count": 20
        }
      ]
    },
    {
      "cell_type": "markdown",
      "id": "783e327e",
      "metadata": {
        "id": "783e327e"
      },
      "source": [
        "There are many functions in Python, and you don't have to memorize them all. If you ever need a function to perform a specific task, you can ask the chatbot. Try it now with the suggested prompt here or try your own.\n",
        "\n",
        "<p style=\"background-color:#F5C780; padding:15px\"> 🤖 <b>Use the Chatbot</b>: How can I find the length of a string?\n",
        "</p>"
      ]
    },
    {
      "cell_type": "markdown",
      "id": "90b0fdc4-e01f-425b-af70-755ee52334f2",
      "metadata": {
        "id": "90b0fdc4-e01f-425b-af70-755ee52334f2"
      },
      "source": [
        "## Using functions in AI programs"
      ]
    },
    {
      "cell_type": "markdown",
      "id": "1b0dee8d-14f8-4078-bbc1-ed3e8aafce86",
      "metadata": {
        "id": "1b0dee8d-14f8-4078-bbc1-ed3e8aafce86"
      },
      "source": [
        "Functions can be used alongside variables in AI programs. In the previous lesson, you saw how to create custom instructions (or prompts) for an LLM using variables. In the cell below, you will use variables and the `round()` function to create a prompt that you will use for an LLM with the `get_llm_response()` function. The `get_llm_response()` function is very similar to `print_llm_response()` (which you used before); the main difference is that you get a string as a result instead of just displaying the LLM response. This way, you can store the LLM response in the variable `response`."
      ]
    },
    {
      "cell_type": "code",
      "execution_count": 9,
      "id": "03b730a6",
      "metadata": {
        "id": "03b730a6",
        "outputId": "e4377849-c2cd-4c24-fe25-930af2ba8585",
        "colab": {
          "base_uri": "https://localhost:8080/",
          "height": 71
        }
      },
      "outputs": [
        {
          "output_type": "stream",
          "name": "stdout",
          "text": [
            "Tommy's got five spuds, a farmer's delight,\n",
            "A feast for the hungry, a culinary sight. \n",
            "\n"
          ]
        }
      ],
      "source": [
        "name : str = \"Tommy\"\n",
        "potatoes : float = 4.75\n",
        "prompt : str = f\"\"\"Write a couplet about my friend {name} who has about {round(potatoes)} potatoes\"\"\"\n",
        "response = get_llm_response(prompt)\n",
        "print(response)"
      ]
    },
    {
      "cell_type": "markdown",
      "id": "25fc5429",
      "metadata": {
        "id": "25fc5429"
      },
      "source": [
        "## Extra practice\n",
        "\n",
        "Try the exercises below to practice the concepts from this lesson. Read the comments in each cell with the instructions for each exercise.\n",
        "\n",
        "<b>Feel free to use the chatbot if you need help.</b>"
      ]
    },
    {
      "cell_type": "code",
      "execution_count": null,
      "id": "5c38d622",
      "metadata": {
        "id": "5c38d622"
      },
      "outputs": [],
      "source": [
        "# Enter one of your favorite numbers. Multiply the result by 10 and save it to a variable called 'lucky_number'.\n",
        "# Print a message saying \"Your lucky number is [lucky_number]!\"\n",
        "\n",
        "lucky_number =\n",
        "print(f\"Your lucky number is {}!\")"
      ]
    },
    {
      "cell_type": "code",
      "source": [
        "# Enter one of your favorite numbers. Multiply the result by 10 and save it to a variable called 'lucky_number'.\n",
        "# Print a message saying \"Your lucky number is [lucky_number]!\"\n",
        "\n",
        "lucky_number = 9\n",
        "print(f\"Your lucky number is {lucky_number}!\")"
      ],
      "metadata": {
        "id": "dbBnjmtrWaWQ",
        "outputId": "d4b802f9-05c5-4aa0-f61d-f76dbe96db5b",
        "colab": {
          "base_uri": "https://localhost:8080/"
        }
      },
      "id": "dbBnjmtrWaWQ",
      "execution_count": 10,
      "outputs": [
        {
          "output_type": "stream",
          "name": "stdout",
          "text": [
            "Your lucky number is 9!\n"
          ]
        }
      ]
    },
    {
      "cell_type": "code",
      "execution_count": null,
      "id": "c3f62ddb",
      "metadata": {
        "id": "c3f62ddb"
      },
      "outputs": [],
      "source": [
        "# Use print_llm_response() to print a poem with the specified number of lines. Use the\n",
        "# prompt variable to save your prompt before calling print_llm_response()\n",
        "\n",
        "number_of_lines =\n",
        "prompt =\n",
        "print_llm_response()"
      ]
    },
    {
      "cell_type": "code",
      "source": [
        "# Use print_llm_response() to print a poem with the specified number of lines. Use the\n",
        "# prompt variable to save your prompt before calling print_llm_response()\n",
        "\n",
        "number_of_lines = 4\n",
        "prompt = \"Write a poem\"\n",
        "print_llm_response(f\"{prompt} of {number_of_lines}\")"
      ],
      "metadata": {
        "id": "0Z0J8c8yWjY6",
        "outputId": "18bdead5-d7ac-48e0-ca84-442b1a49a366",
        "colab": {
          "base_uri": "https://localhost:8080/",
          "height": 108
        }
      },
      "id": "0Z0J8c8yWjY6",
      "execution_count": 14,
      "outputs": [
        {
          "output_type": "stream",
          "name": "stdout",
          "text": [
            "The wind whispers secrets,\n",
            "Through leaves of emerald green,\n",
            "A song of the forest,\n",
            "A world unseen. \n",
            "\n"
          ]
        }
      ]
    },
    {
      "cell_type": "code",
      "execution_count": null,
      "id": "653e6a72",
      "metadata": {
        "id": "653e6a72"
      },
      "outputs": [],
      "source": [
        "# Repeat exercise 2, this time using the function get_llm_response(), then print() to print it. This function asks\n",
        "# the LLM for a response, just like print_llm_response, but does not print it. You'll need to save the response to\n",
        "# a variable, then print it out separately.\n",
        "\n",
        "number_of_lines =\n",
        "prompt =\n",
        "response =\n",
        "print()"
      ]
    },
    {
      "cell_type": "code",
      "source": [
        "# Repeat exercise 2, this time using the function get_llm_response(), then print() to print it. This function asks\n",
        "# the LLM for a response, just like print_llm_response, but does not print it. You'll need to save the response to\n",
        "# a variable, then print it out separately.\n",
        "\n",
        "number_of_lines = 4\n",
        "prompt = \"Write a poem\"\n",
        "response = print_llm_response(f\"{prompt} of {number_of_lines}\")\n",
        "print(response)"
      ],
      "metadata": {
        "id": "IY7aXegLXHp5",
        "outputId": "0ce58bf9-3d8e-4420-c345-deab661016f7",
        "colab": {
          "base_uri": "https://localhost:8080/",
          "height": 126
        }
      },
      "id": "IY7aXegLXHp5",
      "execution_count": 15,
      "outputs": [
        {
          "output_type": "stream",
          "name": "stdout",
          "text": [
            "The sun dips low, a fiery kiss,\n",
            "Across the sky, a painted bliss.\n",
            "The world grows still, in hushed embrace,\n",
            "And night descends, with moonlit grace. \n",
            "\n",
            "None\n"
          ]
        }
      ]
    }
  ],
  "metadata": {
    "kernelspec": {
      "display_name": "Python 3 (ipykernel)",
      "language": "python",
      "name": "python3"
    },
    "language_info": {
      "codemirror_mode": {
        "name": "ipython",
        "version": 3
      },
      "file_extension": ".py",
      "mimetype": "text/x-python",
      "name": "python",
      "nbconvert_exporter": "python",
      "pygments_lexer": "ipython3",
      "version": "3.9.19"
    },
    "colab": {
      "provenance": [],
      "include_colab_link": true
    }
  },
  "nbformat": 4,
  "nbformat_minor": 5
}