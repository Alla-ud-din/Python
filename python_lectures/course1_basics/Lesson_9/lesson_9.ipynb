{
  "cells": [
    {
      "cell_type": "markdown",
      "metadata": {
        "id": "view-in-github",
        "colab_type": "text"
      },
      "source": [
        "<a href=\"https://colab.research.google.com/github/Alla-ud-din/Python/blob/main/python_lectures/course1_basics/Lesson_9/lesson_9.ipynb\" target=\"_parent\"><img src=\"https://colab.research.google.com/assets/colab-badge.svg\" alt=\"Open In Colab\"/></a>"
      ]
    },
    {
      "cell_type": "markdown",
      "id": "817221c9",
      "metadata": {
        "id": "817221c9"
      },
      "source": [
        "# L9: Building LLM prompts with variables"
      ]
    },
    {
      "cell_type": "markdown",
      "id": "36029c06",
      "metadata": {
        "id": "36029c06"
      },
      "source": [
        "In the next cell, you will import the function `print_llm_response` that uses an LLM with an instruction that you provide as a string and displays the result."
      ]
    },
    {
      "cell_type": "code",
      "source": [
        "%%capture --no-stderr\n",
        "%pip install -U langchain_google_genai"
      ],
      "metadata": {
        "id": "DtHKYD6MyKWp"
      },
      "id": "DtHKYD6MyKWp",
      "execution_count": 3,
      "outputs": []
    },
    {
      "cell_type": "code",
      "source": [
        "from google.colab import userdata\n",
        "GEMINI_API_KEY = userdata.get('GEMINI_API_KEY')"
      ],
      "metadata": {
        "id": "cjJVYH6DyUvs"
      },
      "id": "cjJVYH6DyUvs",
      "execution_count": 4,
      "outputs": []
    },
    {
      "cell_type": "code",
      "source": [
        "from langchain_google_genai import ChatGoogleGenerativeAI\n",
        "\n",
        "llm = ChatGoogleGenerativeAI(\n",
        "    model=\"gemini-1.5-flash\",\n",
        "    max_retries=2,\n",
        "    api_key=GEMINI_API_KEY\n",
        ")"
      ],
      "metadata": {
        "id": "ADZrT-5GyhWt"
      },
      "id": "ADZrT-5GyhWt",
      "execution_count": 5,
      "outputs": []
    },
    {
      "cell_type": "markdown",
      "id": "Y-ATE80jhRkX",
      "metadata": {
        "id": "Y-ATE80jhRkX"
      },
      "source": [
        "### Download helper_function.py\n",
        "* pls set Secrets Variable for Gemini in Collab\n",
        "* `GEMINI_API_KEY`\n",
        "\n",
        "[Get API KEY From Google AI Studio](https://aistudio.google.com/app/apikey)"
      ]
    },
    {
      "cell_type": "code",
      "execution_count": null,
      "id": "XKKbMtxtg693",
      "metadata": {
        "colab": {
          "base_uri": "https://localhost:8080/"
        },
        "id": "XKKbMtxtg693",
        "outputId": "b14fd39e-f8de-4f5a-b104-2fc3c30da149"
      },
      "outputs": [
        {
          "name": "stdout",
          "output_type": "stream",
          "text": [
            "  % Total    % Received % Xferd  Average Speed   Time    Time     Time  Current\n",
            "                                 Dload  Upload   Total   Spent    Left  Speed\n",
            "\r  0     0    0     0    0     0      0      0 --:--:-- --:--:-- --:--:--     0\r100  3944  100  3944    0     0  40276      0 --:--:-- --:--:-- --:--:-- 40659\n"
          ]
        }
      ],
      "source": [
        "# !curl -o helper_functions.py https://raw.githubusercontent.com/panaversity/learn-cloud-native-modern-ai-python/main/04_natural_language_programming/02_ai_python_for_beginners/course1_basics/Lesson_9/helper_functions.py"
      ]
    },
    {
      "cell_type": "code",
      "execution_count": 6,
      "id": "cc237f34",
      "metadata": {
        "id": "cc237f34"
      },
      "outputs": [],
      "source": [
        "# from helper_functions import print_llm_response"
      ]
    },
    {
      "cell_type": "markdown",
      "id": "3074c1f9",
      "metadata": {
        "id": "3074c1f9"
      },
      "source": [
        "Basically, you can use that function as if you were asking a chatbot. You just need to provide your instructions as a string. For instance, you can ask \"What is the capital of France?\" using the following code:"
      ]
    },
    {
      "cell_type": "code",
      "execution_count": 8,
      "id": "afcf6686",
      "metadata": {
        "colab": {
          "base_uri": "https://localhost:8080/"
        },
        "id": "afcf6686",
        "outputId": "d1a05817-ca0c-4dc6-c104-d6acd9014ce7"
      },
      "outputs": [
        {
          "output_type": "execute_result",
          "data": {
            "text/plain": [
              "AIMessage(content='Paris', additional_kwargs={}, response_metadata={'prompt_feedback': {'block_reason': 0, 'safety_ratings': []}, 'finish_reason': 'STOP', 'safety_ratings': []}, id='run-6670e396-60ee-4638-91e4-557b67a8e8e7-0', usage_metadata={'input_tokens': 7, 'output_tokens': 2, 'total_tokens': 9, 'input_token_details': {'cache_read': 0}})"
            ]
          },
          "metadata": {},
          "execution_count": 8
        }
      ],
      "source": [
        "llm.invoke(\"What is the capital of France?\")"
      ]
    },
    {
      "cell_type": "markdown",
      "id": "7e164d69",
      "metadata": {
        "id": "7e164d69"
      },
      "source": [
        "Let's ask the LLM for the lifestyle description for Otto Matic, whose name is stored in `name`, if he were a `dog_age` years old dog."
      ]
    },
    {
      "cell_type": "code",
      "execution_count": 9,
      "id": "196644ca",
      "metadata": {
        "id": "196644ca"
      },
      "outputs": [],
      "source": [
        "name : str = \"Otto Matic\"\n",
        "dog_age : float  = 21/7"
      ]
    },
    {
      "cell_type": "code",
      "execution_count": 10,
      "id": "ad18f441",
      "metadata": {
        "colab": {
          "base_uri": "https://localhost:8080/"
        },
        "id": "ad18f441",
        "outputId": "036b2288-6db7-4de4-ca20-58e1e52cca64"
      },
      "outputs": [
        {
          "output_type": "execute_result",
          "data": {
            "text/plain": [
              "AIMessage(content=\"If Otto Matic were a dog, at 3.0 years old he'd be considered a young adult.  This is a prime time in a dog's life, often analogous to a human's late twenties or early thirties.\\n\\n**Energy Level:** Otto would likely still possess a significant amount of energy, though perhaps not the boundless exuberance of a puppy. His energy would be more focused and sustained, capable of longer walks, more complex games, and sustained engagement in activities.  He might still have bursts of playful energy, but also periods of calm relaxation.\\n\\n**Interests:**  Depending on his breed and individual personality, Otto's interests at this age would be solidifying.  He might have developed a strong preference for specific toys or games (fetch, tug-of-war, chasing squirrels).  He might be highly motivated by food rewards or praise.  Socialization would be important; he'd likely enjoy playing with other dogs and interacting with people.  He might also be developing more independent interests, exploring his environment on his own with a bit more confidence.\\n\\n**Behavior:** Otto's behavior would be more predictable and less erratic than a puppy's.  He would likely have mastered basic obedience commands and understand household routines.  However, he might still exhibit some adolescent behaviors like occasional stubbornness or testing boundaries.  He'd be learning to self-regulate his emotions better, but might still get excited or frustrated easily.  Consistent training and positive reinforcement would be key to maintaining good behavior.  He might also be starting to show signs of any potential breed-specific tendencies, such as herding instincts or guarding behaviors.  This is a crucial time for continued training and socialization to ensure he develops into a well-adjusted adult dog.\", additional_kwargs={}, response_metadata={'prompt_feedback': {'block_reason': 0, 'safety_ratings': []}, 'finish_reason': 'STOP', 'safety_ratings': []}, id='run-a8cc0f61-3892-492b-b84d-102c4fc5fc27-0', usage_metadata={'input_tokens': 47, 'output_tokens': 364, 'total_tokens': 411, 'input_token_details': {'cache_read': 0}})"
            ]
          },
          "metadata": {},
          "execution_count": 10
        }
      ],
      "source": [
        "llm.invoke(f\"\"\"If {name} were a dog, he would be {dog_age} years old.\n",
        "Describe what life stage that would be for a dog and what that might\n",
        "entail in terms of energy level, interests, and behavior.\"\"\")"
      ]
    },
    {
      "cell_type": "markdown",
      "id": "8349cb53",
      "metadata": {
        "id": "8349cb53"
      },
      "source": [
        "<b>You just used AI with your own variables!</b> You used an LLM with instructions that included variables you defined in this notebook.\n",
        "\n",
        "<b>Congratulations 🎉🎉🎉</b>"
      ]
    },
    {
      "cell_type": "markdown",
      "id": "51181411",
      "metadata": {
        "id": "51181411"
      },
      "source": [
        "## Variable names restrictions"
      ]
    },
    {
      "cell_type": "markdown",
      "id": "89d94522",
      "metadata": {
        "id": "89d94522"
      },
      "source": [
        "The following variable names also have some problems. Try to fix them yourself or use the help from the chatbot."
      ]
    },
    {
      "cell_type": "code",
      "execution_count": null,
      "id": "af96e951",
      "metadata": {
        "colab": {
          "base_uri": "https://localhost:8080/",
          "height": 108
        },
        "id": "af96e951",
        "outputId": "0c3e14f6-86a8-4452-90fb-2077cbc0f94f"
      },
      "outputs": [
        {
          "ename": "SyntaxError",
          "evalue": "unterminated string literal (detected at line 2) (<ipython-input-6-6ac4904789bd>, line 2)",
          "output_type": "error",
          "traceback": [
            "\u001b[0;36m  File \u001b[0;32m\"<ipython-input-6-6ac4904789bd>\"\u001b[0;36m, line \u001b[0;32m2\u001b[0m\n\u001b[0;31m    driver's vehicle = \"colorful, asymmetric dinosaur car\"\u001b[0m\n\u001b[0m          ^\u001b[0m\n\u001b[0;31mSyntaxError\u001b[0m\u001b[0;31m:\u001b[0m unterminated string literal (detected at line 2)\n"
          ]
        }
      ],
      "source": [
        "driver : str = \"unicorn\"\n",
        "driver's vehicle : str = \"colorful, asymmetric dinosaur car\"\n",
        "favorite planet : str = \"Pluto\n"
      ]
    },
    {
      "cell_type": "markdown",
      "id": "59a3a881",
      "metadata": {
        "id": "59a3a881"
      },
      "source": [
        "Now, update the next cell with any changes you made in the previous cell."
      ]
    },
    {
      "cell_type": "code",
      "execution_count": null,
      "id": "02b7e02c",
      "metadata": {
        "colab": {
          "base_uri": "https://localhost:8080/",
          "height": 108
        },
        "id": "02b7e02c",
        "outputId": "eacc9a7f-a212-4e2f-be6a-0af6ddd10f85"
      },
      "outputs": [
        {
          "ename": "SyntaxError",
          "evalue": "f-string: unterminated string (<ipython-input-8-943a03f55416>, line 2)",
          "output_type": "error",
          "traceback": [
            "\u001b[0;36m  File \u001b[0;32m\"<ipython-input-8-943a03f55416>\"\u001b[0;36m, line \u001b[0;32m2\u001b[0m\n\u001b[0;31m    a {driver's vehicle} for the {favorite planet} champion cup.\"\"\")\u001b[0m\n\u001b[0m                                                                   ^\u001b[0m\n\u001b[0;31mSyntaxError\u001b[0m\u001b[0;31m:\u001b[0m f-string: unterminated string\n"
          ]
        }
      ],
      "source": [
        "llm.invoke(f\"\"\"Write me a 300 word children's story about a {driver} racing\n",
        "a {driver's vehicle} for the {favorite planet} champion cup.\"\"\")"
      ]
    },
    {
      "cell_type": "markdown",
      "id": "98ec7de7",
      "metadata": {
        "id": "98ec7de7"
      },
      "source": [
        "## Extra practice\n",
        "\n",
        "Try the exercises below to practice the concepts from this lesson. Read the comments in each cell with the instructions for each exercise.\n",
        "\n",
        "<b>Feel free to use the chatbot if you need help.</b>"
      ]
    },
    {
      "cell_type": "code",
      "execution_count": null,
      "id": "9fb2bd26",
      "metadata": {
        "colab": {
          "base_uri": "https://localhost:8080/",
          "height": 108
        },
        "id": "9fb2bd26",
        "outputId": "0e78b88e-175f-4fff-e65f-2240f9bd2cc3"
      },
      "outputs": [
        {
          "ename": "SyntaxError",
          "evalue": "invalid decimal literal (<ipython-input-9-f0ea60fa9964>, line 2)",
          "output_type": "error",
          "traceback": [
            "\u001b[0;36m  File \u001b[0;32m\"<ipython-input-9-f0ea60fa9964>\"\u001b[0;36m, line \u001b[0;32m2\u001b[0m\n\u001b[0;31m    1favorite-book : str = \"1001 Ways to Wear a Hat\"\u001b[0m\n\u001b[0m    ^\u001b[0m\n\u001b[0;31mSyntaxError\u001b[0m\u001b[0;31m:\u001b[0m invalid decimal literal\n"
          ]
        }
      ],
      "source": [
        "# Fix this code\n",
        "1favorite-book : str = \"1001 Ways to Wear a Hat\"\n",
        "\"2002 Ways to Wear a Scarf\" = second_fav_book\n",
        "print(f\"My most favorite book is {1favorite-book}, but I also like {second_fav_book})"
      ]
    },
    {
      "cell_type": "code",
      "execution_count": 11,
      "id": "407023e6",
      "metadata": {
        "colab": {
          "base_uri": "https://localhost:8080/"
        },
        "id": "407023e6",
        "outputId": "d7d4c4a7-c149-4418-e42a-3b5ecfa87982"
      },
      "outputs": [
        {
          "output_type": "execute_result",
          "data": {
            "text/plain": [
              "AIMessage(content=\"Please provide me with the context or question you'd like me to answer. I need some information to help you.\", additional_kwargs={}, response_metadata={'prompt_feedback': {'block_reason': 0, 'safety_ratings': []}, 'finish_reason': 'STOP', 'safety_ratings': []}, id='run-505264bc-5269-42d0-9813-ed4171c21b38-0', usage_metadata={'input_tokens': 1, 'output_tokens': 25, 'total_tokens': 26, 'input_token_details': {'cache_read': 0}})"
            ]
          },
          "metadata": {},
          "execution_count": 11
        }
      ],
      "source": [
        "# Make variables for your favorite game, movie, and food.\n",
        "# Then use print_llm_response to ask the LLM to recommend you\n",
        "# a new song to listen to based on your likes.\n",
        "\n",
        "llm.invoke(f\"\"\"\n",
        "\n",
        "\"\"\")"
      ]
    },
    {
      "cell_type": "code",
      "execution_count": null,
      "id": "fr-mvndppVGH",
      "metadata": {
        "id": "fr-mvndppVGH"
      },
      "outputs": [],
      "source": []
    }
  ],
  "metadata": {
    "colab": {
      "provenance": [],
      "include_colab_link": true
    },
    "kernelspec": {
      "display_name": "Python 3 (ipykernel)",
      "language": "python",
      "name": "python3"
    },
    "language_info": {
      "codemirror_mode": {
        "name": "ipython",
        "version": 3
      },
      "file_extension": ".py",
      "mimetype": "text/x-python",
      "name": "python",
      "nbconvert_exporter": "python",
      "pygments_lexer": "ipython3",
      "version": "3.9.19"
    }
  },
  "nbformat": 4,
  "nbformat_minor": 5
}