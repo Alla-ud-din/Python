{
  "nbformat": 4,
  "nbformat_minor": 0,
  "metadata": {
    "colab": {
      "provenance": [],
      "gpuType": "T4",
      "include_colab_link": true
    },
    "kernelspec": {
      "name": "python3",
      "display_name": "Python 3"
    },
    "language_info": {
      "name": "python"
    },
    "accelerator": "GPU"
  },
  "cells": [
    {
      "cell_type": "markdown",
      "metadata": {
        "id": "view-in-github",
        "colab_type": "text"
      },
      "source": [
        "<a href=\"https://colab.research.google.com/github/Alla-ud-din/Python/blob/main/python_lectures/course2_automating_tasks/Lesson_7/Lesson_7.ipynb\" target=\"_parent\"><img src=\"https://colab.research.google.com/assets/colab-badge.svg\" alt=\"Open In Colab\"/></a>"
      ]
    },
    {
      "cell_type": "markdown",
      "source": [
        "## What is Execution Flow in Python?"
      ],
      "metadata": {
        "id": "ry-vqkNTRvxb"
      }
    },
    {
      "cell_type": "code",
      "source": [
        "# Program Runs Line By Line so 2nd line here gives an error and 3rd line never returns\n",
        "greet: str = \"Hello, Sir Qasim\"\n",
        "some_random_variable\n",
        "print(greet)"
      ],
      "metadata": {
        "colab": {
          "base_uri": "https://localhost:8080/",
          "height": 200
        },
        "id": "NVmFpovf9cSh",
        "outputId": "a977af68-c7bd-4d8a-93cd-bb6c311077c5"
      },
      "execution_count": 3,
      "outputs": [
        {
          "output_type": "error",
          "ename": "NameError",
          "evalue": "name 'some_random_variable' is not defined",
          "traceback": [
            "\u001b[0;31m---------------------------------------------------------------------------\u001b[0m",
            "\u001b[0;31mNameError\u001b[0m                                 Traceback (most recent call last)",
            "\u001b[0;32m<ipython-input-3-1eba7aea034c>\u001b[0m in \u001b[0;36m<cell line: 3>\u001b[0;34m()\u001b[0m\n\u001b[1;32m      1\u001b[0m \u001b[0;31m# Program Runs Line By Line so 2nd line here gives an error and 3rd line never returns\u001b[0m\u001b[0;34m\u001b[0m\u001b[0;34m\u001b[0m\u001b[0m\n\u001b[1;32m      2\u001b[0m \u001b[0mgreet\u001b[0m\u001b[0;34m:\u001b[0m \u001b[0mstr\u001b[0m \u001b[0;34m=\u001b[0m \u001b[0;34m\"Hello, Sir Qasim\"\u001b[0m\u001b[0;34m\u001b[0m\u001b[0;34m\u001b[0m\u001b[0m\n\u001b[0;32m----> 3\u001b[0;31m \u001b[0msome_random_variable\u001b[0m\u001b[0;34m\u001b[0m\u001b[0;34m\u001b[0m\u001b[0m\n\u001b[0m\u001b[1;32m      4\u001b[0m \u001b[0mprint\u001b[0m\u001b[0;34m(\u001b[0m\u001b[0mgreet\u001b[0m\u001b[0;34m)\u001b[0m\u001b[0;34m\u001b[0m\u001b[0;34m\u001b[0m\u001b[0m\n",
            "\u001b[0;31mNameError\u001b[0m: name 'some_random_variable' is not defined"
          ]
        }
      ]
    },
    {
      "cell_type": "code",
      "source": [
        "greet: str = \"Hello, Sir Qasim\"\n",
        "print(greet)"
      ],
      "metadata": {
        "colab": {
          "base_uri": "https://localhost:8080/"
        },
        "id": "GTP7Z5rgRrPD",
        "outputId": "627bff4a-a36e-42f1-d67d-c7683de5c9d4"
      },
      "execution_count": 36,
      "outputs": [
        {
          "output_type": "stream",
          "name": "stdout",
          "text": [
            "Hello, Sir Qasim\n"
          ]
        }
      ]
    },
    {
      "cell_type": "markdown",
      "source": [
        "## If Statements"
      ],
      "metadata": {
        "id": "a6DUB8fiRtBK"
      }
    },
    {
      "cell_type": "code",
      "execution_count": 37,
      "metadata": {
        "colab": {
          "base_uri": "https://localhost:8080/"
        },
        "id": "D-OJ4J7e3po3",
        "outputId": "3d44c1a8-c2d1-47ae-a90d-4b9d50b531f8"
      },
      "outputs": [
        {
          "output_type": "stream",
          "name": "stdout",
          "text": [
            "False, Sir Zia are Older than Sir Qasim\n"
          ]
        }
      ],
      "source": [
        "sir_zia_age: int = 23\n",
        "sir_qasim_age: int = 19\n",
        "\n",
        "# Who is Younger - Are Sir Zia Younger?\n",
        "\n",
        "if sir_zia_age < sir_qasim_age:\n",
        "  print(\"True, Sir Zia are Younger than Sir Qasim\", )\n",
        "elif sir_zia_age == sir_qasim_age:\n",
        "  print(\"Equal\")\n",
        "else:\n",
        "  print(\"False, Sir Zia are Older than Sir Qasim\")"
      ]
    },
    {
      "cell_type": "code",
      "source": [
        "# Option2: Comprehensive Style\n",
        "print(\"True, Indeed\") if sir_zia_age < sir_qasim_age else print(\"False\")"
      ],
      "metadata": {
        "colab": {
          "base_uri": "https://localhost:8080/"
        },
        "id": "YvqnTJop4--A",
        "outputId": "e73d80b6-85e2-423f-91c5-8c26f4b45b60"
      },
      "execution_count": 38,
      "outputs": [
        {
          "output_type": "stream",
          "name": "stdout",
          "text": [
            "False\n"
          ]
        }
      ]
    },
    {
      "cell_type": "markdown",
      "source": [
        "## Functions in Python"
      ],
      "metadata": {
        "id": "qiIpCh1WR7p7"
      }
    },
    {
      "cell_type": "code",
      "source": [
        "# Define a Simple Function\n",
        "def greet():\n",
        "  hello = \"Hello\"\n",
        "  return hello"
      ],
      "metadata": {
        "id": "5pYevAWHAKAC"
      },
      "execution_count": 39,
      "outputs": []
    },
    {
      "cell_type": "code",
      "source": [
        "answer = greet()\n",
        "print(answer, \"2ndPrint\")"
      ],
      "metadata": {
        "colab": {
          "base_uri": "https://localhost:8080/"
        },
        "id": "eINYj_iCAOcF",
        "outputId": "b68384ec-bf40-474b-f302-7b4eb7f434b6"
      },
      "execution_count": 40,
      "outputs": [
        {
          "output_type": "stream",
          "name": "stdout",
          "text": [
            "Hello 2ndPrint\n"
          ]
        }
      ]
    },
    {
      "cell_type": "code",
      "source": [
        "print(\"Learning Func\")"
      ],
      "metadata": {
        "colab": {
          "base_uri": "https://localhost:8080/"
        },
        "id": "DCt55nGsCcdN",
        "outputId": "5939c751-622c-40ee-ccd7-fdf4a440edaa"
      },
      "execution_count": 41,
      "outputs": [
        {
          "output_type": "stream",
          "name": "stdout",
          "text": [
            "Learning Func\n"
          ]
        }
      ]
    },
    {
      "cell_type": "code",
      "source": [
        "# Parameters\n",
        "def greet(name: str):\n",
        "  hello = f\"Hello {name}\"\n",
        "  return hello"
      ],
      "metadata": {
        "id": "e0dkCpTfCv4f"
      },
      "execution_count": 42,
      "outputs": []
    },
    {
      "cell_type": "code",
      "source": [
        "# Pass Arguments\n",
        "val1 = greet(\"Sir Ameen\")\n",
        "print(val1)\n",
        "print(greet(\"Sir Qasim\"))\n",
        "print(greet(\"Sir Zia\"))"
      ],
      "metadata": {
        "colab": {
          "base_uri": "https://localhost:8080/"
        },
        "id": "AFSbDbTuC8if",
        "outputId": "94f737cf-087f-4081-b917-00841b4412af"
      },
      "execution_count": 43,
      "outputs": [
        {
          "output_type": "stream",
          "name": "stdout",
          "text": [
            "Hello Sir Ameen\n",
            "Hello Sir Qasim\n",
            "Hello Sir Zia\n"
          ]
        }
      ]
    },
    {
      "cell_type": "code",
      "source": [
        "def add(x: int, y: int)-> int:\n",
        "  return x + y"
      ],
      "metadata": {
        "id": "EhFMni80EITT"
      },
      "execution_count": 44,
      "outputs": []
    },
    {
      "cell_type": "code",
      "source": [
        "add(2, 2)"
      ],
      "metadata": {
        "colab": {
          "base_uri": "https://localhost:8080/"
        },
        "id": "hW3WNw-OEQ4P",
        "outputId": "704f53a7-a753-4c7c-de15-5932a94160de"
      },
      "execution_count": 45,
      "outputs": [
        {
          "output_type": "execute_result",
          "data": {
            "text/plain": [
              "4"
            ]
          },
          "metadata": {},
          "execution_count": 45
        }
      ]
    },
    {
      "cell_type": "code",
      "source": [
        "# Add all Values Passed\n",
        "# *nums = Variable Positional Arguments\n",
        "def add_all(*nums: int) -> int:\n",
        "  return sum(nums)"
      ],
      "metadata": {
        "id": "FxkOtu9LElPl"
      },
      "execution_count": 46,
      "outputs": []
    },
    {
      "cell_type": "code",
      "source": [
        "add_all(3000, 4300, 5900)"
      ],
      "metadata": {
        "colab": {
          "base_uri": "https://localhost:8080/"
        },
        "id": "DnneZcXNErBl",
        "outputId": "1dbf4678-6aea-4294-8a0b-70d88350e81c"
      },
      "execution_count": 47,
      "outputs": [
        {
          "output_type": "execute_result",
          "data": {
            "text/plain": [
              "13200"
            ]
          },
          "metadata": {},
          "execution_count": 47
        }
      ]
    },
    {
      "cell_type": "code",
      "source": [
        "def apply_discount(price: int, discount: float = 10):\n",
        "  return price - (price * discount / 100)"
      ],
      "metadata": {
        "id": "jodmxhyNFygr"
      },
      "execution_count": 48,
      "outputs": []
    },
    {
      "cell_type": "code",
      "source": [
        "apply_discount(13200, 100)"
      ],
      "metadata": {
        "colab": {
          "base_uri": "https://localhost:8080/"
        },
        "id": "vcv1rs4fGB94",
        "outputId": "f1cbdca5-2a38-4ad6-8be5-a72523768f9b"
      },
      "execution_count": 49,
      "outputs": [
        {
          "output_type": "execute_result",
          "data": {
            "text/plain": [
              "0.0"
            ]
          },
          "metadata": {},
          "execution_count": 49
        }
      ]
    },
    {
      "cell_type": "markdown",
      "source": [
        "## Creating a Shopping Mall Checkout Price Finder Example"
      ],
      "metadata": {
        "id": "At3tGKo1SFDF"
      }
    },
    {
      "cell_type": "code",
      "source": [
        "# Total Discounted Price\n",
        "total_price = add_all(3000, 4300, 5900)\n",
        "discount_given = 50\n",
        "\n",
        "apply_discount(total_price, discount_given)"
      ],
      "metadata": {
        "colab": {
          "base_uri": "https://localhost:8080/"
        },
        "id": "oLzL4ljOGpwj",
        "outputId": "7e5f6d73-3940-4691-b816-c2555101de0e"
      },
      "execution_count": 50,
      "outputs": [
        {
          "output_type": "execute_result",
          "data": {
            "text/plain": [
              "6600.0"
            ]
          },
          "metadata": {},
          "execution_count": 50
        }
      ]
    },
    {
      "cell_type": "code",
      "source": [
        "def apply_discount(price: int):\n",
        "\n",
        "  discount: float = 0\n",
        "  print(\"Initial Discount\", discount)\n",
        "  if price <= 10000:\n",
        "    print(\"Block1\")\n",
        "    discount = 10\n",
        "  elif price <= 50000:\n",
        "    print(\"Block2\")\n",
        "    discount = 30\n",
        "  else:\n",
        "    print(\"Block3\")\n",
        "    discount = 50\n",
        "\n",
        "  print(\"Final Applicable Discount\", discount)\n",
        "  return price - (price * discount / 100)"
      ],
      "metadata": {
        "id": "RRwfwf4HHCZR"
      },
      "execution_count": 51,
      "outputs": []
    },
    {
      "cell_type": "code",
      "source": [
        "# Total Discounted Price\n",
        "total_price = add_all(300, 5900)\n",
        "apply_discount(total_price)"
      ],
      "metadata": {
        "colab": {
          "base_uri": "https://localhost:8080/"
        },
        "id": "HWaYSMmeIm2o",
        "outputId": "34c2ceb6-87f9-4ac4-df8f-da3868ab90be"
      },
      "execution_count": 52,
      "outputs": [
        {
          "output_type": "stream",
          "name": "stdout",
          "text": [
            "Initial Discount 0\n",
            "Block1\n",
            "Final Applicable Discount 10\n"
          ]
        },
        {
          "output_type": "execute_result",
          "data": {
            "text/plain": [
              "5580.0"
            ]
          },
          "metadata": {},
          "execution_count": 52
        }
      ]
    },
    {
      "cell_type": "code",
      "source": [
        "# Calculate Tax\n",
        "def calculate_tax(gross_total: int, tax: float = 17) -> float:\n",
        "  return gross_total + (gross_total * tax / 100)"
      ],
      "metadata": {
        "id": "Z0CYx4b9JJTF"
      },
      "execution_count": 53,
      "outputs": []
    },
    {
      "cell_type": "code",
      "source": [
        "calculate_tax(13200)"
      ],
      "metadata": {
        "colab": {
          "base_uri": "https://localhost:8080/"
        },
        "id": "a3rTon3AJVh8",
        "outputId": "e4eae86a-b462-4e65-c06c-e8362f87cc58"
      },
      "execution_count": 54,
      "outputs": [
        {
          "output_type": "execute_result",
          "data": {
            "text/plain": [
              "15444.0"
            ]
          },
          "metadata": {},
          "execution_count": 54
        }
      ]
    },
    {
      "cell_type": "code",
      "source": [
        "# Total Shopping Price\n",
        "# Apply Discount Based on Total Price\n",
        "# Apply GST\n",
        "\n",
        "total_price = add_all(30000, 4300, 5900)\n",
        "print(\"\\nTotal Price\", total_price)\n",
        "\n",
        "gross_total = apply_discount(total_price)\n",
        "print(\"\\nGross Total\", gross_total)\n",
        "\n",
        "net_total = calculate_tax(gross_total)\n",
        "print(\"\\nNet Total\", net_total)"
      ],
      "metadata": {
        "colab": {
          "base_uri": "https://localhost:8080/"
        },
        "id": "6ulVN9_vJalk",
        "outputId": "9a6877ef-7836-4ba1-fecd-8ec59d6f7cd9"
      },
      "execution_count": 55,
      "outputs": [
        {
          "output_type": "stream",
          "name": "stdout",
          "text": [
            "\n",
            "Total Price 40200\n",
            "Initial Discount 0\n",
            "Block2\n",
            "Final Applicable Discount 30\n",
            "\n",
            "Gross Total 28140.0\n",
            "\n",
            "Net Total 32923.8\n"
          ]
        }
      ]
    },
    {
      "cell_type": "code",
      "source": [
        "def add_all(*nums: int) -> int:\n",
        "  return sum(nums)\n",
        "\n",
        "def checkout(*nums: int) -> int:\n",
        "  total_price = add_all(*nums)\n",
        "\n",
        "  gross_total = apply_discount(total_price)\n",
        "\n",
        "  net_total = calculate_tax(gross_total)\n",
        "\n",
        "  return net_total"
      ],
      "metadata": {
        "id": "nXPHZ_hMJ5C6"
      },
      "execution_count": 56,
      "outputs": []
    },
    {
      "cell_type": "code",
      "source": [
        "checkout(100000, 4000, 400)"
      ],
      "metadata": {
        "colab": {
          "base_uri": "https://localhost:8080/"
        },
        "id": "W0zxGcZMKaXq",
        "outputId": "952e8ff3-f2ed-4eca-ec6d-437b3dceb198"
      },
      "execution_count": 57,
      "outputs": [
        {
          "output_type": "stream",
          "name": "stdout",
          "text": [
            "Initial Discount 0\n",
            "Block3\n",
            "Final Applicable Discount 50\n"
          ]
        },
        {
          "output_type": "execute_result",
          "data": {
            "text/plain": [
              "61074.0"
            ]
          },
          "metadata": {},
          "execution_count": 57
        }
      ]
    },
    {
      "cell_type": "markdown",
      "source": [
        "## Understanding Arguments"
      ],
      "metadata": {
        "id": "Gh6NlL65SM-I"
      }
    },
    {
      "cell_type": "code",
      "source": [
        "def register_company(name: str, password: str) -> None:\n",
        "  print(name, password)"
      ],
      "metadata": {
        "id": "r3EUj916MY1g"
      },
      "execution_count": 58,
      "outputs": []
    },
    {
      "cell_type": "code",
      "source": [
        "# Positional Argument\n",
        "register_company(\"Qasim\", \"123\")\n",
        "# Keyword Argument\n",
        "register_company(password=\"123\", name=\"Qasim\")"
      ],
      "metadata": {
        "colab": {
          "base_uri": "https://localhost:8080/"
        },
        "id": "OUhiH8MpMmaF",
        "outputId": "036dbfd0-9122-4ecc-dfdc-c01e1b7c20cb"
      },
      "execution_count": 59,
      "outputs": [
        {
          "output_type": "stream",
          "name": "stdout",
          "text": [
            "Qasim 123\n",
            "Qasim 123\n"
          ]
        }
      ]
    },
    {
      "cell_type": "code",
      "source": [
        "def register_company(name: str, password: str, *directors: str) -> None:\n",
        "  print(\"Basic Info\",name, password)\n",
        "  print(\"Directors\")\n",
        "  for director in directors:\n",
        "    print(director)\n",
        "\n",
        "register_company(\"PIAIC\", \"Pass\", \"Sir Zia\", \"Sir Qasim\", \"Sir Ameen\", \"Sir Imran\")"
      ],
      "metadata": {
        "colab": {
          "base_uri": "https://localhost:8080/"
        },
        "id": "41fE_SmjM8tD",
        "outputId": "d3de21c6-d3b8-417f-bae1-008acbf6d8aa"
      },
      "execution_count": 60,
      "outputs": [
        {
          "output_type": "stream",
          "name": "stdout",
          "text": [
            "Basic Info PIAIC Pass\n",
            "Directors\n",
            "Sir Zia\n",
            "Sir Qasim\n",
            "Sir Ameen\n",
            "Sir Imran\n"
          ]
        }
      ]
    },
    {
      "cell_type": "code",
      "source": [
        "# *directors = Valye\n",
        "# **directors = Key, Value\n",
        "\n",
        "def register_company(name: str, password: str, *directors: str, **offices: dict) -> None:\n",
        "  print(offices)\n",
        "  print(\"Basic Info\",name, password)\n",
        "  print(\"Directors\")\n",
        "  for director in directors:\n",
        "    print(director)\n",
        "  print(\"Offices\")\n",
        "  for key, value in offices.items():\n",
        "    print(key, value)\n",
        "\n",
        "register_company(\"PIAIC\", \"Pass\", \"Sir Zia\", \"Sir Qasim\", \"UIT\", lhr_institute_name=\"UMT\", uae_offic=\"UAE\")"
      ],
      "metadata": {
        "colab": {
          "base_uri": "https://localhost:8080/"
        },
        "id": "A1o0wQvvNhTg",
        "outputId": "ddb46010-744f-4ce6-831f-11d892266cf0"
      },
      "execution_count": 61,
      "outputs": [
        {
          "output_type": "stream",
          "name": "stdout",
          "text": [
            "{'lhr_institute_name': 'UMT', 'uae_offic': 'UAE'}\n",
            "Basic Info PIAIC Pass\n",
            "Directors\n",
            "Sir Zia\n",
            "Sir Qasim\n",
            "UIT\n",
            "Offices\n",
            "lhr_institute_name UMT\n",
            "uae_offic UAE\n"
          ]
        }
      ]
    },
    {
      "cell_type": "code",
      "source": [
        "# You can take any valid data type in Arguments\n",
        "def greet(user_details: dict) -> None:\n",
        "  print( f\"Hello\", user_details['name'])\n",
        "  return\n",
        "\n",
        "greet_return = greet({\"name\": \"Muhammad\"})"
      ],
      "metadata": {
        "colab": {
          "base_uri": "https://localhost:8080/"
        },
        "id": "c8JIsGsTPsA_",
        "outputId": "7a5cde32-9e1a-4b92-b8eb-c226d72c318b"
      },
      "execution_count": 62,
      "outputs": [
        {
          "output_type": "stream",
          "name": "stdout",
          "text": [
            "Hello Muhammad\n"
          ]
        }
      ]
    },
    {
      "cell_type": "code",
      "source": [
        "greet_return"
      ],
      "metadata": {
        "id": "xUUQtAFUPv46"
      },
      "execution_count": 63,
      "outputs": []
    },
    {
      "cell_type": "code",
      "source": [
        "def compare_age(student_age: int, name: str) -> bool:\n",
        "  # Body\n",
        "  result: bool = True if sir_zia_age >= student_age else False\n",
        "  # Body End\n",
        "  return result"
      ],
      "metadata": {
        "id": "PeKwmplX5kRc"
      },
      "execution_count": 64,
      "outputs": []
    },
    {
      "cell_type": "code",
      "source": [
        "comparision_result = compare_age(student_age=19, name=\"Khurrum\")"
      ],
      "metadata": {
        "id": "IncPfjTw6NZr"
      },
      "execution_count": 65,
      "outputs": []
    },
    {
      "cell_type": "code",
      "source": [
        "print(comparision_result)"
      ],
      "metadata": {
        "colab": {
          "base_uri": "https://localhost:8080/"
        },
        "id": "3LaATSL78YS-",
        "outputId": "19e8ddff-c1c1-487f-9660-87526acf6edb"
      },
      "execution_count": 66,
      "outputs": [
        {
          "output_type": "stream",
          "name": "stdout",
          "text": [
            "True\n"
          ]
        }
      ]
    },
    {
      "cell_type": "code",
      "source": [
        "compare_age(91, \"babar\")\n",
        "compare_age(91, \"babar\")"
      ],
      "metadata": {
        "colab": {
          "base_uri": "https://localhost:8080/"
        },
        "id": "uIWk0KTe7UUw",
        "outputId": "680b59e0-28c5-4a7d-d9f5-987cb572ef3b"
      },
      "execution_count": 67,
      "outputs": [
        {
          "output_type": "execute_result",
          "data": {
            "text/plain": [
              "False"
            ]
          },
          "metadata": {},
          "execution_count": 67
        }
      ]
    }
  ]
}