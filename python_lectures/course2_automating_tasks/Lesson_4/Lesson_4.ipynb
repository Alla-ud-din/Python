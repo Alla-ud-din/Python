{
  "cells": [
    {
      "cell_type": "markdown",
      "metadata": {
        "id": "view-in-github",
        "colab_type": "text"
      },
      "source": [
        "<a href=\"https://colab.research.google.com/github/Alla-ud-din/Python/blob/main/python_lectures/course2_automating_tasks/Lesson_4/Lesson_4.ipynb\" target=\"_parent\"><img src=\"https://colab.research.google.com/assets/colab-badge.svg\" alt=\"Open In Colab\"/></a>"
      ]
    },
    {
      "cell_type": "markdown",
      "id": "f6bf49f7-21f0-47bc-9a3e-7fd325a0b9bf",
      "metadata": {
        "id": "f6bf49f7-21f0-47bc-9a3e-7fd325a0b9bf"
      },
      "source": [
        "# Lesson 4 - Customizing recipes with lists, dictionaries and AI"
      ]
    },
    {
      "cell_type": "markdown",
      "id": "3afb15ea",
      "metadata": {
        "id": "3afb15ea"
      },
      "source": [
        "### Download helper_function.py\n",
        "* pls set Secrets Variable for Gemini in Collab\n",
        "* `GEMINI_API_KEY`\n",
        "\n",
        "[Get API KEY From Google AI Studio](https://aistudio.google.com/app/apikey)"
      ]
    },
    {
      "cell_type": "code",
      "execution_count": 13,
      "id": "38277dd1",
      "metadata": {
        "id": "38277dd1",
        "outputId": "5a90c891-d4c1-4eb8-b1d8-d92b5da6a7fd",
        "colab": {
          "base_uri": "https://localhost:8080/"
        }
      },
      "outputs": [
        {
          "output_type": "stream",
          "name": "stdout",
          "text": [
            "  % Total    % Received % Xferd  Average Speed   Time    Time     Time  Current\n",
            "                                 Dload  Upload   Total   Spent    Left  Speed\n",
            "\r  0     0    0     0    0     0      0      0 --:--:-- --:--:-- --:--:--     0\r100  3944  100  3944    0     0  19471      0 --:--:-- --:--:-- --:--:-- 19524\n"
          ]
        }
      ],
      "source": [
        "### Download helper_function.py\n",
        "# * Set Secrets Variable for Gemini\n",
        "# * `GEMINI_API_KEY`\n",
        "\n",
        "!curl -o helper_functions.py https://raw.githubusercontent.com/panaversity/learn-cloud-native-modern-ai-python/main/04_natural_language_programming/02_ai_python_for_beginners/course1_basics/Lesson_9/helper_functions.py"
      ]
    },
    {
      "cell_type": "markdown",
      "id": "a9f73957",
      "metadata": {
        "id": "a9f73957"
      },
      "source": [
        "In the previous lesson, you went through how to use dictionaries to complete tasks by priority. In this lesson, you will see how you can use dictionaries to update LLM prompts and create food recipies that match your friends preferences, restrictions and cooking experience."
      ]
    },
    {
      "cell_type": "code",
      "execution_count": 14,
      "id": "0669df5d-5013-466b-90c8-679364ff80a1",
      "metadata": {
        "id": "0669df5d-5013-466b-90c8-679364ff80a1"
      },
      "outputs": [],
      "source": [
        "from helper_functions import print_llm_response, get_llm_response"
      ]
    },
    {
      "cell_type": "markdown",
      "id": "f2ddd461",
      "metadata": {
        "id": "f2ddd461"
      },
      "source": [
        "## Food preference dictionaries\n",
        "\n",
        "Dictionaries are a useful way to organize multiple variables associated with a single entity, like one of your friends. In the next dictionary, you store the food preferences and cooking experience for Tommy."
      ]
    },
    {
      "cell_type": "code",
      "source": [
        "!pip install -Uq nb-mypy\n",
        "%load_ext nb_mypy"
      ],
      "metadata": {
        "id": "SPpRgc53YMhI",
        "outputId": "7cdd50e9-9a5c-4636-897f-b85e4938f9df",
        "colab": {
          "base_uri": "https://localhost:8080/"
        }
      },
      "id": "SPpRgc53YMhI",
      "execution_count": 5,
      "outputs": [
        {
          "output_type": "stream",
          "name": "stdout",
          "text": [
            "  Installing build dependencies ... \u001b[?25l\u001b[?25hdone\n",
            "  Getting requirements to build wheel ... \u001b[?25l\u001b[?25hdone\n",
            "  Preparing metadata (pyproject.toml) ... \u001b[?25l\u001b[?25hdone\n",
            "\u001b[2K   \u001b[90m━━━━━━━━━━━━━━━━━━━━━━━━━━━━━━━━━━━━━━━━\u001b[0m \u001b[32m819.9/819.9 kB\u001b[0m \u001b[31m13.5 MB/s\u001b[0m eta \u001b[36m0:00:00\u001b[0m\n",
            "\u001b[2K   \u001b[90m━━━━━━━━━━━━━━━━━━━━━━━━━━━━━━━━━━━━━━━━\u001b[0m \u001b[32m12.6/12.6 MB\u001b[0m \u001b[31m90.2 MB/s\u001b[0m eta \u001b[36m0:00:00\u001b[0m\n",
            "\u001b[2K   \u001b[90m━━━━━━━━━━━━━━━━━━━━━━━━━━━━━━━━━━━━━━━━\u001b[0m \u001b[32m1.6/1.6 MB\u001b[0m \u001b[31m56.0 MB/s\u001b[0m eta \u001b[36m0:00:00\u001b[0m\n",
            "\u001b[2K   \u001b[90m━━━━━━━━━━━━━━━━━━━━━━━━━━━━━━━━━━━━━━━━\u001b[0m \u001b[32m85.4/85.4 kB\u001b[0m \u001b[31m6.0 MB/s\u001b[0m eta \u001b[36m0:00:00\u001b[0m\n",
            "\u001b[?25h  Building wheel for nb-mypy (pyproject.toml) ... \u001b[?25l\u001b[?25hdone\n",
            "\u001b[31mERROR: pip's dependency resolver does not currently take into account all the packages that are installed. This behaviour is the source of the following dependency conflicts.\n",
            "google-colab 1.0.0 requires ipython==7.34.0, but you have ipython 8.29.0 which is incompatible.\u001b[0m\u001b[31m\n",
            "\u001b[0m"
          ]
        },
        {
          "output_type": "stream",
          "name": "stderr",
          "text": [
            "Version 1.0.5\n",
            "INFO:nb-mypy:Version 1.0.5\n"
          ]
        }
      ]
    },
    {
      "cell_type": "code",
      "execution_count": 23,
      "id": "5ccb6d62",
      "metadata": {
        "id": "5ccb6d62"
      },
      "outputs": [],
      "source": [
        "from typing import Dict, Any\n",
        "food_preferences_tommy: Dict[str, Any]= {\n",
        "        \"dietary_restrictions\": \"vegetarian\",\n",
        "        \"favorite_ingredients\": [\"tofu\", \"olives\"],\n",
        "        \"experience_level\": \"intermediate\",\n",
        "        \"maximum_spice_level\": 6\n",
        "}"
      ]
    },
    {
      "cell_type": "markdown",
      "id": "b27a261d",
      "metadata": {
        "id": "b27a261d"
      },
      "source": [
        "As you can see there, that dictionary has four keys, wich you can access using `\".keys()\"`:"
      ]
    },
    {
      "cell_type": "code",
      "execution_count": 8,
      "id": "8849cd3c",
      "metadata": {
        "id": "8849cd3c",
        "outputId": "86ffe105-4ed1-4b3e-a0ff-4f64bfdc7115",
        "colab": {
          "base_uri": "https://localhost:8080/"
        }
      },
      "outputs": [
        {
          "output_type": "stream",
          "name": "stdout",
          "text": [
            "dict_keys(['dietary_restrictions', 'favorite_ingredients', 'experience_level', 'maximum_spice_level'])\n"
          ]
        }
      ],
      "source": [
        "print(food_preferences_tommy.keys())"
      ]
    },
    {
      "cell_type": "markdown",
      "id": "d73a2a44",
      "metadata": {
        "id": "d73a2a44"
      },
      "source": [
        "And it has values with different data types: lists, strings and integers."
      ]
    },
    {
      "cell_type": "code",
      "execution_count": 9,
      "id": "31f98465",
      "metadata": {
        "id": "31f98465",
        "outputId": "67348f1b-a8b8-4d23-869f-c69c766c9b1e",
        "colab": {
          "base_uri": "https://localhost:8080/"
        }
      },
      "outputs": [
        {
          "output_type": "stream",
          "name": "stdout",
          "text": [
            "dict_values(['vegetarian', ['tofu', 'olives'], 'intermediate', 6])\n"
          ]
        }
      ],
      "source": [
        "print(food_preferences_tommy.values())"
      ]
    },
    {
      "cell_type": "markdown",
      "id": "4d786ed3",
      "metadata": {
        "id": "4d786ed3"
      },
      "source": [
        "Let's see how you can use these in a prompt to create recipes that take into account your friends dietary preferences."
      ]
    },
    {
      "cell_type": "markdown",
      "id": "5241f8b9",
      "metadata": {
        "id": "5241f8b9"
      },
      "source": [
        "## Using keys and values within AI prompt"
      ]
    },
    {
      "cell_type": "markdown",
      "id": "6a8f30dc",
      "metadata": {
        "id": "6a8f30dc"
      },
      "source": [
        "So here's a prompt that uses all the information in the dictionary to create a customized recipe"
      ]
    },
    {
      "cell_type": "code",
      "execution_count": 10,
      "id": "463a6d2a",
      "metadata": {
        "id": "463a6d2a"
      },
      "outputs": [],
      "source": [
        "prompt = f\"\"\"Please suggest a recipe that tries to include\n",
        "the following ingredients:\n",
        "{food_preferences_tommy[\"favorite_ingredients\"]}.\n",
        "The recipe should adhere to the following dietary restrictions:\n",
        "{food_preferences_tommy[\"dietary_restrictions\"]}.\n",
        "The difficulty of the recipe should be:\n",
        "{food_preferences_tommy[\"experience_level\"]}\n",
        "The maximum spice level on a scale of 10 should be:\n",
        "{food_preferences_tommy[\"maximum_spice_level\"]}\n",
        "Provide a two sentence description.\n",
        "\"\"\""
      ]
    },
    {
      "cell_type": "markdown",
      "id": "b24af997",
      "metadata": {
        "id": "b24af997"
      },
      "source": [
        "Run the cell below to print the prompt."
      ]
    },
    {
      "cell_type": "code",
      "execution_count": 11,
      "id": "6cceec03-639e-460c-a0d6-b34adb2cd28d",
      "metadata": {
        "id": "6cceec03-639e-460c-a0d6-b34adb2cd28d",
        "outputId": "fa77bf7f-f310-4ada-8f10-5b6246f46e67",
        "colab": {
          "base_uri": "https://localhost:8080/"
        }
      },
      "outputs": [
        {
          "output_type": "stream",
          "name": "stdout",
          "text": [
            "Please suggest a recipe that tries to include \n",
            "the following ingredients: \n",
            "['tofu', 'olives'].\n",
            "The recipe should adhere to the following dietary restrictions:\n",
            "vegetarian.\n",
            "The difficulty of the recipe should be: \n",
            "intermediate\n",
            "The maximum spice level on a scale of 10 should be: \n",
            "6 \n",
            "Provide a two sentence description.\n",
            "\n"
          ]
        }
      ],
      "source": [
        "print(prompt)"
      ]
    },
    {
      "cell_type": "markdown",
      "id": "10b37203",
      "metadata": {
        "id": "10b37203"
      },
      "source": [
        "Now, you can use that prompt with an LLM to suggest a recipe to fit Tommy's preferences:"
      ]
    },
    {
      "cell_type": "code",
      "execution_count": 15,
      "id": "14850b74",
      "metadata": {
        "id": "14850b74",
        "outputId": "7d212c2a-d679-4176-b377-658b5698f3d3",
        "colab": {
          "base_uri": "https://localhost:8080/",
          "height": 672
        }
      },
      "outputs": [
        {
          "output_type": "stream",
          "name": "stdout",
          "text": [
            "## Mediterranean Tofu & Olive Bake\n",
            "\n",
            "This recipe combines crispy pan-fried tofu with briny olives, sun-dried tomatoes, and a vibrant lemon-herb dressing in a satisfying and flavorful bake.  The bake is finished with a sprinkle of feta cheese (optional for vegan) for extra creaminess and a salty tang.\n",
            "\n",
            "\n",
            "**Ingredients:**\n",
            "\n",
            "* 1 block (14 oz) extra-firm tofu, pressed and cubed\n",
            "* 1/2 cup Kalamata olives, pitted and halved\n",
            "* 1/4 cup sun-dried tomatoes, oil-packed, drained and chopped\n",
            "* 1/4 cup red onion, thinly sliced\n",
            "* 2 cloves garlic, minced\n",
            "* 2 tbsp olive oil\n",
            "* 1 tbsp dried oregano\n",
            "* 1 tbsp dried basil\n",
            "* 1 tsp lemon zest\n",
            "* 2 tbsp lemon juice\n",
            "* Salt and black pepper to taste\n",
            "* 2 tbsp nutritional yeast (optional, for cheesy flavor)\n",
            "* 2 tbsp crumbled feta cheese (optional, not vegan)\n",
            "\n",
            "\n",
            "**Instructions:**\n",
            "\n",
            "1. **Prepare the tofu:** Press the tofu to remove excess water. Cut into 1-inch cubes. Toss with 1 tbsp olive oil, salt, and pepper.\n",
            "2. **Pan-fry the tofu:** Heat a large skillet over medium-high heat. Add the tofu and cook, stirring occasionally, until golden brown and crispy on all sides (about 10-12 minutes). Set aside.\n",
            "3. **Sauté aromatics:** In the same skillet, add the remaining 1 tbsp olive oil and sauté the red onion and garlic until softened (about 3 minutes). \n",
            "4. **Combine ingredients:** Add the olives, sun-dried tomatoes, oregano, basil, lemon zest, and lemon juice to the skillet. Cook for 2 minutes, stirring to combine.\n",
            "5. **Assemble and bake:** Preheat oven to 375°F (190°C). Transfer the tofu and vegetable mixture to a baking dish. Sprinkle with nutritional yeast (if using).\n",
            "6. **Bake:** Bake for 20-25 minutes, or until heated through and slightly bubbly.  If using feta, sprinkle it over the bake during the last 5 minutes of baking.\n",
            "7. **Serve:** Serve warm, optionally garnished with fresh parsley or basil.\n",
            "\n",
            "\n",
            "**Spice Level:** 6 (due to the potential use of black pepper and the intensity of some sun-dried tomatoes)\n",
            "\n"
          ]
        }
      ],
      "source": [
        "print_llm_response(prompt)"
      ]
    },
    {
      "cell_type": "markdown",
      "id": "e00bb0c1",
      "metadata": {
        "id": "e00bb0c1"
      },
      "source": [
        "The model followed the instructions. Tommy will be delighted!"
      ]
    },
    {
      "cell_type": "markdown",
      "id": "86e7ba47",
      "metadata": {
        "id": "86e7ba47"
      },
      "source": [
        "## Refining the prompt with available ingredients"
      ]
    },
    {
      "cell_type": "markdown",
      "id": "e813a9b6",
      "metadata": {
        "id": "e813a9b6"
      },
      "source": [
        "You can go a step further and consider the available ingredients at your house. To do so, let's use the following lists:"
      ]
    },
    {
      "cell_type": "code",
      "execution_count": 16,
      "id": "72256217-4474-4c48-a87d-36b444c25ea6",
      "metadata": {
        "id": "72256217-4474-4c48-a87d-36b444c25ea6"
      },
      "outputs": [],
      "source": [
        "available_spices = [\"cumin\", \"turmeric\", \"oregano\", \"paprika\"]"
      ]
    },
    {
      "cell_type": "markdown",
      "id": "b2f46ab1",
      "metadata": {
        "id": "b2f46ab1"
      },
      "source": [
        "You can add these directly to the prompt so that the LLM take those into consideration"
      ]
    },
    {
      "cell_type": "code",
      "execution_count": 17,
      "id": "3b73cd00-bf5e-4865-9a05-07e7f68b1296",
      "metadata": {
        "id": "3b73cd00-bf5e-4865-9a05-07e7f68b1296",
        "outputId": "b05228a6-107b-406c-e440-8371a9fd5fc9",
        "colab": {
          "base_uri": "https://localhost:8080/"
        }
      },
      "outputs": [
        {
          "output_type": "stream",
          "name": "stdout",
          "text": [
            "Please suggest a recipe that tries to include \n",
            "the following ingredients: \n",
            "['tofu', 'olives'].\n",
            "The recipe should adhere to the following dietary restrictions:\n",
            "vegetarian.\n",
            "The difficulty of the recipe should be: \n",
            "intermediate\n",
            "The maximum spice level on a scale of 10 should be: \n",
            "6 \n",
            "Provide a two sentence description.\n",
            "\n",
            "The recipe should not include spices outside of this list:\n",
            "Spices: ['cumin', 'turmeric', 'oregano', 'paprika']\n",
            "\n"
          ]
        }
      ],
      "source": [
        "prompt = f\"\"\"Please suggest a recipe that tries to include\n",
        "the following ingredients:\n",
        "{food_preferences_tommy[\"favorite_ingredients\"]}.\n",
        "The recipe should adhere to the following dietary restrictions:\n",
        "{food_preferences_tommy[\"dietary_restrictions\"]}.\n",
        "The difficulty of the recipe should be:\n",
        "{food_preferences_tommy[\"experience_level\"]}\n",
        "The maximum spice level on a scale of 10 should be:\n",
        "{food_preferences_tommy[\"maximum_spice_level\"]}\n",
        "Provide a two sentence description.\n",
        "\n",
        "The recipe should not include spices outside of this list:\n",
        "Spices: {available_spices}\n",
        "\"\"\"\n",
        "print(prompt)"
      ]
    },
    {
      "cell_type": "markdown",
      "id": "4a78b961",
      "metadata": {
        "id": "4a78b961"
      },
      "source": [
        "Now, get the LLM response to that prompt and assign it to a variable:"
      ]
    },
    {
      "cell_type": "code",
      "execution_count": 18,
      "id": "bc9f9acf",
      "metadata": {
        "id": "bc9f9acf"
      },
      "outputs": [],
      "source": [
        "recipe = get_llm_response(prompt)"
      ]
    },
    {
      "cell_type": "markdown",
      "id": "c87c1079",
      "metadata": {
        "id": "c87c1079"
      },
      "source": [
        "And print the recipe that considers Tommy's restrictions as well as the available ingredients at your house."
      ]
    },
    {
      "cell_type": "code",
      "execution_count": 19,
      "id": "d211dac7",
      "metadata": {
        "id": "d211dac7",
        "outputId": "ec59cbb0-98ac-403e-c219-0f5ab5b980d8",
        "colab": {
          "base_uri": "https://localhost:8080/"
        }
      },
      "outputs": [
        {
          "output_type": "stream",
          "name": "stdout",
          "text": [
            "## Mediterranean Baked Tofu with Olives and Herbs\n",
            "\n",
            "This recipe features pan-fried tofu cubes baked with a vibrant medley of olives, herbs, and a warm blend of spices. The result is a satisfyingly savory and slightly tangy vegetarian dish perfect as a main course or side.\n",
            "\n",
            "\n",
            "**Yields:** 4 servings\n",
            "**Prep time:** 20 minutes\n",
            "**Cook time:** 35 minutes\n",
            "\n",
            "\n",
            "**Ingredients:**\n",
            "\n",
            "* 1 block (14 oz) extra-firm tofu, pressed and cubed\n",
            "* 1/2 cup Kalamata olives, pitted and halved\n",
            "* 1/4 cup sun-dried tomatoes (oil-packed, drained)\n",
            "* 1 tbsp olive oil\n",
            "* 1 tsp cumin\n",
            "* 1 tsp turmeric\n",
            "* 1/2 tsp oregano\n",
            "* 1/4 tsp paprika\n",
            "* 2 cloves garlic, minced\n",
            "* 1/4 cup chopped fresh parsley\n",
            "* 1/4 cup chopped fresh basil\n",
            "* Salt and pepper to taste\n",
            "\n",
            "\n",
            "**Instructions:**\n",
            "\n",
            "1. **Prepare the tofu:** Press the tofu to remove excess water.  Cut into 1-inch cubes.\n",
            "2. **Sauté the tofu:** Heat olive oil in a large skillet over medium-high heat. Add the tofu cubes and cook until golden brown on all sides, about 5-7 minutes.  Remove from skillet and set aside.\n",
            "3. **Sauté aromatics:** Add minced garlic to the skillet and sauté for about 30 seconds until fragrant.\n",
            "4. **Combine ingredients:** Add the cumin, turmeric, oregano, and paprika to the skillet. Stir for 30 seconds until fragrant.  Stir in the olives, sun-dried tomatoes, parsley, and basil.\n",
            "5. **Bake:** Transfer the tofu and olive mixture to a baking dish. Season with salt and pepper to taste. Bake in a preheated oven at 375°F (190°C) for 20-25 minutes, or until heated through and slightly browned.\n",
            "6. **Serve:** Serve hot as a main course with a side salad or as a side dish to your favorite grain.\n",
            "\n",
            "\n",
            "**Notes:**\n",
            "\n",
            "* For a spicier dish, add a pinch of red pepper flakes.  However, this will raise the spice level above the 6 requested.\n",
            "* Feel free to experiment with other herbs such as thyme or rosemary.\n",
            "* You can substitute other types of olives if desired.\n",
            "\n"
          ]
        }
      ],
      "source": [
        "print(recipe)"
      ]
    },
    {
      "cell_type": "markdown",
      "id": "8dd1eebb",
      "metadata": {
        "id": "8dd1eebb"
      },
      "source": [
        "Try changing the prompt to give you step-by-step instructions and try adding a key-value pair to the dictionary that indicates favorite cuisine."
      ]
    },
    {
      "cell_type": "markdown",
      "id": "d21d016e-e278-47f9-a3da-b031eb6905e9",
      "metadata": {
        "id": "d21d016e-e278-47f9-a3da-b031eb6905e9"
      },
      "source": [
        "## Looking ahead"
      ]
    },
    {
      "cell_type": "markdown",
      "id": "71e7f4a4-efbe-4bbb-a6b4-60305a2e5427",
      "metadata": {
        "id": "71e7f4a4-efbe-4bbb-a6b4-60305a2e5427"
      },
      "source": [
        "Let's take another look at`food_preferences_tommy[\"dietary_restrictions\"]`"
      ]
    },
    {
      "cell_type": "code",
      "execution_count": 20,
      "id": "91bb95c7-1940-452d-a120-149bf8db61c7",
      "metadata": {
        "id": "91bb95c7-1940-452d-a120-149bf8db61c7",
        "outputId": "cf195498-60bf-498a-e31e-e40efb713920",
        "colab": {
          "base_uri": "https://localhost:8080/"
        }
      },
      "outputs": [
        {
          "output_type": "stream",
          "name": "stdout",
          "text": [
            "vegetarian\n"
          ]
        }
      ],
      "source": [
        "print(food_preferences_tommy[\"dietary_restrictions\"])"
      ]
    },
    {
      "cell_type": "markdown",
      "id": "b5f5fe5e-feae-4a8a-9e11-9cfb99958df2",
      "metadata": {
        "id": "b5f5fe5e-feae-4a8a-9e11-9cfb99958df2"
      },
      "source": [
        "Here is a different way you could tell Python that Tommy is vegetarian:"
      ]
    },
    {
      "cell_type": "code",
      "execution_count": 21,
      "id": "c447a119-a75b-4f83-87e1-81a6f4e34c13",
      "metadata": {
        "id": "c447a119-a75b-4f83-87e1-81a6f4e34c13"
      },
      "outputs": [],
      "source": [
        "food_preferences_tommy[\"is_vegetarian\"] = True"
      ]
    },
    {
      "cell_type": "code",
      "execution_count": 22,
      "id": "bfea6233-99af-43b8-b26f-6ba0696f34c6",
      "metadata": {
        "id": "bfea6233-99af-43b8-b26f-6ba0696f34c6",
        "outputId": "fc0f4105-f15b-49d8-ebd5-37209f11b365",
        "colab": {
          "base_uri": "https://localhost:8080/"
        }
      },
      "outputs": [
        {
          "output_type": "stream",
          "name": "stdout",
          "text": [
            "{'dietary_restrictions': 'vegetarian', 'favorite_ingredients': ['tofu', 'olives'], 'experience_level': 'intermediate', 'maximum_spice_level': 6, 'is_vegetarian': True}\n"
          ]
        }
      ],
      "source": [
        "print(food_preferences_tommy)"
      ]
    },
    {
      "cell_type": "markdown",
      "id": "3e43d1db-4ce2-4444-9c47-d0ae02370976",
      "metadata": {
        "id": "3e43d1db-4ce2-4444-9c47-d0ae02370976"
      },
      "source": [
        "Go to next video to see what `True` and `False` are and how they work in Python"
      ]
    },
    {
      "cell_type": "markdown",
      "id": "cc7e65ef-1983-43d0-93b5-ce29a2c9f387",
      "metadata": {
        "id": "cc7e65ef-1983-43d0-93b5-ce29a2c9f387"
      },
      "source": [
        "## Extra practice"
      ]
    },
    {
      "cell_type": "markdown",
      "id": "7389bce5-8c0d-41cf-b347-01c741078ef0",
      "metadata": {
        "id": "7389bce5-8c0d-41cf-b347-01c741078ef0"
      },
      "source": [
        "Please go through the exercises in the cells below if you want some extra practice for the topics you covered in this lesson."
      ]
    },
    {
      "cell_type": "code",
      "execution_count": 24,
      "id": "83969e6c-e89b-4061-8a9b-69764225dccd",
      "metadata": {
        "id": "83969e6c-e89b-4061-8a9b-69764225dccd",
        "outputId": "9c922a39-f2cf-4dff-e4d4-b93782bad6a8",
        "colab": {
          "base_uri": "https://localhost:8080/"
        }
      },
      "outputs": [
        {
          "output_type": "stream",
          "name": "stdout",
          "text": [
            "{'dietary_restrictions': [], 'favorite_ingredients': [], 'experience_level': '', 'maximum_spice_level': 0}\n"
          ]
        }
      ],
      "source": [
        "# Update the following dictionary\n",
        "# with your own preferences\n",
        "\n",
        "### EDIT THE FOLLOWING CODE ###\n",
        "my_food_preferences = {\n",
        "        \"dietary_restrictions\": [], #List with dietary restrictions\n",
        "        \"favorite_ingredients\": [], #List with top three favorite ingredients\n",
        "        \"experience_level\": \"\", #Experience level\n",
        "        \"maximum_spice_level\": 0 #Spice level in a scale from 1 to 10\n",
        "}\n",
        "### --------------- ###\n",
        "\n",
        "print(my_food_preferences)"
      ]
    },
    {
      "cell_type": "code",
      "execution_count": 25,
      "id": "e22eb004-6a9c-4274-9ae3-c9ee106689fb",
      "metadata": {
        "id": "e22eb004-6a9c-4274-9ae3-c9ee106689fb",
        "outputId": "b9144104-4df3-45ed-c096-127a97a34704",
        "colab": {
          "base_uri": "https://localhost:8080/",
          "height": 672
        }
      },
      "outputs": [
        {
          "output_type": "stream",
          "name": "stdout",
          "text": [
            "## Mediterranean Tofu and Olive Skewers with Lemon-Herb Dressing\n",
            "\n",
            "This recipe features pan-fried tofu cubes and Kalamata olives threaded onto skewers, then drizzled with a bright, herbaceous lemon dressing.  The combination of salty olives, savory tofu, and zesty dressing creates a flavorful and satisfying vegetarian meal perfect for a weeknight dinner or barbecue.\n",
            "\n",
            "\n",
            "**Ingredients:**\n",
            "\n",
            "* 1 block (14 oz) extra-firm tofu, pressed and cubed\n",
            "* 1 cup Kalamata olives, pitted and halved\n",
            "* 1 red bell pepper, cut into 1-inch pieces\n",
            "* 1/2 red onion, cut into 1-inch pieces\n",
            "* 1/4 cup olive oil\n",
            "* 2 tbsp lemon juice\n",
            "* 1 tbsp dried oregano\n",
            "* 1 tbsp dried basil\n",
            "* 1 tsp garlic powder\n",
            "* 1/2 tsp red pepper flakes (adjust to taste)\n",
            "* Salt and pepper to taste\n",
            "* Wooden or metal skewers (soak wooden skewers in water for 30 minutes before use)\n",
            "\n",
            "\n",
            "**Instructions:**\n",
            "\n",
            "1. **Prepare the tofu:** Press the tofu to remove excess water.  Cut into 1-inch cubes and toss with 1 tablespoon of olive oil, salt, and pepper.\n",
            "2. **Marinate (optional):**  For extra flavor, marinate the tofu in a mixture of 1 tablespoon olive oil, 1/2 teaspoon garlic powder, and a pinch of red pepper flakes for at least 30 minutes.\n",
            "3. **Assemble the skewers:** Thread the tofu cubes, olives, bell pepper pieces, and red onion onto the skewers.\n",
            "4. **Cook the skewers:** Heat the remaining olive oil in a large skillet over medium-high heat.  Cook the skewers for 3-4 minutes per side, until the tofu is golden brown and slightly crispy.\n",
            "5. **Make the dressing:** In a small bowl, whisk together the lemon juice, oregano, basil, garlic powder, red pepper flakes, salt, and pepper.\n",
            "6. **Serve:** Drizzle the lemon-herb dressing over the skewers and serve immediately.  Optional: Serve with a side of couscous or quinoa.\n",
            "\n",
            "\n",
            "**Spice Level:** 4-6 (depending on the amount of red pepper flakes used)\n",
            "**Difficulty:** Intermediate\n",
            "**Dietary Restrictions:** Vegetarian\n",
            "\n"
          ]
        }
      ],
      "source": [
        "# Modify the following prompt,\n",
        "# without adding more than two sentences,\n",
        "# so that the provided recipe includes detailed instructions.\n",
        "\n",
        "### EDIT THE FOLLOWING CODE ###\n",
        "#Hint: look at the last sentence in this prompt\n",
        "prompt = f\"\"\"Please suggest a recipe that tries to include\n",
        "the following ingredients:\n",
        "{food_preferences_tommy[\"favorite_ingredients\"]}.\n",
        "The recipe should adhere to the following dietary restrictions:\n",
        "{food_preferences_tommy[\"dietary_restrictions\"]}.\n",
        "The difficulty of the recipe should be:\n",
        "{food_preferences_tommy[\"experience_level\"]}\n",
        "The maximum spice level on a scale of 10 should be:\n",
        "{food_preferences_tommy[\"maximum_spice_level\"]}\n",
        "Provide a two sentence description.\n",
        "\"\"\"\n",
        "### --------------- ###\n",
        "\n",
        "print_llm_response(prompt)"
      ]
    }
  ],
  "metadata": {
    "kernelspec": {
      "display_name": "Python 3 (ipykernel)",
      "language": "python",
      "name": "python3"
    },
    "language_info": {
      "codemirror_mode": {
        "name": "ipython",
        "version": 3
      },
      "file_extension": ".py",
      "mimetype": "text/x-python",
      "name": "python",
      "nbconvert_exporter": "python",
      "pygments_lexer": "ipython3",
      "version": "3.9.19"
    },
    "colab": {
      "provenance": [],
      "include_colab_link": true
    }
  },
  "nbformat": 4,
  "nbformat_minor": 5
}