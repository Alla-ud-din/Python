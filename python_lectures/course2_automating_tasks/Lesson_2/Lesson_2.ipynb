{
  "cells": [
    {
      "cell_type": "markdown",
      "metadata": {
        "id": "view-in-github",
        "colab_type": "text"
      },
      "source": [
        "<a href=\"https://colab.research.google.com/github/Alla-ud-din/Python/blob/main/python_lectures/course2_automating_tasks/Lesson_2/Lesson_2.ipynb\" target=\"_parent\"><img src=\"https://colab.research.google.com/assets/colab-badge.svg\" alt=\"Open In Colab\"/></a>"
      ]
    },
    {
      "cell_type": "markdown",
      "id": "4bd8fbd2-de5c-47bd-bcd9-cbbe8cdc3104",
      "metadata": {
        "id": "4bd8fbd2-de5c-47bd-bcd9-cbbe8cdc3104"
      },
      "source": [
        "# Lesson 2 - Repeating tasks with for loops"
      ]
    },
    {
      "cell_type": "markdown",
      "id": "f6556a1e",
      "metadata": {
        "id": "f6556a1e"
      },
      "source": [
        "### Download helper_function.py\n",
        "* pls set Secrets Variable for Gemini in Collab\n",
        "* `GEMINI_API_KEY`\n",
        "\n",
        "[Get API KEY From Google AI Studio](https://aistudio.google.com/app/apikey)"
      ]
    },
    {
      "cell_type": "code",
      "execution_count": 1,
      "id": "2435d49a",
      "metadata": {
        "colab": {
          "base_uri": "https://localhost:8080/"
        },
        "id": "2435d49a",
        "outputId": "4d81e37b-b219-42a8-d46a-6dd3bef41c97"
      },
      "outputs": [
        {
          "output_type": "stream",
          "name": "stdout",
          "text": [
            "  % Total    % Received % Xferd  Average Speed   Time    Time     Time  Current\n",
            "                                 Dload  Upload   Total   Spent    Left  Speed\n",
            "100  3944  100  3944    0     0  14293      0 --:--:-- --:--:-- --:--:-- 14341\n"
          ]
        }
      ],
      "source": [
        "### Download helper_function.py\n",
        "# * Set Secrets Variable for Gemini\n",
        "# * `GEMINI_API_KEY`\n",
        "\n",
        "!curl -o helper_functions.py https://raw.githubusercontent.com/panaversity/learn-cloud-native-modern-ai-python/main/04_natural_language_programming/02_ai_python_for_beginners/course1_basics/Lesson_9/helper_functions.py"
      ]
    },
    {
      "cell_type": "markdown",
      "id": "e270cc1f",
      "metadata": {
        "id": "e270cc1f"
      },
      "source": [
        "This lesson will introduce you to a very important concept in programming: the `for` loop. A `for` loop is a special code pattern found in many languages that allows you to repeatedly perform actions on all the items in a list in an automated way. Let's take a look by starting with loading some functions."
      ]
    },
    {
      "cell_type": "code",
      "execution_count": 2,
      "id": "41ef33ad-2b5c-40db-a1ab-9f3c689edd55",
      "metadata": {
        "id": "41ef33ad-2b5c-40db-a1ab-9f3c689edd55"
      },
      "outputs": [],
      "source": [
        "from helper_functions import print_llm_response, get_llm_response"
      ]
    },
    {
      "cell_type": "markdown",
      "id": "db2a457b",
      "metadata": {
        "id": "db2a457b"
      },
      "source": [
        "## From previous lesson\n",
        "\n",
        "At the end of last lesson you saw this list of tasks"
      ]
    },
    {
      "cell_type": "code",
      "execution_count": 3,
      "id": "c2f3989f",
      "metadata": {
        "colab": {
          "base_uri": "https://localhost:8080/"
        },
        "id": "c2f3989f",
        "outputId": "55c0c90b-cf3f-4b84-b1de-b9f3f9c1a3d1"
      },
      "outputs": [
        {
          "output_type": "stream",
          "name": "stdout",
          "text": [
            "[\"Compose a brief email to my boss explaining that I will be late for tomorrow's meeting.\", 'Write a birthday poem for Otto, celebrating his 28th birthday.', \"Write a 300-word review of the movie 'The Arrival'.\"]\n"
          ]
        }
      ],
      "source": [
        "#from previous lesson:\n",
        "list_of_tasks = [\n",
        "    \"Compose a brief email to my boss explaining that I will be late for tomorrow's meeting.\",\n",
        "    \"Write a birthday poem for Otto, celebrating his 28th birthday.\",\n",
        "    \"Write a 300-word review of the movie 'The Arrival'.\"\n",
        "]\n",
        "print(list_of_tasks)"
      ]
    },
    {
      "cell_type": "markdown",
      "id": "e5bae794",
      "metadata": {
        "id": "e5bae794"
      },
      "source": [
        "You passed them one by one to the LLM, repeatedly updated the task variable, then re-executed the function call with this code:"
      ]
    },
    {
      "cell_type": "code",
      "execution_count": 4,
      "id": "9f426b72",
      "metadata": {
        "colab": {
          "base_uri": "https://localhost:8080/",
          "height": 180
        },
        "id": "9f426b72",
        "outputId": "b146df93-4fcb-407d-8459-35b067b2e1dd"
      },
      "outputs": [
        {
          "output_type": "stream",
          "name": "stdout",
          "text": [
            "Subject: Late Arrival for Tomorrow's Meeting\n",
            "\n",
            "Hi [Boss's name],\n",
            "\n",
            "Please be advised that I will be running late for tomorrow's meeting at [Time]. I apologize for any inconvenience this may cause. I will be there as soon as possible. \n",
            "\n",
            "Thanks,\n",
            "[Your Name] \n",
            "\n"
          ]
        }
      ],
      "source": [
        "task = list_of_tasks[0]\n",
        "print_llm_response(task)"
      ]
    },
    {
      "cell_type": "markdown",
      "id": "c46ed944-05e1-4ae0-a238-f172413b1771",
      "metadata": {
        "id": "c46ed944-05e1-4ae0-a238-f172413b1771"
      },
      "source": [
        "If you wanted to complete all the tasks in your list, you would have to re-write the same code multiple times. Alternatively, you can use a `for` loop."
      ]
    },
    {
      "cell_type": "markdown",
      "id": "b40551bc",
      "metadata": {
        "id": "b40551bc"
      },
      "source": [
        "## Iterating through task lists with AI"
      ]
    },
    {
      "cell_type": "markdown",
      "id": "58985454-e28e-49c8-9fe9-3b9057bafd08",
      "metadata": {
        "id": "58985454-e28e-49c8-9fe9-3b9057bafd08"
      },
      "source": [
        "When you run the cell below you will see how the for loop iterates through the elements in `list_of_tasks`."
      ]
    },
    {
      "cell_type": "code",
      "execution_count": 5,
      "id": "0c05dc28-4833-46ae-aad1-3607fab9cd67",
      "metadata": {
        "colab": {
          "base_uri": "https://localhost:8080/"
        },
        "id": "0c05dc28-4833-46ae-aad1-3607fab9cd67",
        "outputId": "8b37a3a6-650a-47a0-d6c1-3ef2ecf194a8"
      },
      "outputs": [
        {
          "output_type": "stream",
          "name": "stdout",
          "text": [
            "Compose a brief email to my boss explaining that I will be late for tomorrow's meeting.\n",
            "Write a birthday poem for Otto, celebrating his 28th birthday.\n",
            "Write a 300-word review of the movie 'The Arrival'.\n"
          ]
        }
      ],
      "source": [
        "for task in list_of_tasks:\n",
        "    print(task)"
      ]
    },
    {
      "cell_type": "markdown",
      "id": "e7dedcb5",
      "metadata": {
        "id": "e7dedcb5"
      },
      "source": [
        "Here's the code that automatically passes all items in list to `print_llm_response`"
      ]
    },
    {
      "cell_type": "code",
      "execution_count": 6,
      "id": "721136bd",
      "metadata": {
        "colab": {
          "base_uri": "https://localhost:8080/",
          "height": 799
        },
        "id": "721136bd",
        "outputId": "401c50a2-2f2e-4a69-bd44-9844ed9d646d"
      },
      "outputs": [
        {
          "output_type": "stream",
          "name": "stdout",
          "text": [
            "Subject: Late Arrival for Tomorrow's Meeting\n",
            "\n",
            "Hi [Boss's Name],\n",
            "\n",
            "Just wanted to let you know that I will be running a bit late for tomorrow's meeting at [Time]. I apologize for any inconvenience this may cause. \n",
            "\n",
            "I will be there as soon as possible.\n",
            "\n",
            "Thanks,\n",
            "\n",
            "[Your Name] \n",
            "\n",
            "Twenty-eight years have flown by, Otto, my friend,\n",
            "A milestone reached, a journey that won't end.\n",
            "You've grown and learned, a spirit bright and bold,\n",
            "With stories to tell, and dreams yet to unfold.\n",
            "\n",
            "From childhood games to adult's stride,\n",
            "You've conquered challenges, stood side by side.\n",
            "With laughter and wit, you light up the room,\n",
            "A presence so warm, dispelling any gloom.\n",
            "\n",
            "So raise a glass, let's celebrate this day,\n",
            "For Otto, our friend, in every joyful way.\n",
            "May this year bring you happiness and cheer,\n",
            "And all that you desire, be ever near.\n",
            "\n",
            "Happy Birthday, Otto, may your spirit soar,\n",
            "Twenty-eight years strong, and ready for more! \n",
            "\n",
            "## The Arrival: A Thought-Provoking Journey Through Language and Loss\n",
            "\n",
            "\"The Arrival\" is a science fiction masterpiece that transcends genre boundaries, offering a poignant exploration of language, communication, and the profound impact of loss. With stunning visuals and a mesmerizing performance by Amy Adams, the film draws you into a world of mystery and wonder.\n",
            "\n",
            "When twelve enigmatic alien spacecraft appear across the globe, humanity is plunged into a state of panic. Linguist Louise Banks (Adams) is tasked with deciphering the alien language, hoping to understand their intentions. As she dives deeper into their complex system, she finds herself confronting her own grief over the loss of her daughter.\n",
            "\n",
            "Director Denis Villeneuve masterfully utilizes the film's premise to delve into the complexities of human nature. The film's visual language is breathtaking, showcasing the alien ship's intricate design and the mesmerizing nature of their written communication. The film's score further heightens the sense of awe and mystery, while the emotional core is anchored by Adams's nuanced portrayal of Louise's internal struggle.\n",
            "\n",
            "\"The Arrival\" is not just a science fiction film; it's a deeply moving meditation on love, loss, and the power of human connection. The film's ending, while open to interpretation, offers a profound message about embracing the unknown and finding solace in the face of uncertainty. It's a film that will stay with you long after the credits roll, prompting reflection on the power of communication and the enduring nature of hope.\n",
            "\n",
            "\"The Arrival\" is a must-watch for anyone seeking a thought-provoking and emotionally resonant cinematic experience. It's a film that celebrates the human spirit and reminds us of the beauty and power of language, even in the face of the unknown. \n",
            "\n"
          ]
        }
      ],
      "source": [
        "for task in list_of_tasks:\n",
        "    print_llm_response(task)"
      ]
    },
    {
      "cell_type": "markdown",
      "id": "f9a7a927",
      "metadata": {
        "id": "f9a7a927"
      },
      "source": [
        "Let's break this down.\n",
        "\n",
        "The `for task in list` pattern works as follows:\n",
        "\n",
        "- `task` is assigned the first item in the list. In this case, it's the string `\"Compose a brief email to my boss explaining that I will be late for tomorrow's meeting.\"`\n",
        "- The next indented line is called a block and contains an action to carry out on `task`. In this example, the string gets passed to the LLM, and the result appears on the screen.\n",
        "- Then the loop starts again. Now, `task` is assigned the string \"Write a birthday poem for Otto, celebrating his 28th birthday.\" It's the same variable, but with a different value.\n",
        "- `get_llm_response` runs again, and so on.\n",
        "\n",
        "Be sure to call out the `:` at the end of the line. Indentation is crucial; if it’s not correct, you'll get an error."
      ]
    },
    {
      "cell_type": "code",
      "execution_count": 7,
      "id": "8516a3dc",
      "metadata": {
        "colab": {
          "base_uri": "https://localhost:8080/",
          "height": 110
        },
        "id": "8516a3dc",
        "outputId": "f414f6e0-c6b2-4d89-d21a-097f3593ce88"
      },
      "outputs": [
        {
          "output_type": "error",
          "ename": "IndentationError",
          "evalue": "expected an indented block after 'for' statement on line 1 (<ipython-input-7-7d5e77be2665>, line 2)",
          "traceback": [
            "\u001b[0;36m  File \u001b[0;32m\"<ipython-input-7-7d5e77be2665>\"\u001b[0;36m, line \u001b[0;32m2\u001b[0m\n\u001b[0;31m    print_llm_response(task)\u001b[0m\n\u001b[0m    ^\u001b[0m\n\u001b[0;31mIndentationError\u001b[0m\u001b[0;31m:\u001b[0m expected an indented block after 'for' statement on line 1\n"
          ]
        }
      ],
      "source": [
        "for task in list_of_tasks:\n",
        "print_llm_response(task)"
      ]
    },
    {
      "cell_type": "markdown",
      "id": "2d8e58be",
      "metadata": {
        "id": "2d8e58be"
      },
      "source": [
        "<p style=\"background-color:#F5C780; padding:15px\"> 🤖 <b>Use the Chatbot</b>: Explain indentation error and help me fix it in this for loop: <br>\n",
        "for task in list_of_tasks:<br>\n",
        "print_llm_response(task)\n",
        "</p>"
      ]
    },
    {
      "cell_type": "markdown",
      "id": "8fdafdba-1a33-4bbd-9061-6950bd8bc488",
      "metadata": {
        "id": "8fdafdba-1a33-4bbd-9061-6950bd8bc488"
      },
      "source": [
        "## Iteratively updating AI prompts using lists"
      ]
    },
    {
      "cell_type": "markdown",
      "id": "09cf3e07",
      "metadata": {
        "id": "09cf3e07"
      },
      "source": [
        "You can even use lists with for loops to iteratively update more complex prompts with the list items. For instance, let's say that you have a list of ice-cream flavors:"
      ]
    },
    {
      "cell_type": "code",
      "execution_count": 8,
      "id": "385f6ec5",
      "metadata": {
        "id": "385f6ec5"
      },
      "outputs": [],
      "source": [
        "#ice cream flavor example\n",
        "ice_cream_flavors = [\n",
        "    \"Vanilla\",\n",
        "    \"Chocolate\",\n",
        "    \"Strawberry\",\n",
        "    \"Mint Chocolate Chip\"\n",
        "]"
      ]
    },
    {
      "cell_type": "markdown",
      "id": "bf5219ea",
      "metadata": {
        "id": "bf5219ea"
      },
      "source": [
        "You can use a for loop to iterate through the flavors and create a captivating description for each of them."
      ]
    },
    {
      "cell_type": "code",
      "execution_count": 9,
      "id": "d732762f",
      "metadata": {
        "colab": {
          "base_uri": "https://localhost:8080/",
          "height": 618
        },
        "id": "d732762f",
        "outputId": "46092208-945a-4f88-f19d-3f031632f249"
      },
      "outputs": [
        {
          "output_type": "stream",
          "name": "stdout",
          "text": [
            "##  Vanilla: The Classic Reinvented\n",
            "\n",
            "Forget what you think you know about vanilla. This isn't your grandma's bland, boring ice cream. This is **Vanilla Reimagined**. \n",
            "\n",
            "Imagine **rich, velvety smooth vanilla** that dances on your tongue, revealing layers of complex sweetness. Every bite is a **luxurious escape**, a symphony of pure, unadulterated vanilla flavor. \n",
            "\n",
            "This isn't just vanilla, it's a **celebration of simplicity**, a reminder that sometimes the best things in life are the most pure.  **Indulge in the timeless classic**, the flavor that never goes out of style. \n",
            "\n",
            "**Vanilla: The ultimate comfort, the perfect indulgence, the flavor that never disappoints.** \n",
            "\n",
            "## Surrender to the Dark Side: Our Decadent Chocolate Ice Cream\n",
            "\n",
            "**Indulge in a velvety smooth journey of pure chocolate bliss.** Our Chocolate ice cream is crafted with the finest cocoa beans, resulting in a flavor that's both rich and complex. Every spoonful is a symphony of dark chocolate notes, leaving you with a lingering sweetness that will have you craving more. \n",
            "\n",
            "**Forget your diet, this is the ultimate indulgence.** Whether you enjoy it straight from the pint or piled high on your favorite dessert, our Chocolate ice cream will awaken your senses and satisfy your deepest chocolate cravings. \n",
            "\n",
            "## Dive into Summer with Every Bite: Our Strawberry Ice Cream\n",
            "\n",
            "**Imagine:** sunshine warming your skin, the sweet scent of strawberries in the air, and a scoop of pure, vibrant joy melting on your tongue. That's the feeling you get with our Strawberry ice cream. \n",
            "\n",
            "**Made with real, ripe strawberries**, this flavor bursts with juicy, fresh sweetness. Every spoonful is a celebration of summer, transporting you to a sun-drenched strawberry patch. \n",
            "\n",
            "**Creamy, smooth, and utterly irresistible**, our Strawberry ice cream is the perfect way to cool down on a hot day, satisfy a sweet craving, or simply enjoy a moment of pure indulgence. \n",
            "\n",
            "**Don't wait, grab a scoop today!**  You deserve a taste of summer. \n",
            "\n",
            "##  Escape to a cool, refreshing paradise with our Mint Chocolate Chip! \n",
            "\n",
            "Imagine: a velvety smooth, minty swirl, bursting with the perfect balance of sweet and cool, punctuated by decadent, dark chocolate chips.  Every spoonful is a journey to a mint-infused oasis, leaving you feeling refreshed and utterly satisfied.  This isn't just ice cream, it's an experience. \n",
            "\n",
            "**Mint Chocolate Chip:**  The perfect fusion of crisp, cool mint and rich, dark chocolate - a taste sensation that's guaranteed to become your new favorite.  \n",
            "\n"
          ]
        }
      ],
      "source": [
        "for flavor in ice_cream_flavors:\n",
        "    prompt = f\"\"\"For the ice cream flavor listed below,\n",
        "    provide a captivating description that could be used for promotional purposes.\n",
        "\n",
        "    Flavor: {flavor}\n",
        "\n",
        "    \"\"\"\n",
        "    print_llm_response(prompt)"
      ]
    },
    {
      "cell_type": "markdown",
      "id": "d3f3ead6",
      "metadata": {
        "id": "d3f3ead6"
      },
      "source": [
        "Now that you know how to use lists, you can even save the promortional descriptions to another list using `.append()`:"
      ]
    },
    {
      "cell_type": "code",
      "execution_count": 10,
      "id": "db66a442",
      "metadata": {
        "id": "db66a442"
      },
      "outputs": [],
      "source": [
        "#saving results to a list\n",
        "promotional_descriptions = []\n",
        "for flavor in ice_cream_flavors:\n",
        "    prompt = f\"\"\"For the ice cream flavor listed below,\n",
        "    provide a captivating description that could be used for promotional purposes.\n",
        "\n",
        "    Flavor: {flavor}\n",
        "\n",
        "    \"\"\"\n",
        "    description = get_llm_response(prompt)\n",
        "    promotional_descriptions.append(description)"
      ]
    },
    {
      "cell_type": "markdown",
      "id": "ebdbcfa5",
      "metadata": {
        "id": "ebdbcfa5"
      },
      "source": [
        "After you run that code, you should be able to access the promotional descriptions for each of your ice-cream flavors."
      ]
    },
    {
      "cell_type": "code",
      "execution_count": 11,
      "id": "cad94172",
      "metadata": {
        "colab": {
          "base_uri": "https://localhost:8080/"
        },
        "id": "cad94172",
        "outputId": "1bb002d0-e92b-4063-98c3-83fa8eff54b1"
      },
      "outputs": [
        {
          "output_type": "stream",
          "name": "stdout",
          "text": [
            "[\"## Vanilla: The Classic Reinvented\\n\\n**Forget everything you think you know about vanilla.** This isn't your grandma's bland, boring scoop. Our **Vanilla** is a symphony of flavor, crafted with **the finest Madagascar vanilla beans**, their rich aroma and complex sweetness dancing on your tongue.  It's a **creamy, luxurious indulgence** that reminds you why vanilla has been a beloved flavor for centuries. \\n\\n**Each spoonful is a journey:** from the initial velvety smooth texture to the lingering notes of caramel and floral sweetness. It's **the perfect canvas** for your favorite toppings or a standalone masterpiece. \\n\\n**Vanilla: The ultimate comfort food, redefined.** \\n\", \"## Dive into Decadence: Our Chocolate Ice Cream \\n\\nThis isn't your average chocolate ice cream. This is a **deep, rich symphony of pure cocoa indulgence**. Every spoonful is a velvety smooth journey, where the **intense chocolate flavor** dances on your tongue and lingers long after the last bite.  \\n\\n**Imagine:**\\n\\n* **A swirl of dark chocolate ganache**, adding an extra layer of decadent richness.\\n* **The whisper of real cocoa nibs**, adding a delightful textural crunch and hint of bitterness.\\n* **A hint of sea salt**, bringing out the complex sweetness of the chocolate and leaving you craving more.\\n\\n**This is not just ice cream, it's an experience.** \\n\\n**Indulge. Savor. Repeat.** \\n\", \"## Dive into Summer with a Scoop of Strawberry Bliss!\\n\\nImagine sunshine-kissed strawberries, bursting with sweet and juicy flavor, perfectly blended into a creamy, dreamy ice cream. That's our Strawberry, a taste of pure summer happiness in every spoonful. This isn't your average strawberry ice cream – it's a symphony of fresh, ripe berries, meticulously crafted to awaken your senses and transport you to a sunny meadow.  Get ready for a taste sensation that will leave you wanting more! \\n\", \"##  Escape to the Mint Chocolate Chip Oasis\\n\\n**Imagine this:**  A cool, refreshing wave of minty bliss washes over you.  Each bite bursts with the bright, invigorating flavor of pure mint, like stepping into a lush, verdant garden.  Then, a delightful surprise – rich, decadent chocolate chips dance across your tongue, creating a perfect harmony of sweet and cool.  \\n\\nThis isn't just ice cream, it's a flavor adventure. It's the perfect pick-me-up after a long day, the ultimate treat for a hot summer afternoon, or the ideal companion for a cozy night in. \\n\\n**Mint Chocolate Chip:** Where fresh mint meets decadent chocolate, and every bite is a moment of pure indulgence. \\n\"]\n"
          ]
        }
      ],
      "source": [
        "print(promotional_descriptions)"
      ]
    },
    {
      "cell_type": "markdown",
      "id": "7135f13d-0f36-4de4-9365-bdadb8e6d611",
      "metadata": {
        "id": "7135f13d-0f36-4de4-9365-bdadb8e6d611"
      },
      "source": [
        "## Extra practice"
      ]
    },
    {
      "cell_type": "markdown",
      "id": "c01cc56d-92c7-4632-8cf9-aef3f9f9e3c7",
      "metadata": {
        "id": "c01cc56d-92c7-4632-8cf9-aef3f9f9e3c7"
      },
      "source": [
        "Please go through the exercises in the cells below if you want some extra practice for the topics you covered in this lesson."
      ]
    },
    {
      "cell_type": "code",
      "execution_count": 12,
      "id": "f5a19e85-cd80-4e02-a5e1-762284bd27b6",
      "metadata": {
        "colab": {
          "base_uri": "https://localhost:8080/",
          "height": 110
        },
        "id": "f5a19e85-cd80-4e02-a5e1-762284bd27b6",
        "outputId": "24a5877f-0c22-4652-9ef8-cec006179131"
      },
      "outputs": [
        {
          "output_type": "error",
          "ename": "SyntaxError",
          "evalue": "invalid syntax (<ipython-input-12-be0fd0472723>, line 8)",
          "traceback": [
            "\u001b[0;36m  File \u001b[0;32m\"<ipython-input-12-be0fd0472723>\"\u001b[0;36m, line \u001b[0;32m8\u001b[0m\n\u001b[0;31m    for flavor in ice_cream_flavors;\u001b[0m\n\u001b[0m                                   ^\u001b[0m\n\u001b[0;31mSyntaxError\u001b[0m\u001b[0;31m:\u001b[0m invalid syntax\n"
          ]
        }
      ],
      "source": [
        "# Fix the following code.\n",
        "# It should print the flavors in\n",
        "# ice_cream_flavors one by one.\n",
        "\n",
        "ice_cream_flavors = [\"Chocolate\", \"Mint Chocolate Chip\"]\n",
        "\n",
        "### EDIT THE FOLLOWING CODE ###\n",
        "for flavor in ice_cream_flavors;\n",
        "    print(ice_cream_flavors)\n",
        "### --------------- ###"
      ]
    },
    {
      "cell_type": "code",
      "source": [
        "# Fix the following code.\n",
        "# It should print the flavors in\n",
        "# ice_cream_flavors one by one.\n",
        "\n",
        "ice_cream_flavors = [\"Chocolate\", \"Mint Chocolate Chip\"]\n",
        "\n",
        "### EDIT THE FOLLOWING CODE ###\n",
        "for flavor in ice_cream_flavors:\n",
        "    print(flavor)\n",
        "### --------------- ###"
      ],
      "metadata": {
        "colab": {
          "base_uri": "https://localhost:8080/"
        },
        "id": "8Aw7m5VevDrC",
        "outputId": "ffda9bfa-c363-49f2-ee3a-0dc172de3325"
      },
      "id": "8Aw7m5VevDrC",
      "execution_count": 14,
      "outputs": [
        {
          "output_type": "stream",
          "name": "stdout",
          "text": [
            "Chocolate\n",
            "Mint Chocolate Chip\n"
          ]
        }
      ]
    },
    {
      "cell_type": "code",
      "execution_count": null,
      "id": "7b7480c4-ae67-42bd-8cac-189f1f087053",
      "metadata": {
        "id": "7b7480c4-ae67-42bd-8cac-189f1f087053"
      },
      "outputs": [],
      "source": [
        "# Translate the flavors in ice_cream_flavors to Spanish\n",
        "ice_cream_flavors = [\"Vanilla\", \"Strawberry\"]\n",
        "\n",
        "for flavor in ice_cream_flavors:\n",
        "    ### EDIT THE FOLLOWING CODE ###\n",
        "    #Hint: you only need to add one or two sentences to the prompt\n",
        "    prompt = f\"\"\"For the ice cream flavor listed below,\n",
        "\n",
        "    \"\"\"\n",
        "    ### --------------- ###\n",
        "    print_llm_response(prompt)"
      ]
    },
    {
      "cell_type": "code",
      "source": [
        "# Translate the flavors in ice_cream_flavors to Spanish\n",
        "ice_cream_flavors = [\"Vanilla\", \"Strawberry\"]\n",
        "\n",
        "for flavor in ice_cream_flavors:\n",
        "    ### EDIT THE FOLLOWING CODE ###\n",
        "    #Hint: you only need to add one or two sentences to the prompt\n",
        "    prompt = f\"\"\"For the ice cream flavor listed below,\n",
        "    Translate the flavors in ice_cream_flavors to Spanish.\n",
        "\n",
        "    Flavor: {flavor}\n",
        "    \"\"\"\n",
        "    translation: str = get_llm_response(prompt)\n",
        "    print_llm_response(translation)"
      ],
      "metadata": {
        "colab": {
          "base_uri": "https://localhost:8080/",
          "height": 309
        },
        "id": "pQAbvfD0vVuD",
        "outputId": "a42c36a4-4aa7-4805-d981-8e90afd45eb8"
      },
      "id": "pQAbvfD0vVuD",
      "execution_count": 16,
      "outputs": [
        {
          "output_type": "stream",
          "name": "stdout",
          "text": [
            "That's correct! The Spanish translation for Vanilla is **Vainilla**. \n",
            "\n",
            "\"Fresa\" can have several meanings, depending on the context. It can refer to:\n",
            "\n",
            "**1. Strawberry (Spanish)**: This is the most common meaning of \"fresa\" in Spanish. \n",
            "**2. A type of person (Spanish)**:  In some Latin American countries, \"fresa\" is used to describe a person who is perceived as being pretentious, fashionable, and often wealthy. It can be used in a derogatory or humorous way. \n",
            "**3. A type of drill bit (English)**:  This is a technical term referring to a specific type of drill bit used for cutting and shaping materials. \n",
            "\n",
            "**To understand the meaning of \"fresa\" in your context, please provide more information.** For example, tell me:\n",
            "\n",
            "* **Where did you encounter the word \"fresa\"?** \n",
            "* **What was the context of the word?**\n",
            "\n",
            "Once I know more, I can give you a more accurate answer. \n",
            "\n"
          ]
        }
      ]
    },
    {
      "cell_type": "code",
      "execution_count": 17,
      "id": "6394bb74-a839-4732-8dbf-1b96bd8e97f9",
      "metadata": {
        "colab": {
          "base_uri": "https://localhost:8080/",
          "height": 35
        },
        "id": "6394bb74-a839-4732-8dbf-1b96bd8e97f9",
        "outputId": "9a93c7e3-ae05-4209-8fc0-d387ce85432c"
      },
      "outputs": [
        {
          "output_type": "stream",
          "name": "stdout",
          "text": [
            "['Apple \\n', 'Weather \\n', 'Newspaper \\n']\n"
          ]
        }
      ],
      "source": [
        "# Write code to get a list with\n",
        "# words without typos\n",
        "\n",
        "words_with_typos = [\"Aple\", \"Wether\", \"Newpaper\"]\n",
        "words_without_typos = []\n",
        "\n",
        "for word in words_with_typos:\n",
        "    prompt = f\"\"\"Fix the spelling mistake in the following word: {word}\n",
        "    Provide only the word.\n",
        "    \"\"\"\n",
        "    correct_word = get_llm_response(prompt)\n",
        "    ### WRITE CODE HERE  ###\n",
        "    words_without_typos.append(correct_word)\n",
        "    ### --------------- ###\n",
        "\n",
        "print(words_without_typos)"
      ]
    }
  ],
  "metadata": {
    "kernelspec": {
      "display_name": "Python 3 (ipykernel)",
      "language": "python",
      "name": "python3"
    },
    "language_info": {
      "codemirror_mode": {
        "name": "ipython",
        "version": 3
      },
      "file_extension": ".py",
      "mimetype": "text/x-python",
      "name": "python",
      "nbconvert_exporter": "python",
      "pygments_lexer": "ipython3",
      "version": "3.9.19"
    },
    "colab": {
      "provenance": [],
      "include_colab_link": true
    }
  },
  "nbformat": 4,
  "nbformat_minor": 5
}