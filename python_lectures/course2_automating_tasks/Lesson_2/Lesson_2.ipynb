{
  "cells": [
    {
      "cell_type": "markdown",
      "metadata": {
        "id": "view-in-github",
        "colab_type": "text"
      },
      "source": [
        "<a href=\"https://colab.research.google.com/github/Alla-ud-din/Python/blob/main/python_lectures/course2_automating_tasks/Lesson_2/Lesson_2.ipynb\" target=\"_parent\"><img src=\"https://colab.research.google.com/assets/colab-badge.svg\" alt=\"Open In Colab\"/></a>"
      ]
    },
    {
      "cell_type": "markdown",
      "id": "4bd8fbd2-de5c-47bd-bcd9-cbbe8cdc3104",
      "metadata": {
        "id": "4bd8fbd2-de5c-47bd-bcd9-cbbe8cdc3104"
      },
      "source": [
        "# Lesson 2 - Repeating tasks with for loops"
      ]
    },
    {
      "cell_type": "code",
      "source": [
        "%%capture --no-stderr\n",
        "%pip install -U langchain_google_genai"
      ],
      "metadata": {
        "id": "SleDohQqAW3J"
      },
      "id": "SleDohQqAW3J",
      "execution_count": 1,
      "outputs": []
    },
    {
      "cell_type": "code",
      "source": [
        "from google.colab import userdata\n",
        "GEMINI_API_KEY = userdata.get('GEMINI_API_KEY')"
      ],
      "metadata": {
        "id": "Z-vEoLlLAXv9"
      },
      "id": "Z-vEoLlLAXv9",
      "execution_count": 2,
      "outputs": []
    },
    {
      "cell_type": "code",
      "source": [
        "from langchain_google_genai import ChatGoogleGenerativeAI\n",
        "\n",
        "llm = ChatGoogleGenerativeAI(\n",
        "    model=\"gemini-1.5-flash\",\n",
        "    max_retries=2,\n",
        "    api_key=GEMINI_API_KEY\n",
        ")"
      ],
      "metadata": {
        "id": "ylsPlzJsAa7T"
      },
      "id": "ylsPlzJsAa7T",
      "execution_count": 3,
      "outputs": []
    },
    {
      "cell_type": "markdown",
      "id": "f6556a1e",
      "metadata": {
        "id": "f6556a1e"
      },
      "source": [
        "### Download helper_function.py\n",
        "* pls set Secrets Variable for Gemini in Collab\n",
        "* `GEMINI_API_KEY`\n",
        "\n",
        "[Get API KEY From Google AI Studio](https://aistudio.google.com/app/apikey)"
      ]
    },
    {
      "cell_type": "code",
      "execution_count": null,
      "id": "2435d49a",
      "metadata": {
        "colab": {
          "base_uri": "https://localhost:8080/"
        },
        "id": "2435d49a",
        "outputId": "4d81e37b-b219-42a8-d46a-6dd3bef41c97"
      },
      "outputs": [
        {
          "output_type": "stream",
          "name": "stdout",
          "text": [
            "  % Total    % Received % Xferd  Average Speed   Time    Time     Time  Current\n",
            "                                 Dload  Upload   Total   Spent    Left  Speed\n",
            "100  3944  100  3944    0     0  14293      0 --:--:-- --:--:-- --:--:-- 14341\n"
          ]
        }
      ],
      "source": [
        "# ### Download helper_function.py\n",
        "# # * Set Secrets Variable for Gemini\n",
        "# # * `GEMINI_API_KEY`\n",
        "\n",
        "# !curl -o helper_functions.py https://raw.githubusercontent.com/panaversity/learn-cloud-native-modern-ai-python/main/04_natural_language_programming/02_ai_python_for_beginners/course1_basics/Lesson_9/helper_functions.py"
      ]
    },
    {
      "cell_type": "markdown",
      "id": "e270cc1f",
      "metadata": {
        "id": "e270cc1f"
      },
      "source": [
        "This lesson will introduce you to a very important concept in programming: the `for` loop. A `for` loop is a special code pattern found in many languages that allows you to repeatedly perform actions on all the items in a list in an automated way. Let's take a look by starting with loading some functions."
      ]
    },
    {
      "cell_type": "code",
      "execution_count": null,
      "id": "41ef33ad-2b5c-40db-a1ab-9f3c689edd55",
      "metadata": {
        "id": "41ef33ad-2b5c-40db-a1ab-9f3c689edd55"
      },
      "outputs": [],
      "source": [
        "# from helper_functions import print_llm_response, get_llm_response"
      ]
    },
    {
      "cell_type": "markdown",
      "id": "db2a457b",
      "metadata": {
        "id": "db2a457b"
      },
      "source": [
        "## From previous lesson\n",
        "\n",
        "At the end of last lesson you saw this list of tasks"
      ]
    },
    {
      "cell_type": "code",
      "execution_count": 4,
      "id": "c2f3989f",
      "metadata": {
        "colab": {
          "base_uri": "https://localhost:8080/"
        },
        "id": "c2f3989f",
        "outputId": "80b5a305-5755-4a97-cbb0-94d4fd2cb8e3"
      },
      "outputs": [
        {
          "output_type": "stream",
          "name": "stdout",
          "text": [
            "[\"Compose a brief email to my boss explaining that I will be late for tomorrow's meeting.\", 'Write a birthday poem for Otto, celebrating his 28th birthday.', \"Write a 300-word review of the movie 'The Arrival'.\"]\n"
          ]
        }
      ],
      "source": [
        "#from previous lesson:\n",
        "list_of_tasks = [\n",
        "    \"Compose a brief email to my boss explaining that I will be late for tomorrow's meeting.\",\n",
        "    \"Write a birthday poem for Otto, celebrating his 28th birthday.\",\n",
        "    \"Write a 300-word review of the movie 'The Arrival'.\"\n",
        "]\n",
        "print(list_of_tasks)"
      ]
    },
    {
      "cell_type": "markdown",
      "id": "e5bae794",
      "metadata": {
        "id": "e5bae794"
      },
      "source": [
        "You passed them one by one to the LLM, repeatedly updated the task variable, then re-executed the function call with this code:"
      ]
    },
    {
      "cell_type": "code",
      "execution_count": 5,
      "id": "9f426b72",
      "metadata": {
        "colab": {
          "base_uri": "https://localhost:8080/",
          "height": 54
        },
        "id": "9f426b72",
        "outputId": "2ea27deb-7d2e-4cee-b454-66454cda3743"
      },
      "outputs": [
        {
          "output_type": "execute_result",
          "data": {
            "text/plain": [
              "\"Subject: Late to Tomorrow's Meeting\\n\\nHi [Boss's name],\\n\\nThis email is to let you know that I will be late to tomorrow's meeting. I expect to arrive by [Time].  I apologize for any inconvenience.\\n\\nThanks,\\n\\n[Your Name]\""
            ],
            "application/vnd.google.colaboratory.intrinsic+json": {
              "type": "string"
            }
          },
          "metadata": {},
          "execution_count": 5
        }
      ],
      "source": [
        "task = list_of_tasks[0]\n",
        "llm.invoke(task).content"
      ]
    },
    {
      "cell_type": "markdown",
      "id": "c46ed944-05e1-4ae0-a238-f172413b1771",
      "metadata": {
        "id": "c46ed944-05e1-4ae0-a238-f172413b1771"
      },
      "source": [
        "If you wanted to complete all the tasks in your list, you would have to re-write the same code multiple times. Alternatively, you can use a `for` loop."
      ]
    },
    {
      "cell_type": "markdown",
      "id": "b40551bc",
      "metadata": {
        "id": "b40551bc"
      },
      "source": [
        "## Iterating through task lists with AI"
      ]
    },
    {
      "cell_type": "markdown",
      "id": "58985454-e28e-49c8-9fe9-3b9057bafd08",
      "metadata": {
        "id": "58985454-e28e-49c8-9fe9-3b9057bafd08"
      },
      "source": [
        "When you run the cell below you will see how the for loop iterates through the elements in `list_of_tasks`."
      ]
    },
    {
      "cell_type": "code",
      "execution_count": 6,
      "id": "0c05dc28-4833-46ae-aad1-3607fab9cd67",
      "metadata": {
        "colab": {
          "base_uri": "https://localhost:8080/"
        },
        "id": "0c05dc28-4833-46ae-aad1-3607fab9cd67",
        "outputId": "c822e656-f205-4795-a8bc-a95967398192"
      },
      "outputs": [
        {
          "output_type": "stream",
          "name": "stdout",
          "text": [
            "Compose a brief email to my boss explaining that I will be late for tomorrow's meeting.\n",
            "Write a birthday poem for Otto, celebrating his 28th birthday.\n",
            "Write a 300-word review of the movie 'The Arrival'.\n"
          ]
        }
      ],
      "source": [
        "for task in list_of_tasks:\n",
        "    print(task)"
      ]
    },
    {
      "cell_type": "markdown",
      "id": "e7dedcb5",
      "metadata": {
        "id": "e7dedcb5"
      },
      "source": [
        "Here's the code that automatically passes all items in list to `print_llm_response`"
      ]
    },
    {
      "cell_type": "code",
      "execution_count": 8,
      "id": "721136bd",
      "metadata": {
        "colab": {
          "base_uri": "https://localhost:8080/"
        },
        "id": "721136bd",
        "outputId": "dfaf529c-92eb-4eb0-d3ce-57ce03d86d6b"
      },
      "outputs": [
        {
          "output_type": "stream",
          "name": "stdout",
          "text": [
            "Subject: Late to Tomorrow's Meeting\n",
            "\n",
            "Hi [Boss's name],\n",
            "\n",
            "Just letting you know that I will be slightly late to tomorrow's meeting due to [brief, optional explanation - e.g., a prior appointment].  I apologize for any inconvenience.\n",
            "\n",
            "Thanks,\n",
            "[Your Name]\n",
            "Twenty-eight years, a journey grand,\n",
            "For Otto, a remarkable man.\n",
            "With wit and charm, a heart so true,\n",
            "May all your dreams and wishes accrue.\n",
            "\n",
            "From youthful days to present time,\n",
            "Your spirit shines, a radiant prime.\n",
            "May laughter fill each passing year,\n",
            "And joy and love forever be near.\n",
            "\n",
            "So raise a glass, let music play,\n",
            "To celebrate this special day.\n",
            "Happy Birthday, Otto, dear friend,\n",
            "May happiness never end!\n",
            "Denis Villeneuve's 'Arrival' isn't just a science fiction film; it's a profound meditation on time, communication, and the human condition.  The film masterfully avoids typical alien invasion tropes, instead opting for a thoughtful and emotionally resonant narrative centered around Dr. Louise Banks (Amy Adams), a linguist recruited to decipher the communication of extraterrestrial visitors.\n",
            "\n",
            "The film's strength lies in its ambiguity.  The alien language, a mesmerizing visual spectacle of swirling, circular glyphs, mirrors the film's own enigmatic nature.  We're drawn into Louise's journey of deciphering not just the aliens' language, but also the implications of their arrival.  The non-linear storytelling, jumping between past and present, initially disorients but ultimately reveals a breathtakingly poignant narrative arc.  This fragmented structure effectively reflects the fractured nature of time and memory as Louise grapples with the weight of her impending future.\n",
            "\n",
            "Jeremy Renner provides excellent support as Ian Donnelly, a physicist working alongside Louise, their collaboration a testament to the power of interdisciplinary understanding.  The film's visual aesthetic is stunning, employing a muted color palette that enhances the film's contemplative mood.  The score, subtly weaving in and out of the narrative, perfectly complements the film's emotional undercurrents.\n",
            "\n",
            "However, the film's ambiguity might not resonate with all viewers.  Some may find the pacing slow, preferring more action-oriented science fiction.  The film's intellectual depth requires active engagement; it's not a passive viewing experience.  But for those willing to delve into its complexities, 'Arrival' offers a rewarding and intellectually stimulating journey.  It's a film that lingers in the mind long after the credits roll, prompting reflection on the nature of choice, consequence, and the profound beauty of human connection, even across the vast expanse of interstellar space.  Ultimately, 'Arrival' is a masterclass in science fiction filmmaking, a film that prioritizes emotional depth and intellectual rigor over spectacle.\n"
          ]
        }
      ],
      "source": [
        "for task in list_of_tasks:\n",
        "    print(llm.invoke(task).content)"
      ]
    },
    {
      "cell_type": "markdown",
      "id": "f9a7a927",
      "metadata": {
        "id": "f9a7a927"
      },
      "source": [
        "Let's break this down.\n",
        "\n",
        "The `for task in list` pattern works as follows:\n",
        "\n",
        "- `task` is assigned the first item in the list. In this case, it's the string `\"Compose a brief email to my boss explaining that I will be late for tomorrow's meeting.\"`\n",
        "- The next indented line is called a block and contains an action to carry out on `task`. In this example, the string gets passed to the LLM, and the result appears on the screen.\n",
        "- Then the loop starts again. Now, `task` is assigned the string \"Write a birthday poem for Otto, celebrating his 28th birthday.\" It's the same variable, but with a different value.\n",
        "- `get_llm_response` runs again, and so on.\n",
        "\n",
        "Be sure to call out the `:` at the end of the line. Indentation is crucial; if it’s not correct, you'll get an error."
      ]
    },
    {
      "cell_type": "code",
      "execution_count": 9,
      "id": "8516a3dc",
      "metadata": {
        "colab": {
          "base_uri": "https://localhost:8080/",
          "height": 110
        },
        "id": "8516a3dc",
        "outputId": "2ed807b2-3f9f-4e18-e036-b1c3fc26e5d4"
      },
      "outputs": [
        {
          "output_type": "error",
          "ename": "IndentationError",
          "evalue": "expected an indented block after 'for' statement on line 1 (<ipython-input-9-08c6658c17ae>, line 2)",
          "traceback": [
            "\u001b[0;36m  File \u001b[0;32m\"<ipython-input-9-08c6658c17ae>\"\u001b[0;36m, line \u001b[0;32m2\u001b[0m\n\u001b[0;31m    llm.invoke(task)\u001b[0m\n\u001b[0m    ^\u001b[0m\n\u001b[0;31mIndentationError\u001b[0m\u001b[0;31m:\u001b[0m expected an indented block after 'for' statement on line 1\n"
          ]
        }
      ],
      "source": [
        "for task in list_of_tasks:\n",
        "llm.invoke(task)"
      ]
    },
    {
      "cell_type": "markdown",
      "id": "2d8e58be",
      "metadata": {
        "id": "2d8e58be"
      },
      "source": [
        "<p style=\"background-color:#F5C780; padding:15px\"> 🤖 <b>Use the Chatbot</b>: Explain indentation error and help me fix it in this for loop: <br>\n",
        "for task in list_of_tasks:<br>\n",
        "print_llm_response(task)\n",
        "</p>"
      ]
    },
    {
      "cell_type": "markdown",
      "id": "8fdafdba-1a33-4bbd-9061-6950bd8bc488",
      "metadata": {
        "id": "8fdafdba-1a33-4bbd-9061-6950bd8bc488"
      },
      "source": [
        "## Iteratively updating AI prompts using lists"
      ]
    },
    {
      "cell_type": "markdown",
      "id": "09cf3e07",
      "metadata": {
        "id": "09cf3e07"
      },
      "source": [
        "You can even use lists with for loops to iteratively update more complex prompts with the list items. For instance, let's say that you have a list of ice-cream flavors:"
      ]
    },
    {
      "cell_type": "code",
      "execution_count": 10,
      "id": "385f6ec5",
      "metadata": {
        "id": "385f6ec5"
      },
      "outputs": [],
      "source": [
        "#ice cream flavor example\n",
        "ice_cream_flavors = [\n",
        "    \"Vanilla\",\n",
        "    \"Chocolate\",\n",
        "    \"Strawberry\",\n",
        "    \"Mint Chocolate Chip\"\n",
        "]"
      ]
    },
    {
      "cell_type": "markdown",
      "id": "bf5219ea",
      "metadata": {
        "id": "bf5219ea"
      },
      "source": [
        "You can use a for loop to iterate through the flavors and create a captivating description for each of them."
      ]
    },
    {
      "cell_type": "code",
      "execution_count": 12,
      "id": "d732762f",
      "metadata": {
        "colab": {
          "base_uri": "https://localhost:8080/"
        },
        "id": "d732762f",
        "outputId": "2c00b1d0-2887-4007-b6ba-a28b9408ea31"
      },
      "outputs": [
        {
          "output_type": "stream",
          "name": "stdout",
          "text": [
            "Several options, depending on the desired tone:\n",
            "\n",
            "**Option 1 (Classic & Elegant):**\n",
            "\n",
            "> **Vanilla: The Timeless Temptation.**  Experience the pure, unadulterated bliss of our handcrafted vanilla ice cream.  Made with the finest Madagascar vanilla beans, each spoonful unfolds a symphony of rich, creamy sweetness, a testament to the enduring elegance of a classic.\n",
            "\n",
            "**Option 2 (Warm & Inviting):**\n",
            "\n",
            "> **Vanilla: Comfort in Every Scoop.**  Escape to a world of pure indulgence with our creamy vanilla ice cream.  The warm, comforting aroma and delicate flavor will transport you to a simpler time, a perfect treat for any occasion.\n",
            "\n",
            "**Option 3 (Modern & Playful):**\n",
            "\n",
            "> **Vanilla: Reimagined.**  Think you know vanilla? Think again. Our vanilla is anything but ordinary.  Made with sustainably sourced beans and a touch of magic, it's the ultimate creamy, dreamy indulgence that will redefine your expectations.\n",
            "\n",
            "**Option 4 (Focus on Ingredients):**\n",
            "\n",
            "> **Vanilla: The Essence of Madagascar.**  Indulge in the rich, complex flavor of our vanilla ice cream, crafted with the finest vanilla beans from the lush landscapes of Madagascar.  Each bite is a journey to the heart of the island, a celebration of pure, natural sweetness.\n",
            "\n",
            "\n",
            "Choose the option that best suits your brand's voice and target audience.\n",
            "**Option 1 (Classic & Luxurious):**\n",
            "\n",
            "> Indulge in the ultimate chocolate experience.  Our decadent Chocolate ice cream is crafted with the finest cocoa beans, resulting in a rich, intensely smooth texture and a deeply satisfying chocolate flavor that will transport you to pure bliss.  This isn't just ice cream; it's a chocolate lover's dream.\n",
            "\n",
            "**Option 2 (Playful & Approachable):**\n",
            "\n",
            "> Happiness is a spoonful of our Chocolate ice cream!  Made with real chocolate, this creamy delight is the perfect treat for any mood.  Simple, satisfying, and undeniably delicious – it's the chocolate ice cream you've been craving.\n",
            "\n",
            "**Option 3 (Sophisticated & Descriptive):**\n",
            "\n",
            "> Experience the artistry of chocolate in every bite.  Our Chocolate ice cream boasts a complex flavor profile, with notes of dark chocolate's bitter intensity balanced by subtle hints of sweetness.  The velvety texture melts effortlessly on your tongue, leaving a lingering, unforgettable chocolate finish.\n",
            "\n",
            "\n",
            "**Option 4 (Short & Sweet):**\n",
            "\n",
            "> The perfect chocolate.  Perfectly creamy.  Perfectly delicious.\n",
            "\n",
            "\n",
            "Choose the option that best suits your brand's voice and target audience.  You can also adapt and combine elements from different options to create the perfect description.\n",
            "Several options, depending on the desired tone:\n",
            "\n",
            "**Option 1 (Classic & Elegant):**\n",
            "\n",
            "> Indulge in the timeless delight of our Strawberry ice cream.  Made with sun-ripened strawberries, bursting with juicy sweetness and a delicate, floral aroma, each spoonful transports you to a sun-drenched strawberry patch.  A truly classic taste, perfectly crafted.\n",
            "\n",
            "\n",
            "**Option 2 (Playful & Fun):**\n",
            "\n",
            "> Get ready for a berry good time! Our Strawberry ice cream is a playful explosion of fresh strawberry flavor.  Sweet, tangy, and utterly irresistible, it's the perfect treat to brighten your day.  Prepare for strawberry bliss!\n",
            "\n",
            "\n",
            "**Option 3 (Premium & Sophisticated):**\n",
            "\n",
            "> Experience the exquisite taste of our handcrafted Strawberry ice cream.  Made with the finest, hand-picked strawberries, this luxurious dessert boasts a rich, complex flavor profile, balanced perfectly between sweet and tart.  A truly unforgettable indulgence.\n",
            "\n",
            "\n",
            "**Option 4 (Short & Sweet):**\n",
            "\n",
            "> Pure strawberry perfection.  Sweet, juicy, and simply irresistible.\n",
            "\n",
            "\n",
            "**Option 5 (Focus on Origin/Method):**\n",
            "\n",
            "> Taste the sunshine in every bite! Our Strawberry ice cream is made with locally sourced, organically grown strawberries, ensuring a vibrant flavor and unmatched freshness.  Experience the difference.\n",
            "Several options, depending on the desired tone:\n",
            "\n",
            "**Option 1 (Classic & Elegant):**\n",
            "\n",
            "> Indulge in the timeless elegance of our Mint Chocolate Chip.  Cool, refreshing mint infused with creamy vanilla bean ice cream, punctuated by the delightful crunch of rich, dark chocolate chips. A symphony of flavor that's both sophisticated and undeniably satisfying.\n",
            "\n",
            "**Option 2 (Playful & Energetic):**\n",
            "\n",
            "> Get ready for a minty explosion! Our Mint Chocolate Chip is the ultimate refreshingly cool treat.  Bursting with vibrant mint flavor and studded with decadent chocolate chips, it's the perfect pick-me-up for any adventure.  Prepare for a flavor fiesta!\n",
            "\n",
            "**Option 3 (Sophisticated & Descriptive):**\n",
            "\n",
            "> Experience the perfect balance of cool and decadent with our handcrafted Mint Chocolate Chip.  The subtle sweetness of our premium mint extract dances on your tongue, perfectly complemented by the intense bitterness of our finely-chopped dark chocolate chips.  A truly unforgettable ice cream experience.\n",
            "\n",
            "\n",
            "**Option 4 (Short & Sweet):**\n",
            "\n",
            "> Cool mint.  Dark chocolate.  Pure bliss.  Our Mint Chocolate Chip.\n",
            "\n",
            "\n",
            "Choose the option that best suits your brand's voice and target audience.\n"
          ]
        }
      ],
      "source": [
        "for flavor in ice_cream_flavors:\n",
        "    prompt = f\"\"\"For the ice cream flavor listed below,\n",
        "    provide a captivating description that could be used for promotional purposes.\n",
        "\n",
        "    Flavor: {flavor}\n",
        "\n",
        "    \"\"\"\n",
        "    print(llm.invoke(prompt).content)"
      ]
    },
    {
      "cell_type": "markdown",
      "id": "d3f3ead6",
      "metadata": {
        "id": "d3f3ead6"
      },
      "source": [
        "Now that you know how to use lists, you can even save the promortional descriptions to another list using `.append()`:"
      ]
    },
    {
      "cell_type": "code",
      "execution_count": 14,
      "id": "db66a442",
      "metadata": {
        "id": "db66a442"
      },
      "outputs": [],
      "source": [
        "#saving results to a list\n",
        "promotional_descriptions = []\n",
        "for flavor in ice_cream_flavors:\n",
        "    prompt = f\"\"\"For the ice cream flavor listed below,\n",
        "    provide a captivating description that could be used for promotional purposes.\n",
        "\n",
        "    Flavor: {flavor}\n",
        "\n",
        "    \"\"\"\n",
        "    description = llm.invoke(prompt)\n",
        "    promotional_descriptions.append(description)"
      ]
    },
    {
      "cell_type": "markdown",
      "id": "ebdbcfa5",
      "metadata": {
        "id": "ebdbcfa5"
      },
      "source": [
        "After you run that code, you should be able to access the promotional descriptions for each of your ice-cream flavors."
      ]
    },
    {
      "cell_type": "code",
      "execution_count": 15,
      "id": "cad94172",
      "metadata": {
        "colab": {
          "base_uri": "https://localhost:8080/"
        },
        "id": "cad94172",
        "outputId": "efb231b8-feb3-4929-8a06-8b3e1ee6b5ea"
      },
      "outputs": [
        {
          "output_type": "stream",
          "name": "stdout",
          "text": [
            "[AIMessage(content=\"**Option 1 (Classic & Elegant):**\\n\\n> Indulge in the timeless perfection of our Vanilla Bean Ice Cream.  Made with the finest Madagascar vanilla beans, each spoonful unveils a symphony of creamy richness and subtle, intoxicating warmth.  A classic for a reason, this is vanilla elevated.\\n\\n\\n**Option 2 (Modern & Playful):**\\n\\n> Forget everything you think you know about vanilla.  Our Vanilla ice cream isn't your grandma's – it's a revelation.  Creamy, intensely flavorful, and surprisingly complex, it's the ultimate blank canvas for your taste buds.  Pure vanilla bliss.\\n\\n\\n**Option 3 (Focus on Ingredients):**\\n\\n> Experience the purest expression of vanilla in every bite.  Our Vanilla Bean Ice Cream is crafted with sustainably sourced, hand-selected Madagascar vanilla beans, resulting in an unparalleled depth of flavor and an unforgettable creamy texture.  Taste the difference quality makes.\\n\\n\\n**Option 4 (Short & Sweet):**\\n\\n> Simply Vanilla.  Simply Delicious.  Experience the ultimate creamy indulgence.\\n\\n\\n**Option 5 (Emphasizing Versatility):**\\n\\n> The perfect base for any creation. Our exquisitely smooth Vanilla Bean Ice Cream is the ideal foundation for your favorite toppings, sauces, and desserts.  Unleash your inner chef!\", additional_kwargs={}, response_metadata={'prompt_feedback': {'block_reason': 0, 'safety_ratings': []}, 'finish_reason': 'STOP', 'safety_ratings': []}, id='run-7cd76fc4-4d30-40c0-a67a-5375651d0e3a-0', usage_metadata={'input_tokens': 29, 'output_tokens': 271, 'total_tokens': 300, 'input_token_details': {'cache_read': 0}}), AIMessage(content=\"**Option 1 (Classic & Rich):**\\n\\n> Indulge in the ultimate chocolate experience.  Our decadent Chocolate ice cream is a symphony of rich, dark cocoa, crafted with the finest ingredients for a taste that's deeply satisfying and undeniably unforgettable.  Pure chocolate bliss in every spoonful.\\n\\n\\n**Option 2 (Modern & Playful):**\\n\\n> Get your chocolate fix!  This isn't your grandma's chocolate ice cream.  Ours is intensely chocolatey, with a smooth, creamy texture that will leave you craving more. Prepare for a chocolate explosion!\\n\\n\\n**Option 3 (Sophisticated & Descriptive):**\\n\\n> Experience the artistry of chocolate.  Our Chocolate ice cream is a meticulously crafted masterpiece, boasting notes of rich dark chocolate, hints of bittersweet, and a velvety smooth finish.  A truly refined indulgence.\\n\\n\\n**Option 4 (Short & Sweet):**\\n\\n> Simply Chocolate. Simply Perfect.\\n\\n\\n**Option 5 (Focusing on a specific type of chocolate):**\\n\\n> Surrender to the dark side. Our intensely rich Dark Chocolate ice cream is made with the finest single-origin cocoa beans, delivering a complex and deeply satisfying flavor profile with subtle notes of [mention specific notes, e.g., espresso, cherry, or spice].  A truly sophisticated treat.\\n\\n\\nChoose the option that best suits your brand's voice and target audience.\", additional_kwargs={}, response_metadata={'prompt_feedback': {'block_reason': 0, 'safety_ratings': []}, 'finish_reason': 'STOP', 'safety_ratings': []}, id='run-a5e6901f-64ad-41af-b9fa-56264f45e3e7-0', usage_metadata={'input_tokens': 29, 'output_tokens': 283, 'total_tokens': 312, 'input_token_details': {'cache_read': 0}}), AIMessage(content=\"**Option 1 (Focus on freshness):**\\n\\n> **Sun-Kissed Strawberry Bliss:**  Imagine biting into the juiciest, ripest strawberry, bursting with sunshine and sweet summer flavor.  Our Strawberry ice cream captures that very essence – a vibrant swirl of creamy goodness infused with real strawberries, for a taste of pure, unforgettable delight.\\n\\n\\n**Option 2 (Focus on luxury):**\\n\\n> **Strawberry Indulgence:**  Experience the epitome of strawberry perfection.  Made with the finest hand-picked strawberries, our Strawberry ice cream is a decadent symphony of creamy texture and intensely rich flavor.  A truly luxurious treat for the discerning palate.\\n\\n\\n**Option 3 (Focus on simplicity):**\\n\\n> **Simply Strawberry:**  Sometimes, the simplest pleasures are the best. Our Strawberry ice cream is a testament to that truth.  Made with just a few carefully selected ingredients, including real strawberries, it delivers a pure and unforgettable strawberry experience that will transport you to a sun-drenched strawberry patch.\\n\\n\\n**Option 4 (More playful):**\\n\\n> **Strawberry Shortcake in a Scoop:**  Get ready for a strawberry explosion! This isn't your grandma's strawberry ice cream – it's packed with juicy strawberry chunks and a hint of that signature shortcake sweetness.  Prepare for a flavor adventure!\\n\\n\\n**Option 5 (Short & Sweet):**\\n\\n> **Strawberry perfection.  Pure and simple.**\", additional_kwargs={}, response_metadata={'prompt_feedback': {'block_reason': 0, 'safety_ratings': []}, 'finish_reason': 'STOP', 'safety_ratings': []}, id='run-bc287ccf-51fd-4912-bfb6-8863f01f3095-0', usage_metadata={'input_tokens': 29, 'output_tokens': 294, 'total_tokens': 323, 'input_token_details': {'cache_read': 0}}), AIMessage(content=\"**Option 1 (Classic & Elegant):**\\n\\n> Indulge in the timeless elegance of our Mint Chocolate Chip.  Cool, refreshing mint ice cream is studded with rich, dark chocolate chips – a symphony of flavor that's both invigorating and utterly decadent.  The perfect escape, scoop after scoop.\\n\\n**Option 2 (Playful & Energetic):**\\n\\n> Get your mint on! Our Mint Chocolate Chip isn't your grandma's ice cream (though she'd probably love it too!).  Bursting with vibrant mint flavor and generous chunks of decadent chocolate, this is a flavor explosion that'll leave you wanting more.  It's the ultimate cool-down treat.\\n\\n**Option 3 (Sophisticated & Descriptive):**\\n\\n> Experience a refreshing awakening with our exquisitely crafted Mint Chocolate Chip.  Smooth, velvety mint ice cream, delicately infused with the purest peppermint essence, is punctuated by intensely dark chocolate chips. Each bite offers a captivating dance of cool and rich, a testament to quality and craftsmanship.\\n\\n**Option 4 (Short & Sweet):**\\n\\n> Cool mint.  Dark chocolate.  Pure bliss.  Our Mint Chocolate Chip is the perfect treat for any occasion.\\n\\n\\nChoose the option that best suits your brand's voice and target audience.\", additional_kwargs={}, response_metadata={'prompt_feedback': {'block_reason': 0, 'safety_ratings': []}, 'finish_reason': 'STOP', 'safety_ratings': []}, id='run-ed2c4a52-40d1-4a56-b0d6-24414894472a-0', usage_metadata={'input_tokens': 31, 'output_tokens': 266, 'total_tokens': 297, 'input_token_details': {'cache_read': 0}})]\n"
          ]
        }
      ],
      "source": [
        "print(promotional_descriptions)"
      ]
    },
    {
      "cell_type": "markdown",
      "id": "7135f13d-0f36-4de4-9365-bdadb8e6d611",
      "metadata": {
        "id": "7135f13d-0f36-4de4-9365-bdadb8e6d611"
      },
      "source": [
        "## Extra practice"
      ]
    },
    {
      "cell_type": "markdown",
      "id": "c01cc56d-92c7-4632-8cf9-aef3f9f9e3c7",
      "metadata": {
        "id": "c01cc56d-92c7-4632-8cf9-aef3f9f9e3c7"
      },
      "source": [
        "Please go through the exercises in the cells below if you want some extra practice for the topics you covered in this lesson."
      ]
    },
    {
      "cell_type": "code",
      "execution_count": null,
      "id": "f5a19e85-cd80-4e02-a5e1-762284bd27b6",
      "metadata": {
        "colab": {
          "base_uri": "https://localhost:8080/",
          "height": 110
        },
        "id": "f5a19e85-cd80-4e02-a5e1-762284bd27b6",
        "outputId": "24a5877f-0c22-4652-9ef8-cec006179131"
      },
      "outputs": [
        {
          "output_type": "error",
          "ename": "SyntaxError",
          "evalue": "invalid syntax (<ipython-input-12-be0fd0472723>, line 8)",
          "traceback": [
            "\u001b[0;36m  File \u001b[0;32m\"<ipython-input-12-be0fd0472723>\"\u001b[0;36m, line \u001b[0;32m8\u001b[0m\n\u001b[0;31m    for flavor in ice_cream_flavors;\u001b[0m\n\u001b[0m                                   ^\u001b[0m\n\u001b[0;31mSyntaxError\u001b[0m\u001b[0;31m:\u001b[0m invalid syntax\n"
          ]
        }
      ],
      "source": [
        "# Fix the following code.\n",
        "# It should print the flavors in\n",
        "# ice_cream_flavors one by one.\n",
        "\n",
        "ice_cream_flavors = [\"Chocolate\", \"Mint Chocolate Chip\"]\n",
        "\n",
        "### EDIT THE FOLLOWING CODE ###\n",
        "for flavor in ice_cream_flavors;\n",
        "    print(ice_cream_flavors)\n",
        "### --------------- ###"
      ]
    },
    {
      "cell_type": "code",
      "source": [
        "# Fix the following code.\n",
        "# It should print the flavors in\n",
        "# ice_cream_flavors one by one.\n",
        "\n",
        "ice_cream_flavors = [\"Chocolate\", \"Mint Chocolate Chip\"]\n",
        "\n",
        "### EDIT THE FOLLOWING CODE ###\n",
        "for flavor in ice_cream_flavors:\n",
        "    print(flavor)\n",
        "### --------------- ###"
      ],
      "metadata": {
        "colab": {
          "base_uri": "https://localhost:8080/"
        },
        "id": "8Aw7m5VevDrC",
        "outputId": "68729309-b660-4801-eb09-9d976962c773"
      },
      "id": "8Aw7m5VevDrC",
      "execution_count": 16,
      "outputs": [
        {
          "output_type": "stream",
          "name": "stdout",
          "text": [
            "Chocolate\n",
            "Mint Chocolate Chip\n"
          ]
        }
      ]
    },
    {
      "cell_type": "code",
      "execution_count": null,
      "id": "7b7480c4-ae67-42bd-8cac-189f1f087053",
      "metadata": {
        "id": "7b7480c4-ae67-42bd-8cac-189f1f087053"
      },
      "outputs": [],
      "source": [
        "# Translate the flavors in ice_cream_flavors to Spanish\n",
        "ice_cream_flavors = [\"Vanilla\", \"Strawberry\"]\n",
        "\n",
        "for flavor in ice_cream_flavors:\n",
        "    ### EDIT THE FOLLOWING CODE ###\n",
        "    #Hint: you only need to add one or two sentences to the prompt\n",
        "    prompt = f\"\"\"For the ice cream flavor listed below,\n",
        "\n",
        "    \"\"\"\n",
        "    ### --------------- ###\n",
        "    llm.invoke(prompt)"
      ]
    },
    {
      "cell_type": "code",
      "source": [
        "# Translate the flavors in ice_cream_flavors to Spanish\n",
        "ice_cream_flavors = [\"Vanilla\", \"Strawberry\"]\n",
        "\n",
        "for flavor in ice_cream_flavors:\n",
        "    ### EDIT THE FOLLOWING CODE ###\n",
        "    #Hint: you only need to add one or two sentences to the prompt\n",
        "    prompt = f\"\"\"For the ice cream flavor listed below,\n",
        "    Translate the flavors in ice_cream_flavors to Spanish.\n",
        "\n",
        "    Flavor: {flavor}\n",
        "    \"\"\"\n",
        "    translation: str = get_llm_response(prompt)\n",
        "    print_llm_response(translation)"
      ],
      "metadata": {
        "colab": {
          "base_uri": "https://localhost:8080/",
          "height": 309
        },
        "id": "pQAbvfD0vVuD",
        "outputId": "a42c36a4-4aa7-4805-d981-8e90afd45eb8"
      },
      "id": "pQAbvfD0vVuD",
      "execution_count": null,
      "outputs": [
        {
          "output_type": "stream",
          "name": "stdout",
          "text": [
            "That's correct! The Spanish translation for Vanilla is **Vainilla**. \n",
            "\n",
            "\"Fresa\" can have several meanings, depending on the context. It can refer to:\n",
            "\n",
            "**1. Strawberry (Spanish)**: This is the most common meaning of \"fresa\" in Spanish. \n",
            "**2. A type of person (Spanish)**:  In some Latin American countries, \"fresa\" is used to describe a person who is perceived as being pretentious, fashionable, and often wealthy. It can be used in a derogatory or humorous way. \n",
            "**3. A type of drill bit (English)**:  This is a technical term referring to a specific type of drill bit used for cutting and shaping materials. \n",
            "\n",
            "**To understand the meaning of \"fresa\" in your context, please provide more information.** For example, tell me:\n",
            "\n",
            "* **Where did you encounter the word \"fresa\"?** \n",
            "* **What was the context of the word?**\n",
            "\n",
            "Once I know more, I can give you a more accurate answer. \n",
            "\n"
          ]
        }
      ]
    },
    {
      "cell_type": "code",
      "execution_count": null,
      "id": "6394bb74-a839-4732-8dbf-1b96bd8e97f9",
      "metadata": {
        "colab": {
          "base_uri": "https://localhost:8080/",
          "height": 35
        },
        "id": "6394bb74-a839-4732-8dbf-1b96bd8e97f9",
        "outputId": "9a93c7e3-ae05-4209-8fc0-d387ce85432c"
      },
      "outputs": [
        {
          "output_type": "stream",
          "name": "stdout",
          "text": [
            "['Apple \\n', 'Weather \\n', 'Newspaper \\n']\n"
          ]
        }
      ],
      "source": [
        "# Write code to get a list with\n",
        "# words without typos\n",
        "\n",
        "words_with_typos = [\"Aple\", \"Wether\", \"Newpaper\"]\n",
        "words_without_typos = []\n",
        "\n",
        "for word in words_with_typos:\n",
        "    prompt = f\"\"\"Fix the spelling mistake in the following word: {word}\n",
        "    Provide only the word.\n",
        "    \"\"\"\n",
        "    correct_word = get_llm_response(prompt)\n",
        "    ### WRITE CODE HERE  ###\n",
        "    words_without_typos.append(correct_word)\n",
        "    ### --------------- ###\n",
        "\n",
        "print(words_without_typos)"
      ]
    }
  ],
  "metadata": {
    "kernelspec": {
      "display_name": "Python 3 (ipykernel)",
      "language": "python",
      "name": "python3"
    },
    "language_info": {
      "codemirror_mode": {
        "name": "ipython",
        "version": 3
      },
      "file_extension": ".py",
      "mimetype": "text/x-python",
      "name": "python",
      "nbconvert_exporter": "python",
      "pygments_lexer": "ipython3",
      "version": "3.9.19"
    },
    "colab": {
      "provenance": [],
      "include_colab_link": true
    }
  },
  "nbformat": 4,
  "nbformat_minor": 5
}