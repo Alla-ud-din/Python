{
  "cells": [
    {
      "cell_type": "markdown",
      "metadata": {
        "id": "view-in-github",
        "colab_type": "text"
      },
      "source": [
        "<a href=\"https://colab.research.google.com/github/Alla-ud-din/Python/blob/main/python_lectures/course2_automating_tasks/Lesson_3/Lesson_3_online_class.ipynb\" target=\"_parent\"><img src=\"https://colab.research.google.com/assets/colab-badge.svg\" alt=\"Open In Colab\"/></a>"
      ]
    },
    {
      "cell_type": "markdown",
      "id": "f6bf49f7-21f0-47bc-9a3e-7fd325a0b9bf",
      "metadata": {
        "id": "f6bf49f7-21f0-47bc-9a3e-7fd325a0b9bf"
      },
      "source": [
        "# Lesson 3 - Prioritizing tasks with dictionaries and AI"
      ]
    },
    {
      "cell_type": "code",
      "source": [
        "#--->\n",
        "# index              0   1   2\n",
        "data : list[str] = [\"a\",\"b\",\"c\"] # list\n",
        "# index   <---      -3  -2  -1\n",
        "data1 : tuple[str] = (\"x\",\"y\",\"z\") # tuple\n",
        "data2 : set[int] = {1,2,3,4,2,2} # set\n",
        "\n",
        "print(type(data))\n",
        "print(type(data1))\n",
        "print(type(data2))\n",
        "\n",
        "# print(data[0])\n",
        "# print(data[-3])"
      ],
      "metadata": {
        "colab": {
          "base_uri": "https://localhost:8080/"
        },
        "id": "Xb3A0gB5B6BD",
        "outputId": "c7d7c9c3-3449-47d6-e7d7-49082d64e8f0"
      },
      "id": "Xb3A0gB5B6BD",
      "execution_count": 2,
      "outputs": [
        {
          "output_type": "stream",
          "name": "stdout",
          "text": [
            "<class 'list'>\n",
            "<class 'tuple'>\n",
            "<class 'set'>\n"
          ]
        }
      ]
    },
    {
      "cell_type": "markdown",
      "source": [
        "## Enabling Type hints"
      ],
      "metadata": {
        "id": "JXDDMyCO5LJc"
      },
      "id": "JXDDMyCO5LJc"
    },
    {
      "cell_type": "code",
      "source": [
        "!pip install -Uq nb-mypy\n",
        "%load_ext nb_mypy"
      ],
      "metadata": {
        "id": "TtoCNnQy3WIo",
        "colab": {
          "base_uri": "https://localhost:8080/"
        },
        "outputId": "a58c52c3-0bc4-422c-bc85-1ba801b3e699"
      },
      "id": "TtoCNnQy3WIo",
      "execution_count": 3,
      "outputs": [
        {
          "output_type": "stream",
          "name": "stdout",
          "text": [
            "  Installing build dependencies ... \u001b[?25l\u001b[?25hdone\n",
            "  Getting requirements to build wheel ... \u001b[?25l\u001b[?25hdone\n",
            "  Preparing metadata (pyproject.toml) ... \u001b[?25l\u001b[?25hdone\n",
            "\u001b[2K   \u001b[90m━━━━━━━━━━━━━━━━━━━━━━━━━━━━━━━━━━━━━━━━\u001b[0m \u001b[32m819.9/819.9 kB\u001b[0m \u001b[31m21.1 MB/s\u001b[0m eta \u001b[36m0:00:00\u001b[0m\n",
            "\u001b[2K   \u001b[90m━━━━━━━━━━━━━━━━━━━━━━━━━━━━━━━━━━━━━━━━\u001b[0m \u001b[32m12.6/12.6 MB\u001b[0m \u001b[31m82.2 MB/s\u001b[0m eta \u001b[36m0:00:00\u001b[0m\n",
            "\u001b[2K   \u001b[90m━━━━━━━━━━━━━━━━━━━━━━━━━━━━━━━━━━━━━━━━\u001b[0m \u001b[32m1.6/1.6 MB\u001b[0m \u001b[31m63.7 MB/s\u001b[0m eta \u001b[36m0:00:00\u001b[0m\n",
            "\u001b[2K   \u001b[90m━━━━━━━━━━━━━━━━━━━━━━━━━━━━━━━━━━━━━━━━\u001b[0m \u001b[32m85.4/85.4 kB\u001b[0m \u001b[31m8.5 MB/s\u001b[0m eta \u001b[36m0:00:00\u001b[0m\n",
            "\u001b[?25h  Building wheel for nb-mypy (pyproject.toml) ... \u001b[?25l\u001b[?25hdone\n",
            "\u001b[31mERROR: pip's dependency resolver does not currently take into account all the packages that are installed. This behaviour is the source of the following dependency conflicts.\n",
            "google-colab 1.0.0 requires ipython==7.34.0, but you have ipython 8.29.0 which is incompatible.\u001b[0m\u001b[31m\n",
            "\u001b[0m"
          ]
        },
        {
          "output_type": "stream",
          "name": "stderr",
          "text": [
            "Version 1.0.5\n",
            "INFO:nb-mypy:Version 1.0.5\n"
          ]
        }
      ]
    },
    {
      "cell_type": "code",
      "source": [
        "from typing import List, Any\n",
        "\n",
        "#                     0       1      2      3\n",
        "data : List[Any] = [\"Qasim\",\"Aslam\", 30, \"MS Data Science\"]\n",
        "\n",
        "# [], index, value\n",
        "\n",
        "print(data[3])# variable_name[index]"
      ],
      "metadata": {
        "colab": {
          "base_uri": "https://localhost:8080/"
        },
        "id": "qXiOkLm5E3Hs",
        "outputId": "872321ea-f5ff-45c3-aad1-74dbfe841abe"
      },
      "id": "qXiOkLm5E3Hs",
      "execution_count": 4,
      "outputs": [
        {
          "output_type": "stream",
          "name": "stdout",
          "text": [
            "MS Data Science\n"
          ]
        }
      ]
    },
    {
      "cell_type": "code",
      "source": [
        "[i for i in dir(list) if \"__\" not in i]"
      ],
      "metadata": {
        "colab": {
          "base_uri": "https://localhost:8080/"
        },
        "id": "2lL_3vRyDhZW",
        "outputId": "2641f8c4-d53e-4e1d-b8b0-66f5869f6a03"
      },
      "id": "2lL_3vRyDhZW",
      "execution_count": 5,
      "outputs": [
        {
          "output_type": "execute_result",
          "data": {
            "text/plain": [
              "['append',\n",
              " 'clear',\n",
              " 'copy',\n",
              " 'count',\n",
              " 'extend',\n",
              " 'index',\n",
              " 'insert',\n",
              " 'pop',\n",
              " 'remove',\n",
              " 'reverse',\n",
              " 'sort']"
            ]
          },
          "metadata": {},
          "execution_count": 5
        }
      ]
    },
    {
      "cell_type": "code",
      "source": [
        "from typing import List, Any\n",
        "names : List[str] = ['Sir Zia','Muhammad',\"Ameen\",\"Junaid\"]\n",
        "print(f\"names variable before using append {names}\")\n",
        "names.append(\"Sir Usman\")\n",
        "print(f\"names variable after using append {names}\")\n",
        "names.clear()\n",
        "print(f\"names variable after using clear: {names}\")"
      ],
      "metadata": {
        "colab": {
          "base_uri": "https://localhost:8080/"
        },
        "id": "cNZ01SkWEDcC",
        "outputId": "9e03b5fb-7f75-4835-ae03-401760b93c98"
      },
      "id": "cNZ01SkWEDcC",
      "execution_count": 6,
      "outputs": [
        {
          "output_type": "stream",
          "name": "stdout",
          "text": [
            "names variable before using append ['Sir Zia', 'Muhammad', 'Ameen', 'Junaid']\n",
            "names variable after using append ['Sir Zia', 'Muhammad', 'Ameen', 'Junaid', 'Sir Usman']\n",
            "names variable after using clear: []\n"
          ]
        }
      ]
    },
    {
      "cell_type": "code",
      "source": [
        "names : List[str] = ['Sir Zia',True,'Muhammad',\"Ameen\",\"Junaid\"]\n",
        "print(names)"
      ],
      "metadata": {
        "colab": {
          "base_uri": "https://localhost:8080/"
        },
        "id": "LuwxCaRYERpa",
        "outputId": "e20c4f87-725a-4985-de59-5153753da9ed"
      },
      "id": "LuwxCaRYERpa",
      "execution_count": 7,
      "outputs": [
        {
          "output_type": "stream",
          "name": "stderr",
          "text": [
            "<cell>1: error: List item 1 has incompatible type \"bool\"; expected \"str\"  [list-item]\n",
            "ERROR:nb-mypy:<cell>1: error: List item 1 has incompatible type \"bool\"; expected \"str\"  [list-item]\n"
          ]
        },
        {
          "output_type": "stream",
          "name": "stdout",
          "text": [
            "['Sir Zia', True, 'Muhammad', 'Ameen', 'Junaid']\n"
          ]
        }
      ]
    },
    {
      "cell_type": "code",
      "source": [
        "from typing import List, Any\n",
        "names : List[str] = ['Sir Zia','Muhammad',\"Ameen\",\"Junaid\"]\n",
        "print(f\"names: {names}\")\n",
        "copied_names : List[str] = names.copy()\n",
        "print(f\"copied_names: {copied_names}\")\n",
        "print(f\"number of occurrences of value: {names.count('Sir Zia')}\")\n",
        "print(f\"Index of Sir Zia: {names.index('Sir Zia')}\")"
      ],
      "metadata": {
        "id": "i7OuUTsQieor",
        "outputId": "0689aead-1ec2-490a-cb32-97dbbd00458a",
        "colab": {
          "base_uri": "https://localhost:8080/"
        }
      },
      "id": "i7OuUTsQieor",
      "execution_count": 8,
      "outputs": [
        {
          "output_type": "stream",
          "name": "stdout",
          "text": [
            "names: ['Sir Zia', 'Muhammad', 'Ameen', 'Junaid']\n",
            "copied_names: ['Sir Zia', 'Muhammad', 'Ameen', 'Junaid']\n",
            "number of occurrences of value: 1\n",
            "Index of Sir Zia: 0\n"
          ]
        }
      ]
    },
    {
      "cell_type": "code",
      "source": [
        "# prompt: give examples which depict the difference between append , extend and insert\n",
        "\n",
        "my_list = [1, 2, 3]\n",
        "\n",
        "# Append: Adds a single element to the end of the list.\n",
        "my_list.append([4,5,6])\n",
        "print(f\"After append: {my_list}\")  # Output: [1, 2, 3, 4]\n",
        "\n",
        "\n",
        "# Extend: Adds multiple elements (from an iterable like another list) to the end of the list.\n",
        "my_list.extend([7, 8, 9])\n",
        "print(f\"After extend: {my_list}\")  # Output: [1, 2, 3, 4, 5, 6, 7]\n",
        "\n",
        "# Insert: Inserts an element at a specific index in the list.\n",
        "my_list.insert(1, \"new_element\")\n",
        "print(f\"After insert: {my_list}\")  # Output: [1, 'new_element', 2, 3, 4, 5, 6, 7]"
      ],
      "metadata": {
        "id": "tjHh2MgRvECN",
        "outputId": "5788287a-62e9-4e01-85a6-c76e684a86fa",
        "colab": {
          "base_uri": "https://localhost:8080/"
        }
      },
      "id": "tjHh2MgRvECN",
      "execution_count": 9,
      "outputs": [
        {
          "output_type": "stream",
          "name": "stderr",
          "text": [
            "<cell>6: error: Argument 1 to \"append\" of \"list\" has incompatible type \"list[int]\"; expected \"int\"  [arg-type]\n",
            "ERROR:nb-mypy:<cell>6: error: Argument 1 to \"append\" of \"list\" has incompatible type \"list[int]\"; expected \"int\"  [arg-type]\n",
            "<cell>15: error: Argument 2 to \"insert\" of \"list\" has incompatible type \"str\"; expected \"int\"  [arg-type]\n",
            "ERROR:nb-mypy:<cell>15: error: Argument 2 to \"insert\" of \"list\" has incompatible type \"str\"; expected \"int\"  [arg-type]\n"
          ]
        },
        {
          "output_type": "stream",
          "name": "stdout",
          "text": [
            "After append: [1, 2, 3, [4, 5, 6]]\n",
            "After extend: [1, 2, 3, [4, 5, 6], 7, 8, 9]\n",
            "After insert: [1, 'new_element', 2, 3, [4, 5, 6], 7, 8, 9]\n"
          ]
        }
      ]
    },
    {
      "cell_type": "code",
      "source": [
        "from typing import List, Any\n",
        "names : List[str] = ['Sir Zia','Muhammad',\"Ameen\",\"Junaid\"]\n",
        "print(f\"poped element: {names.pop(1)}\")  # This will remove element at index 1\n",
        "print(f\"names: {names}\")\n",
        "print(f\"poped element: {names.pop()}\")   # This will remove last element\n",
        "print(f\"names: {names}\")\n",
        "print(f\"removed element: {names.remove('Ameen')}\")\n",
        "print(f\"names: {names}\")"
      ],
      "metadata": {
        "id": "5YzWcZ-mhhob",
        "outputId": "e8b4a666-0e4f-4d4f-b0fa-65b13e558069",
        "colab": {
          "base_uri": "https://localhost:8080/"
        }
      },
      "id": "5YzWcZ-mhhob",
      "execution_count": 10,
      "outputs": [
        {
          "output_type": "stream",
          "name": "stderr",
          "text": [
            "<cell>7: error: \"remove\" of \"list\" does not return a value (it only ever returns None)  [func-returns-value]\n",
            "ERROR:nb-mypy:<cell>7: error: \"remove\" of \"list\" does not return a value (it only ever returns None)  [func-returns-value]\n"
          ]
        },
        {
          "output_type": "stream",
          "name": "stdout",
          "text": [
            "poped element: Muhammad\n",
            "names: ['Sir Zia', 'Ameen', 'Junaid']\n",
            "poped element: Junaid\n",
            "names: ['Sir Zia', 'Ameen']\n",
            "removed element: None\n",
            "names: ['Sir Zia']\n"
          ]
        }
      ]
    },
    {
      "cell_type": "code",
      "source": [
        "# prompt: give example showing difference between pop and remove\n",
        "\n",
        "names = ['Sir Zia', 'Muhammad', 'Ameen', 'Junaid']\n",
        "\n",
        "# Using pop() to remove the element at index 1 (which is 'Muhammad')\n",
        "popped_element = names.pop(1)\n",
        "print(f\"Removed element using pop(): {popped_element}\")\n",
        "print(f\"Names after pop(): {names}\")\n",
        "\n",
        "# Using remove() to remove the element 'Ameen' by value\n",
        "names.remove('Ameen')\n",
        "print(f\"Names after remove(): {names}\")"
      ],
      "metadata": {
        "id": "prxUeXZYid7-",
        "outputId": "80adfb47-ce72-4b86-b8d3-1693542f331b",
        "colab": {
          "base_uri": "https://localhost:8080/"
        }
      },
      "id": "prxUeXZYid7-",
      "execution_count": 11,
      "outputs": [
        {
          "output_type": "stream",
          "name": "stdout",
          "text": [
            "Removed element using pop(): Muhammad\n",
            "Names after pop(): ['Sir Zia', 'Ameen', 'Junaid']\n",
            "Names after remove(): ['Sir Zia', 'Junaid']\n"
          ]
        }
      ]
    },
    {
      "cell_type": "code",
      "source": [
        "from typing import List, Any\n",
        "names : List[str] = ['Sir Zia','Muhammad',\"Ameen\",\"Junaid\"]\n",
        "names.reverse()\n",
        "print(f\"names: {names}\")\n",
        "names.sort()\n",
        "print(f\"names: {names}\")"
      ],
      "metadata": {
        "id": "E6qLMWSIiwFq",
        "outputId": "213bf99a-7798-4787-ff82-fe76ebc0276c",
        "colab": {
          "base_uri": "https://localhost:8080/"
        }
      },
      "id": "E6qLMWSIiwFq",
      "execution_count": 12,
      "outputs": [
        {
          "output_type": "stream",
          "name": "stdout",
          "text": [
            "names: ['Junaid', 'Ameen', 'Muhammad', 'Sir Zia']\n",
            "names: ['Ameen', 'Junaid', 'Muhammad', 'Sir Zia']\n"
          ]
        }
      ]
    },
    {
      "cell_type": "code",
      "source": [
        "# {}, key, value\n",
        "from typing import Dict, Any\n",
        "\n",
        "data : Dict[str, str | int] = {\n",
        "    \"name\" : \"Qasim\",\n",
        "    \"father_name\" : \"Aslam\",\n",
        "    \"age\" : 30,\n",
        "    \"education\" : \"MS Data Science\"\n",
        "}\n",
        "\n",
        "print(data['name'])# variable_name[key]\n",
        "\n"
      ],
      "metadata": {
        "colab": {
          "base_uri": "https://localhost:8080/"
        },
        "id": "P35lTplVFik_",
        "outputId": "981e96c9-96fd-45a7-89a9-d607068a5bc3"
      },
      "id": "P35lTplVFik_",
      "execution_count": 13,
      "outputs": [
        {
          "output_type": "stream",
          "name": "stdout",
          "text": [
            "Qasim\n"
          ]
        }
      ]
    },
    {
      "cell_type": "code",
      "source": [
        "data"
      ],
      "metadata": {
        "colab": {
          "base_uri": "https://localhost:8080/"
        },
        "id": "tjmicStTI6No",
        "outputId": "3b92426f-bb9d-45f7-a491-e46b64f0925d"
      },
      "id": "tjmicStTI6No",
      "execution_count": 14,
      "outputs": [
        {
          "output_type": "execute_result",
          "data": {
            "text/plain": [
              "{'name': 'Qasim',\n",
              " 'father_name': 'Aslam',\n",
              " 'age': 30,\n",
              " 'education': 'MS Data Science'}"
            ]
          },
          "metadata": {},
          "execution_count": 14
        }
      ]
    },
    {
      "cell_type": "code",
      "source": [
        "print(data)\n",
        "data['father_name']"
      ],
      "metadata": {
        "colab": {
          "base_uri": "https://localhost:8080/",
          "height": 54
        },
        "id": "dBE0MspeJH7f",
        "outputId": "a745a183-836f-4a58-c912-3d32acb83aa6"
      },
      "id": "dBE0MspeJH7f",
      "execution_count": 15,
      "outputs": [
        {
          "output_type": "stream",
          "name": "stdout",
          "text": [
            "{'name': 'Qasim', 'father_name': 'Aslam', 'age': 30, 'education': 'MS Data Science'}\n"
          ]
        },
        {
          "output_type": "execute_result",
          "data": {
            "text/plain": [
              "'Aslam'"
            ],
            "application/vnd.google.colaboratory.intrinsic+json": {
              "type": "string"
            }
          },
          "metadata": {},
          "execution_count": 15
        }
      ]
    },
    {
      "cell_type": "code",
      "source": [
        "data['name'] = \"Muhammad Qasim\"\n",
        "data"
      ],
      "metadata": {
        "colab": {
          "base_uri": "https://localhost:8080/"
        },
        "id": "OgNUwya8JUKL",
        "outputId": "a83110e0-ec99-4386-c32e-89fc33f6a74a"
      },
      "id": "OgNUwya8JUKL",
      "execution_count": 16,
      "outputs": [
        {
          "output_type": "execute_result",
          "data": {
            "text/plain": [
              "{'name': 'Muhammad Qasim',\n",
              " 'father_name': 'Aslam',\n",
              " 'age': 30,\n",
              " 'education': 'MS Data Science'}"
            ]
          },
          "metadata": {},
          "execution_count": 16
        }
      ]
    },
    {
      "cell_type": "code",
      "source": [
        "data['blood_group'] = \"A+\"\n",
        "data"
      ],
      "metadata": {
        "colab": {
          "base_uri": "https://localhost:8080/"
        },
        "id": "fD7zS3rQJimN",
        "outputId": "ebb2826a-752f-4a3e-cb0a-5874ada57e5e"
      },
      "id": "fD7zS3rQJimN",
      "execution_count": 17,
      "outputs": [
        {
          "output_type": "execute_result",
          "data": {
            "text/plain": [
              "{'name': 'Muhammad Qasim',\n",
              " 'father_name': 'Aslam',\n",
              " 'age': 30,\n",
              " 'education': 'MS Data Science',\n",
              " 'blood_group': 'A+'}"
            ]
          },
          "metadata": {},
          "execution_count": 17
        }
      ]
    },
    {
      "cell_type": "code",
      "source": [
        "# prompt: create 20 samples students data, with dictionary then convert into dataframe.\n",
        "\n",
        "import pandas as pd\n",
        "import random\n",
        "\n",
        "students_data = []\n",
        "for i in range(20):\n",
        "  student = {\n",
        "      'name': f'Student {i+1}',\n",
        "      'age': random.randint(18, 25),\n",
        "      'major': random.choice(['Computer Science', 'Engineering', 'Business', 'Arts']),\n",
        "      'gpa': round(random.uniform(2.5, 4.0), 2)\n",
        "  }\n",
        "  students_data.append(student)\n",
        "\n",
        "df = pd.DataFrame(students_data)\n",
        "df"
      ],
      "metadata": {
        "colab": {
          "base_uri": "https://localhost:8080/",
          "height": 676
        },
        "id": "NL134Wo5HvvV",
        "outputId": "abe3700e-8981-49f5-e11b-4a9afaeed146"
      },
      "id": "NL134Wo5HvvV",
      "execution_count": 18,
      "outputs": [
        {
          "output_type": "execute_result",
          "data": {
            "text/plain": [
              "          name  age             major   gpa\n",
              "0    Student 1   22              Arts  3.65\n",
              "1    Student 2   21       Engineering  3.62\n",
              "2    Student 3   25              Arts  3.32\n",
              "3    Student 4   22  Computer Science  2.94\n",
              "4    Student 5   23              Arts  3.40\n",
              "5    Student 6   19              Arts  2.72\n",
              "6    Student 7   23          Business  2.93\n",
              "7    Student 8   18       Engineering  3.13\n",
              "8    Student 9   24  Computer Science  2.63\n",
              "9   Student 10   18          Business  3.57\n",
              "10  Student 11   18              Arts  2.81\n",
              "11  Student 12   21              Arts  3.09\n",
              "12  Student 13   25          Business  3.47\n",
              "13  Student 14   20  Computer Science  2.78\n",
              "14  Student 15   18          Business  2.85\n",
              "15  Student 16   19  Computer Science  3.51\n",
              "16  Student 17   23  Computer Science  2.84\n",
              "17  Student 18   24  Computer Science  3.16\n",
              "18  Student 19   23  Computer Science  3.12\n",
              "19  Student 20   20          Business  3.68"
            ],
            "text/html": [
              "\n",
              "  <div id=\"df-c307e20f-0c1d-4936-a035-a3640b35a288\" class=\"colab-df-container\">\n",
              "    <div>\n",
              "<style scoped>\n",
              "    .dataframe tbody tr th:only-of-type {\n",
              "        vertical-align: middle;\n",
              "    }\n",
              "\n",
              "    .dataframe tbody tr th {\n",
              "        vertical-align: top;\n",
              "    }\n",
              "\n",
              "    .dataframe thead th {\n",
              "        text-align: right;\n",
              "    }\n",
              "</style>\n",
              "<table border=\"1\" class=\"dataframe\">\n",
              "  <thead>\n",
              "    <tr style=\"text-align: right;\">\n",
              "      <th></th>\n",
              "      <th>name</th>\n",
              "      <th>age</th>\n",
              "      <th>major</th>\n",
              "      <th>gpa</th>\n",
              "    </tr>\n",
              "  </thead>\n",
              "  <tbody>\n",
              "    <tr>\n",
              "      <th>0</th>\n",
              "      <td>Student 1</td>\n",
              "      <td>22</td>\n",
              "      <td>Arts</td>\n",
              "      <td>3.65</td>\n",
              "    </tr>\n",
              "    <tr>\n",
              "      <th>1</th>\n",
              "      <td>Student 2</td>\n",
              "      <td>21</td>\n",
              "      <td>Engineering</td>\n",
              "      <td>3.62</td>\n",
              "    </tr>\n",
              "    <tr>\n",
              "      <th>2</th>\n",
              "      <td>Student 3</td>\n",
              "      <td>25</td>\n",
              "      <td>Arts</td>\n",
              "      <td>3.32</td>\n",
              "    </tr>\n",
              "    <tr>\n",
              "      <th>3</th>\n",
              "      <td>Student 4</td>\n",
              "      <td>22</td>\n",
              "      <td>Computer Science</td>\n",
              "      <td>2.94</td>\n",
              "    </tr>\n",
              "    <tr>\n",
              "      <th>4</th>\n",
              "      <td>Student 5</td>\n",
              "      <td>23</td>\n",
              "      <td>Arts</td>\n",
              "      <td>3.40</td>\n",
              "    </tr>\n",
              "    <tr>\n",
              "      <th>5</th>\n",
              "      <td>Student 6</td>\n",
              "      <td>19</td>\n",
              "      <td>Arts</td>\n",
              "      <td>2.72</td>\n",
              "    </tr>\n",
              "    <tr>\n",
              "      <th>6</th>\n",
              "      <td>Student 7</td>\n",
              "      <td>23</td>\n",
              "      <td>Business</td>\n",
              "      <td>2.93</td>\n",
              "    </tr>\n",
              "    <tr>\n",
              "      <th>7</th>\n",
              "      <td>Student 8</td>\n",
              "      <td>18</td>\n",
              "      <td>Engineering</td>\n",
              "      <td>3.13</td>\n",
              "    </tr>\n",
              "    <tr>\n",
              "      <th>8</th>\n",
              "      <td>Student 9</td>\n",
              "      <td>24</td>\n",
              "      <td>Computer Science</td>\n",
              "      <td>2.63</td>\n",
              "    </tr>\n",
              "    <tr>\n",
              "      <th>9</th>\n",
              "      <td>Student 10</td>\n",
              "      <td>18</td>\n",
              "      <td>Business</td>\n",
              "      <td>3.57</td>\n",
              "    </tr>\n",
              "    <tr>\n",
              "      <th>10</th>\n",
              "      <td>Student 11</td>\n",
              "      <td>18</td>\n",
              "      <td>Arts</td>\n",
              "      <td>2.81</td>\n",
              "    </tr>\n",
              "    <tr>\n",
              "      <th>11</th>\n",
              "      <td>Student 12</td>\n",
              "      <td>21</td>\n",
              "      <td>Arts</td>\n",
              "      <td>3.09</td>\n",
              "    </tr>\n",
              "    <tr>\n",
              "      <th>12</th>\n",
              "      <td>Student 13</td>\n",
              "      <td>25</td>\n",
              "      <td>Business</td>\n",
              "      <td>3.47</td>\n",
              "    </tr>\n",
              "    <tr>\n",
              "      <th>13</th>\n",
              "      <td>Student 14</td>\n",
              "      <td>20</td>\n",
              "      <td>Computer Science</td>\n",
              "      <td>2.78</td>\n",
              "    </tr>\n",
              "    <tr>\n",
              "      <th>14</th>\n",
              "      <td>Student 15</td>\n",
              "      <td>18</td>\n",
              "      <td>Business</td>\n",
              "      <td>2.85</td>\n",
              "    </tr>\n",
              "    <tr>\n",
              "      <th>15</th>\n",
              "      <td>Student 16</td>\n",
              "      <td>19</td>\n",
              "      <td>Computer Science</td>\n",
              "      <td>3.51</td>\n",
              "    </tr>\n",
              "    <tr>\n",
              "      <th>16</th>\n",
              "      <td>Student 17</td>\n",
              "      <td>23</td>\n",
              "      <td>Computer Science</td>\n",
              "      <td>2.84</td>\n",
              "    </tr>\n",
              "    <tr>\n",
              "      <th>17</th>\n",
              "      <td>Student 18</td>\n",
              "      <td>24</td>\n",
              "      <td>Computer Science</td>\n",
              "      <td>3.16</td>\n",
              "    </tr>\n",
              "    <tr>\n",
              "      <th>18</th>\n",
              "      <td>Student 19</td>\n",
              "      <td>23</td>\n",
              "      <td>Computer Science</td>\n",
              "      <td>3.12</td>\n",
              "    </tr>\n",
              "    <tr>\n",
              "      <th>19</th>\n",
              "      <td>Student 20</td>\n",
              "      <td>20</td>\n",
              "      <td>Business</td>\n",
              "      <td>3.68</td>\n",
              "    </tr>\n",
              "  </tbody>\n",
              "</table>\n",
              "</div>\n",
              "    <div class=\"colab-df-buttons\">\n",
              "\n",
              "  <div class=\"colab-df-container\">\n",
              "    <button class=\"colab-df-convert\" onclick=\"convertToInteractive('df-c307e20f-0c1d-4936-a035-a3640b35a288')\"\n",
              "            title=\"Convert this dataframe to an interactive table.\"\n",
              "            style=\"display:none;\">\n",
              "\n",
              "  <svg xmlns=\"http://www.w3.org/2000/svg\" height=\"24px\" viewBox=\"0 -960 960 960\">\n",
              "    <path d=\"M120-120v-720h720v720H120Zm60-500h600v-160H180v160Zm220 220h160v-160H400v160Zm0 220h160v-160H400v160ZM180-400h160v-160H180v160Zm440 0h160v-160H620v160ZM180-180h160v-160H180v160Zm440 0h160v-160H620v160Z\"/>\n",
              "  </svg>\n",
              "    </button>\n",
              "\n",
              "  <style>\n",
              "    .colab-df-container {\n",
              "      display:flex;\n",
              "      gap: 12px;\n",
              "    }\n",
              "\n",
              "    .colab-df-convert {\n",
              "      background-color: #E8F0FE;\n",
              "      border: none;\n",
              "      border-radius: 50%;\n",
              "      cursor: pointer;\n",
              "      display: none;\n",
              "      fill: #1967D2;\n",
              "      height: 32px;\n",
              "      padding: 0 0 0 0;\n",
              "      width: 32px;\n",
              "    }\n",
              "\n",
              "    .colab-df-convert:hover {\n",
              "      background-color: #E2EBFA;\n",
              "      box-shadow: 0px 1px 2px rgba(60, 64, 67, 0.3), 0px 1px 3px 1px rgba(60, 64, 67, 0.15);\n",
              "      fill: #174EA6;\n",
              "    }\n",
              "\n",
              "    .colab-df-buttons div {\n",
              "      margin-bottom: 4px;\n",
              "    }\n",
              "\n",
              "    [theme=dark] .colab-df-convert {\n",
              "      background-color: #3B4455;\n",
              "      fill: #D2E3FC;\n",
              "    }\n",
              "\n",
              "    [theme=dark] .colab-df-convert:hover {\n",
              "      background-color: #434B5C;\n",
              "      box-shadow: 0px 1px 3px 1px rgba(0, 0, 0, 0.15);\n",
              "      filter: drop-shadow(0px 1px 2px rgba(0, 0, 0, 0.3));\n",
              "      fill: #FFFFFF;\n",
              "    }\n",
              "  </style>\n",
              "\n",
              "    <script>\n",
              "      const buttonEl =\n",
              "        document.querySelector('#df-c307e20f-0c1d-4936-a035-a3640b35a288 button.colab-df-convert');\n",
              "      buttonEl.style.display =\n",
              "        google.colab.kernel.accessAllowed ? 'block' : 'none';\n",
              "\n",
              "      async function convertToInteractive(key) {\n",
              "        const element = document.querySelector('#df-c307e20f-0c1d-4936-a035-a3640b35a288');\n",
              "        const dataTable =\n",
              "          await google.colab.kernel.invokeFunction('convertToInteractive',\n",
              "                                                    [key], {});\n",
              "        if (!dataTable) return;\n",
              "\n",
              "        const docLinkHtml = 'Like what you see? Visit the ' +\n",
              "          '<a target=\"_blank\" href=https://colab.research.google.com/notebooks/data_table.ipynb>data table notebook</a>'\n",
              "          + ' to learn more about interactive tables.';\n",
              "        element.innerHTML = '';\n",
              "        dataTable['output_type'] = 'display_data';\n",
              "        await google.colab.output.renderOutput(dataTable, element);\n",
              "        const docLink = document.createElement('div');\n",
              "        docLink.innerHTML = docLinkHtml;\n",
              "        element.appendChild(docLink);\n",
              "      }\n",
              "    </script>\n",
              "  </div>\n",
              "\n",
              "\n",
              "<div id=\"df-80cdeb8d-979b-4256-ab5b-b95982a268c6\">\n",
              "  <button class=\"colab-df-quickchart\" onclick=\"quickchart('df-80cdeb8d-979b-4256-ab5b-b95982a268c6')\"\n",
              "            title=\"Suggest charts\"\n",
              "            style=\"display:none;\">\n",
              "\n",
              "<svg xmlns=\"http://www.w3.org/2000/svg\" height=\"24px\"viewBox=\"0 0 24 24\"\n",
              "     width=\"24px\">\n",
              "    <g>\n",
              "        <path d=\"M19 3H5c-1.1 0-2 .9-2 2v14c0 1.1.9 2 2 2h14c1.1 0 2-.9 2-2V5c0-1.1-.9-2-2-2zM9 17H7v-7h2v7zm4 0h-2V7h2v10zm4 0h-2v-4h2v4z\"/>\n",
              "    </g>\n",
              "</svg>\n",
              "  </button>\n",
              "\n",
              "<style>\n",
              "  .colab-df-quickchart {\n",
              "      --bg-color: #E8F0FE;\n",
              "      --fill-color: #1967D2;\n",
              "      --hover-bg-color: #E2EBFA;\n",
              "      --hover-fill-color: #174EA6;\n",
              "      --disabled-fill-color: #AAA;\n",
              "      --disabled-bg-color: #DDD;\n",
              "  }\n",
              "\n",
              "  [theme=dark] .colab-df-quickchart {\n",
              "      --bg-color: #3B4455;\n",
              "      --fill-color: #D2E3FC;\n",
              "      --hover-bg-color: #434B5C;\n",
              "      --hover-fill-color: #FFFFFF;\n",
              "      --disabled-bg-color: #3B4455;\n",
              "      --disabled-fill-color: #666;\n",
              "  }\n",
              "\n",
              "  .colab-df-quickchart {\n",
              "    background-color: var(--bg-color);\n",
              "    border: none;\n",
              "    border-radius: 50%;\n",
              "    cursor: pointer;\n",
              "    display: none;\n",
              "    fill: var(--fill-color);\n",
              "    height: 32px;\n",
              "    padding: 0;\n",
              "    width: 32px;\n",
              "  }\n",
              "\n",
              "  .colab-df-quickchart:hover {\n",
              "    background-color: var(--hover-bg-color);\n",
              "    box-shadow: 0 1px 2px rgba(60, 64, 67, 0.3), 0 1px 3px 1px rgba(60, 64, 67, 0.15);\n",
              "    fill: var(--button-hover-fill-color);\n",
              "  }\n",
              "\n",
              "  .colab-df-quickchart-complete:disabled,\n",
              "  .colab-df-quickchart-complete:disabled:hover {\n",
              "    background-color: var(--disabled-bg-color);\n",
              "    fill: var(--disabled-fill-color);\n",
              "    box-shadow: none;\n",
              "  }\n",
              "\n",
              "  .colab-df-spinner {\n",
              "    border: 2px solid var(--fill-color);\n",
              "    border-color: transparent;\n",
              "    border-bottom-color: var(--fill-color);\n",
              "    animation:\n",
              "      spin 1s steps(1) infinite;\n",
              "  }\n",
              "\n",
              "  @keyframes spin {\n",
              "    0% {\n",
              "      border-color: transparent;\n",
              "      border-bottom-color: var(--fill-color);\n",
              "      border-left-color: var(--fill-color);\n",
              "    }\n",
              "    20% {\n",
              "      border-color: transparent;\n",
              "      border-left-color: var(--fill-color);\n",
              "      border-top-color: var(--fill-color);\n",
              "    }\n",
              "    30% {\n",
              "      border-color: transparent;\n",
              "      border-left-color: var(--fill-color);\n",
              "      border-top-color: var(--fill-color);\n",
              "      border-right-color: var(--fill-color);\n",
              "    }\n",
              "    40% {\n",
              "      border-color: transparent;\n",
              "      border-right-color: var(--fill-color);\n",
              "      border-top-color: var(--fill-color);\n",
              "    }\n",
              "    60% {\n",
              "      border-color: transparent;\n",
              "      border-right-color: var(--fill-color);\n",
              "    }\n",
              "    80% {\n",
              "      border-color: transparent;\n",
              "      border-right-color: var(--fill-color);\n",
              "      border-bottom-color: var(--fill-color);\n",
              "    }\n",
              "    90% {\n",
              "      border-color: transparent;\n",
              "      border-bottom-color: var(--fill-color);\n",
              "    }\n",
              "  }\n",
              "</style>\n",
              "\n",
              "  <script>\n",
              "    async function quickchart(key) {\n",
              "      const quickchartButtonEl =\n",
              "        document.querySelector('#' + key + ' button');\n",
              "      quickchartButtonEl.disabled = true;  // To prevent multiple clicks.\n",
              "      quickchartButtonEl.classList.add('colab-df-spinner');\n",
              "      try {\n",
              "        const charts = await google.colab.kernel.invokeFunction(\n",
              "            'suggestCharts', [key], {});\n",
              "      } catch (error) {\n",
              "        console.error('Error during call to suggestCharts:', error);\n",
              "      }\n",
              "      quickchartButtonEl.classList.remove('colab-df-spinner');\n",
              "      quickchartButtonEl.classList.add('colab-df-quickchart-complete');\n",
              "    }\n",
              "    (() => {\n",
              "      let quickchartButtonEl =\n",
              "        document.querySelector('#df-80cdeb8d-979b-4256-ab5b-b95982a268c6 button');\n",
              "      quickchartButtonEl.style.display =\n",
              "        google.colab.kernel.accessAllowed ? 'block' : 'none';\n",
              "    })();\n",
              "  </script>\n",
              "</div>\n",
              "\n",
              "  <div id=\"id_1a73bdc8-843a-47cb-8e3f-9abe06318eff\">\n",
              "    <style>\n",
              "      .colab-df-generate {\n",
              "        background-color: #E8F0FE;\n",
              "        border: none;\n",
              "        border-radius: 50%;\n",
              "        cursor: pointer;\n",
              "        display: none;\n",
              "        fill: #1967D2;\n",
              "        height: 32px;\n",
              "        padding: 0 0 0 0;\n",
              "        width: 32px;\n",
              "      }\n",
              "\n",
              "      .colab-df-generate:hover {\n",
              "        background-color: #E2EBFA;\n",
              "        box-shadow: 0px 1px 2px rgba(60, 64, 67, 0.3), 0px 1px 3px 1px rgba(60, 64, 67, 0.15);\n",
              "        fill: #174EA6;\n",
              "      }\n",
              "\n",
              "      [theme=dark] .colab-df-generate {\n",
              "        background-color: #3B4455;\n",
              "        fill: #D2E3FC;\n",
              "      }\n",
              "\n",
              "      [theme=dark] .colab-df-generate:hover {\n",
              "        background-color: #434B5C;\n",
              "        box-shadow: 0px 1px 3px 1px rgba(0, 0, 0, 0.15);\n",
              "        filter: drop-shadow(0px 1px 2px rgba(0, 0, 0, 0.3));\n",
              "        fill: #FFFFFF;\n",
              "      }\n",
              "    </style>\n",
              "    <button class=\"colab-df-generate\" onclick=\"generateWithVariable('df')\"\n",
              "            title=\"Generate code using this dataframe.\"\n",
              "            style=\"display:none;\">\n",
              "\n",
              "  <svg xmlns=\"http://www.w3.org/2000/svg\" height=\"24px\"viewBox=\"0 0 24 24\"\n",
              "       width=\"24px\">\n",
              "    <path d=\"M7,19H8.4L18.45,9,17,7.55,7,17.6ZM5,21V16.75L18.45,3.32a2,2,0,0,1,2.83,0l1.4,1.43a1.91,1.91,0,0,1,.58,1.4,1.91,1.91,0,0,1-.58,1.4L9.25,21ZM18.45,9,17,7.55Zm-12,3A5.31,5.31,0,0,0,4.9,8.1,5.31,5.31,0,0,0,1,6.5,5.31,5.31,0,0,0,4.9,4.9,5.31,5.31,0,0,0,6.5,1,5.31,5.31,0,0,0,8.1,4.9,5.31,5.31,0,0,0,12,6.5,5.46,5.46,0,0,0,6.5,12Z\"/>\n",
              "  </svg>\n",
              "    </button>\n",
              "    <script>\n",
              "      (() => {\n",
              "      const buttonEl =\n",
              "        document.querySelector('#id_1a73bdc8-843a-47cb-8e3f-9abe06318eff button.colab-df-generate');\n",
              "      buttonEl.style.display =\n",
              "        google.colab.kernel.accessAllowed ? 'block' : 'none';\n",
              "\n",
              "      buttonEl.onclick = () => {\n",
              "        google.colab.notebook.generateWithVariable('df');\n",
              "      }\n",
              "      })();\n",
              "    </script>\n",
              "  </div>\n",
              "\n",
              "    </div>\n",
              "  </div>\n"
            ],
            "application/vnd.google.colaboratory.intrinsic+json": {
              "type": "dataframe",
              "variable_name": "df",
              "summary": "{\n  \"name\": \"df\",\n  \"rows\": 20,\n  \"fields\": [\n    {\n      \"column\": \"name\",\n      \"properties\": {\n        \"dtype\": \"string\",\n        \"num_unique_values\": 20,\n        \"samples\": [\n          \"Student 1\",\n          \"Student 18\",\n          \"Student 16\"\n        ],\n        \"semantic_type\": \"\",\n        \"description\": \"\"\n      }\n    },\n    {\n      \"column\": \"age\",\n      \"properties\": {\n        \"dtype\": \"number\",\n        \"std\": 2,\n        \"min\": 18,\n        \"max\": 25,\n        \"num_unique_values\": 8,\n        \"samples\": [\n          21,\n          18,\n          22\n        ],\n        \"semantic_type\": \"\",\n        \"description\": \"\"\n      }\n    },\n    {\n      \"column\": \"major\",\n      \"properties\": {\n        \"dtype\": \"category\",\n        \"num_unique_values\": 4,\n        \"samples\": [\n          \"Engineering\",\n          \"Business\",\n          \"Arts\"\n        ],\n        \"semantic_type\": \"\",\n        \"description\": \"\"\n      }\n    },\n    {\n      \"column\": \"gpa\",\n      \"properties\": {\n        \"dtype\": \"number\",\n        \"std\": 0.3434024798365538,\n        \"min\": 2.63,\n        \"max\": 3.68,\n        \"num_unique_values\": 20,\n        \"samples\": [\n          3.65,\n          3.16,\n          3.51\n        ],\n        \"semantic_type\": \"\",\n        \"description\": \"\"\n      }\n    }\n  ]\n}"
            }
          },
          "metadata": {},
          "execution_count": 18
        }
      ]
    },
    {
      "cell_type": "markdown",
      "id": "94a2e31c",
      "metadata": {
        "id": "94a2e31c"
      },
      "source": [
        "### Download helper_function.py\n",
        "* pls set Secrets Variable for Gemini in Collab\n",
        "* `GEMINI_API_KEY`\n",
        "\n",
        "[Get API KEY From Google AI Studio](https://aistudio.google.com/app/apikey)"
      ]
    },
    {
      "cell_type": "code",
      "execution_count": 19,
      "id": "77274b6f",
      "metadata": {
        "id": "77274b6f",
        "colab": {
          "base_uri": "https://localhost:8080/"
        },
        "outputId": "dd7270bd-e005-4b09-e0a7-59f72f38b7e7"
      },
      "outputs": [
        {
          "output_type": "stream",
          "name": "stdout",
          "text": [
            "  % Total    % Received % Xferd  Average Speed   Time    Time     Time  Current\n",
            "                                 Dload  Upload   Total   Spent    Left  Speed\n",
            "100  3944  100  3944    0     0  15293      0 --:--:-- --:--:-- --:--:-- 15346\n"
          ]
        }
      ],
      "source": [
        "### Download helper_function.py\n",
        "# * Set Secrets Variable for Gemini\n",
        "# * `GEMINI_API_KEY`\n",
        "\n",
        "!curl -o helper_functions.py https://raw.githubusercontent.com/panaversity/learn-cloud-native-modern-ai-python/main/04_natural_language_programming/02_ai_python_for_beginners/course1_basics/Lesson_9/helper_functions.py"
      ]
    },
    {
      "cell_type": "markdown",
      "id": "8ab78425-c090-450a-a810-1ff6d8f4aefb",
      "metadata": {
        "id": "8ab78425-c090-450a-a810-1ff6d8f4aefb"
      },
      "source": [
        "In this lesson, you will explore dictionaries, a data structure that helps you store key-value pairs. The main difference with list, is that dictionaries assign a key to each values instead of an index. Let's start by importing some functions."
      ]
    },
    {
      "cell_type": "code",
      "execution_count": 20,
      "id": "0669df5d-5013-466b-90c8-679364ff80a1",
      "metadata": {
        "id": "0669df5d-5013-466b-90c8-679364ff80a1"
      },
      "outputs": [],
      "source": [
        "from helper_functions import print_llm_response, get_llm_response"
      ]
    },
    {
      "cell_type": "markdown",
      "id": "25969c7c",
      "metadata": {
        "id": "25969c7c"
      },
      "source": [
        "If you wanted to store ice cream flavor descriptions using lists, you would have something like this:"
      ]
    },
    {
      "cell_type": "code",
      "execution_count": 21,
      "id": "ca5a2042",
      "metadata": {
        "id": "ca5a2042"
      },
      "outputs": [],
      "source": [
        "ice_cream_flavors : list[str] = [\n",
        "    \"Vanilla: Classic and creamy with a rich, smooth flavor from real vanilla beans.\",\n",
        "    \"Chocolate: Deep and indulgent, made with rich cocoa for a satisfying chocolate experience.\",\n",
        "    \"Strawberry: Sweet and fruity, bursting with the fresh taste of ripe strawberries.\",\n",
        "    \"Mint Chocolate Chip: Refreshing mint ice cream studded with decadent chocolate chips.\",\n",
        "    \"Cookie Dough: Vanilla ice cream loaded with chunks of chocolate chip cookie dough.\",\n",
        "    \"Salted Caramel: Sweet and salty with a smooth caramel swirl and a hint of sea salt.\",\n",
        "    \"Pistachio: Nutty and creamy, featuring the distinct taste of real pistachios.\",\n",
        "    \"Cookies and Cream: Vanilla ice cream packed with chunks of chocolate sandwich cookies.\",\n",
        "    \"Mango: Tropical and tangy, made with juicy mangoes for a refreshing treat.\",\n",
        "    \"Rocky Road: Chocolate ice cream mixed with marshmallows, nuts, and chocolate chunks.\"\n",
        "]"
      ]
    },
    {
      "cell_type": "markdown",
      "id": "1eeea849-9f55-4f3c-884a-9181814c55fc",
      "metadata": {
        "id": "1eeea849-9f55-4f3c-884a-9181814c55fc"
      },
      "source": [
        "If you wanted to look up the description for a particular flavor, you would have to memorize its index."
      ]
    },
    {
      "cell_type": "markdown",
      "id": "36e7364c-e8ac-4f32-80dc-955883ce072a",
      "metadata": {
        "id": "36e7364c-e8ac-4f32-80dc-955883ce072a"
      },
      "source": [
        "## Building intuition and definitions\n",
        "\n",
        "Dictionaries in Python are very similar to the dictionaries you would find in a library. Each value in a dictionary is associated with a key, just as you will find definitions associated to words in a hardcover dictionary. Let's take as an example the following dictionary with ice cream flavors."
      ]
    },
    {
      "cell_type": "code",
      "execution_count": null,
      "id": "7e725e5e-4fa2-4a09-95e9-a67c34f96e46",
      "metadata": {
        "id": "7e725e5e-4fa2-4a09-95e9-a67c34f96e46"
      },
      "outputs": [],
      "source": [
        "from typing import Dict\n",
        "\n",
        "ice_cream_flavors : dict[str,str] = {\n",
        "    \"Mint Chocolate Chip\": \"Refreshing mint ice cream studded with decadent chocolate chips.\",\n",
        "    \"Cookie Dough\": \"Vanilla ice cream loaded with chunks of chocolate chip cookie dough.\",\n",
        "    \"Salted Caramel\": \"Sweet and salty with a smooth caramel swirl and a hint of sea salt.\"\n",
        "}"
      ]
    },
    {
      "cell_type": "code",
      "source": [
        "[i for i in  dir(dict) if \"__\" not in i]"
      ],
      "metadata": {
        "colab": {
          "base_uri": "https://localhost:8080/"
        },
        "id": "Zs33iTj5K-vK",
        "outputId": "f1fa1282-cb06-4fe9-9234-175375e9e8a1"
      },
      "id": "Zs33iTj5K-vK",
      "execution_count": 23,
      "outputs": [
        {
          "output_type": "execute_result",
          "data": {
            "text/plain": [
              "['clear',\n",
              " 'copy',\n",
              " 'fromkeys',\n",
              " 'get',\n",
              " 'items',\n",
              " 'keys',\n",
              " 'pop',\n",
              " 'popitem',\n",
              " 'setdefault',\n",
              " 'update',\n",
              " 'values']"
            ]
          },
          "metadata": {},
          "execution_count": 23
        }
      ]
    },
    {
      "cell_type": "markdown",
      "id": "ec17ee22",
      "metadata": {
        "id": "ec17ee22"
      },
      "source": [
        "The `ice_cream_flavors` dictionary has keys:"
      ]
    },
    {
      "cell_type": "code",
      "source": [
        "copied_ice_cream_flavors : dict[str,str] = ice_cream_flavors.copy()\n",
        "print([i for i in copied_ice_cream_flavors])\n",
        "copied_ice_cream_flavors.clear()\n",
        "print(ice_cream_flavors)\n",
        "print([i for i in copied_ice_cream_flavors])\n"
      ],
      "metadata": {
        "id": "YooNMxBVlCGE",
        "outputId": "89a11b32-bfba-4a9e-86d5-9a3209a4c2b1",
        "colab": {
          "base_uri": "https://localhost:8080/"
        }
      },
      "id": "YooNMxBVlCGE",
      "execution_count": 24,
      "outputs": [
        {
          "output_type": "stream",
          "name": "stdout",
          "text": [
            "['Mint Chocolate Chip', 'Cookie Dough', 'Salted Caramel']\n",
            "{'Mint Chocolate Chip': 'Refreshing mint ice cream studded with decadent chocolate chips.', 'Cookie Dough': 'Vanilla ice cream loaded with chunks of chocolate chip cookie dough.', 'Salted Caramel': 'Sweet and salty with a smooth caramel swirl and a hint of sea salt.'}\n",
            "[]\n"
          ]
        }
      ]
    },
    {
      "cell_type": "code",
      "source": [
        "# prompt: give detail example of fromkeys method of dictionary\n",
        "\n",
        "# Example 1: Creating a dictionary with fromkeys()\n",
        "keys = ['name', 'age', 'city']\n",
        "default_value = None  # You can set a default value for all keys\n",
        "my_dict = dict.fromkeys(keys, default_value)\n",
        "print(my_dict)  # Output: {'name': None, 'age': None, 'city': None}\n",
        "\n",
        "\n",
        "# Example 2: Creating a dictionary with a specific default value\n",
        "keys = ['apple', 'banana', 'orange']\n",
        "default_value = 0\n",
        "fruit_counts = dict.fromkeys(keys, default_value)\n",
        "print(fruit_counts)  # Output: {'apple': 0, 'banana': 0, 'orange': 0}\n",
        "fruit_counts.update({'apple': 5, 'banana': 3})\n",
        "print(fruit_counts)\n",
        "\n",
        "\n",
        "# Example 3: Creating a dictionary with a list as a default value\n",
        "keys = ['Monday', 'Tuesday', 'Wednesday']\n",
        "default_value = []\n",
        "daily_tasks = dict.fromkeys(keys, default_value)\n",
        "print(daily_tasks)  # Output: {'Monday': [], 'Tuesday': [], 'Wednesday': []}\n",
        "\n",
        "\n",
        "# Example 4: Adding elements to the lists within the dictionary\n",
        "daily_tasks['Monday'].append('Meeting')\n",
        "daily_tasks['Tuesday'].append('Presentation')\n",
        "print(daily_tasks)  # Output: {'Monday': ['Meeting'], 'Tuesday': ['Presentation'], 'Wednesday': []}\n"
      ],
      "metadata": {
        "id": "YIAh-3TSm0I2",
        "outputId": "6f46df77-bb65-46f4-c560-488bd7d9ed35",
        "colab": {
          "base_uri": "https://localhost:8080/"
        }
      },
      "id": "YIAh-3TSm0I2",
      "execution_count": 54,
      "outputs": [
        {
          "output_type": "stream",
          "name": "stderr",
          "text": [
            "<cell>21: error: Need type annotation for \"default_value\" (hint: \"default_value: list[<type>] = ...\")  [var-annotated]\n",
            "ERROR:nb-mypy:<cell>21: error: Need type annotation for \"default_value\" (hint: \"default_value: list[<type>] = ...\")  [var-annotated]\n"
          ]
        },
        {
          "output_type": "stream",
          "name": "stdout",
          "text": [
            "{'name': None, 'age': None, 'city': None}\n",
            "{'apple': 0, 'banana': 0, 'orange': 0}\n",
            "{'apple': 5, 'banana': 3, 'orange': 0}\n",
            "{'Monday': [], 'Tuesday': [], 'Wednesday': []}\n",
            "{'Monday': ['Meeting', 'Presentation'], 'Tuesday': ['Meeting', 'Presentation'], 'Wednesday': ['Meeting', 'Presentation']}\n"
          ]
        }
      ]
    },
    {
      "cell_type": "code",
      "source": [
        "print(ice_cream_flavors.get(\"Mint Chocolate Chip\"))"
      ],
      "metadata": {
        "id": "ahRT5FyTspo3",
        "outputId": "7218ac10-ef81-4a4e-d031-ee09dc9ad36a",
        "colab": {
          "base_uri": "https://localhost:8080/"
        }
      },
      "id": "ahRT5FyTspo3",
      "execution_count": 26,
      "outputs": [
        {
          "output_type": "stream",
          "name": "stdout",
          "text": [
            "Refreshing mint ice cream studded with decadent chocolate chips.\n"
          ]
        }
      ]
    },
    {
      "cell_type": "code",
      "execution_count": 27,
      "id": "f798f6bf-7fa9-4eb3-b576-77fa101e24b2",
      "metadata": {
        "id": "f798f6bf-7fa9-4eb3-b576-77fa101e24b2",
        "colab": {
          "base_uri": "https://localhost:8080/"
        },
        "outputId": "8cc1dd7e-44e0-4a8d-d7e0-ef204329b119"
      },
      "outputs": [
        {
          "output_type": "stream",
          "name": "stdout",
          "text": [
            "dict_items([('Mint Chocolate Chip', 'Refreshing mint ice cream studded with decadent chocolate chips.'), ('Cookie Dough', 'Vanilla ice cream loaded with chunks of chocolate chip cookie dough.'), ('Salted Caramel', 'Sweet and salty with a smooth caramel swirl and a hint of sea salt.')])\n",
            "dict_keys(['Mint Chocolate Chip', 'Cookie Dough', 'Salted Caramel'])\n",
            "dict_values(['Refreshing mint ice cream studded with decadent chocolate chips.', 'Vanilla ice cream loaded with chunks of chocolate chip cookie dough.', 'Sweet and salty with a smooth caramel swirl and a hint of sea salt.'])\n"
          ]
        }
      ],
      "source": [
        "print(ice_cream_flavors.items())\n",
        "print(ice_cream_flavors.keys())\n",
        "print(ice_cream_flavors.values())"
      ]
    },
    {
      "cell_type": "code",
      "source": [
        "ice_cream_flavors.keys?"
      ],
      "metadata": {
        "id": "T7eNHp7WLrS9"
      },
      "id": "T7eNHp7WLrS9",
      "execution_count": 28,
      "outputs": []
    },
    {
      "cell_type": "markdown",
      "id": "2fb5e9c3",
      "metadata": {
        "id": "2fb5e9c3"
      },
      "source": [
        "and values:"
      ]
    },
    {
      "cell_type": "markdown",
      "id": "e5700c35-4814-4e92-8435-eb614da9bce0",
      "metadata": {
        "id": "e5700c35-4814-4e92-8435-eb614da9bce0"
      },
      "source": [
        "## Accessing elements"
      ]
    },
    {
      "cell_type": "markdown",
      "id": "cb11e3ff",
      "metadata": {
        "id": "cb11e3ff"
      },
      "source": [
        "Dictionaries don't index their elements as list do, so you cannot access values in the way you would using lists. If you run the cell below, you will get an error message since the index 0 is not a key in the `ice_cream_flavors` dictionary."
      ]
    },
    {
      "cell_type": "code",
      "execution_count": 29,
      "id": "c20fbfe7-e0fd-45e9-8fbb-071bf5a64ecb",
      "metadata": {
        "id": "c20fbfe7-e0fd-45e9-8fbb-071bf5a64ecb",
        "outputId": "60c94f6f-6d3f-4ba4-be3c-f2dd011f9431",
        "colab": {
          "base_uri": "https://localhost:8080/",
          "height": 200
        }
      },
      "outputs": [
        {
          "output_type": "stream",
          "name": "stderr",
          "text": [
            "<cell>2: error: Invalid index type \"int\" for \"dict[str, str]\"; expected type \"str\"  [index]\n",
            "ERROR:nb-mypy:<cell>2: error: Invalid index type \"int\" for \"dict[str, str]\"; expected type \"str\"  [index]\n"
          ]
        },
        {
          "output_type": "error",
          "ename": "KeyError",
          "evalue": "0",
          "traceback": [
            "\u001b[0;31m---------------------------------------------------------------------------\u001b[0m",
            "\u001b[0;31mKeyError\u001b[0m                                  Traceback (most recent call last)",
            "\u001b[0;32m<ipython-input-29-1c2d62bebb72>\u001b[0m in \u001b[0;36m<cell line: 2>\u001b[0;34m()\u001b[0m\n\u001b[1;32m      1\u001b[0m \u001b[0;31m#Wrong way of accessing elements (treating dict as a list)\u001b[0m\u001b[0;34m\u001b[0m\u001b[0;34m\u001b[0m\u001b[0m\n\u001b[0;32m----> 2\u001b[0;31m \u001b[0mprint\u001b[0m\u001b[0;34m(\u001b[0m\u001b[0mice_cream_flavors\u001b[0m\u001b[0;34m[\u001b[0m\u001b[0;36m0\u001b[0m\u001b[0;34m]\u001b[0m\u001b[0;34m)\u001b[0m\u001b[0;34m\u001b[0m\u001b[0;34m\u001b[0m\u001b[0m\n\u001b[0m",
            "\u001b[0;31mKeyError\u001b[0m: 0"
          ]
        }
      ],
      "source": [
        "#Wrong way of accessing elements (treating dict as a list)\n",
        "print(ice_cream_flavors[0])"
      ]
    },
    {
      "cell_type": "markdown",
      "id": "5f0d780a",
      "metadata": {
        "id": "5f0d780a"
      },
      "source": [
        "Let's ask the chatbot how to access items in this dictionary.\n",
        "\n",
        "<p style=\"background-color:#F5C780; padding:15px\"> 🤖 <b>Use the Chatbot</b>: How do I access a single item in this dictionary? <br>\n",
        "ice_cream_flavors = {<br>\n",
        "    \"Mint Chocolate Chip\": \"Refreshing mint ice cream studded with decadent chocolate chips.\",<br>\n",
        "    \"Cookie Dough\": \"Vanilla ice cream loaded with chunks of chocolate chip cookie dough.\",<br>\n",
        "    \"Salted Caramel\": \"Sweet and salty with a smooth caramel swirl and a hint of sea salt.\"<br>\n",
        "} <br>\n",
        "</p>"
      ]
    },
    {
      "cell_type": "code",
      "source": [
        "# prompt: How do I access a single item in this dictionary?\n",
        "# ice_cream_flavors = {\n",
        "# \"Mint Chocolate Chip\": \"Refreshing mint ice cream studded with decadent chocolate chips.\",\n",
        "# \"Cookie Dough\": \"Vanilla ice cream loaded with chunks of chocolate chip cookie dough.\",\n",
        "# \"Salted Caramel\": \"Sweet and salty with a smooth caramel swirl and a hint of sea salt.\"\n",
        "# }\n",
        "\n",
        "ice_cream_flavors = {\n",
        "    \"Mint Chocolate Chip\": \"Refreshing mint ice cream studded with decadent chocolate chips.\",\n",
        "    \"Cookie Dough\": \"Vanilla ice cream loaded with chunks of chocolate chip cookie dough.\",\n",
        "    \"Salted Caramel\": \"Sweet and salty with a smooth caramel swirl and a hint of sea salt.\"\n",
        "}\n",
        "\n",
        "print(ice_cream_flavors[\"Mint Chocolate Chip\"])\n"
      ],
      "metadata": {
        "id": "2C8S46z905Ge",
        "outputId": "b4cdf2ac-306f-4833-bbb0-e27df12e3d7f",
        "colab": {
          "base_uri": "https://localhost:8080/"
        }
      },
      "id": "2C8S46z905Ge",
      "execution_count": 30,
      "outputs": [
        {
          "output_type": "stream",
          "name": "stdout",
          "text": [
            "Refreshing mint ice cream studded with decadent chocolate chips.\n"
          ]
        }
      ]
    },
    {
      "cell_type": "markdown",
      "id": "66d94bb2",
      "metadata": {
        "id": "66d94bb2"
      },
      "source": [
        "So, to access the values in the dictionary you need to use its keys. For instance, for `Cookie Dough`, you can run the following code:"
      ]
    },
    {
      "cell_type": "code",
      "execution_count": 31,
      "id": "529b68a1-57fe-4ebb-ad6a-db08c3c3f38a",
      "metadata": {
        "id": "529b68a1-57fe-4ebb-ad6a-db08c3c3f38a",
        "outputId": "5fed0c9a-8f12-4c99-e94d-96e6758768ea",
        "colab": {
          "base_uri": "https://localhost:8080/"
        }
      },
      "outputs": [
        {
          "output_type": "stream",
          "name": "stdout",
          "text": [
            "Vanilla ice cream loaded with chunks of chocolate chip cookie dough.\n"
          ]
        }
      ],
      "source": [
        "cookie_dough_description = ice_cream_flavors[\"Cookie Dough\"]\n",
        "print(cookie_dough_description)"
      ]
    },
    {
      "cell_type": "markdown",
      "id": "0c72ec6c-54c3-4452-aeb6-7ca4c11365f8",
      "metadata": {
        "id": "0c72ec6c-54c3-4452-aeb6-7ca4c11365f8"
      },
      "source": [
        "## Adding and updating elements in a dictionary"
      ]
    },
    {
      "cell_type": "markdown",
      "id": "525a82e3-8815-4e38-8c05-0d17b8e29e8b",
      "metadata": {
        "id": "525a82e3-8815-4e38-8c05-0d17b8e29e8b"
      },
      "source": [
        "Let's take another look at the `ice_cream_flavors` dictionary"
      ]
    },
    {
      "cell_type": "code",
      "execution_count": 32,
      "id": "85b77c6b-f3a9-4c43-a88b-8b21a8ea3b14",
      "metadata": {
        "id": "85b77c6b-f3a9-4c43-a88b-8b21a8ea3b14",
        "outputId": "80e8bc8e-c47c-4ad1-fce1-d198f832b0d6",
        "colab": {
          "base_uri": "https://localhost:8080/"
        }
      },
      "outputs": [
        {
          "output_type": "stream",
          "name": "stdout",
          "text": [
            "{'Mint Chocolate Chip': 'Refreshing mint ice cream studded with decadent chocolate chips.', 'Cookie Dough': 'Vanilla ice cream loaded with chunks of chocolate chip cookie dough.', 'Salted Caramel': 'Sweet and salty with a smooth caramel swirl and a hint of sea salt.'}\n"
          ]
        }
      ],
      "source": [
        "print(ice_cream_flavors)"
      ]
    },
    {
      "cell_type": "markdown",
      "id": "c4f538b4",
      "metadata": {
        "id": "c4f538b4"
      },
      "source": [
        "Now, to add a new item for the `\"Rocky Road\"` flavor, you will need to assign its definition to `ice_cream_flavors[\"Rocky Road\"]` as follows:"
      ]
    },
    {
      "cell_type": "code",
      "execution_count": 33,
      "id": "f443cc67-2008-4e6a-93e9-b5ce7955dda2",
      "metadata": {
        "id": "f443cc67-2008-4e6a-93e9-b5ce7955dda2"
      },
      "outputs": [],
      "source": [
        "ice_cream_flavors[\"Rocky Road\"] = \"Chocolate ice cream mixd witother ngredients.\""
      ]
    },
    {
      "cell_type": "markdown",
      "id": "97ed0ed1",
      "metadata": {
        "id": "97ed0ed1"
      },
      "source": [
        "Note that you are using the same syntax that selects a single item, but this time use a key that didn't exist before and assign it a value. Let's check the dictionary after this update:"
      ]
    },
    {
      "cell_type": "code",
      "execution_count": 34,
      "id": "6547f5e5",
      "metadata": {
        "id": "6547f5e5",
        "outputId": "5e728953-ba4b-4a7d-adae-f22a14a6b99d",
        "colab": {
          "base_uri": "https://localhost:8080/"
        }
      },
      "outputs": [
        {
          "output_type": "stream",
          "name": "stdout",
          "text": [
            "{'Mint Chocolate Chip': 'Refreshing mint ice cream studded with decadent chocolate chips.', 'Cookie Dough': 'Vanilla ice cream loaded with chunks of chocolate chip cookie dough.', 'Salted Caramel': 'Sweet and salty with a smooth caramel swirl and a hint of sea salt.', 'Rocky Road': 'Chocolate ice cream mixd witother ngredients.'}\n"
          ]
        }
      ],
      "source": [
        "print(ice_cream_flavors)"
      ]
    },
    {
      "cell_type": "markdown",
      "id": "e1e0cce4",
      "metadata": {
        "id": "e1e0cce4"
      },
      "source": [
        "You can update existing dictionary items in a similar way. Let's fix the typos from the `\"Rocky Road\"` description."
      ]
    },
    {
      "cell_type": "code",
      "execution_count": 35,
      "id": "37d150d3",
      "metadata": {
        "id": "37d150d3"
      },
      "outputs": [],
      "source": [
        "ice_cream_flavors[\"Rocky Road\"] = \"Chocolate ice cream mixed with other ingredients.\""
      ]
    },
    {
      "cell_type": "code",
      "execution_count": 36,
      "id": "2a411986-59a5-4553-9192-65a3b54a8410",
      "metadata": {
        "id": "2a411986-59a5-4553-9192-65a3b54a8410",
        "outputId": "0386a141-8bdc-4160-c41c-5250b24d76db",
        "colab": {
          "base_uri": "https://localhost:8080/"
        }
      },
      "outputs": [
        {
          "output_type": "stream",
          "name": "stdout",
          "text": [
            "{'Mint Chocolate Chip': 'Refreshing mint ice cream studded with decadent chocolate chips.', 'Cookie Dough': 'Vanilla ice cream loaded with chunks of chocolate chip cookie dough.', 'Salted Caramel': 'Sweet and salty with a smooth caramel swirl and a hint of sea salt.', 'Rocky Road': 'Chocolate ice cream mixed with other ingredients.'}\n"
          ]
        }
      ],
      "source": [
        "print(ice_cream_flavors)"
      ]
    },
    {
      "cell_type": "code",
      "source": [
        "[i for i in  dir(dict) if \"__\" not in i]"
      ],
      "metadata": {
        "id": "5f42AwWhQMos",
        "outputId": "5f3aeee1-2a11-43f4-894b-4741546e8403",
        "colab": {
          "base_uri": "https://localhost:8080/"
        }
      },
      "id": "5f42AwWhQMos",
      "execution_count": 49,
      "outputs": [
        {
          "output_type": "execute_result",
          "data": {
            "text/plain": [
              "['clear',\n",
              " 'copy',\n",
              " 'fromkeys',\n",
              " 'get',\n",
              " 'items',\n",
              " 'keys',\n",
              " 'pop',\n",
              " 'popitem',\n",
              " 'setdefault',\n",
              " 'update',\n",
              " 'values']"
            ]
          },
          "metadata": {},
          "execution_count": 49
        }
      ]
    },
    {
      "cell_type": "markdown",
      "id": "00ada507-22fe-468e-b3b4-5af0994a0cce",
      "metadata": {
        "id": "00ada507-22fe-468e-b3b4-5af0994a0cce"
      },
      "source": [
        "## Different types of elements"
      ]
    },
    {
      "cell_type": "code",
      "source": [
        "ice_cream_flavors = {\n",
        "    \"Mint Chocolate Chip\": \"Refreshing mint ice cream studded with decadent chocolate chips.\",\n",
        "    \"Cookie Dough\": \"Vanilla ice cream loaded with chunks of chocolate chip cookie dough.\",\n",
        "    \"Salted Caramel\": \"Sweet and salty with a smooth caramel swirl and a hint of sea salt.\"\n",
        "}\n",
        "ice_cream_flavors.pop(\"Cookie Dough\")   # pop item which is given\n",
        "print(ice_cream_flavors)\n",
        "ice_cream_flavors.popitem()  # pop last item\n",
        "print(ice_cream_flavors)"
      ],
      "metadata": {
        "id": "5xzph-0kQ1j-",
        "outputId": "fb687871-a2fb-4e36-be6b-ced3f979bbdb",
        "colab": {
          "base_uri": "https://localhost:8080/"
        }
      },
      "id": "5xzph-0kQ1j-",
      "execution_count": 53,
      "outputs": [
        {
          "output_type": "stream",
          "name": "stdout",
          "text": [
            "{'Mint Chocolate Chip': 'Refreshing mint ice cream studded with decadent chocolate chips.', 'Salted Caramel': 'Sweet and salty with a smooth caramel swirl and a hint of sea salt.'}\n",
            "{'Mint Chocolate Chip': 'Refreshing mint ice cream studded with decadent chocolate chips.'}\n"
          ]
        }
      ]
    },
    {
      "cell_type": "code",
      "source": [
        "ice_cream_flavors.update({\"Rocky Road\": \"Chocolate ice cream mixed with other ingredients.\"})\n",
        "print(ice_cream_flavors)"
      ],
      "metadata": {
        "id": "fFUo9FiVR4nP",
        "outputId": "60e86631-e247-4e29-cb30-577f38e29448",
        "colab": {
          "base_uri": "https://localhost:8080/"
        }
      },
      "id": "fFUo9FiVR4nP",
      "execution_count": 55,
      "outputs": [
        {
          "output_type": "stream",
          "name": "stdout",
          "text": [
            "{'Mint Chocolate Chip': 'Refreshing mint ice cream studded with decadent chocolate chips.', 'Rocky Road': 'Chocolate ice cream mixed with other ingredients.'}\n"
          ]
        }
      ]
    },
    {
      "cell_type": "code",
      "source": [
        "ice_cream_flavors.setdefault(\"Vanilla\", \"Classic and creamy with a rich, smooth flavor from real vanilla beans.\")\n",
        "print(ice_cream_flavors)"
      ],
      "metadata": {
        "id": "EB31rE0kSBaQ",
        "outputId": "e186bdad-e087-4af2-90ef-e14679a88b28",
        "colab": {
          "base_uri": "https://localhost:8080/"
        }
      },
      "id": "EB31rE0kSBaQ",
      "execution_count": 56,
      "outputs": [
        {
          "output_type": "stream",
          "name": "stdout",
          "text": [
            "{'Mint Chocolate Chip': 'Refreshing mint ice cream studded with decadent chocolate chips.', 'Rocky Road': 'Chocolate ice cream mixed with other ingredients.', 'Vanilla': 'Classic and creamy with a rich, smooth flavor from real vanilla beans.'}\n"
          ]
        }
      ]
    },
    {
      "cell_type": "code",
      "source": [
        "# prompt: explain difference between update and setdefault with example\n",
        "\n",
        "my_dict = {'a': 1, 'b': 2}\n",
        "\n",
        "# Using update to modify an existing key-value pair\n",
        "my_dict.update({'a': 3})\n",
        "print(my_dict)  # Output: {'a': 3, 'b': 2}\n",
        "\n",
        "\n",
        "# Using setdefault to modify an existing key-value pair\n",
        "my_dict.setdefault('a', 4)\n",
        "print(my_dict)  # Output: {'a': 3, 'b': 2} (No change, as 'a' already exists)\n",
        "\n",
        "\n",
        "# Using setdefault to add a new key-value pair\n",
        "my_dict.setdefault('c', 5)\n",
        "print(my_dict)  # Output: {'a': 3, 'b': 2, 'c': 5}\n",
        "\n",
        "\n",
        "\n",
        "# Creating a new dictionary\n",
        "my_dict = {'a': 1, 'b': 2}\n",
        "\n",
        "# Using update to add a new key-value pair\n",
        "my_dict.update({'c': 3})\n",
        "print(my_dict)  # Output: {'a': 1, 'b': 2, 'c': 3}\n",
        "\n",
        "# Using setdefault to add a new key-value pair\n",
        "my_dict.setdefault('d', 4)\n",
        "print(my_dict)  # Output: {'a': 1, 'b': 2, 'c': 3, 'd': 4}\n"
      ],
      "metadata": {
        "id": "f0sPm8cySOj0",
        "outputId": "6910a033-03fd-4181-c29b-050630f8bdaf",
        "colab": {
          "base_uri": "https://localhost:8080/"
        }
      },
      "id": "f0sPm8cySOj0",
      "execution_count": 57,
      "outputs": [
        {
          "output_type": "stream",
          "name": "stdout",
          "text": [
            "{'a': 3, 'b': 2}\n",
            "{'a': 3, 'b': 2}\n",
            "{'a': 3, 'b': 2, 'c': 5}\n",
            "{'a': 1, 'b': 2, 'c': 3}\n",
            "{'a': 1, 'b': 2, 'c': 3, 'd': 4}\n"
          ]
        }
      ]
    },
    {
      "cell_type": "code",
      "source": [
        "ice_cream_flavors.values()\n"
      ],
      "metadata": {
        "id": "l0eQrqM_S7kJ",
        "outputId": "024a9fd6-9761-4514-d576-1143475ed09b",
        "colab": {
          "base_uri": "https://localhost:8080/"
        }
      },
      "id": "l0eQrqM_S7kJ",
      "execution_count": 58,
      "outputs": [
        {
          "output_type": "execute_result",
          "data": {
            "text/plain": [
              "dict_values(['Refreshing mint ice cream studded with decadent chocolate chips.', 'Chocolate ice cream mixed with other ingredients.', 'Classic and creamy with a rich, smooth flavor from real vanilla beans.'])"
            ]
          },
          "metadata": {},
          "execution_count": 58
        }
      ]
    },
    {
      "cell_type": "markdown",
      "id": "84da9a17-038e-4d95-9dab-ec9471b48bd3",
      "metadata": {
        "id": "84da9a17-038e-4d95-9dab-ec9471b48bd3"
      },
      "source": [
        "Let's say that you store data about your friends. For Isabel you have the following dictionary."
      ]
    },
    {
      "cell_type": "code",
      "execution_count": 37,
      "id": "a021ebf7-25c6-45b5-913b-b159c73a54b6",
      "metadata": {
        "id": "a021ebf7-25c6-45b5-913b-b159c73a54b6",
        "outputId": "498d594c-007e-4be2-93a3-81ca0f179796",
        "colab": {
          "base_uri": "https://localhost:8080/"
        }
      },
      "outputs": [
        {
          "output_type": "stream",
          "name": "stdout",
          "text": [
            "{'age': 28, 'Favorite color': 'red'}\n"
          ]
        }
      ],
      "source": [
        "from typing import Dict, List\n",
        "isabel_facts: Dict[str, str | int | List[str]] = {\n",
        "    \"age\": 28,\n",
        "    \"Favorite color\": \"red\"\n",
        "}\n",
        "print(isabel_facts)"
      ]
    },
    {
      "cell_type": "markdown",
      "id": "71c84574-6b83-4586-83a2-1a12e6bc0878",
      "metadata": {
        "id": "71c84574-6b83-4586-83a2-1a12e6bc0878"
      },
      "source": [
        "You can store information within that dictionary using lists. For instance, the names for each of her cats."
      ]
    },
    {
      "cell_type": "code",
      "execution_count": 59,
      "id": "b1e47c85-fd16-404a-a866-a01a9410b7f1",
      "metadata": {
        "id": "b1e47c85-fd16-404a-a866-a01a9410b7f1"
      },
      "outputs": [],
      "source": [
        "isabel_facts[\"Cat names\"] = [\"Charlie\", \"Smokey\", \"Tabitha\"]"
      ]
    },
    {
      "cell_type": "code",
      "execution_count": 39,
      "id": "5596580c-7715-4b6e-92df-ca0f92134ddb",
      "metadata": {
        "id": "5596580c-7715-4b6e-92df-ca0f92134ddb",
        "outputId": "236effd3-b4c1-4dda-ea40-4f083bddf857",
        "colab": {
          "base_uri": "https://localhost:8080/"
        }
      },
      "outputs": [
        {
          "output_type": "stream",
          "name": "stdout",
          "text": [
            "{'age': 28, 'Favorite color': 'red', 'Cat names': ['Charlie', 'Smokey', 'Tabitha']}\n"
          ]
        }
      ],
      "source": [
        "print(isabel_facts)"
      ]
    },
    {
      "cell_type": "markdown",
      "id": "414c3b49-112a-48b2-b1ba-9bde195dcc44",
      "metadata": {
        "id": "414c3b49-112a-48b2-b1ba-9bde195dcc44"
      },
      "source": [
        "Or her favorite snacks:"
      ]
    },
    {
      "cell_type": "code",
      "execution_count": 40,
      "id": "db4c72de-08b1-4960-9b1a-d9d6b7a8c867",
      "metadata": {
        "id": "db4c72de-08b1-4960-9b1a-d9d6b7a8c867"
      },
      "outputs": [],
      "source": [
        "isabel_facts[\"Favorite Snacks\"] = [\"pineapple cake\",\"candy\"]"
      ]
    },
    {
      "cell_type": "code",
      "execution_count": 41,
      "id": "2f9d168e-793b-42a5-bce3-c4d5573f7b45",
      "metadata": {
        "id": "2f9d168e-793b-42a5-bce3-c4d5573f7b45",
        "outputId": "cf694047-deaf-4bca-ed49-6cd2dfa388bf",
        "colab": {
          "base_uri": "https://localhost:8080/"
        }
      },
      "outputs": [
        {
          "output_type": "stream",
          "name": "stdout",
          "text": [
            "{'age': 28, 'Favorite color': 'red', 'Cat names': ['Charlie', 'Smokey', 'Tabitha'], 'Favorite Snacks': ['pineapple cake', 'candy']}\n"
          ]
        }
      ],
      "source": [
        "print(isabel_facts)"
      ]
    },
    {
      "cell_type": "markdown",
      "id": "dca7e8ac-9a22-4298-a09a-05325bbd00bd",
      "metadata": {
        "id": "dca7e8ac-9a22-4298-a09a-05325bbd00bd"
      },
      "source": [
        "## Using dictionaries to complete high priority tasks using AI"
      ]
    },
    {
      "cell_type": "markdown",
      "id": "057ee2c7",
      "metadata": {
        "id": "057ee2c7"
      },
      "source": [
        "In the previous lessons you completed the tasks from a list --like the one below-- using AI."
      ]
    },
    {
      "cell_type": "code",
      "execution_count": 42,
      "id": "1c7e996d-2cc1-48e5-9c8f-51b1403cfcb8",
      "metadata": {
        "id": "1c7e996d-2cc1-48e5-9c8f-51b1403cfcb8"
      },
      "outputs": [],
      "source": [
        "#task example, large list not ordered by priority. Want to prioritize\n",
        "list_of_tasks = [\n",
        "    \"Compose a brief email to my boss explaining that I will be late for tomorrow's meeting.\",\n",
        "    \"Write a birthday poem for Otto, celebrating his 28th birthday.\",\n",
        "    \"Write a 300-word review of the movie 'The Arrival'.\",\n",
        "    \"Draft a thank-you note for my neighbor Dapinder who helped water my plants while I was on vacation.\",\n",
        "    \"Create an outline for a presentation on the benefits of remote work.\"\n",
        "]"
      ]
    },
    {
      "cell_type": "markdown",
      "id": "6bbfc589",
      "metadata": {
        "id": "6bbfc589"
      },
      "source": [
        "In reality, not all tasks would have the same priority. In fact, for this example, you have tasks with high, medium and low priorities as defined by the following lists:"
      ]
    },
    {
      "cell_type": "code",
      "execution_count": 43,
      "id": "24fe42ec-0cbf-46e8-af15-6cc2eeff98a9",
      "metadata": {
        "id": "24fe42ec-0cbf-46e8-af15-6cc2eeff98a9"
      },
      "outputs": [],
      "source": [
        "#instead of that unorganized large list, divide tasks by priority\n",
        "high_priority_tasks = [\n",
        "    \"Compose a brief email to my boss explaining that I will be late for tomorrow's meeting.\",\n",
        "    \"Create an outline for a presentation on the benefits of remote work.\"\n",
        "]\n",
        "\n",
        "medium_priority_tasks = [\n",
        "    \"Write a birthday poem for Otto, celebrating his 28th birthday.\",\n",
        "    \"Draft a thank-you note for my neighbor Dapinder who helped water my plants while I was on vacation.\"\n",
        "]\n",
        "\n",
        "low_priority_tasks = [\n",
        "    \"Write a 300-word review of the movie 'The Arrival'.\"\n",
        "]"
      ]
    },
    {
      "cell_type": "markdown",
      "id": "f5732409",
      "metadata": {
        "id": "f5732409"
      },
      "source": [
        "You can use dictionaries to store all the tasks with their priorities in a single data object. Run the following cell to create that dictionary and display its contents:"
      ]
    },
    {
      "cell_type": "code",
      "execution_count": 61,
      "id": "9db13c1e-3c7a-49c2-aaf7-96ba2f5c129d",
      "metadata": {
        "id": "9db13c1e-3c7a-49c2-aaf7-96ba2f5c129d"
      },
      "outputs": [],
      "source": [
        "#create dictionary with all tasks\n",
        "#dictionaries can contain lists!\n",
        "from typing import Dict, List\n",
        "prioritized_tasks: Dict[str, List[str]]= {\n",
        "    \"high_priority\": high_priority_tasks,\n",
        "    \"medium_priority\": medium_priority_tasks,\n",
        "    \"low_priority\": low_priority_tasks\n",
        "}"
      ]
    },
    {
      "cell_type": "code",
      "execution_count": 62,
      "id": "0b5a6caf-ac2b-42de-bfed-34f65e7af533",
      "metadata": {
        "id": "0b5a6caf-ac2b-42de-bfed-34f65e7af533",
        "outputId": "62cd7d9a-3549-4e3f-fa58-02aa6b406feb",
        "colab": {
          "base_uri": "https://localhost:8080/"
        }
      },
      "outputs": [
        {
          "output_type": "stream",
          "name": "stdout",
          "text": [
            "{'high_priority': [\"Compose a brief email to my boss explaining that I will be late for tomorrow's meeting.\", 'Create an outline for a presentation on the benefits of remote work.'], 'medium_priority': ['Write a birthday poem for Otto, celebrating his 28th birthday.', 'Draft a thank-you note for my neighbor Dapinder who helped water my plants while I was on vacation.'], 'low_priority': [\"Write a 300-word review of the movie 'The Arrival'.\"]}\n"
          ]
        }
      ],
      "source": [
        "print(prioritized_tasks)"
      ]
    },
    {
      "cell_type": "markdown",
      "id": "b9133811",
      "metadata": {
        "id": "b9133811"
      },
      "source": [
        "With this data structure, it is easy for you to focus only on the high priority tasks and complete them using a for loop and LLMs:"
      ]
    },
    {
      "cell_type": "code",
      "execution_count": 46,
      "id": "a5983ba4-e53c-4e43-b00b-a405ed95cba4",
      "metadata": {
        "id": "a5983ba4-e53c-4e43-b00b-a405ed95cba4",
        "outputId": "e5f3522c-3447-4e95-aa07-72970337f06c",
        "colab": {
          "base_uri": "https://localhost:8080/"
        }
      },
      "outputs": [
        {
          "output_type": "stream",
          "name": "stdout",
          "text": [
            "[\"Compose a brief email to my boss explaining that I will be late for tomorrow's meeting.\", 'Create an outline for a presentation on the benefits of remote work.']\n"
          ]
        }
      ],
      "source": [
        "print(prioritized_tasks[\"high_priority\"])"
      ]
    },
    {
      "cell_type": "code",
      "execution_count": 47,
      "id": "497c5938-347d-4551-a291-2eb8d5c137f9",
      "metadata": {
        "id": "497c5938-347d-4551-a291-2eb8d5c137f9",
        "outputId": "be2e3357-f039-4793-d766-e5ffa28c2322",
        "colab": {
          "base_uri": "https://localhost:8080/",
          "height": 1000
        }
      },
      "outputs": [
        {
          "output_type": "stream",
          "name": "stdout",
          "text": [
            "Subject: Late to Tomorrow's Meeting\n",
            "\n",
            "Hi [Boss's name],\n",
            "\n",
            "Just letting you know that I will be slightly late to tomorrow's meeting due to [brief, non-detailed reason, e.g., a prior appointment].  I apologize for any inconvenience.\n",
            "\n",
            "Thanks,\n",
            "[Your Name]\n",
            "\n",
            "## Presentation Outline: The Benefits of Remote Work\n",
            "\n",
            "**I. Introduction (5 minutes)**\n",
            "\n",
            "* **Hook:** Start with a compelling statistic or anecdote about the growth of remote work or its impact on individuals/businesses. (e.g., increased productivity, improved work-life balance, environmental benefits)\n",
            "* **Define Remote Work:** Briefly explain what remote work encompasses (fully remote, hybrid, etc.) and clarify any potential misconceptions.\n",
            "* **Thesis Statement:** Clearly state the presentation's main argument: Remote work offers significant benefits for employees, employers, and society as a whole.\n",
            "* **Overview of Topics:** Briefly outline the key benefits that will be discussed.\n",
            "\n",
            "**II. Benefits for Employees (10 minutes)**\n",
            "\n",
            "* **A. Improved Work-Life Balance:**\n",
            "    * More flexibility in scheduling and managing personal commitments.\n",
            "    * Reduced commute time and stress.\n",
            "    * Increased autonomy and control over work environment.\n",
            "    * Better opportunities for self-care and family time.\n",
            "    * Examples and case studies illustrating improved work-life balance.\n",
            "* **B. Increased Productivity and Focus:**\n",
            "    * Fewer distractions and interruptions compared to traditional office settings.\n",
            "    * Personalized work environment conducive to individual preferences.\n",
            "    * Ability to work during peak productivity hours.\n",
            "    * Data and research supporting increased productivity in remote settings.\n",
            "* **C. Enhanced Well-being:**\n",
            "    * Reduced stress and anxiety associated with commuting and office politics.\n",
            "    * Greater control over work environment leading to improved mental health.\n",
            "    * Opportunities for physical activity and healthier lifestyle choices.\n",
            "    * Examples of employee well-being initiatives implemented successfully in remote settings.\n",
            "* **D. Cost Savings:**\n",
            "    * Reduced expenses on commuting, work attire, and lunches.\n",
            "    * Potential for increased savings on childcare.\n",
            "\n",
            "**III. Benefits for Employers (10 minutes)**\n",
            "\n",
            "* **A. Access to a Wider Talent Pool:**\n",
            "    * Ability to recruit employees from anywhere in the world.\n",
            "    * Increased diversity and inclusion in the workforce.\n",
            "* **B. Reduced Overhead Costs:**\n",
            "    * Lower office space rental and maintenance costs.\n",
            "    * Decreased expenses on utilities and office supplies.\n",
            "* **C. Increased Employee Retention:**\n",
            "    * Improved employee satisfaction and loyalty due to flexible work arrangements.\n",
            "    * Reduced turnover rates and associated recruitment costs.\n",
            "* **D. Enhanced Productivity and Efficiency:**\n",
            "    * Data and case studies demonstrating increased productivity in remote teams.\n",
            "    * Improved communication and collaboration through technology.\n",
            "\n",
            "\n",
            "**IV. Benefits for Society (5 minutes)**\n",
            "\n",
            "* **A. Reduced Traffic Congestion and Pollution:**\n",
            "    * Less commuting leads to decreased traffic on roads and reduced carbon emissions.\n",
            "* **B. Economic Growth in Underserved Areas:**\n",
            "    * Remote work creates opportunities for individuals in rural or remote locations.\n",
            "* **C. Environmental Sustainability:**\n",
            "    * Reduced reliance on fossil fuels for commuting and office buildings.\n",
            "\n",
            "\n",
            "**V. Addressing Concerns and Challenges (5 minutes)**\n",
            "\n",
            "* **A. Communication and Collaboration Challenges:**\n",
            "    * Strategies for effective communication and collaboration in remote teams.\n",
            "    * Utilizing appropriate technology and tools.\n",
            "* **B. Isolation and Loneliness:**\n",
            "    * Importance of fostering a sense of community and connection among remote workers.\n",
            "    * Utilizing virtual social events and team-building activities.\n",
            "* **C. Cybersecurity and Data Protection:**\n",
            "    * Implementing robust security measures to protect sensitive information.\n",
            "\n",
            "\n",
            "**VI. Conclusion (5 minutes)**\n",
            "\n",
            "* **Recap of Key Benefits:** Briefly summarize the main advantages of remote work discussed.\n",
            "* **Call to Action:** Encourage the audience to consider adopting or expanding remote work practices.\n",
            "* **Q&A:** Allow time for questions from the audience.\n",
            "\n",
            "\n",
            "**Visual Aids:** Use charts, graphs, images, and videos to illustrate key points and make the presentation engaging.  Consider including real-world examples and testimonials.\n",
            "\n"
          ]
        }
      ],
      "source": [
        "#complete high priority tasks\n",
        "for task in prioritized_tasks[\"high_priority\"]:\n",
        "    print_llm_response(task)"
      ]
    },
    {
      "cell_type": "markdown",
      "id": "0252164f-5855-4c65-a631-bd71fd3b0586",
      "metadata": {
        "id": "0252164f-5855-4c65-a631-bd71fd3b0586"
      },
      "source": [
        "In the next lesson we will continue exploring dictionaries. You will see how to use values to create prompts to use with LLMs."
      ]
    },
    {
      "cell_type": "markdown",
      "id": "0b3b2ee6-0afb-4b3b-afc0-9d4906333edc",
      "metadata": {
        "id": "0b3b2ee6-0afb-4b3b-afc0-9d4906333edc"
      },
      "source": [
        "## Extra practice"
      ]
    },
    {
      "cell_type": "markdown",
      "id": "39e1f950-58a2-43bb-a586-4e9f14155b32",
      "metadata": {
        "id": "39e1f950-58a2-43bb-a586-4e9f14155b32"
      },
      "source": [
        "Please go through the exercises in the cells below if you want some extra practice for the topics you covered in this lesson."
      ]
    },
    {
      "cell_type": "code",
      "execution_count": 48,
      "id": "84928944-5d07-4475-8dda-07bb54823e32",
      "metadata": {
        "id": "84928944-5d07-4475-8dda-07bb54823e32",
        "outputId": "c48a1034-1910-45d1-ba67-48865676f030",
        "colab": {
          "base_uri": "https://localhost:8080/",
          "height": 110
        }
      },
      "outputs": [
        {
          "output_type": "error",
          "ename": "SyntaxError",
          "evalue": "invalid syntax (<ipython-input-48-834ec465f167>, line 8)",
          "traceback": [
            "\u001b[0;36m  File \u001b[0;32m\"<ipython-input-48-834ec465f167>\"\u001b[0;36m, line \u001b[0;32m8\u001b[0m\n\u001b[0;31m    ice_cream_flavors[\"Rocky Road\"] =\u001b[0m\n\u001b[0m                                     ^\u001b[0m\n\u001b[0;31mSyntaxError\u001b[0m\u001b[0;31m:\u001b[0m invalid syntax\n"
          ]
        }
      ],
      "source": [
        "# Update the description for the\n",
        "# Rocky Road flavor using get_llm_response()\n",
        "\n",
        "flavor = \"Rocky Road\"\n",
        "prompt = f\"Provide a brief description for the {flavor} ice cream flavor\"\n",
        "\n",
        "### EDIT THE FOLLOWING CODE ###\n",
        "ice_cream_flavors[\"Rocky Road\"] =\n",
        "### --------------- ###"
      ]
    },
    {
      "cell_type": "code",
      "source": [
        "# Update the description for the\n",
        "# Rocky Road flavor using get_llm_response()\n",
        "\n",
        "flavor = \"Rocky Road\"\n",
        "prompt = f\"Provide a brief description for the {flavor} ice cream flavor\"\n",
        "\n",
        "### EDIT THE FOLLOWING CODE ###\n",
        "ice_cream_flavors[\"Rocky Road\"] = get_llm_response(prompt)\n",
        "print(ice_cream_flavors['Rocky Road'])\n",
        "### --------------- ###"
      ],
      "metadata": {
        "id": "4Wolu3ygT-3x",
        "outputId": "3690512f-d4ab-4a83-afcc-e2cbde1592ef",
        "colab": {
          "base_uri": "https://localhost:8080/",
          "height": 73
        }
      },
      "id": "4Wolu3ygT-3x",
      "execution_count": 64,
      "outputs": [
        {
          "output_type": "stream",
          "name": "stdout",
          "text": [
            "Rocky Road ice cream is a chocolate ice cream packed with marshmallows, nuts (usually walnuts or pecans), and often chocolate chunks.  The combination of sweet, chewy, crunchy, and chocolatey elements makes it a classic and beloved flavor.\n",
            "\n"
          ]
        }
      ]
    },
    {
      "cell_type": "code",
      "execution_count": 65,
      "id": "2bb222c9-9f01-4f29-9abc-d7c189e5d2d5",
      "metadata": {
        "id": "2bb222c9-9f01-4f29-9abc-d7c189e5d2d5",
        "outputId": "5ae0ac64-0b38-4dca-acd1-cd0c414ef463",
        "colab": {
          "base_uri": "https://localhost:8080/",
          "height": 1000
        }
      },
      "outputs": [
        {
          "output_type": "stream",
          "name": "stdout",
          "text": [
            "Subject: Late to Tomorrow's Meeting\n",
            "\n",
            "Hi [Boss's name],\n",
            "\n",
            "I wanted to let you know that I will be late to tomorrow's meeting. I expect to arrive around [Time] due to [Brief, professional reason - optional].  I apologize for any inconvenience.\n",
            "\n",
            "Thanks,\n",
            "\n",
            "[Your Name]\n",
            "\n",
            "## Presentation Outline: The Benefits of Remote Work\n",
            "\n",
            "**I. Introduction (2-3 minutes)**\n",
            "\n",
            "* **Hook:** Start with a compelling statistic or anecdote highlighting the growth of remote work or a personal experience.  (e.g., \"The number of remote workers has tripled in the last decade...\", or \"I used to commute 2 hours a day...now I have that time back.\")\n",
            "* **Define Remote Work:** Briefly explain what remote work encompasses (fully remote, hybrid, telecommuting).\n",
            "* **Thesis Statement:** Clearly state the presentation's main argument:  Remote work offers significant benefits for both employees and employers, leading to increased productivity, improved well-being, and a more sustainable future.\n",
            "\n",
            "**II. Benefits for Employees (7-8 minutes)**\n",
            "\n",
            "* **A. Improved Work-Life Balance:**\n",
            "    * Increased flexibility and autonomy.\n",
            "    * Reduced commute time and stress.\n",
            "    * Better ability to manage personal responsibilities (childcare, eldercare, appointments).\n",
            "    * More time for hobbies and self-care.  (Include visuals – before/after commute time, example schedules)\n",
            "* **B. Enhanced Productivity & Focus:**\n",
            "    * Fewer distractions in a controlled environment.\n",
            "    * Personalized work schedules to maximize individual productivity.\n",
            "    * Increased control over breaks and work pace.  (Include examples of productivity apps/techniques)\n",
            "* **C. Improved Well-being:**\n",
            "    * Reduced stress and burnout.\n",
            "    * More control over work environment (ergonomics, comfort).\n",
            "    * Greater job satisfaction and engagement. (Include data on employee satisfaction in remote vs. in-office settings)\n",
            "* **D. Expanded Career Opportunities:**\n",
            "    * Access to a wider range of jobs, regardless of location.\n",
            "    * Potential for higher earning due to increased demand for remote skills.\n",
            "\n",
            "\n",
            "**III. Benefits for Employers (7-8 minutes)**\n",
            "\n",
            "* **A. Reduced Overhead Costs:**\n",
            "    * Lower office space costs (rent, utilities, maintenance).\n",
            "    * Reduced costs associated with commuting (parking, public transport subsidies).\n",
            "    * Potential for a more geographically diverse talent pool.\n",
            "* **B. Increased Productivity & Efficiency:**\n",
            "    * Employees may work longer hours, but with increased focus.\n",
            "    * Access to a larger pool of talent.\n",
            "    * Improved employee retention rates (data comparison).\n",
            "* **C. Enhanced Company Culture (with strategies):**\n",
            "    * Utilizing virtual communication tools effectively.\n",
            "    * Building a strong remote team culture through online events and team building activities.\n",
            "    * Regular check-ins and feedback mechanisms.\n",
            "* **D. Improved Sustainability:**\n",
            "    * Reduced carbon footprint from commuting.\n",
            "    * Reduced paper consumption & waste.\n",
            "\n",
            "\n",
            "**IV. Addressing Potential Challenges (5-6 minutes)**\n",
            "\n",
            "* **A. Communication & Collaboration:**  (Highlight solutions like project management tools, regular meetings)\n",
            "* **B. Isolation and Loneliness:** (Suggest virtual social events, team-building activities)\n",
            "* **C. Cybersecurity & Data Protection:** (Emphasize importance of strong security protocols)\n",
            "* **D. Maintaining Work-Life Boundaries:** (Discuss setting clear boundaries and utilizing time management techniques)\n",
            "\n",
            "\n",
            "**V. Conclusion (2-3 minutes)**\n",
            "\n",
            "* **Recap of Key Benefits:** Briefly summarize the main advantages for both employees and employers.\n",
            "* **Call to Action:** Encourage the audience to consider adopting remote work practices or to explore the benefits further.\n",
            "* **Q&A:** Open the floor for questions from the audience.\n",
            "\n",
            "\n",
            "**Visual Aids:** Use charts, graphs, images, and videos to illustrate data and make the presentation engaging.  Consider incorporating real-life examples and testimonials.\n",
            "\n"
          ]
        }
      ],
      "source": [
        "# Complete the medium priority tasks\n",
        "# by modifying the following code\n",
        "\n",
        "### EDIT THE FOLLOWING CODE ###\n",
        "for task in prioritized_tasks[\"high_priority\"]:\n",
        "    print_llm_response(task)\n",
        "### --------------- ###"
      ]
    }
  ],
  "metadata": {
    "kernelspec": {
      "display_name": "Python 3",
      "name": "python3"
    },
    "language_info": {
      "codemirror_mode": {
        "name": "ipython",
        "version": 3
      },
      "file_extension": ".py",
      "mimetype": "text/x-python",
      "name": "python",
      "nbconvert_exporter": "python",
      "pygments_lexer": "ipython3",
      "version": "3.9.19"
    },
    "colab": {
      "provenance": [],
      "gpuType": "T4",
      "include_colab_link": true
    },
    "accelerator": "GPU"
  },
  "nbformat": 4,
  "nbformat_minor": 5
}