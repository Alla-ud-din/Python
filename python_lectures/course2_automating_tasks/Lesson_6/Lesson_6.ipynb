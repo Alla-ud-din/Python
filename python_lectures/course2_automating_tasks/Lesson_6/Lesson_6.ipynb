{
  "cells": [
    {
      "cell_type": "markdown",
      "metadata": {
        "id": "view-in-github",
        "colab_type": "text"
      },
      "source": [
        "<a href=\"https://colab.research.google.com/github/Alla-ud-din/Python/blob/main/python_lectures/course2_automating_tasks/Lesson_6/Lesson_6.ipynb\" target=\"_parent\"><img src=\"https://colab.research.google.com/assets/colab-badge.svg\" alt=\"Open In Colab\"/></a>"
      ]
    },
    {
      "cell_type": "markdown",
      "id": "c37dfb58-902b-44dd-a56b-11d6afee457a",
      "metadata": {
        "id": "c37dfb58-902b-44dd-a56b-11d6afee457a"
      },
      "source": [
        "# Lesson 6 - Helping AI make decisions"
      ]
    },
    {
      "cell_type": "markdown",
      "id": "532a6c5d",
      "metadata": {
        "id": "532a6c5d"
      },
      "source": [
        "### Download helper_function.py\n",
        "* pls set Secrets Variable for Gemini in Collab\n",
        "* `GEMINI_API_KEY`\n",
        "\n",
        "[Get API KEY From Google AI Studio](https://aistudio.google.com/app/apikey)"
      ]
    },
    {
      "cell_type": "code",
      "execution_count": 4,
      "id": "917d339c",
      "metadata": {
        "id": "917d339c",
        "outputId": "156538ba-a71d-43ca-c3a0-fa1d7532e405",
        "colab": {
          "base_uri": "https://localhost:8080/"
        }
      },
      "outputs": [
        {
          "output_type": "stream",
          "name": "stdout",
          "text": [
            "  % Total    % Received % Xferd  Average Speed   Time    Time     Time  Current\n",
            "                                 Dload  Upload   Total   Spent    Left  Speed\n",
            "100  3944  100  3944    0     0   8208      0 --:--:-- --:--:-- --:--:--  8199\n"
          ]
        }
      ],
      "source": [
        "### Download helper_function.py\n",
        "# * Set Secrets Variable for Gemini\n",
        "# * `GEMINI_API_KEY`\n",
        "\n",
        "!curl -o helper_functions.py https://raw.githubusercontent.com/panaversity/learn-cloud-native-modern-ai-python/main/04_natural_language_programming/02_ai_python_for_beginners/course1_basics/Lesson_9/helper_functions.py"
      ]
    },
    {
      "cell_type": "markdown",
      "id": "acc85383-e456-40d7-8b09-79bd91da0eed",
      "metadata": {
        "id": "acc85383-e456-40d7-8b09-79bd91da0eed"
      },
      "source": [
        "In this lesson you will see how booleans can be used to create sophisticated programs with branching decisions."
      ]
    },
    {
      "cell_type": "code",
      "execution_count": 5,
      "id": "09291854-2c07-4c09-8378-d825734df7c6",
      "metadata": {
        "id": "09291854-2c07-4c09-8378-d825734df7c6"
      },
      "outputs": [],
      "source": [
        "from helper_functions import print_llm_response"
      ]
    },
    {
      "cell_type": "markdown",
      "id": "3b5f7010-989e-4fc2-87be-ac437ce70df7",
      "metadata": {
        "id": "3b5f7010-989e-4fc2-87be-ac437ce70df7"
      },
      "source": [
        "## Performing tasks depending on their time to completion"
      ]
    },
    {
      "cell_type": "markdown",
      "id": "9d8faf4e-714e-492d-a3ef-c45a5fd02460",
      "metadata": {
        "id": "9d8faf4e-714e-492d-a3ef-c45a5fd02460"
      },
      "source": [
        "Let's say that you have a task list with tasks that LLMs could assist you with. Each element in that list is a dictionary with two keys: the `description` for the task and the `time_to_complete` after the LLM's first pass."
      ]
    },
    {
      "cell_type": "code",
      "execution_count": 2,
      "id": "224d7983-2e71-40e9-af21-92b9433c34c5",
      "metadata": {
        "id": "224d7983-2e71-40e9-af21-92b9433c34c5"
      },
      "outputs": [],
      "source": [
        "task_list = [\n",
        "    {\n",
        "        \"description\": \"Compose a brief email to my boss explaining that I will be late for next week's meeting.\",\n",
        "        \"time_to_complete\": 3\n",
        "    },\n",
        "    {\n",
        "        \"description\": \"Create an outline for a presentation on the benefits of remote work.\",\n",
        "        \"time_to_complete\": 60\n",
        "    },\n",
        "    {\n",
        "        \"description\": \"Write a 300-word review of the movie 'The Arrival'.\",\n",
        "        \"time_to_complete\": 30\n",
        "    },\n",
        "    {\n",
        "        \"description\": \"Create a shopping list for tofu and olive stir fry.\",\n",
        "        \"time_to_complete\": 5\n",
        "    }\n",
        "]"
      ]
    },
    {
      "cell_type": "markdown",
      "id": "e4326c98-b881-43aa-8c9a-c3dce0aa8312",
      "metadata": {
        "id": "e4326c98-b881-43aa-8c9a-c3dce0aa8312"
      },
      "source": [
        "So, if you access the first element, you will get the following dictionary:"
      ]
    },
    {
      "cell_type": "code",
      "execution_count": 4,
      "id": "033a9da9-5d47-41e5-9366-eb396afdf87a",
      "metadata": {
        "id": "033a9da9-5d47-41e5-9366-eb396afdf87a",
        "outputId": "0de69b2f-a5d1-423c-a3ca-3419e54b7dd1",
        "colab": {
          "base_uri": "https://localhost:8080/"
        }
      },
      "outputs": [
        {
          "output_type": "stream",
          "name": "stdout",
          "text": [
            "{'description': \"Compose a brief email to my boss explaining that I will be late for next week's meeting.\", 'time_to_complete': 3}\n"
          ]
        }
      ],
      "source": [
        "task = task_list[0]\n",
        "print(task)"
      ]
    },
    {
      "cell_type": "markdown",
      "id": "f222c387-f959-4f24-98ac-8dabad18792c",
      "metadata": {
        "id": "f222c387-f959-4f24-98ac-8dabad18792c"
      },
      "source": [
        "Now, let's check whether the first task takes at most 5 minutes to complete after the LLM's first pass."
      ]
    },
    {
      "cell_type": "code",
      "execution_count": 5,
      "id": "3e4d5838-e14a-4f10-8492-4b0f45491600",
      "metadata": {
        "id": "3e4d5838-e14a-4f10-8492-4b0f45491600",
        "outputId": "79c63507-25eb-4fcd-f6f7-04c82a858430",
        "colab": {
          "base_uri": "https://localhost:8080/"
        }
      },
      "outputs": [
        {
          "output_type": "execute_result",
          "data": {
            "text/plain": [
              "True"
            ]
          },
          "metadata": {},
          "execution_count": 5
        }
      ],
      "source": [
        "task[\"time_to_complete\"] <= 5"
      ]
    },
    {
      "cell_type": "markdown",
      "id": "80a9bb09-1f08-48f0-94ae-ec81997fac3f",
      "metadata": {
        "id": "80a9bb09-1f08-48f0-94ae-ec81997fac3f"
      },
      "source": [
        "To complete a task that requires 5 minutes or less after the LLM's first pass, you can use an `if` statement like the one below:"
      ]
    },
    {
      "cell_type": "code",
      "execution_count": 6,
      "id": "48f46f36-1ddc-4add-850a-db1146ea255a",
      "metadata": {
        "id": "48f46f36-1ddc-4add-850a-db1146ea255a",
        "outputId": "c0963253-014c-45cf-e7c3-f1376064111a",
        "colab": {
          "base_uri": "https://localhost:8080/",
          "height": 219
        }
      },
      "outputs": [
        {
          "output_type": "stream",
          "name": "stdout",
          "text": [
            "Subject: Late Arrival to Next Week's Meeting\n",
            "\n",
            "Hi [Boss's name],\n",
            "\n",
            "Just wanted to let you know that I will be slightly late to next week's meeting on [Date] at [Time] due to [Brief, optional reason - e.g., a prior appointment].  I apologize for any inconvenience.\n",
            "\n",
            "Thanks,\n",
            "\n",
            "[Your Name]\n",
            "\n"
          ]
        }
      ],
      "source": [
        "if task[\"time_to_complete\"] <= 5:\n",
        "    task_to_do = task[\"description\"]\n",
        "    print_llm_response(task_to_do)"
      ]
    },
    {
      "cell_type": "markdown",
      "id": "94757062-3a0b-4988-bb33-147762c11d97",
      "metadata": {
        "id": "94757062-3a0b-4988-bb33-147762c11d97"
      },
      "source": [
        "Let's see what would happen if you execute that same code for the second task:"
      ]
    },
    {
      "cell_type": "code",
      "execution_count": 8,
      "id": "f868908d-2a8b-498f-954d-11e058694913",
      "metadata": {
        "id": "f868908d-2a8b-498f-954d-11e058694913"
      },
      "outputs": [],
      "source": [
        "task = task_list[1]\n",
        "if task[\"time_to_complete\"] <= 5:\n",
        "    task_to_do = task[\"description\"]\n",
        "    print_llm_response(task_to_do)"
      ]
    },
    {
      "cell_type": "code",
      "execution_count": 9,
      "id": "3e71c360-2aba-4fc8-9afe-6acedef33b57",
      "metadata": {
        "id": "3e71c360-2aba-4fc8-9afe-6acedef33b57",
        "outputId": "7d60dd91-5ea6-4dff-a9a2-5e712473e9ed",
        "colab": {
          "base_uri": "https://localhost:8080/"
        }
      },
      "outputs": [
        {
          "output_type": "execute_result",
          "data": {
            "text/plain": [
              "False"
            ]
          },
          "metadata": {},
          "execution_count": 9
        }
      ],
      "source": [
        "task[\"time_to_complete\"] <= 5"
      ]
    },
    {
      "cell_type": "markdown",
      "id": "ce67bfcc-bf70-4678-bc5f-fc70713aeb2f",
      "metadata": {
        "id": "ce67bfcc-bf70-4678-bc5f-fc70713aeb2f"
      },
      "source": [
        "And for the third and fourth tasks:"
      ]
    },
    {
      "cell_type": "code",
      "execution_count": 10,
      "id": "6d2d541f-be6c-43ac-8ce9-8088d6ac82fb",
      "metadata": {
        "id": "6d2d541f-be6c-43ac-8ce9-8088d6ac82fb"
      },
      "outputs": [],
      "source": [
        "task = task_list[2]\n",
        "if task[\"time_to_complete\"] <= 5:\n",
        "    task_to_do = task[\"description\"]\n",
        "    print_llm_response(task_to_do)"
      ]
    },
    {
      "cell_type": "code",
      "execution_count": 11,
      "id": "ee1a2257-e87a-4c01-91c0-649765cf3144",
      "metadata": {
        "id": "ee1a2257-e87a-4c01-91c0-649765cf3144",
        "outputId": "c51047f2-8bb1-4b27-9a92-5fce979ae535",
        "colab": {
          "base_uri": "https://localhost:8080/",
          "height": 652
        }
      },
      "outputs": [
        {
          "output_type": "stream",
          "name": "stdout",
          "text": [
            "## Tofu & Olive Stir-Fry Shopping List:\n",
            "\n",
            "**Produce:**\n",
            "\n",
            "* Firm or extra-firm tofu (1 block)\n",
            "* Green olives (1 can, pitted or unpitted depending on preference)\n",
            "* Bell peppers (1-2, any color or a mix)\n",
            "* Onion (1 medium)\n",
            "* Garlic (1 bulb or a pre-minced jar)\n",
            "* Ginger (1 knob, about 1 inch)\n",
            "* Optional:  Broccoli florets, snow peas, zucchini, mushrooms (any other veggies you enjoy)\n",
            "* Spring onions/scallions (for garnish)\n",
            "\n",
            "\n",
            "**Pantry:**\n",
            "\n",
            "* Olive oil\n",
            "* Soy sauce (or tamari for gluten-free)\n",
            "* Rice vinegar\n",
            "* Sesame oil\n",
            "* Honey or maple syrup (for sweetness)\n",
            "* Cornstarch (optional, for thickening the sauce)\n",
            "* Black pepper\n",
            "* Red pepper flakes (optional, for spice)\n",
            "* Cooked rice (to serve)\n",
            "\n",
            "\n",
            "**Optional additions:**\n",
            "\n",
            "* Sesame seeds (for garnish)\n",
            "* Chopped cashews or peanuts (for added crunch)\n",
            "\n",
            "\n",
            "This list allows for flexibility.  Adjust quantities based on how many servings you're making and your personal preferences.\n",
            "\n"
          ]
        }
      ],
      "source": [
        "task = task_list[3]\n",
        "if task[\"time_to_complete\"] <= 5:\n",
        "    task_to_do = task[\"description\"]\n",
        "    print_llm_response(task_to_do)"
      ]
    },
    {
      "cell_type": "markdown",
      "id": "629e34bd-f02b-4163-b826-4626215f55f3",
      "metadata": {
        "id": "629e34bd-f02b-4163-b826-4626215f55f3"
      },
      "source": [
        "## Looping through the task list"
      ]
    },
    {
      "cell_type": "markdown",
      "id": "9bbb1658-819b-4f72-a90c-6d99643e6e20",
      "metadata": {
        "id": "9bbb1658-819b-4f72-a90c-6d99643e6e20"
      },
      "source": [
        "There is a more efficient way to avoid repeating the same code over and over again for different elements in a list. You have used the `for` loop in previous lessons. Here, you will use it to iterate through all the tasks, check if they take 5 minutes or less to complete, and ask the LLM to do a first pass at them if that's the case."
      ]
    },
    {
      "cell_type": "code",
      "execution_count": 6,
      "id": "af2044cb-6cc4-4ad7-aa70-a447641c5f63",
      "metadata": {
        "id": "af2044cb-6cc4-4ad7-aa70-a447641c5f63",
        "outputId": "11e89058-5eca-4bfb-ec7d-ad4b2134bd5e",
        "colab": {
          "base_uri": "https://localhost:8080/",
          "height": 745
        }
      },
      "outputs": [
        {
          "output_type": "stream",
          "name": "stdout",
          "text": [
            "Subject: Late Arrival to Next Week's Meeting\n",
            "\n",
            "Hi [Boss's name],\n",
            "\n",
            "This email is to let you know that I will be slightly late to next week's meeting on [Date] at [Time] due to [Brief, optional reason - e.g., a prior appointment].  I apologize for any inconvenience.\n",
            "\n",
            "Thanks,\n",
            "[Your Name]\n",
            "\n",
            "## Tofu & Olive Stir-Fry Shopping List:\n",
            "\n",
            "**Produce:**\n",
            "\n",
            "* Firm or extra-firm tofu (1 block)\n",
            "* Kalamata olives (1 can or container)\n",
            "* Red bell pepper (1)\n",
            "* Green bell pepper (1)\n",
            "* Onion (1)\n",
            "* Garlic (1 bulb or pre-minced jar)\n",
            "* Fresh ginger (1 knob, about 1 inch)\n",
            "* Optional: Cherry tomatoes (1 pint)\n",
            "* Optional: Spinach or other leafy green (1 bunch)\n",
            "* Optional: Green onions (1 bunch) for garnish\n",
            "\n",
            "**Pantry:**\n",
            "\n",
            "* Soy sauce (or tamari for gluten-free)\n",
            "* Olive oil\n",
            "* Sesame oil (optional, for added flavor)\n",
            "* Honey or maple syrup (for sweetness)\n",
            "* Rice vinegar (optional, for acidity)\n",
            "* Cornstarch or arrowroot powder (for thickening sauce, optional)\n",
            "* Black pepper\n",
            "* Red pepper flakes (optional, for spice)\n",
            "* Cooked rice (or noodles) for serving\n",
            "\n",
            "\n",
            "**Note:**  Quantities are estimates and can be adjusted based on the number of servings needed.  Check your pantry for items you may already have before heading to the store.\n",
            "\n"
          ]
        }
      ],
      "source": [
        "for task in task_list:\n",
        "    if task[\"time_to_complete\"] <= 5:\n",
        "        task_to_do = task[\"description\"]\n",
        "        print_llm_response(task_to_do)"
      ]
    },
    {
      "cell_type": "markdown",
      "id": "77194b60-9e68-461a-a920-eb84d268bd87",
      "metadata": {
        "id": "77194b60-9e68-461a-a920-eb84d268bd87"
      },
      "source": [
        "## `if`-`else` blocks"
      ]
    },
    {
      "cell_type": "markdown",
      "id": "8f276ad1-48d1-4211-b509-20ce20ae3a1d",
      "metadata": {
        "id": "8f276ad1-48d1-4211-b509-20ce20ae3a1d"
      },
      "source": [
        "In some cases, you may want to perform another action when the `if` condition is not met. In those cases, you can use `else`. For instance, here Python will let you know that some of the tasks were not completed and will provide you with the `time_to_complete` information for those tasks."
      ]
    },
    {
      "cell_type": "code",
      "execution_count": 7,
      "id": "a403c715-e321-446c-9fd9-ee5db1c28b05",
      "metadata": {
        "id": "a403c715-e321-446c-9fd9-ee5db1c28b05",
        "outputId": "5b6d421a-ac73-4910-ed47-3c081fd41e1f",
        "colab": {
          "base_uri": "https://localhost:8080/",
          "height": 888
        }
      },
      "outputs": [
        {
          "output_type": "stream",
          "name": "stderr",
          "text": [
            "ERROR:tornado.access:503 POST /v1beta/models/gemini-1.5-flash:generateContent?%24alt=json%3Benum-encoding%3Dint (127.0.0.1) 2065.78ms\n"
          ]
        },
        {
          "output_type": "stream",
          "name": "stdout",
          "text": [
            "Subject: Late arrival to next week's meeting\n",
            "\n",
            "Hi [Boss's name],\n",
            "\n",
            "Just wanted to let you know that I will be slightly late to next week's meeting due to [brief, optional explanation - e.g., a prior appointment].  I apologize for any inconvenience.\n",
            "\n",
            "Thanks,\n",
            "\n",
            "[Your Name]\n",
            "\n",
            "To complete later: 60 time to complete.\n",
            "To complete later: 30 time to complete.\n",
            "## Tofu & Olive Stir-Fry Shopping List:\n",
            "\n",
            "**Produce:**\n",
            "\n",
            "* Firm or extra-firm tofu (1 block)\n",
            "* Green olives (1 can, pitted or unpitted depending on preference)\n",
            "* Bell peppers (1-2, any color or a mix)\n",
            "* Onion (1 medium)\n",
            "* Garlic (1 head or several cloves)\n",
            "* Ginger (1 knob, optional but recommended)\n",
            "* Green onions (1 bunch, for garnish)\n",
            "\n",
            "**Pantry:**\n",
            "\n",
            "* Olive oil\n",
            "* Soy sauce (or tamari for gluten-free)\n",
            "* Rice vinegar (or other vinegar)\n",
            "* Sesame oil (optional, for flavor)\n",
            "* Honey or maple syrup (optional, for sweetness)\n",
            "* Cornstarch (optional, for thickening sauce)\n",
            "* Black pepper\n",
            "* Red pepper flakes (optional, for spice)\n",
            "* Cooked rice (or noodles) for serving\n",
            "\n",
            "\n",
            "**Optional additions:**\n",
            "\n",
            "* Broccoli florets\n",
            "* Mushrooms (shiitake, cremini, etc.)\n",
            "* Snow peas or sugar snap peas\n",
            "* Cherry tomatoes\n",
            "\n",
            "\n",
            "This list provides a good base. Adjust quantities based on your needs and the number of servings you're preparing.\n",
            "\n"
          ]
        }
      ],
      "source": [
        "for task in task_list:\n",
        "    if task[\"time_to_complete\"] <= 5:\n",
        "        task_to_do = task[\"description\"]\n",
        "        print_llm_response(task_to_do)\n",
        "    else:\n",
        "        print(f\"To complete later: {task['time_to_complete']} time to complete.\")"
      ]
    },
    {
      "cell_type": "markdown",
      "id": "425e5bb2-c90e-42b0-a046-8b760ea007b7",
      "metadata": {
        "id": "425e5bb2-c90e-42b0-a046-8b760ea007b7"
      },
      "source": [
        "## Saving tasks for later using lists"
      ]
    },
    {
      "cell_type": "markdown",
      "id": "04030334-2cdf-4164-967d-4d2af593c3d9",
      "metadata": {
        "id": "04030334-2cdf-4164-967d-4d2af593c3d9"
      },
      "source": [
        "After you executed the previous cell, you saw that some of the tasks were not completed and their time to completion. However, it is better practice to save all the information from those tasks using a new list. Here, you will again use the coding paradigm where you initialize an empty list to save information (the tasks to complete later) using `.append()`."
      ]
    },
    {
      "cell_type": "code",
      "execution_count": 8,
      "id": "20751a1a-e73e-4ded-98a5-48c341debae5",
      "metadata": {
        "id": "20751a1a-e73e-4ded-98a5-48c341debae5",
        "outputId": "dad092a8-5c63-44db-9ecf-e6ad94023b10",
        "colab": {
          "base_uri": "https://localhost:8080/",
          "height": 870
        }
      },
      "outputs": [
        {
          "output_type": "stream",
          "name": "stdout",
          "text": [
            "Subject: Late to Meeting Next Week\n",
            "\n",
            "Hi [Boss's name],\n",
            "\n",
            "Just letting you know that I will be slightly late to next week's meeting on [Date] at [Time] due to [Brief reason, optional].  I apologize for any inconvenience.\n",
            "\n",
            "Thanks,\n",
            "\n",
            "[Your Name]\n",
            "\n",
            "## Tofu & Olive Stir-Fry Shopping List:\n",
            "\n",
            "**Produce:**\n",
            "\n",
            "* Firm or extra-firm tofu (1 block)\n",
            "* Kalamata olives (1 cup, pitted) or other olives of your choice\n",
            "* Bell pepper (1, any color or a mix)\n",
            "* Onion (1 medium)\n",
            "* Garlic (2-3 cloves)\n",
            "* Ginger (1 inch piece, optional)\n",
            "* Green onions (1 bunch, for garnish)\n",
            "\n",
            "\n",
            "**Pantry:**\n",
            "\n",
            "* Olive oil\n",
            "* Soy sauce (or tamari for gluten-free)\n",
            "* Honey or maple syrup (for sweetness)\n",
            "* Rice vinegar (or other vinegar)\n",
            "* Sesame oil (optional, for extra flavor)\n",
            "* Cornstarch or arrowroot powder (for thickening the sauce, optional)\n",
            "* Red pepper flakes (optional, for spice)\n",
            "* Black pepper\n",
            "* Cooked rice (for serving)\n",
            "\n",
            "\n",
            "**Optional additions:**\n",
            "\n",
            "* Broccoli florets\n",
            "* Mushrooms\n",
            "* Spinach or other leafy greens\n",
            "* Cherry tomatoes\n",
            "* Peanuts or sesame seeds (for garnish)\n",
            "\n",
            "\n",
            "This list provides a good foundation. Adjust quantities based on how many servings you need.\n",
            "\n"
          ]
        }
      ],
      "source": [
        "tasks_for_later = []\n",
        "\n",
        "for task in task_list:\n",
        "    if task[\"time_to_complete\"] <= 5:\n",
        "        task_to_do = task[\"description\"]\n",
        "        print_llm_response(task_to_do)\n",
        "    else:\n",
        "        tasks_for_later.append(task)"
      ]
    },
    {
      "cell_type": "code",
      "execution_count": 9,
      "id": "f5969c9f-57ac-4146-839b-226ce092387a",
      "metadata": {
        "id": "f5969c9f-57ac-4146-839b-226ce092387a",
        "outputId": "6b0b2ff8-faaf-4bf8-d818-f0a14de7c76b",
        "colab": {
          "base_uri": "https://localhost:8080/"
        }
      },
      "outputs": [
        {
          "output_type": "stream",
          "name": "stdout",
          "text": [
            "[{'description': 'Create an outline for a presentation on the benefits of remote work.', 'time_to_complete': 60}, {'description': \"Write a 300-word review of the movie 'The Arrival'.\", 'time_to_complete': 30}]\n"
          ]
        }
      ],
      "source": [
        "print(tasks_for_later)"
      ]
    },
    {
      "cell_type": "markdown",
      "id": "9d616998-e210-4d8b-8928-a9776856f518",
      "metadata": {
        "id": "9d616998-e210-4d8b-8928-a9776856f518"
      },
      "source": [
        "Congratulations 🎉🎉🎉, you are very close to completing this course. In the next lesson, you will go through a quick demo about working with files."
      ]
    },
    {
      "cell_type": "markdown",
      "id": "3b4a0ab3-f01a-4fe4-9a50-5f985972b51f",
      "metadata": {
        "id": "3b4a0ab3-f01a-4fe4-9a50-5f985972b51f"
      },
      "source": [
        "## Extra practice"
      ]
    },
    {
      "cell_type": "markdown",
      "id": "ecbfea5c-678a-4a50-9843-a8a939098c18",
      "metadata": {
        "id": "ecbfea5c-678a-4a50-9843-a8a939098c18"
      },
      "source": [
        "Please go through the exercises in the cells below if you want some extra practice for the topics you covered in this lesson."
      ]
    },
    {
      "cell_type": "code",
      "execution_count": null,
      "id": "f625ce01-fca2-4754-9503-2c33020524be",
      "metadata": {
        "id": "f625ce01-fca2-4754-9503-2c33020524be"
      },
      "outputs": [],
      "source": [
        "# Modify this code to complete the task\n",
        "# if it takes more than 15 minutes\n",
        "\n",
        "task = task_list[2]\n",
        "\n",
        "### EDIT THE FOLLOWING CODE ###\n",
        "if task[\"time_to_complete\"]: #Modify this line\n",
        "    task_to_do = task[\"description\"]\n",
        "    print_llm_response(task_to_do)\n",
        "### --------------- ###"
      ]
    },
    {
      "cell_type": "code",
      "source": [
        "#Answer\n",
        "\n",
        "task = task_list[2]\n",
        "\n",
        "### EDIT THE FOLLOWING CODE ###\n",
        "if task[\"time_to_complete\"] > 15:\n",
        "    task_to_do = task[\"description\"]\n",
        "    print_llm_response(task_to_do)\n",
        "### --------------- ###"
      ],
      "metadata": {
        "id": "hYqT0hMNl2tv",
        "outputId": "0e378b5c-ced5-4019-eddd-78e318173bf2",
        "colab": {
          "base_uri": "https://localhost:8080/",
          "height": 219
        }
      },
      "id": "hYqT0hMNl2tv",
      "execution_count": 10,
      "outputs": [
        {
          "output_type": "stream",
          "name": "stdout",
          "text": [
            "Denis Villeneuve's \"Arrival\" isn't just a science fiction film; it's a profound meditation on time, communication, and the nature of understanding.  The film masterfully avoids typical alien invasion tropes, instead focusing on the intricate process of contact and the emotional toll it takes on its protagonist, Dr. Louise Banks (Amy Adams).\n",
            "\n",
            "Banks, a renowned linguist, is recruited by the military to decipher the language of extraterrestrial visitors who have landed in seemingly peaceful yet ominous circumstances.  The film's strength lies in its visual storytelling.  The towering, obsidian spacecraft and the alien's otherworldly cephalopod-like form are both visually stunning and subtly unsettling.  Villeneuve's deliberate pacing and evocative imagery create a sense of awe and mystery that keeps the audience captivated.\n",
            "\n",
            "The core of the narrative revolves around Banks's struggle to unravel the aliens' circular, non-linear language.  This linguistic challenge becomes a mirror to her own personal journey, as the film subtly reveals her memories in a fragmented, non-chronological order, paralleling the aliens' communication.  This innovative storytelling technique cleverly explores the subjective nature of time and the idea that our perception of it shapes our understanding of reality.\n",
            "\n",
            "Jeremy Renner, as the skeptical physicist Ian Donnelly, provides a grounding presence alongside Adams's emotionally complex performance. Their evolving relationship serves as a poignant counterpoint to the larger, cosmic events unfolding around them.  While the film touches on existential themes, it never feels preachy or overly intellectual.  Instead, it presents its complex ideas with elegance and restraint, inviting the audience to engage in their own interpretations.\n",
            "\n",
            "\"Arrival\" is not a film about action or spectacle, but about the power of communication, empathy, and the profound beauty that can be found in the unknown. It's a thought-provoking, emotionally resonant masterpiece that lingers in the mind long after the credits roll.\n",
            "\n"
          ]
        }
      ]
    },
    {
      "cell_type": "code",
      "source": [
        "# Fix the code here by only using indentation.\n",
        "# It should print a message if the \"Chocolate\" ice cream flavor\n",
        "# is located in the ice_cream_flavors list.\n",
        "\n",
        "ice_cream_flavors = [\n",
        "    \"Vanilla\", \"Strawberry\", \"Mint Chocolate Chip\",\n",
        "    \"Cookies and Cream\", \"Rocky Road\", \"Butter Pecan\",\n",
        "    \"Pistachio\", \"Salted Caramel\", \"Chocolate\",\n",
        "    \"Mango\"\n",
        "]\n",
        "\n",
        "### EDIT THE FOLLOWING CODE ###\n",
        "#Hint: Recall that the code within for loops\n",
        "# and if statements is indented. The convention\n",
        "# in Python is to add four spaces for indented code.\n",
        "for flavor in ice_cream_flavors:\n",
        "if flavor == \"Chocolate\":\n",
        "print(f\"The list of flavors contains {flavor}, Andrew's favorite.\")\n",
        "### --------------- ###"
      ],
      "metadata": {
        "id": "vKf4ohefmKlF"
      },
      "id": "vKf4ohefmKlF",
      "execution_count": null,
      "outputs": []
    },
    {
      "cell_type": "code",
      "source": [
        "# Answer\n",
        "\n",
        "ice_cream_flavors = [\n",
        "    \"Vanilla\", \"Strawberry\", \"Mint Chocolate Chip\",\n",
        "    \"Cookies and Cream\", \"Rocky Road\", \"Butter Pecan\",\n",
        "    \"Pistachio\", \"Salted Caramel\", \"Chocolate\",\n",
        "    \"Mango\"\n",
        "]\n",
        "\n",
        "### EDIT THE FOLLOWING CODE ###\n",
        "#Hint: Recall that the code within for loops\n",
        "# and if statements is indented. The convention\n",
        "# in Python is to add four spaces for indented code.\n",
        "for flavor in ice_cream_flavors:\n",
        "  if flavor == \"Chocolate\":\n",
        "    print(f\"The list of flavors contains {flavor}, Andrew's favorite.\")\n",
        "### --------------- ###"
      ],
      "metadata": {
        "id": "at_J8gdAmMTI",
        "outputId": "5a141056-be5e-462c-fe35-f7beceda53bc",
        "colab": {
          "base_uri": "https://localhost:8080/"
        }
      },
      "id": "at_J8gdAmMTI",
      "execution_count": 11,
      "outputs": [
        {
          "output_type": "stream",
          "name": "stdout",
          "text": [
            "The list of flavors contains Chocolate, Andrew's favorite.\n"
          ]
        }
      ]
    },
    {
      "cell_type": "code",
      "execution_count": null,
      "id": "fe5406ef-5da6-41d3-993a-764ef3e6dff9",
      "metadata": {
        "id": "fe5406ef-5da6-41d3-993a-764ef3e6dff9"
      },
      "outputs": [],
      "source": [
        "# Add variables to the f-string to provide the\n",
        "# task description as well as the time to complete\n",
        "# for the tasks that are left for later.\n",
        "\n",
        "for task in task_list:\n",
        "    if task[\"time_to_complete\"] <= 5:\n",
        "        task_to_do = task[\"description\"]\n",
        "        print_llm_response(task_to_do)\n",
        "    else:\n",
        "        ### EDIT THE FOLLOWING CODE ###\n",
        "        # Hint: To add a variable in an f-string\n",
        "        # you need to use the following syntax: {variable_name}.\n",
        "        print(f\"To complete later:\")\n",
        "        ### ---------------  ###"
      ]
    },
    {
      "cell_type": "code",
      "source": [
        "# Answer\n",
        "for task in task_list:\n",
        "    if task[\"time_to_complete\"] <= 5:\n",
        "        task_to_do = task[\"description\"]\n",
        "        print_llm_response(task_to_do)\n",
        "    else:\n",
        "        ### EDIT THE FOLLOWING CODE ###\n",
        "        # Hint: To add a variable in an f-string\n",
        "        # you need to use the following syntax: {variable_name}.\n",
        "        print(f\"\"\"To complete later: {task['description']}\n",
        "              Time to complete: {task['time_to_complete']}\"\"\")\n",
        "        ### ---------------  ###"
      ],
      "metadata": {
        "id": "yToNsf-0mat0",
        "outputId": "bb47ce61-0f7d-4ae4-e9ae-e94f52ade42b",
        "colab": {
          "base_uri": "https://localhost:8080/",
          "height": 981
        }
      },
      "id": "yToNsf-0mat0",
      "execution_count": 13,
      "outputs": [
        {
          "output_type": "stream",
          "name": "stdout",
          "text": [
            "Subject: Late Arrival to Next Week's Meeting\n",
            "\n",
            "Hi [Boss's name],\n",
            "\n",
            "This email is to let you know that I will be slightly late to next week's meeting on [Date] at [Time]. I anticipate arriving around [Time you expect to arrive].  I apologize for any inconvenience.\n",
            "\n",
            "Thanks,\n",
            "\n",
            "[Your Name]\n",
            "\n",
            "To complete later: Create an outline for a presentation on the benefits of remote work.\n",
            "              Time to complete: 60\n",
            "To complete later: Write a 300-word review of the movie 'The Arrival'.\n",
            "              Time to complete: 30\n",
            "## Tofu & Olive Stir-Fry Shopping List:\n",
            "\n",
            "**Produce:**\n",
            "\n",
            "* Firm or extra-firm tofu (1 block)\n",
            "* Kalamata olives (1 cup, pitted or unpitted - your preference)\n",
            "* Red bell pepper (1)\n",
            "* Green bell pepper (1)\n",
            "* Onion (1 medium)\n",
            "* Garlic (2-3 cloves)\n",
            "* Ginger (1 thumb-sized piece, optional)\n",
            "* Fresh cilantro or parsley (small bunch, for garnish)\n",
            "* Green onions (1 bunch, optional)\n",
            "\n",
            "\n",
            "**Pantry:**\n",
            "\n",
            "* Olive oil\n",
            "* Soy sauce (or tamari for gluten-free)\n",
            "* Rice vinegar\n",
            "* Honey or maple syrup (for sweetness)\n",
            "* Sesame oil (optional, for flavor)\n",
            "* Cornstarch or arrowroot powder (for thickening sauce, optional)\n",
            "* Black pepper\n",
            "* Red pepper flakes (optional, for spice)\n",
            "* Cooked rice (for serving)\n",
            "\n",
            "\n",
            "**Optional additions:**\n",
            "\n",
            "* Mushrooms (shiitake, cremini, etc.)\n",
            "* Broccoli florets\n",
            "* Snow peas or sugar snap peas\n",
            "* Zucchini\n",
            "\n",
            "\n",
            "**Note:**  Quantities are estimates and can be adjusted based on your needs and preferences.  Check your pantry before heading to the store to avoid buying duplicates!\n",
            "\n"
          ]
        }
      ]
    }
  ],
  "metadata": {
    "kernelspec": {
      "display_name": "Python 3",
      "name": "python3"
    },
    "language_info": {
      "codemirror_mode": {
        "name": "ipython",
        "version": 3
      },
      "file_extension": ".py",
      "mimetype": "text/x-python",
      "name": "python",
      "nbconvert_exporter": "python",
      "pygments_lexer": "ipython3",
      "version": "3.9.19"
    },
    "colab": {
      "provenance": [],
      "gpuType": "T4",
      "include_colab_link": true
    },
    "accelerator": "GPU"
  },
  "nbformat": 4,
  "nbformat_minor": 5
}