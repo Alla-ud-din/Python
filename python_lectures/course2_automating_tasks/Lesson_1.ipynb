{
  "cells": [
    {
      "cell_type": "markdown",
      "metadata": {
        "id": "view-in-github",
        "colab_type": "text"
      },
      "source": [
        "<a href=\"https://colab.research.google.com/github/Alla-ud-din/Python/blob/main/python_lectures/course2_automating_tasks/Lesson_1.ipynb\" target=\"_parent\"><img src=\"https://colab.research.google.com/assets/colab-badge.svg\" alt=\"Open In Colab\"/></a>"
      ]
    },
    {
      "cell_type": "markdown",
      "id": "4bd8fbd2-de5c-47bd-bcd9-cbbe8cdc3104",
      "metadata": {
        "id": "4bd8fbd2-de5c-47bd-bcd9-cbbe8cdc3104"
      },
      "source": [
        "# Lesson 1 - Completing a task list with AI"
      ]
    },
    {
      "cell_type": "markdown",
      "id": "5dfc7231",
      "metadata": {
        "id": "5dfc7231"
      },
      "source": [
        "### Download helper_function.py\n",
        "* pls set Secrets Variable for Gemini in Collab\n",
        "* `GEMINI_API_KEY`\n",
        "\n",
        "[Get API KEY From Google AI Studio](https://aistudio.google.com/app/apikey)"
      ]
    },
    {
      "cell_type": "code",
      "execution_count": 1,
      "id": "a9a0cd47",
      "metadata": {
        "id": "a9a0cd47",
        "outputId": "3609ba03-5fd3-4efe-f0e8-2afa4136886d",
        "colab": {
          "base_uri": "https://localhost:8080/"
        }
      },
      "outputs": [
        {
          "output_type": "stream",
          "name": "stdout",
          "text": [
            "  % Total    % Received % Xferd  Average Speed   Time    Time     Time  Current\n",
            "                                 Dload  Upload   Total   Spent    Left  Speed\n",
            "100  3944  100  3944    0     0   9458      0 --:--:-- --:--:-- --:--:--  9480\n"
          ]
        }
      ],
      "source": [
        "### Download helper_function.py\n",
        "# * Set Secrets Variable for Gemini\n",
        "# * `GEMINI_API_KEY`\n",
        "\n",
        "!curl -o helper_functions.py https://raw.githubusercontent.com/panaversity/learn-cloud-native-modern-ai-python/main/04_natural_language_programming/02_ai_python_for_beginners/course1_basics/Lesson_9/helper_functions.py"
      ]
    },
    {
      "cell_type": "markdown",
      "id": "f2ba7ff3",
      "metadata": {
        "id": "f2ba7ff3"
      },
      "source": [
        "In this course, you'll learn how to automate tasks using Python. This means you'll be able to have Python **do repetitive things** and **make decisions** for you. One important skill you'll develop is the ability to store multiple pieces of data together. This lesson will introduce you to **lists**, a powerful tool for this purpose.\n",
        "\n",
        "To get started, let's load some functions that you'll use in this lesson."
      ]
    },
    {
      "cell_type": "code",
      "execution_count": 2,
      "id": "41ef33ad-2b5c-40db-a1ab-9f3c689edd55",
      "metadata": {
        "id": "41ef33ad-2b5c-40db-a1ab-9f3c689edd55"
      },
      "outputs": [],
      "source": [
        "from helper_functions import print_llm_response, get_llm_response"
      ]
    },
    {
      "cell_type": "markdown",
      "id": "f156dba3",
      "metadata": {
        "id": "f156dba3"
      },
      "source": [
        "### What are lists?\n",
        "In the last course, you learned about variables. Each variable holds a single piece of data.\n",
        "\n",
        "For example:"
      ]
    },
    {
      "cell_type": "code",
      "execution_count": 4,
      "id": "73758fc8",
      "metadata": {
        "id": "73758fc8"
      },
      "outputs": [],
      "source": [
        "name = \"Tommy\""
      ]
    },
    {
      "cell_type": "markdown",
      "id": "b8e315cf",
      "metadata": {
        "id": "b8e315cf"
      },
      "source": [
        "Let's say I want to write a poem for all my friends... all three of them. Run the cell below, then change the name above to Isabel and rerun the cell."
      ]
    },
    {
      "cell_type": "code",
      "execution_count": 5,
      "id": "30a8e543",
      "metadata": {
        "id": "30a8e543",
        "outputId": "d3980142-93f7-4b51-f14b-6e7c5c0c97cf",
        "colab": {
          "base_uri": "https://localhost:8080/",
          "height": 108
        }
      },
      "outputs": [
        {
          "output_type": "stream",
          "name": "stdout",
          "text": [
            "Tommy, a treasure, kind and true,\n",
            "Today we celebrate, all for you.\n",
            "May joy and laughter fill your day,\n",
            "Happy birthday, friend, hooray! \n",
            "\n"
          ]
        }
      ],
      "source": [
        "prompt = f\"\"\"\n",
        "Write a four line birthday poem for my friend {name}.\n",
        "The poem should be inspired by the first letter of my friend's name.\n",
        "\"\"\"\n",
        "print_llm_response(prompt)"
      ]
    },
    {
      "cell_type": "markdown",
      "id": "cb48382c",
      "metadata": {
        "id": "cb48382c"
      },
      "source": [
        "Changing the value held by a variable requires lots of updates to the variables. A better way to handle this is by using a list.\n",
        "\n",
        "Lists are a data type in Python that can hold multiple pieces of data. This reduces the need for repetitive variable assignments since you can include all the pieces of data together."
      ]
    },
    {
      "cell_type": "markdown",
      "id": "5d36fc84-7238-478c-a70b-8b4988dae5b9",
      "metadata": {
        "id": "5d36fc84-7238-478c-a70b-8b4988dae5b9"
      },
      "source": [
        "## Creating  a list\n",
        "\n",
        "Below, you will create a list that holds the names `\"Tommy\"`, `\"Isabel\"` and `\"Daniel\"`."
      ]
    },
    {
      "cell_type": "code",
      "execution_count": 24,
      "id": "b2cdf52d-f8be-4eb9-870b-19b0ed83fc25",
      "metadata": {
        "id": "b2cdf52d-f8be-4eb9-870b-19b0ed83fc25"
      },
      "outputs": [],
      "source": [
        "friends_list : list = [\"Tommy\", \"Isabel\", \"Daniel\"]"
      ]
    },
    {
      "cell_type": "code",
      "execution_count": 8,
      "id": "343fb2a6-3bfc-44b8-9dd3-a3d8e177906a",
      "metadata": {
        "id": "343fb2a6-3bfc-44b8-9dd3-a3d8e177906a",
        "outputId": "2f9b06cd-d0d7-438e-c98b-6cc741dd1481",
        "colab": {
          "base_uri": "https://localhost:8080/"
        }
      },
      "outputs": [
        {
          "output_type": "stream",
          "name": "stdout",
          "text": [
            "['Tommy', 'Isabel', 'Daniel']\n",
            "3\n"
          ]
        }
      ],
      "source": [
        "print(friends_list)\n",
        "print(len(friends_list))"
      ]
    },
    {
      "cell_type": "markdown",
      "id": "10fe72bf",
      "metadata": {
        "id": "10fe72bf"
      },
      "source": [
        "`friends_list` is a single variable of type `list` that holds multiple values."
      ]
    },
    {
      "cell_type": "code",
      "execution_count": 10,
      "id": "bfae06d5",
      "metadata": {
        "id": "bfae06d5",
        "outputId": "cc65a09a-d596-4d57-82f6-a68f7750c696",
        "colab": {
          "base_uri": "https://localhost:8080/"
        }
      },
      "outputs": [
        {
          "output_type": "execute_result",
          "data": {
            "text/plain": [
              "list"
            ]
          },
          "metadata": {},
          "execution_count": 10
        }
      ],
      "source": [
        "type(friends_list)"
      ]
    },
    {
      "cell_type": "markdown",
      "id": "7df5e778",
      "metadata": {
        "id": "7df5e778"
      },
      "source": [
        "You can check how many values are stored in the list by using `len()`:"
      ]
    },
    {
      "cell_type": "code",
      "execution_count": 9,
      "id": "c675bd49",
      "metadata": {
        "id": "c675bd49",
        "outputId": "c53cae50-5064-42c3-e89d-2c70d42ba2f7",
        "colab": {
          "base_uri": "https://localhost:8080/"
        }
      },
      "outputs": [
        {
          "output_type": "execute_result",
          "data": {
            "text/plain": [
              "3"
            ]
          },
          "metadata": {},
          "execution_count": 9
        }
      ],
      "source": [
        "len(friends_list)"
      ]
    },
    {
      "cell_type": "markdown",
      "id": "54e11255",
      "metadata": {
        "id": "54e11255"
      },
      "source": [
        "So this list has three elements."
      ]
    },
    {
      "cell_type": "markdown",
      "id": "5ae55d3c",
      "metadata": {
        "id": "5ae55d3c"
      },
      "source": [
        "You can use lists as you used variables before within LLM prompts. Below, you are including the `friends_list` in the prompt to write four-line birthday poems for `'Tommy'`, `'Isabel'` and `'Daniel'`."
      ]
    },
    {
      "cell_type": "code",
      "execution_count": 11,
      "id": "e0b59524",
      "metadata": {
        "id": "e0b59524",
        "outputId": "9a2709ef-ea3e-461f-d65f-47aa9d9df007",
        "colab": {
          "base_uri": "https://localhost:8080/"
        }
      },
      "outputs": [
        {
          "output_type": "stream",
          "name": "stdout",
          "text": [
            "\n",
            "Write a set of four line birthday poems for my friends ['Tommy', 'Isabel', 'Daniel']. \n",
            "The poems should be insipred by the first letter of each friend's name.\n",
            "\n"
          ]
        }
      ],
      "source": [
        "prompt = f\"\"\"\n",
        "Write a set of four line birthday poems for my friends {friends_list}.\n",
        "The poems should be insipred by the first letter of each friend's name.\n",
        "\"\"\"\n",
        "print(prompt)"
      ]
    },
    {
      "cell_type": "markdown",
      "id": "2cf56776",
      "metadata": {
        "id": "2cf56776"
      },
      "source": [
        "Now, you can use that prompt with the LLM:"
      ]
    },
    {
      "cell_type": "code",
      "execution_count": 12,
      "id": "ac8ed4b1",
      "metadata": {
        "id": "ac8ed4b1",
        "outputId": "510af11f-d10f-421f-9779-bfb68bef502f",
        "colab": {
          "base_uri": "https://localhost:8080/",
          "height": 434
        }
      },
      "outputs": [
        {
          "output_type": "stream",
          "name": "stdout",
          "text": [
            "## Birthday Poems for Tommy, Isabel, and Daniel:\n",
            "\n",
            "**For Tommy:**\n",
            "\n",
            "The world is your oyster, so open wide,\n",
            "Today's your day to celebrate with pride.\n",
            "May laughter and joy be your constant guide,\n",
            "Happy birthday, Tommy, let's have a good ride!\n",
            "\n",
            "**For Isabel:**\n",
            "\n",
            "Imagination soars high above the ground,\n",
            "Believe in yourself, let your dreams abound.\n",
            "Sweet Isabel, you're a treasure profound,\n",
            "Happy birthday, may your happiness resound!\n",
            "\n",
            "**For Daniel:**\n",
            "\n",
            "Determination shines in your bright eyes,\n",
            "A heart of gold, you truly rise.\n",
            "Never give up, reach for the skies,\n",
            "Happy birthday, Daniel, let your spirit fly! \n",
            "\n"
          ]
        }
      ],
      "source": [
        "print_llm_response(prompt)"
      ]
    },
    {
      "cell_type": "markdown",
      "id": "2d0a44bf",
      "metadata": {
        "id": "2d0a44bf"
      },
      "source": [
        "## Accessing individual elements of a list"
      ]
    },
    {
      "cell_type": "markdown",
      "id": "d7de8ba8",
      "metadata": {
        "id": "d7de8ba8"
      },
      "source": [
        "You can access individual elements from a list. Let's ask the chatbot how to do that."
      ]
    },
    {
      "cell_type": "markdown",
      "id": "82fe4e72",
      "metadata": {
        "id": "82fe4e72"
      },
      "source": [
        "<p style=\"background-color:#F5C780; padding:15px\"> 🤖 <b>Use the Chatbot</b>: How do I access a specific element of this list:\n",
        "friends_list = [\"Tommy\", \"Isabel\", \"Daniel\"]\n",
        "</p>"
      ]
    },
    {
      "cell_type": "markdown",
      "id": "05ad7e82",
      "metadata": {
        "id": "05ad7e82"
      },
      "source": [
        "For instance, to access the first element, you would use the following code:"
      ]
    },
    {
      "cell_type": "code",
      "execution_count": 13,
      "id": "db3b8120",
      "metadata": {
        "id": "db3b8120",
        "outputId": "2d8a3d98-727c-4e26-935b-b5f3b3663e0b",
        "colab": {
          "base_uri": "https://localhost:8080/"
        }
      },
      "outputs": [
        {
          "output_type": "stream",
          "name": "stdout",
          "text": [
            "Tommy\n"
          ]
        }
      ],
      "source": [
        "first_friend = friends_list[0]\n",
        "print(first_friend)  # Output: Tommy"
      ]
    },
    {
      "cell_type": "markdown",
      "id": "e4630495-74c9-4d0b-906e-9655b9087f81",
      "metadata": {
        "id": "e4630495-74c9-4d0b-906e-9655b9087f81"
      },
      "source": [
        "To access the second element, you would use the following code:"
      ]
    },
    {
      "cell_type": "code",
      "execution_count": 14,
      "id": "ef6ddceb",
      "metadata": {
        "id": "ef6ddceb",
        "outputId": "82501db5-2526-49d9-9f83-76b27ebf8253",
        "colab": {
          "base_uri": "https://localhost:8080/"
        }
      },
      "outputs": [
        {
          "output_type": "stream",
          "name": "stdout",
          "text": [
            "Isabel\n"
          ]
        }
      ],
      "source": [
        "print(friends_list[1]) # Output: Isabel"
      ]
    },
    {
      "cell_type": "markdown",
      "id": "9ba91b9a-4bd7-4cc7-b9f1-87fa15e55dfc",
      "metadata": {
        "id": "9ba91b9a-4bd7-4cc7-b9f1-87fa15e55dfc"
      },
      "source": [
        "Note that for accessing the first element you used the index 0, and for accessing the second element you used 1."
      ]
    },
    {
      "cell_type": "markdown",
      "id": "59eed6c3",
      "metadata": {
        "id": "59eed6c3"
      },
      "source": [
        "So, if you do the following, you'll get an error."
      ]
    },
    {
      "cell_type": "code",
      "execution_count": 15,
      "id": "c19112dc",
      "metadata": {
        "id": "c19112dc",
        "outputId": "a284175e-a057-45e3-f9e8-cd0c79fb6ca7",
        "colab": {
          "base_uri": "https://localhost:8080/",
          "height": 146
        }
      },
      "outputs": [
        {
          "output_type": "error",
          "ename": "IndexError",
          "evalue": "list index out of range",
          "traceback": [
            "\u001b[0;31m---------------------------------------------------------------------------\u001b[0m",
            "\u001b[0;31mIndexError\u001b[0m                                Traceback (most recent call last)",
            "\u001b[0;32m<ipython-input-15-93b7e852eef3>\u001b[0m in \u001b[0;36m<cell line: 1>\u001b[0;34m()\u001b[0m\n\u001b[0;32m----> 1\u001b[0;31m \u001b[0mprint\u001b[0m\u001b[0;34m(\u001b[0m\u001b[0mfriends_list\u001b[0m\u001b[0;34m[\u001b[0m\u001b[0;36m3\u001b[0m\u001b[0;34m]\u001b[0m\u001b[0;34m)\u001b[0m \u001b[0;31m# Gives an error\u001b[0m\u001b[0;34m\u001b[0m\u001b[0;34m\u001b[0m\u001b[0m\n\u001b[0m",
            "\u001b[0;31mIndexError\u001b[0m: list index out of range"
          ]
        }
      ],
      "source": [
        "print(friends_list[3]) # Gives an error"
      ]
    },
    {
      "cell_type": "markdown",
      "id": "73cabe3b",
      "metadata": {
        "id": "73cabe3b"
      },
      "source": [
        "But, if you run the following code, you will be able to access the last element from that list."
      ]
    },
    {
      "cell_type": "code",
      "execution_count": 16,
      "id": "408eff97",
      "metadata": {
        "id": "408eff97",
        "outputId": "ec8edc2f-01f5-46e4-b85c-233a82cb545a",
        "colab": {
          "base_uri": "https://localhost:8080/"
        }
      },
      "outputs": [
        {
          "output_type": "stream",
          "name": "stdout",
          "text": [
            "Daniel\n"
          ]
        }
      ],
      "source": [
        "print(friends_list[2])"
      ]
    },
    {
      "cell_type": "markdown",
      "id": "88cef078",
      "metadata": {
        "id": "88cef078"
      },
      "source": [
        "## Adding another element to the list"
      ]
    },
    {
      "cell_type": "code",
      "execution_count": 17,
      "id": "77705088-bfb4-40ed-8cc8-76b17b8f1357",
      "metadata": {
        "id": "77705088-bfb4-40ed-8cc8-76b17b8f1357",
        "outputId": "635a04d2-9788-4605-fe40-2bb1a669cd9e",
        "colab": {
          "base_uri": "https://localhost:8080/"
        }
      },
      "outputs": [
        {
          "output_type": "stream",
          "name": "stdout",
          "text": [
            "['Tommy', 'Isabel', 'Daniel']\n"
          ]
        }
      ],
      "source": [
        "print(friends_list)"
      ]
    },
    {
      "cell_type": "markdown",
      "id": "6a9f875a-5fc9-4bde-be57-3ba9b0d4f1d5",
      "metadata": {
        "id": "6a9f875a-5fc9-4bde-be57-3ba9b0d4f1d5"
      },
      "source": [
        "If you want to add some data to an list, you will use `list.append(new_data)`. So, to add `\"Otto\"` to your `friends_list`, you can run the following code:"
      ]
    },
    {
      "cell_type": "code",
      "execution_count": 18,
      "id": "c2c816b9-f7c7-4f0b-a3e2-8fdf3d2e31f7",
      "metadata": {
        "id": "c2c816b9-f7c7-4f0b-a3e2-8fdf3d2e31f7"
      },
      "outputs": [],
      "source": [
        "# add single element to list\n",
        "friends_list.append(\"Otto\")"
      ]
    },
    {
      "cell_type": "code",
      "execution_count": 19,
      "id": "5ed4248d-367d-4432-873d-229f084ca42c",
      "metadata": {
        "id": "5ed4248d-367d-4432-873d-229f084ca42c",
        "outputId": "076138af-c3d5-4f4b-9e6a-b4c06a4ba9cb",
        "colab": {
          "base_uri": "https://localhost:8080/"
        }
      },
      "outputs": [
        {
          "output_type": "stream",
          "name": "stdout",
          "text": [
            "['Tommy', 'Isabel', 'Daniel', 'Otto']\n"
          ]
        }
      ],
      "source": [
        "print(friends_list)"
      ]
    },
    {
      "cell_type": "code",
      "source": [
        "friends_list.append(5)"
      ],
      "metadata": {
        "id": "jd1573ymnNDs"
      },
      "id": "jd1573ymnNDs",
      "execution_count": 28,
      "outputs": []
    },
    {
      "cell_type": "code",
      "source": [
        "friends_list"
      ],
      "metadata": {
        "id": "Rbk4QWAFnSsi",
        "outputId": "b0b2ee16-68a9-42ea-8a19-e92de641c8ae",
        "colab": {
          "base_uri": "https://localhost:8080/"
        }
      },
      "id": "Rbk4QWAFnSsi",
      "execution_count": 29,
      "outputs": [
        {
          "output_type": "execute_result",
          "data": {
            "text/plain": [
              "['Tommy', 'Isabel', 'Daniel', 5]"
            ]
          },
          "metadata": {},
          "execution_count": 29
        }
      ]
    },
    {
      "cell_type": "code",
      "source": [
        "print(type(friends_list[0]))\n",
        "print(type(friends_list[1]))\n",
        "print(type(friends_list[2]))\n",
        "print(type(friends_list[3]))\n"
      ],
      "metadata": {
        "id": "egMSvhYrnV3i",
        "outputId": "67328a90-3f03-4260-8955-7a1e92a82e83",
        "colab": {
          "base_uri": "https://localhost:8080/"
        }
      },
      "id": "egMSvhYrnV3i",
      "execution_count": 31,
      "outputs": [
        {
          "output_type": "stream",
          "name": "stdout",
          "text": [
            "<class 'str'>\n",
            "<class 'str'>\n",
            "<class 'str'>\n",
            "<class 'int'>\n"
          ]
        }
      ]
    },
    {
      "cell_type": "markdown",
      "id": "b6c04751",
      "metadata": {
        "id": "b6c04751"
      },
      "source": [
        "Try for yourself - modify code to add another friend, or yourself"
      ]
    },
    {
      "cell_type": "code",
      "execution_count": null,
      "id": "ed18d3a1",
      "metadata": {
        "id": "ed18d3a1"
      },
      "outputs": [],
      "source": [
        "# Modify the code below to add another friend:\n",
        "friends_list.append()"
      ]
    },
    {
      "cell_type": "markdown",
      "id": "1b22945c-42b3-4ed5-aa1c-bc64c6845897",
      "metadata": {
        "id": "1b22945c-42b3-4ed5-aa1c-bc64c6845897"
      },
      "source": [
        "## Deleting elements"
      ]
    },
    {
      "cell_type": "markdown",
      "id": "91c62ca8",
      "metadata": {
        "id": "91c62ca8"
      },
      "source": [
        "Tommy moved to Bora Bora, so we can't be friends anymore. Let's remove Tommy from `friends_list` by using `.remove()`:"
      ]
    },
    {
      "cell_type": "code",
      "execution_count": 22,
      "id": "999f5ce1-a7d0-4f17-a3de-b09eb524b130",
      "metadata": {
        "id": "999f5ce1-a7d0-4f17-a3de-b09eb524b130"
      },
      "outputs": [],
      "source": [
        "#using remove\n",
        "friends_list.remove(\"Daniel\")"
      ]
    },
    {
      "cell_type": "code",
      "execution_count": 25,
      "id": "8b8fdd0f-709b-4076-ba2c-a5bb767dfa21",
      "metadata": {
        "id": "8b8fdd0f-709b-4076-ba2c-a5bb767dfa21",
        "outputId": "9a5010dc-3128-474b-84e3-51a0b5b84493",
        "colab": {
          "base_uri": "https://localhost:8080/"
        }
      },
      "outputs": [
        {
          "output_type": "stream",
          "name": "stdout",
          "text": [
            "['Tommy', 'Isabel', 'Daniel']\n"
          ]
        }
      ],
      "source": [
        "print(friends_list)"
      ]
    },
    {
      "cell_type": "markdown",
      "id": "e8eca359-4e2d-4f2e-8a3e-29a706cd5097",
      "metadata": {
        "id": "e8eca359-4e2d-4f2e-8a3e-29a706cd5097"
      },
      "source": [
        "## Lists with other data types\n",
        "\n",
        "Lists can hold any type of data. For instance, here is a list of numbers"
      ]
    },
    {
      "cell_type": "code",
      "execution_count": 26,
      "id": "8b884de4",
      "metadata": {
        "id": "8b884de4"
      },
      "outputs": [],
      "source": [
        "list_ages = [42, 28, 30]"
      ]
    },
    {
      "cell_type": "code",
      "execution_count": 27,
      "id": "53d6be61-0b24-4c3a-84c8-fd800296c2bb",
      "metadata": {
        "id": "53d6be61-0b24-4c3a-84c8-fd800296c2bb",
        "outputId": "f5083121-4c19-4518-858d-56628ce57be3",
        "colab": {
          "base_uri": "https://localhost:8080/"
        }
      },
      "outputs": [
        {
          "output_type": "stream",
          "name": "stdout",
          "text": [
            "[42, 28, 30]\n"
          ]
        }
      ],
      "source": [
        "print(list_ages)"
      ]
    },
    {
      "cell_type": "markdown",
      "id": "3fe09e1c",
      "metadata": {
        "id": "3fe09e1c"
      },
      "source": [
        "Lists can also hold long strings. Here's a list of tasks that might make up a todo list"
      ]
    },
    {
      "cell_type": "code",
      "execution_count": 32,
      "id": "b3eded47-a74d-4f79-938b-f1580753a706",
      "metadata": {
        "id": "b3eded47-a74d-4f79-938b-f1580753a706"
      },
      "outputs": [],
      "source": [
        "#list of tasks in priority order. Multi-line lists are allowed in python!\n",
        "list_of_tasks = [\n",
        "    \"Compose a brief email to my boss explaining that I will be late for tomorrow's meeting.\",\n",
        "    \"Write a birthday poem for Otto, celebrating his 28th birthday.\",\n",
        "    \"Write a 300-word review of the movie 'The Arrival'.\"\n",
        "]"
      ]
    },
    {
      "cell_type": "markdown",
      "id": "62c4c86c",
      "metadata": {
        "id": "62c4c86c"
      },
      "source": [
        "If you were wondering how to use lists with AI, take this example. Each element in the previous list is a string that you can pass to `print_llm_response()`. If you want an LLM to do each of these tasks for you, here's what you would do:\n",
        "\n",
        "Set a variable called `task` to each element in the list in turn, then pass it to `print_llm_response()`."
      ]
    },
    {
      "cell_type": "code",
      "execution_count": 33,
      "id": "642ab497-32dd-45b9-996b-e06861b2b7dc",
      "metadata": {
        "id": "642ab497-32dd-45b9-996b-e06861b2b7dc",
        "outputId": "ddcc0980-e3f6-45e9-ddb2-58af94e61058",
        "colab": {
          "base_uri": "https://localhost:8080/",
          "height": 235
        }
      },
      "outputs": [
        {
          "output_type": "stream",
          "name": "stdout",
          "text": [
            "Subject: Late Arrival to [Meeting Name] Tomorrow\n",
            "\n",
            "Hi [Boss's Name],\n",
            "\n",
            "Please be aware that I will be running slightly late for tomorrow's meeting on [topic] at [time]. I apologize for any inconvenience this may cause. \n",
            "\n",
            "I will be there as soon as possible. \n",
            "\n",
            "Best,\n",
            "\n",
            "[Your Name] \n",
            "\n"
          ]
        }
      ],
      "source": [
        "task = list_of_tasks[0]\n",
        "print_llm_response(task)"
      ]
    },
    {
      "cell_type": "code",
      "execution_count": 34,
      "id": "d5040f08-d01a-4b7f-acd0-70a9bfffe805",
      "metadata": {
        "id": "d5040f08-d01a-4b7f-acd0-70a9bfffe805",
        "outputId": "f11b2264-a209-4876-eca1-2ccec33c1b31",
        "colab": {
          "base_uri": "https://localhost:8080/",
          "height": 289
        }
      },
      "outputs": [
        {
          "output_type": "stream",
          "name": "stdout",
          "text": [
            "To Otto, a friend so kind and true,\n",
            "Twenty-eight years, we celebrate you.\n",
            "A life well-lived, with laughter bright,\n",
            "You fill our days with joy and light.\n",
            "\n",
            "Through adventures grand and moments small,\n",
            "You stand beside us, through it all.\n",
            "With wit and wisdom, a heart of gold,\n",
            "Your story's unfolding, we're told.\n",
            "\n",
            "So raise a glass, let's make a toast,\n",
            "To Otto, whom we love the most.\n",
            "May this birthday bring you happiness,\n",
            "And many more years, filled with success. \n",
            "\n"
          ]
        }
      ],
      "source": [
        "task = list_of_tasks[1]\n",
        "print_llm_response(task)"
      ]
    },
    {
      "cell_type": "code",
      "execution_count": 35,
      "id": "2085c168-21ee-4675-b10e-082945b80af4",
      "metadata": {
        "id": "2085c168-21ee-4675-b10e-082945b80af4",
        "outputId": "baa3189f-97db-42cd-beb2-b2e82641db62",
        "colab": {
          "base_uri": "https://localhost:8080/",
          "height": 255
        }
      },
      "outputs": [
        {
          "output_type": "stream",
          "name": "stdout",
          "text": [
            "##  The Arrival: A Silent Symphony of Time and Connection\n",
            "\n",
            "\"The Arrival\" is a profoundly moving and intellectually stimulating film that transcends the usual tropes of alien invasion narratives. It eschews loud explosions and flashy action in favor of quiet contemplation and a profound exploration of communication, time, and the human condition. \n",
            "\n",
            "The film follows Louise Banks, a brilliant linguist tasked with deciphering the language of alien visitors who have mysteriously appeared on Earth. As she delves deeper into their complex, non-linear communication, she grapples with her own mortality, the loss of her daughter, and the existential implications of their arrival.\n",
            "\n",
            "The film's strength lies in its visual storytelling and Amy Adams' masterful performance. Banks' struggle to understand the alien language is beautifully conveyed through a series of mesmerizing visuals, creating a tangible sense of the alien perspective and their unique perception of time. Adams brings a quiet strength and vulnerability to the role, making Louise's emotional journey deeply relatable. \n",
            "\n",
            "The film's pacing is deliberate, allowing the weight of each scene to resonate and leaving ample space for reflection. While some may find the lack of action frustrating, it serves to amplify the emotional and intellectual impact of the story. \"The Arrival\" is not a film that provides easy answers, but rather a poignant and thought-provoking exploration of human nature, loss, and the boundless possibilities of connection. \n",
            "\n",
            "Ultimately, \"The Arrival\" is a cinematic experience that lingers in the mind long after the credits roll, prompting deep contemplation and an appreciation for the fragility and interconnectedness of life. \n",
            "\n"
          ]
        }
      ],
      "source": [
        "task = list_of_tasks[2]\n",
        "print_llm_response(task)"
      ]
    },
    {
      "cell_type": "markdown",
      "id": "dcac3fe6",
      "metadata": {
        "id": "dcac3fe6"
      },
      "source": [
        "You worked through all the elements in the list, but there is still a lot of repetition here. You had to specify each element separately. There is actually a much better way to do this using something called a for loop. Let's go to the next video to see it in action.\n"
      ]
    },
    {
      "cell_type": "markdown",
      "id": "ba8d2d3b-8745-4d96-b175-08cffdc856a4",
      "metadata": {
        "id": "ba8d2d3b-8745-4d96-b175-08cffdc856a4"
      },
      "source": [
        "## Extra practice"
      ]
    },
    {
      "cell_type": "markdown",
      "id": "558ae3a6-972f-45a2-bfc3-7dbbda7f1c7b",
      "metadata": {
        "id": "558ae3a6-972f-45a2-bfc3-7dbbda7f1c7b"
      },
      "source": [
        "Please go through the exercises in the cells below if you want some extra practice for the topics you covered in this lesson."
      ]
    },
    {
      "cell_type": "code",
      "execution_count": null,
      "id": "a52ac3fe-7e72-44c4-9556-8f872ec6bf73",
      "metadata": {
        "id": "a52ac3fe-7e72-44c4-9556-8f872ec6bf73"
      },
      "outputs": [],
      "source": [
        "# Create a list with the titles\n",
        "# of five of your favorite movies\n",
        "\n",
        "### WRITE CODE HERE ###\n",
        "movie_list =\n",
        "### --------------- ###"
      ]
    },
    {
      "cell_type": "code",
      "execution_count": 36,
      "id": "a2f8afeb-ee8e-46f9-ad39-751a1ab9fdf3",
      "metadata": {
        "id": "a2f8afeb-ee8e-46f9-ad39-751a1ab9fdf3"
      },
      "outputs": [],
      "source": [
        "# Display the fourth element of\n",
        "# the following list using print()\n",
        "\n",
        "prime_numbers = [2, 3, 5, 7, 11]\n",
        "\n",
        "### WRITE CODE HERE ###\n",
        "\n",
        "### --------------- ###"
      ]
    },
    {
      "cell_type": "code",
      "source": [
        "# Display the fourth element of\n",
        "# the following list using print()\n",
        "\n",
        "prime_numbers = [2, 3, 5, 7, 11]\n",
        "\n",
        "### WRITE CODE HERE ###\n",
        "\n",
        "print(prime_numbers[3]) #access and print() the fourth element\n",
        "### --------------- ###"
      ],
      "metadata": {
        "id": "pL1nNwdCoNZl",
        "outputId": "375ae959-5166-4abd-cf34-707de4cb8c84",
        "colab": {
          "base_uri": "https://localhost:8080/"
        }
      },
      "id": "pL1nNwdCoNZl",
      "execution_count": 37,
      "outputs": [
        {
          "output_type": "stream",
          "name": "stdout",
          "text": [
            "7\n"
          ]
        }
      ]
    },
    {
      "cell_type": "code",
      "execution_count": null,
      "id": "ca358297-651e-4ad7-912f-921af007ef01",
      "metadata": {
        "id": "ca358297-651e-4ad7-912f-921af007ef01"
      },
      "outputs": [],
      "source": [
        "# Fix the bug in the following code\n",
        "\n",
        "prime_numbers = [2, 3, 5, 7, 11]\n",
        "\n",
        "### FIX THIS CODE ###\n",
        "print(prime_numbers(3)) #access and print() the fourth element\n",
        "### --------------- ###"
      ]
    },
    {
      "cell_type": "code",
      "source": [
        "# Fix the bug in the following code\n",
        "\n",
        "prime_numbers = [2, 3, 5, 7, 11]\n",
        "\n",
        "### FIX THIS CODE ###\n",
        "print(prime_numbers[3]) #access and print() the fourth element\n",
        "### --------------- ###"
      ],
      "metadata": {
        "id": "WsnzqcBRoZw-",
        "outputId": "6d1f9e6e-e48f-4803-96c3-add954273688",
        "colab": {
          "base_uri": "https://localhost:8080/"
        }
      },
      "id": "WsnzqcBRoZw-",
      "execution_count": 38,
      "outputs": [
        {
          "output_type": "stream",
          "name": "stdout",
          "text": [
            "7\n"
          ]
        }
      ]
    },
    {
      "cell_type": "code",
      "execution_count": null,
      "id": "a823e76b-18b1-45d9-a678-1aa481d17496",
      "metadata": {
        "id": "a823e76b-18b1-45d9-a678-1aa481d17496"
      },
      "outputs": [],
      "source": [
        "# Add one name to friends_list using append\n",
        "\n",
        "friends_list = [\"Tommy\", \"Isabel\", \"Daniel\", \"Otto\"]\n",
        "\n",
        "### WRITE CODE HERE ###\n",
        "\n",
        "### --------------- ###\n",
        "\n",
        "print(friends_list)"
      ]
    },
    {
      "cell_type": "code",
      "source": [
        "# Add one name to friends_list using append\n",
        "\n",
        "friends_list = [\"Tommy\", \"Isabel\", \"Daniel\", \"Otto\"]\n",
        "\n",
        "### WRITE CODE HERE ###\n",
        "\n",
        "friends_list.append(\"Ali\")\n",
        "\n",
        "print(friends_list)"
      ],
      "metadata": {
        "id": "YrNn_ohJofDr",
        "outputId": "24c540bd-1597-40e0-9f15-61feb2de6812",
        "colab": {
          "base_uri": "https://localhost:8080/"
        }
      },
      "id": "YrNn_ohJofDr",
      "execution_count": 40,
      "outputs": [
        {
          "output_type": "stream",
          "name": "stdout",
          "text": [
            "['Tommy', 'Isabel', 'Daniel', 'Otto', 'Ali']\n"
          ]
        }
      ]
    },
    {
      "cell_type": "code",
      "execution_count": null,
      "id": "bae37d2d-3736-410b-983b-2e40fe5b1302",
      "metadata": {
        "id": "bae37d2d-3736-410b-983b-2e40fe5b1302"
      },
      "outputs": [],
      "source": [
        "# In the following code, remove the country\n",
        "# that is not in South America\n",
        "\n",
        "countries_in_south_america = [\"Colombia\", \"Peru\",\n",
        "                              \"Brasil\", \"Japan\",\n",
        "                              \"Argentina\"]\n",
        "\n",
        "### WRITE CODE HERE ###\n",
        "\n",
        "### --------------- ###\n",
        "\n",
        "print(countries_in_south_america)"
      ]
    },
    {
      "cell_type": "code",
      "source": [
        "# In the following code, remove the country\n",
        "# that is not in South America\n",
        "\n",
        "countries_in_south_america = [\"Colombia\", \"Peru\",\n",
        "                              \"Brasil\", \"Japan\",\n",
        "                              \"Argentina\"]\n",
        "\n",
        "### WRITE CODE HERE ###\n",
        "\n",
        "countries_in_south_america.remove(\"Japan\")\n",
        "\n",
        "print(countries_in_south_america)"
      ],
      "metadata": {
        "id": "GhuOksYOot_s",
        "outputId": "cfd0d32a-9897-4bb8-af5b-1e491d5f3b20",
        "colab": {
          "base_uri": "https://localhost:8080/"
        }
      },
      "id": "GhuOksYOot_s",
      "execution_count": 41,
      "outputs": [
        {
          "output_type": "stream",
          "name": "stdout",
          "text": [
            "['Colombia', 'Peru', 'Brasil', 'Argentina']\n"
          ]
        }
      ]
    }
  ],
  "metadata": {
    "kernelspec": {
      "display_name": "Python 3 (ipykernel)",
      "language": "python",
      "name": "python3"
    },
    "language_info": {
      "codemirror_mode": {
        "name": "ipython",
        "version": 3
      },
      "file_extension": ".py",
      "mimetype": "text/x-python",
      "name": "python",
      "nbconvert_exporter": "python",
      "pygments_lexer": "ipython3",
      "version": "3.12.2"
    },
    "colab": {
      "provenance": [],
      "include_colab_link": true
    }
  },
  "nbformat": 4,
  "nbformat_minor": 5
}