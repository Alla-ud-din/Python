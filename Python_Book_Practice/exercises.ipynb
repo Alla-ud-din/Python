{
 "cells": [
  {
   "cell_type": "markdown",
   "metadata": {},
   "source": [
    "# Chapter 2"
   ]
  },
  {
   "cell_type": "code",
   "execution_count": 1,
   "metadata": {},
   "outputs": [
    {
     "name": "stdout",
     "output_type": "stream",
     "text": [
      "Hello Ali,  would you like to learn some Python today?\n"
     ]
    }
   ],
   "source": [
    "name : str = \"Ali\"\n",
    "print(f\"Hello {name},  would you like to learn some Python today?\")"
   ]
  },
  {
   "cell_type": "code",
   "execution_count": 4,
   "metadata": {},
   "outputs": [
    {
     "name": "stdout",
     "output_type": "stream",
     "text": [
      "ALLA UD DIN\n",
      "alla ud din\n",
      "Alla Ud Din\n"
     ]
    }
   ],
   "source": [
    "name : str = \"Alla ud din\"\n",
    "print(name.upper())\n",
    "print(name.lower())\n",
    "print(name.title())"
   ]
  },
  {
   "cell_type": "code",
   "execution_count": 5,
   "metadata": {},
   "outputs": [
    {
     "name": "stdout",
     "output_type": "stream",
     "text": [
      "Albert Einstein once said, “A person who never made a mistake never tried anything new.”\n"
     ]
    }
   ],
   "source": [
    "print('Albert Einstein once said, “A person who never made a mistake never tried anything new.”')"
   ]
  },
  {
   "cell_type": "code",
   "execution_count": 7,
   "metadata": {},
   "outputs": [
    {
     "name": "stdout",
     "output_type": "stream",
     "text": [
      "Albert Einstein once said, \"A person who never made a mistake never tried anything new.\"\n"
     ]
    }
   ],
   "source": [
    "famous_person: str = \"Albert Einstein\"\n",
    "message: str = \"A person who never made a mistake never tried anything new.\"\n",
    "print(f'{famous_person} once said, \"{message}\"')"
   ]
  },
  {
   "cell_type": "code",
   "execution_count": 33,
   "metadata": {},
   "outputs": [
    {
     "name": "stdout",
     "output_type": "stream",
     "text": [
      "Alla Ud Din \t\n",
      "\tAlla Ud Din\n",
      "Alla Ud Din\n",
      "Alla Ud Din\n",
      "\tAlla Ud Din \t\n"
     ]
    }
   ],
   "source": [
    "name : str = \"\\tAlla Ud Din \\t\"\n",
    "print(name.lstrip())\n",
    "print(name.rstrip())\n",
    "print(name.strip())\n",
    "strip = name.strip()\n",
    "print(strip)  # strip is return function\n",
    "print(name) # original name remains the same"
   ]
  },
  {
   "cell_type": "code",
   "execution_count": 1,
   "metadata": {},
   "outputs": [
    {
     "name": "stdout",
     "output_type": "stream",
     "text": [
      ".txt\n",
      "python_notes\n",
      "python_notes\n",
      "python_notes.txt\n"
     ]
    }
   ],
   "source": [
    "filename : str = \"python_notes.txt\"\n",
    "print(filename.removeprefix('python_notes'))\n",
    "print(filename.removesuffix('.txt'))\n",
    "check = filename.removesuffix('.txt')\n",
    "print(check) # return function both removeprefix and removesuffix\n",
    "print(filename) #original remains the same"
   ]
  },
  {
   "cell_type": "markdown",
   "metadata": {},
   "source": [
    "When you divide any two numbers, even if they are integers\n",
    "that result in a whole number, you’ll always get a float:"
   ]
  },
  {
   "cell_type": "code",
   "execution_count": 41,
   "metadata": {},
   "outputs": [
    {
     "name": "stdout",
     "output_type": "stream",
     "text": [
      "2.0\n",
      "<class 'float'>\n"
     ]
    }
   ],
   "source": [
    "operation : int = 4/2\n",
    "print(operation)\n",
    "print(type(operation))"
   ]
  },
  {
   "cell_type": "markdown",
   "metadata": {},
   "source": [
    "If you mix an integer and a float in any other operation,\n",
    "you’ll get a float as well:\n"
   ]
  },
  {
   "cell_type": "code",
   "execution_count": 36,
   "metadata": {},
   "outputs": [
    {
     "data": {
      "text/plain": [
       "3.1"
      ]
     },
     "execution_count": 36,
     "metadata": {},
     "output_type": "execute_result"
    }
   ],
   "source": [
    "1 + 2.1"
   ]
  },
  {
   "cell_type": "code",
   "execution_count": 42,
   "metadata": {},
   "outputs": [
    {
     "name": "stdout",
     "output_type": "stream",
     "text": [
      "14000000000\n"
     ]
    }
   ],
   "source": [
    "universe_age = 14_000_000_000\n",
    "print(universe_age)"
   ]
  },
  {
   "cell_type": "code",
   "execution_count": 44,
   "metadata": {},
   "outputs": [],
   "source": [
    "x, y, z = 0, 0, 0"
   ]
  },
  {
   "cell_type": "markdown",
   "metadata": {},
   "source": [
    "Python programmers use all capital\n",
    "letters to indicate a variable should be treated as a constant"
   ]
  },
  {
   "cell_type": "code",
   "execution_count": 47,
   "metadata": {},
   "outputs": [
    {
     "name": "stdout",
     "output_type": "stream",
     "text": [
      "2000\n"
     ]
    }
   ],
   "source": [
    "MAX_CONNECTIONS = 5000\n",
    "MAX_CONNECTIONS = 2000\n",
    "print(MAX_CONNECTIONS)"
   ]
  },
  {
   "cell_type": "code",
   "execution_count": 48,
   "metadata": {},
   "outputs": [
    {
     "name": "stdout",
     "output_type": "stream",
     "text": [
      "8\n",
      "8\n",
      "8\n",
      "8.0\n"
     ]
    }
   ],
   "source": [
    "# 2-9\n",
    "print(5+3)\n",
    "print(4*2)\n",
    "print(10-2)\n",
    "print(16/2)"
   ]
  },
  {
   "cell_type": "code",
   "execution_count": 1,
   "metadata": {},
   "outputs": [
    {
     "name": "stdout",
     "output_type": "stream",
     "text": [
      "My favourite number is 9\n"
     ]
    }
   ],
   "source": [
    "# 2-10\n",
    "favourite_number = 9\n",
    "print(f\"My favourite number is {favourite_number}\")"
   ]
  },
  {
   "cell_type": "code",
   "execution_count": 3,
   "metadata": {},
   "outputs": [],
   "source": [
    "# 2-12\n",
    "import this"
   ]
  },
  {
   "cell_type": "code",
   "execution_count": 4,
   "metadata": {},
   "outputs": [
    {
     "name": "stdout",
     "output_type": "stream",
     "text": [
      "ali ahmad\n",
      "muazam sultan\n",
      "mukaram khalifan\n"
     ]
    }
   ],
   "source": [
    "# 3-1\n",
    "names = ['ali ahmad', 'muazam sultan', 'mukaram khalifan']\n",
    "print(names[0])\n",
    "print(names[1])\n",
    "print(names[2])"
   ]
  },
  {
   "cell_type": "code",
   "execution_count": 5,
   "metadata": {},
   "outputs": [
    {
     "name": "stdout",
     "output_type": "stream",
     "text": [
      "Happy Birthday!!!! Ali Ahmad\n",
      "Happy Birthday!!!! Muazam Sultan\n",
      "Happy Birthday!!!! Mukaram Khalifan\n"
     ]
    }
   ],
   "source": [
    "# 3-2\n",
    "names = ['ali ahmad', 'muazam sultan', 'mukaram khalifan']\n",
    "print(f'Happy Birthday!!!! {names[0].title()}')\n",
    "print(f'Happy Birthday!!!! {names[1].title()}')\n",
    "print(f'Happy Birthday!!!! {names[2].title()}')"
   ]
  },
  {
   "cell_type": "code",
   "execution_count": 7,
   "metadata": {},
   "outputs": [
    {
     "name": "stdout",
     "output_type": "stream",
     "text": [
      "I would like to own Audi A7\n"
     ]
    }
   ],
   "source": [
    "# 3-3\n",
    "vehicles = ['Hatchback', 'Sport Cruiser Motorcycle', 'Audi A7']\n",
    "print(f'I would like to own {vehicles[2]}')"
   ]
  },
  {
   "cell_type": "code",
   "execution_count": 9,
   "metadata": {},
   "outputs": [
    {
     "name": "stdout",
     "output_type": "stream",
     "text": [
      "Amber, we\"d love to have you join us for a delightful dinner at our place!\n",
      "Fakhar, we\"d love to have you join us for a delightful dinner at our place!\n",
      "Izza, we\"d love to have you join us for a delightful dinner at our place!\n",
      "Ali Ahmad, we\"d love to have you join us for a delightful dinner at our place!\n",
      "Muazam, we\"d love to have you join us for a delightful dinner at our place!\n",
      "Mukaram, we\"d love to have you join us for a delightful dinner at our place!\n"
     ]
    }
   ],
   "source": [
    "# 3-4\n",
    "guest_list : list[str] = ['Amber', \"Fakhar\", 'Izza', 'Ali Ahmad', 'Muazam', 'Mukaram']\n",
    "for guest in guest_list:\n",
    "    print(f'{guest}, we\"d love to have you join us for a delightful dinner at our place!')\n"
   ]
  },
  {
   "cell_type": "code",
   "execution_count": 10,
   "metadata": {},
   "outputs": [
    {
     "name": "stdout",
     "output_type": "stream",
     "text": [
      "Fakhar cann't make it for dinner\n",
      "Hassam, we'd love to have you join us for a delightful dinner at our place!\n"
     ]
    }
   ],
   "source": [
    "# 3-5\n",
    "guest_list : list[str] = ['Amber', \"Fakhar\", 'Izza', 'Ali Ahmad', 'Muazam', 'Mukaram']\n",
    "print(f\"{guest_list[1]} cann't make it for dinner\")\n",
    "guest_list[1]= \"Hassam\"\n",
    "print(f\"{guest_list[1]}, we'd love to have you join us for a delightful dinner at our place!\")"
   ]
  },
  {
   "cell_type": "code",
   "execution_count": 30,
   "metadata": {},
   "outputs": [
    {
     "name": "stdout",
     "output_type": "stream",
     "text": [
      "Hassam, you are still invited.. Thank you\n",
      "Amber, you are still invited.. Thank you\n",
      "Fakhar, you are still invited.. Thank you\n",
      "Iqra, you are still invited.. Thank you\n",
      "Izza, you are still invited.. Thank you\n",
      "Ali Ahmad, you are still invited.. Thank you\n",
      "Muazam, you are still invited.. Thank you\n",
      "Mukaram, you are still invited.. Thank you\n",
      "Usman, you are still invited.. Thank you\n"
     ]
    }
   ],
   "source": [
    "# 3-6\n",
    "guest_list : list[str] = ['Amber', \"Fakhar\", 'Izza', 'Ali Ahmad', 'Muazam', 'Mukaram']\n",
    "guest_list.insert(0, \"Hassam\") #non return\n",
    "guest_list.insert(3, \"Iqra\") #non return\n",
    "guest_list.append(\"Usman\") #non return\n",
    "for guest in guest_list:\n",
    "    print(f'{guest}, you are still invited.. Thank you')"
   ]
  },
  {
   "cell_type": "code",
   "execution_count": 28,
   "metadata": {},
   "outputs": [
    {
     "name": "stdout",
     "output_type": "stream",
     "text": [
      "None\n",
      "None\n",
      "['Hassam', 'Amber', 'Fakhar', 'Iqra', 'Izza', 'Ali Ahmad', 'Muazam', 'Mukaram', 'Usman']\n"
     ]
    }
   ],
   "source": [
    "guest_list : list[str] = ['Amber', \"Fakhar\", 'Izza', 'Ali Ahmad', 'Muazam', 'Mukaram']\n",
    "insert_check = guest_list.insert(0, \"Hassam\")\n",
    "guest_list.insert(3, \"Iqra\")\n",
    "append_check = guest_list.append(\"Usman\")\n",
    "print(insert_check) #non return \n",
    "print(append_check) #non return\n",
    "print(guest_list)  # Change orignal list"
   ]
  },
  {
   "cell_type": "code",
   "execution_count": 63,
   "metadata": {},
   "outputs": [
    {
     "name": "stdout",
     "output_type": "stream",
     "text": [
      "Usman, Sorry but due to some constraint we can't have you for dinner\n",
      "Mukaram, Sorry but due to some constraint we can't have you for dinner\n",
      "Muazam, Sorry but due to some constraint we can't have you for dinner\n",
      "Ali Ahmad, Sorry but due to some constraint we can't have you for dinner\n",
      "Izza, Sorry but due to some constraint we can't have you for dinner\n",
      "Iqra, Sorry but due to some constraint we can't have you for dinner\n",
      "Fakhar, Sorry but due to some constraint we can't have you for dinner\n",
      "\n",
      "['Hassam', 'Amber']\n",
      "Hassam, Sorry for the confusion, We love to have you for dinner.. Thank you\n",
      "Amber, Sorry for the confusion, We love to have you for dinner.. Thank you\n",
      "Dinner kaaha jari raha, Dineer to war gya, []\n"
     ]
    }
   ],
   "source": [
    "# 3-7\n",
    "guest_list : list[str] = ['Hassam', 'Amber', 'Fakhar', 'Iqra', 'Izza', 'Ali Ahmad', 'Muazam', 'Mukaram', 'Usman']\n",
    "print(f\"{guest_list.pop()}, Sorry but due to some constraint we can't have you for dinner\")\n",
    "print(f\"{guest_list.pop()}, Sorry but due to some constraint we can't have you for dinner\")\n",
    "print(f\"{guest_list.pop()}, Sorry but due to some constraint we can't have you for dinner\")\n",
    "print(f\"{guest_list.pop()}, Sorry but due to some constraint we can't have you for dinner\")\n",
    "print(f\"{guest_list.pop()}, Sorry but due to some constraint we can't have you for dinner\")\n",
    "print(f\"{guest_list.pop()}, Sorry but due to some constraint we can't have you for dinner\")\n",
    "print(f\"{guest_list.pop()}, Sorry but due to some constraint we can't have you for dinner\\n\")\n",
    "print(guest_list)\n",
    "for guest in guest_list:\n",
    "    print(f'{guest}, Sorry for the confusion, We love to have you for dinner.. Thank you')\n",
    "del guest_list[-1]\n",
    "del guest_list[-1]\n",
    "print(f'Dinner kaaha jari raha, Dineer to war gya, {guest_list}')"
   ]
  },
  {
   "cell_type": "code",
   "execution_count": 62,
   "metadata": {},
   "outputs": [
    {
     "name": "stdout",
     "output_type": "stream",
     "text": [
      "original list:\t ['Makkah', 'Madina', 'Eiffel Tower', 'Niagara Falls', 'Taj Mahal']\n",
      "\n",
      "Sorted Alphabetically:\t ['Eiffel Tower', 'Madina', 'Makkah', 'Niagara Falls', 'Taj Mahal']\n",
      "\n",
      "Original list is still intact:\t ['Makkah', 'Madina', 'Eiffel Tower', 'Niagara Falls', 'Taj Mahal']\n",
      "\n",
      "List in reverse-alphabetical order:\t ['Taj Mahal', 'Niagara Falls', 'Makkah', 'Madina', 'Eiffel Tower']\n",
      "\n",
      "Original list is still intact:\t ['Makkah', 'Madina', 'Eiffel Tower', 'Niagara Falls', 'Taj Mahal']\n",
      "\n",
      "Revervse places: \tNone\n",
      "\n",
      "Original list is reversed: \t ['Taj Mahal', 'Niagara Falls', 'Eiffel Tower', 'Madina', 'Makkah']\n",
      "\n",
      "Again reverse in original order: \t['Makkah', 'Madina', 'Eiffel Tower', 'Niagara Falls', 'Taj Mahal']\n",
      "\n",
      "Revervse places: \tNone\n",
      "\n",
      "Original list is sorted: \t ['Eiffel Tower', 'Madina', 'Makkah', 'Niagara Falls', 'Taj Mahal']\n",
      "\n",
      "Revervse sorted places: \tNone\n",
      "\n",
      "Reversed sorted list: \t ['Taj Mahal', 'Niagara Falls', 'Makkah', 'Madina', 'Eiffel Tower']\n",
      "\n"
     ]
    }
   ],
   "source": [
    "# 3-8\n",
    "places : list[str] = [\"Makkah\", \"Madina\", \"Eiffel Tower\", \"Niagara Falls\", \"Taj Mahal\"]\n",
    "print(f\"original list:\\t {places}\\n\")\n",
    "print(f\"Sorted Alphabetically:\\t {sorted(places)}\\n\")\n",
    "print(f\"Original list is still intact:\\t {places}\\n\")\n",
    "print(f\"List in reverse-alphabetical order:\\t {sorted(places, reverse=True)}\\n\")\n",
    "print(f\"Original list is still intact:\\t {places}\\n\")\n",
    "# print(list(reversed(places))) if you don't want to change original\n",
    "# print(places)\n",
    "print(f\"Revervse places: \\t{places.reverse()}\\n\") # non return method and change original list\n",
    "print(f\"Original list is reversed: \\t {places}\\n\")  \n",
    "places.reverse()\n",
    "print(f\"Again reverse in original order: \\t{places}\\n\")\n",
    "print(f\"Revervse places: \\t{places.sort()}\\n\") # non return method and change original list\n",
    "print(f\"Original list is sorted: \\t {places}\\n\")\n",
    "print(f\"Revervse sorted places: \\t{places.reverse()}\\n\") # non return method and change original list\n",
    "print(f\"Reversed sorted list: \\t {places}\\n\")   "
   ]
  },
  {
   "cell_type": "code",
   "execution_count": 64,
   "metadata": {},
   "outputs": [
    {
     "data": {
      "text/plain": [
       "6"
      ]
     },
     "execution_count": 64,
     "metadata": {},
     "output_type": "execute_result"
    }
   ],
   "source": [
    "# 3-9\n",
    "guest_list : list[str] = ['Amber', \"Fakhar\", 'Izza', 'Ali Ahmad', 'Muazam', 'Mukaram']\n",
    "len(guest_list)"
   ]
  },
  {
   "cell_type": "code",
   "execution_count": 68,
   "metadata": {},
   "outputs": [
    {
     "data": {
      "text/plain": [
       "['append',\n",
       " 'clear',\n",
       " 'copy',\n",
       " 'count',\n",
       " 'extend',\n",
       " 'index',\n",
       " 'insert',\n",
       " 'pop',\n",
       " 'remove',\n",
       " 'reverse',\n",
       " 'sort']"
      ]
     },
     "execution_count": 68,
     "metadata": {},
     "output_type": "execute_result"
    }
   ],
   "source": [
    "[i for i in dir(list) if \"__\" not in i ]"
   ]
  },
  {
   "cell_type": "code",
   "execution_count": 110,
   "metadata": {},
   "outputs": [
    {
     "data": {
      "text/plain": [
       "['Eiffel Tower', 'Madina', 'Makkah', 'Niagara Falls', 'Taj Mahal']"
      ]
     },
     "execution_count": 110,
     "metadata": {},
     "output_type": "execute_result"
    }
   ],
   "source": [
    "# 3-10\n",
    "places : list[str] = [\"Makkah\", \"Madina\", \"Eiffel Tower\", \"Niagara Falls\", \"Taj Mahal\"]\n",
    "places.append(\"Great wall of China\") # return nothing, change original\n",
    "places.clear() # return nothing, change original\n",
    "places.count(\"a\") # return how many times that item occurs don't change original\n",
    "places : list[str] = [\"Makkah\", \"Madina\", \"Eiffel Tower\", \"Niagara Falls\", \"Taj Mahal\"]\n",
    "places.extend(['Great Wall of China']) # return nothing, change original\n",
    "places.index(\"Makkah\") # return index of that value\n",
    "places.insert(2, \"Karbala\") # return nothing, change original\n",
    "places.pop() # pop and return last value, change original\n",
    "places.remove(\"Karbala\") # return nothing, change original\n",
    "places.reverse() # return nothing, change original\n",
    "places.sort() # return nothing, change original\n",
    "places\n"
   ]
  },
  {
   "cell_type": "code",
   "execution_count": 112,
   "metadata": {},
   "outputs": [
    {
     "data": {
      "text/plain": [
       "'Taj Mahal'"
      ]
     },
     "execution_count": 112,
     "metadata": {},
     "output_type": "execute_result"
    }
   ],
   "source": [
    "# 3-11\n",
    "places : list[str] = [\"Makkah\", \"Madina\", \"Eiffel Tower\", \"Niagara Falls\", \"Taj Mahal\"]\n",
    "# places[9]\n",
    "places[-1]"
   ]
  },
  {
   "cell_type": "markdown",
   "metadata": {},
   "source": [
    "# Chapter 4"
   ]
  },
  {
   "cell_type": "code",
   "execution_count": 115,
   "metadata": {},
   "outputs": [
    {
     "name": "stdout",
     "output_type": "stream",
     "text": [
      "pizza1 is very delicious\n",
      "pizza2 is very delicious\n",
      "pizza3 is very delicious\n",
      "I really love pizza\n"
     ]
    }
   ],
   "source": [
    "# 4-1\n",
    "pizzas : list[str] = [\"pizza1\", \"pizza2\", \"pizza3\"]\n",
    "for pizza in pizzas:\n",
    "    print(f\"{pizza} is very delicious\")\n",
    "print(\"I really love pizza\")"
   ]
  },
  {
   "cell_type": "code",
   "execution_count": 116,
   "metadata": {},
   "outputs": [
    {
     "name": "stdout",
     "output_type": "stream",
     "text": [
      "Dog would be a great pet\n",
      "Cat would be a great pet\n",
      "Horse would be a great pet\n",
      "Any of these animals would make a great pet!\n"
     ]
    }
   ],
   "source": [
    "# 4-2\n",
    "animals : list[str] = [\"Dog\", \"Cat\", \"Horse\"]\n",
    "for animal in animals:\n",
    "    print(f\"{animal} would be a great pet\")\n",
    "print(\"Any of these animals would make a great pet!\")"
   ]
  },
  {
   "cell_type": "code",
   "execution_count": 117,
   "metadata": {},
   "outputs": [
    {
     "name": "stdout",
     "output_type": "stream",
     "text": [
      "1\n",
      "2\n",
      "3\n",
      "4\n",
      "5\n",
      "6\n",
      "7\n",
      "8\n",
      "9\n",
      "10\n",
      "11\n",
      "12\n",
      "13\n",
      "14\n",
      "15\n",
      "16\n",
      "17\n",
      "18\n",
      "19\n",
      "20\n"
     ]
    }
   ],
   "source": [
    "# 4-3\n",
    "for i in range(1,21):\n",
    "    print(i)"
   ]
  },
  {
   "cell_type": "code",
   "execution_count": 120,
   "metadata": {},
   "outputs": [
    {
     "name": "stdout",
     "output_type": "stream",
     "text": [
      "1\n",
      "1000000\n"
     ]
    },
    {
     "data": {
      "text/plain": [
       "500000500000"
      ]
     },
     "execution_count": 120,
     "metadata": {},
     "output_type": "execute_result"
    }
   ],
   "source": [
    "# 4-4 and 4-5\n",
    "million : list[int] = range(1,1000001)\n",
    "print(min(million))\n",
    "print(max(million))\n",
    "sum(million)"
   ]
  },
  {
   "cell_type": "code",
   "execution_count": 125,
   "metadata": {},
   "outputs": [
    {
     "data": {
      "text/plain": [
       "[1, 3, 5, 7, 9, 11, 13, 15, 17, 19]"
      ]
     },
     "execution_count": 125,
     "metadata": {},
     "output_type": "execute_result"
    }
   ],
   "source": [
    "# 4-6\n",
    "[i for i in range(1,21,2)]"
   ]
  },
  {
   "cell_type": "code",
   "execution_count": 126,
   "metadata": {},
   "outputs": [
    {
     "data": {
      "text/plain": [
       "[3, 6, 9, 12, 15, 18, 21, 24, 27, 30]"
      ]
     },
     "execution_count": 126,
     "metadata": {},
     "output_type": "execute_result"
    }
   ],
   "source": [
    "# 4-7\n",
    "[3*i for i in range(1,11)]"
   ]
  },
  {
   "cell_type": "code",
   "execution_count": 127,
   "metadata": {},
   "outputs": [
    {
     "data": {
      "text/plain": [
       "[1, 8, 27, 64, 125, 216, 343, 512, 729, 1000]"
      ]
     },
     "execution_count": 127,
     "metadata": {},
     "output_type": "execute_result"
    }
   ],
   "source": [
    "# 4-8 and 4-9\n",
    "[i**3 for i in range(1,11)]"
   ]
  },
  {
   "cell_type": "code",
   "execution_count": 131,
   "metadata": {},
   "outputs": [
    {
     "name": "stdout",
     "output_type": "stream",
     "text": [
      "First 3 item in list: ['charles', 'martina', 'michael']\n",
      "Three item from middle: ['martina', 'michael', 'florence']\n",
      "Last three items: ['eli', 'florence', 'michael']\n"
     ]
    }
   ],
   "source": [
    "# 4-10\n",
    "players = ['charles', 'martina', 'michael', 'florence', 'eli']\n",
    "print(f'First 3 item in list: {players[:3]}')\n",
    "print(f'Three item from middle: {players[1:4]}')\n",
    "print(f\"Last three items: {players[-1:-4:-1]}\")"
   ]
  },
  {
   "cell_type": "code",
   "execution_count": 142,
   "metadata": {},
   "outputs": [
    {
     "name": "stdout",
     "output_type": "stream",
     "text": [
      "My favourite pizzas are: \n",
      "pizza1\n",
      "pizza2\n",
      "pizza3\n",
      "pizza4\n",
      "My friends favourite pizzas are: \n",
      "pizza1\n",
      "pizza2\n",
      "pizza3\n",
      "pizza5\n"
     ]
    }
   ],
   "source": [
    "# 4-11\n",
    "pizzas : list[str] = [\"pizza1\", \"pizza2\", \"pizza3\"]\n",
    "friend_pizzas : list[str] = pizzas[:]\n",
    "pizzas.append(\"pizza4\")\n",
    "friend_pizzas.append(\"pizza5\")\n",
    "print (f\"My favourite pizzas are: \")\n",
    "[print(pizza) for pizza in pizzas]\n",
    "\n",
    "print (f\"My friends favourite pizzas are: \")\n",
    "for f_pizzas in friend_pizzas:\n",
    " print(f_pizzas) "
   ]
  },
  {
   "cell_type": "code",
   "execution_count": 151,
   "metadata": {},
   "outputs": [
    {
     "name": "stdout",
     "output_type": "stream",
     "text": [
      "Pizza\n",
      "Burger\n",
      "Biryani\n",
      "Chicken Korma\n",
      "Coffee\n",
      "\n",
      "\n",
      "Pizza\n",
      "Shanwari tikka\n",
      "Biryani\n",
      "Chicken Korma\n",
      "Coffee\n"
     ]
    }
   ],
   "source": [
    "# 4-13\n",
    "food : tuple[str] = (\"Pizza\", \"Burger\", \"Biryani\", \"Chicken Korma\", \"Coffee\")\n",
    "for i in food:\n",
    "    print(i) \n",
    "# food[1] = \"White Chicken\"\n",
    "food : tuple[str] = (\"Pizza\", \"Shanwari tikka\", \"Biryani\", \"Chicken Korma\", \"Coffee\")\n",
    "print(\"\\n\")\n",
    "for i in food:\n",
    "    print(i) \n"
   ]
  },
  {
   "cell_type": "markdown",
   "metadata": {},
   "source": [
    "# Chapter 5"
   ]
  },
  {
   "cell_type": "code",
   "execution_count": null,
   "metadata": {},
   "outputs": [],
   "source": [
    "# 5-3\n",
    "alien_color : str = \"green\"\n",
    "if alien_color == \"green\""
   ]
  }
 ],
 "metadata": {
  "kernelspec": {
   "display_name": "python12",
   "language": "python",
   "name": "python3"
  },
  "language_info": {
   "codemirror_mode": {
    "name": "ipython",
    "version": 3
   },
   "file_extension": ".py",
   "mimetype": "text/x-python",
   "name": "python",
   "nbconvert_exporter": "python",
   "pygments_lexer": "ipython3",
   "version": "3.12.0"
  }
 },
 "nbformat": 4,
 "nbformat_minor": 2
}
