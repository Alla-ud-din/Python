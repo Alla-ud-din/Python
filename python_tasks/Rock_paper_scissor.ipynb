{
  "nbformat": 4,
  "nbformat_minor": 0,
  "metadata": {
    "colab": {
      "provenance": [],
      "authorship_tag": "ABX9TyNELsZLI2mh0pXCyVbsd5CD",
      "include_colab_link": true
    },
    "kernelspec": {
      "name": "python3",
      "display_name": "Python 3"
    },
    "language_info": {
      "name": "python"
    }
  },
  "cells": [
    {
      "cell_type": "markdown",
      "metadata": {
        "id": "view-in-github",
        "colab_type": "text"
      },
      "source": [
        "<a href=\"https://colab.research.google.com/github/Alla-ud-din/Python/blob/main/python_tasks/Rock_paper_scissor.ipynb\" target=\"_parent\"><img src=\"https://colab.research.google.com/assets/colab-badge.svg\" alt=\"Open In Colab\"/></a>"
      ]
    },
    {
      "cell_type": "code",
      "source": [
        "import random\n",
        "\n",
        "options = [\"Rock\", \"Paper\", \"Scissor\"]\n",
        "user_score = 0\n",
        "computer_score = 0\n",
        "valid_rounds = 0  # Track only valid rounds\n",
        "\n",
        "while valid_rounds < 3:\n",
        "    user_input = int(input(\"Type 0 for Rock, 1 for Paper, 2 for Scissor: \"))\n",
        "\n",
        "    if user_input < 0 or user_input > 2:\n",
        "        print(\"Invalid input. Please enter 0, 1, or 2.\")\n",
        "        continue\n",
        "\n",
        "    computer = random.choice(options)\n",
        "    print(f\"Computer chose: {computer}\")\n",
        "\n",
        "    if computer == options[user_input]:\n",
        "        print(\"It's a tie! No points awarded.\")\n",
        "        continue  # Ignore this round, don't increment valid_rounds\n",
        "\n",
        "    # Valid game, count this round\n",
        "    valid_rounds += 1\n",
        "\n",
        "    if options[user_input] == \"Rock\":\n",
        "        if computer == \"Paper\":\n",
        "            print(\"Computer Wins this round!\")\n",
        "            computer_score += 1\n",
        "        else:\n",
        "            print(\"User Wins this round!\")\n",
        "            user_score += 1\n",
        "    elif options[user_input] == \"Paper\":\n",
        "        if computer == \"Scissor\":\n",
        "            print(\"Computer Wins this round!\")\n",
        "            computer_score += 1\n",
        "        else:\n",
        "            print(\"User Wins this round!\")\n",
        "            user_score += 1\n",
        "    elif options[user_input] == \"Scissor\":\n",
        "        if computer == \"Rock\":\n",
        "            print(\"Computer Wins this round!\")\n",
        "            computer_score += 1\n",
        "        else:\n",
        "            print(\"User Wins this round!\")\n",
        "            user_score += 1\n",
        "\n",
        "print(\"\\nFinal Scores:\")\n",
        "print(f\"User: {user_score}\")\n",
        "print(f\"Computer: {computer_score}\")\n",
        "\n",
        "if user_score > computer_score:\n",
        "    print(\"🎉 User Wins the Game!\")\n",
        "elif computer_score > user_score:\n",
        "    print(\"💻 Computer Wins the Game!\")\n",
        "else:\n",
        "    print(\"It's a Tie! 🤝\")\n"
      ],
      "metadata": {
        "colab": {
          "base_uri": "https://localhost:8080/"
        },
        "id": "kpPeha0RH62R",
        "outputId": "17d34abc-0450-4368-9946-b81efd9bb442"
      },
      "execution_count": 6,
      "outputs": [
        {
          "output_type": "stream",
          "name": "stdout",
          "text": [
            "Type 0 for Rock, 1 for Paper, 2 for Scissor: 2\n",
            "Computer chose: Rock\n",
            "Computer Wins this round!\n",
            "Type 0 for Rock, 1 for Paper, 2 for Scissor: 2\n",
            "Computer chose: Rock\n",
            "Computer Wins this round!\n",
            "Type 0 for Rock, 1 for Paper, 2 for Scissor: 3\n",
            "Invalid input. Please enter 0, 1, or 2.\n",
            "Type 0 for Rock, 1 for Paper, 2 for Scissor: 2\n",
            "Computer chose: Scissor\n",
            "It's a tie! No points awarded.\n",
            "Type 0 for Rock, 1 for Paper, 2 for Scissor: 2\n",
            "Computer chose: Scissor\n",
            "It's a tie! No points awarded.\n",
            "Type 0 for Rock, 1 for Paper, 2 for Scissor: 1\n",
            "Computer chose: Rock\n",
            "User Wins this round!\n",
            "\n",
            "Final Scores:\n",
            "User: 1\n",
            "Computer: 2\n",
            "💻 Computer Wins the Game!\n"
          ]
        }
      ]
    }
  ]
}